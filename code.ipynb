{
 "cells": [
  {
   "cell_type": "markdown",
   "id": "60667d46",
   "metadata": {},
   "source": [
    "# Import"
   ]
  },
  {
   "cell_type": "code",
   "execution_count": 1,
   "id": "87fd68a0",
   "metadata": {},
   "outputs": [],
   "source": [
    "import pandas as pd\n",
    "import numpy as np\n",
    "import plotly.express as px\n",
    "import re\n",
    "\n",
    "from tqdm.notebook import tqdm\n",
    "\n",
    "pd.set_option('display.width', 1000)"
   ]
  },
  {
   "cell_type": "code",
   "execution_count": 2,
   "id": "826b28bb-8665-4c91-ac25-b643b61ee99e",
   "metadata": {},
   "outputs": [],
   "source": [
    "date = \"2024_08_24\""
   ]
  },
  {
   "cell_type": "code",
   "execution_count": 3,
   "id": "c4b723dc",
   "metadata": {},
   "outputs": [],
   "source": [
    "data = pd.read_csv(f\"data/data_{date}.csv\", sep = \";\")"
   ]
  },
  {
   "cell_type": "markdown",
   "id": "88322942",
   "metadata": {},
   "source": [
    "### Autor + Geschlecht"
   ]
  },
  {
   "cell_type": "code",
   "execution_count": 4,
   "id": "c61e7d04",
   "metadata": {},
   "outputs": [],
   "source": [
    "data['Autor'] = [x.strip() if pd.notna(x) else x for x in data['Autor']]"
   ]
  },
  {
   "cell_type": "code",
   "execution_count": 5,
   "id": "52b690ce",
   "metadata": {},
   "outputs": [],
   "source": [
    "data['Geschlecht'] = [x.strip() if pd.notna(x) else x for x in data['Geschlecht']]"
   ]
  },
  {
   "cell_type": "markdown",
   "id": "89b5e0af",
   "metadata": {},
   "source": [
    "### Zeit"
   ]
  },
  {
   "cell_type": "code",
   "execution_count": 6,
   "id": "fa481796",
   "metadata": {},
   "outputs": [],
   "source": [
    "data['Jahreszahl_Statistik'] = data['Jahreszahl_Statistik'].astype(float)"
   ]
  },
  {
   "cell_type": "code",
   "execution_count": 7,
   "id": "c63bbf4f",
   "metadata": {},
   "outputs": [],
   "source": [
    "data['Dekade'] = [(x//10) * 10 for x in data['Jahreszahl_Statistik']]\n",
    "data['Jahrhundert'] = [(x//100) * 100 for x in data['Jahreszahl_Statistik']]"
   ]
  },
  {
   "cell_type": "code",
   "execution_count": 8,
   "id": "0acb7eff",
   "metadata": {},
   "outputs": [
    {
     "data": {
      "text/html": [
       "<div>\n",
       "<style scoped>\n",
       "    .dataframe tbody tr th:only-of-type {\n",
       "        vertical-align: middle;\n",
       "    }\n",
       "\n",
       "    .dataframe tbody tr th {\n",
       "        vertical-align: top;\n",
       "    }\n",
       "\n",
       "    .dataframe thead th {\n",
       "        text-align: right;\n",
       "    }\n",
       "</style>\n",
       "<table border=\"1\" class=\"dataframe\">\n",
       "  <thead>\n",
       "    <tr style=\"text-align: right;\">\n",
       "      <th></th>\n",
       "      <th>Autor</th>\n",
       "      <th>Titel</th>\n",
       "      <th>Jahreszahl_Statistik</th>\n",
       "      <th>Dekade</th>\n",
       "      <th>Jahrhundert</th>\n",
       "    </tr>\n",
       "  </thead>\n",
       "  <tbody>\n",
       "    <tr>\n",
       "      <th>0</th>\n",
       "      <td>(Pfaffe Konrad)</td>\n",
       "      <td>Rolandslied</td>\n",
       "      <td>1172.0</td>\n",
       "      <td>1170.0</td>\n",
       "      <td>1100.0</td>\n",
       "    </tr>\n",
       "    <tr>\n",
       "      <th>1</th>\n",
       "      <td>$Arthur Quiller-Couch, Arthur</td>\n",
       "      <td>The Oxford Book of English Verse</td>\n",
       "      <td>NaN</td>\n",
       "      <td>NaN</td>\n",
       "      <td>NaN</td>\n",
       "    </tr>\n",
       "    <tr>\n",
       "      <th>2</th>\n",
       "      <td>$Bahr, Ehrhard (Hg.)</td>\n",
       "      <td>Was ist Aufklärung? Thesen und Definitionen</td>\n",
       "      <td>1974.0</td>\n",
       "      <td>1970.0</td>\n",
       "      <td>1900.0</td>\n",
       "    </tr>\n",
       "    <tr>\n",
       "      <th>3</th>\n",
       "      <td>$Beers, Anna (Hg.)</td>\n",
       "      <td>Frauen / Lyrik. Gedichte in deutscher Sprache</td>\n",
       "      <td>2020.0</td>\n",
       "      <td>2020.0</td>\n",
       "      <td>2000.0</td>\n",
       "    </tr>\n",
       "    <tr>\n",
       "      <th>4</th>\n",
       "      <td>$Behrens, Katja (Hg.)</td>\n",
       "      <td>Frauenbriefe der Romantik</td>\n",
       "      <td>1982.0</td>\n",
       "      <td>1980.0</td>\n",
       "      <td>1900.0</td>\n",
       "    </tr>\n",
       "  </tbody>\n",
       "</table>\n",
       "</div>"
      ],
      "text/plain": [
       "                           Autor                                           Titel  Jahreszahl_Statistik  Dekade  Jahrhundert\n",
       "0                (Pfaffe Konrad)                                     Rolandslied                1172.0  1170.0       1100.0\n",
       "1  $Arthur Quiller-Couch, Arthur                The Oxford Book of English Verse                   NaN     NaN          NaN\n",
       "2           $Bahr, Ehrhard (Hg.)     Was ist Aufklärung? Thesen und Definitionen                1974.0  1970.0       1900.0\n",
       "3             $Beers, Anna (Hg.)  Frauen / Lyrik. Gedichte in deutscher Sprache                 2020.0  2020.0       2000.0\n",
       "4          $Behrens, Katja (Hg.)                       Frauenbriefe der Romantik                1982.0  1980.0       1900.0"
      ]
     },
     "execution_count": 8,
     "metadata": {},
     "output_type": "execute_result"
    }
   ],
   "source": [
    "data[['Autor', 'Titel', 'Jahreszahl_Statistik', 'Dekade', 'Jahrhundert']].head()"
   ]
  },
  {
   "cell_type": "markdown",
   "id": "a039c2c0",
   "metadata": {},
   "source": [
    "### Module"
   ]
  },
  {
   "cell_type": "code",
   "execution_count": 9,
   "id": "95d9347c",
   "metadata": {},
   "outputs": [],
   "source": [
    "data = data.rename(columns = {\n",
    "    'Modul_Zeit_vor_17.Jh.' : 'Modul_Zeit',\n",
    "    'Modul_Sprache_(international)' : 'Modul_Sprache',\n",
    "    'Modul: KJL' : 'Modul_KJL',\n",
    "})"
   ]
  },
  {
   "cell_type": "markdown",
   "id": "e5c41278",
   "metadata": {},
   "source": [
    "### Leselisten"
   ]
  },
  {
   "cell_type": "code",
   "execution_count": 10,
   "id": "13ddc209",
   "metadata": {},
   "outputs": [],
   "source": [
    "leselisten_dict = {\n",
    "    'Aachen' : 'Aachen1',\n",
    "    'Berlin' : 'FU Berlin',\n",
    "    'Innsbruck' : 'Innsbruck1',\n",
    "    'Innsbruck 2023' : 'Innsbruck2',\n",
    "    'Köln Fundamentum' : 'Köln',\n",
    "    'LA Aachen' : 'Aachen2',\n",
    "    'Stuttgart' : 'Stuttgart1',\n",
    "    'Stuttgart 2022' : 'Stuttgart2',\n",
    "    'Würzburg' : 'Würzburg1',\n",
    "    'Würzburg_2019' : 'Würzburg2',\n",
    "}\n",
    "\n",
    "data = data.rename(columns=leselisten_dict)"
   ]
  },
  {
   "cell_type": "code",
   "execution_count": 11,
   "id": "ce7d5302-d19a-4eca-a822-eaa980e70632",
   "metadata": {},
   "outputs": [],
   "source": [
    "leselisten_dict2 = {\n",
    "    'Aachen1' : 'Aachen 2017/18',\n",
    "    'Augsburg' : 'Augsburg 2020',\n",
    "    'FU Berlin' : 'FU Berlin o.J.',\n",
    "    'Bochum' : 'Bochum o.J.',\n",
    "    'Braunschweig' : 'Braunschweig o.J.',\n",
    "    'Dortmund' : 'Dortmund o.J.',\n",
    "    'Eichstätt-Ingolstadt' : 'Eichstätt-Ingolstadt 2007',\n",
    "    'Frankfurt a.M.' : 'Frankfurt a.M. o.J.',\n",
    "    'Gießen' : 'Gießen o.J.',\n",
    "    'Göttingen' : 'Göttingen o.J.',\n",
    "    'Graz' : 'Graz 2021',\n",
    "    'Heidelberg' : 'Heidelberg 2017',\n",
    "    'Hildesheim' : 'Hildesheim o.J.',\n",
    "    'Innsbruck1' : 'Innsbruck o.J.',\n",
    "    'Innsbruck2' : 'Innsbruck 2023',\n",
    "    'Jena' : 'Jena 2018',\n",
    "    'Karlsruhe' : 'Karlsruhe o.J.',\n",
    "    'Koblenz' : 'Koblenz o.J.',\n",
    "    'Köln' : 'Köln o.J.',\n",
    "    'Aachen2' : 'LA Aachen 2018',\n",
    "    'Lausanne' : 'Lausanne o.J.',\n",
    "    'Leipzig' : 'Leipzig o.J.',\n",
    "    'Lüneburg' : 'Lüneburg o.J.',\n",
    "    'Luxemburg' : 'Luxemburg o.J.',\n",
    "    'Magdeburg' : 'Magdeburg 2020',\n",
    "    'Mannheim' : 'Mannheim o.J.',\n",
    "    'München' : 'München o.J.',\n",
    "    'Oldenburg' : 'Oldenburg 2020',\n",
    "    'Osnabrück' : 'Osnabrück o.J.',\n",
    "    'Passau' : 'Passau o.J.',\n",
    "    'Potsdam' : 'Potsdam 2022',\n",
    "    'Saarland' : 'Saarland 2007',\n",
    "    'Salzburg' : 'Salzburg o.J.',\n",
    "    'Stuttgart1' : 'Stuttgart o.J.',\n",
    "    'Stuttgart2' : 'Stuttgart 2022',\n",
    "    'Trier' : 'Trier o.J.',\n",
    "    'Tübingen' : 'Tübingen o.J.',\n",
    "    'Wien' : 'Wien o.J.',\n",
    "    'Wuppertal' : 'Wuppertal 2015',\n",
    "    'Würzburg1' : 'Würzburg 2003/04',\n",
    "    'Würzburg2' : 'Würzburg 2019',\n",
    "    'Zürich' : 'Zürich 2013',\n",
    "}\n",
    "\n",
    "data = data.rename(columns=leselisten_dict2)"
   ]
  },
  {
   "cell_type": "code",
   "execution_count": 12,
   "id": "2dbfe60b",
   "metadata": {},
   "outputs": [],
   "source": [
    "leselisten = [x for x in data.columns if x not in [\n",
    "                  'Autor', 'GND', 'Titel', 'Geschlecht',\n",
    "                  'Jahreszahl', 'Jahreszahl_Statistik', 'Dekade', 'Jahrhundert',\n",
    "                  'Gattung',\n",
    "                  'Modul_Zeit', 'Modul_Sprache', 'Modul_KJL'\n",
    "              ]]\n",
    "leselisten = sorted(leselisten)"
   ]
  },
  {
   "cell_type": "code",
   "execution_count": 13,
   "id": "f1eacb05-bbaf-4fe2-8883-379f21add77b",
   "metadata": {},
   "outputs": [],
   "source": [
    "def convert_to_float(frac_str):\n",
    "    # Replace comma with a dot and fraction slash with standard slash\n",
    "    if type(frac_str) == str:\n",
    "        frac_str = frac_str.replace(\",\", \".\").replace(\"⁄\", \"/\")\n",
    "    \n",
    "    # Try to convert directly to float\n",
    "    try:\n",
    "        return float(frac_str)\n",
    "        \n",
    "    # Handle mixed number (e.g., \"1 1/2\") or proper fraction (e.g., \"1/2\")\n",
    "    except ValueError:\n",
    "        if ' ' in frac_str:\n",
    "            whole, frac_part = frac_str.split(' ')\n",
    "            return float(whole) + eval(frac_part)\n",
    "        else:\n",
    "            return eval(frac_str)"
   ]
  },
  {
   "cell_type": "code",
   "execution_count": 14,
   "id": "8d1ab385",
   "metadata": {},
   "outputs": [],
   "source": [
    "data[leselisten] = data[leselisten].map(convert_to_float)\n",
    "data[leselisten] = data[leselisten].astype(float).fillna(0)"
   ]
  },
  {
   "cell_type": "markdown",
   "id": "72a5f2c2-eee6-4ea4-b4c6-72fcb2e20226",
   "metadata": {},
   "source": [
    "### Leselisten-Meta"
   ]
  },
  {
   "cell_type": "code",
   "execution_count": 15,
   "id": "31c8d1b4-8e5e-4f57-8c8c-2537dbf88466",
   "metadata": {},
   "outputs": [],
   "source": [
    "leselisten_meta = pd.read_excel(\"data/Leselisten_meta.xlsx\")[['Leseliste', 'Datum_quant']]\n",
    "leselisten_meta['Leseliste'] = leselisten_meta['Leseliste'].replace(leselisten_dict).replace(leselisten_dict2)\n",
    "leselisten_meta = leselisten_meta.rename(columns={'Datum_quant' : 'Datum'})"
   ]
  },
  {
   "cell_type": "code",
   "execution_count": 16,
   "id": "3a86ded0-8abe-45dc-989a-de8d187d7030",
   "metadata": {},
   "outputs": [
    {
     "data": {
      "text/html": [
       "<div>\n",
       "<style scoped>\n",
       "    .dataframe tbody tr th:only-of-type {\n",
       "        vertical-align: middle;\n",
       "    }\n",
       "\n",
       "    .dataframe tbody tr th {\n",
       "        vertical-align: top;\n",
       "    }\n",
       "\n",
       "    .dataframe thead th {\n",
       "        text-align: right;\n",
       "    }\n",
       "</style>\n",
       "<table border=\"1\" class=\"dataframe\">\n",
       "  <thead>\n",
       "    <tr style=\"text-align: right;\">\n",
       "      <th></th>\n",
       "      <th>Leseliste</th>\n",
       "      <th>Datum</th>\n",
       "    </tr>\n",
       "  </thead>\n",
       "  <tbody>\n",
       "    <tr>\n",
       "      <th>0</th>\n",
       "      <td>Aachen 2017/18</td>\n",
       "      <td>2017.0</td>\n",
       "    </tr>\n",
       "    <tr>\n",
       "      <th>1</th>\n",
       "      <td>Augsburg 2020</td>\n",
       "      <td>2020.0</td>\n",
       "    </tr>\n",
       "    <tr>\n",
       "      <th>2</th>\n",
       "      <td>NaN</td>\n",
       "      <td>NaN</td>\n",
       "    </tr>\n",
       "    <tr>\n",
       "      <th>3</th>\n",
       "      <td>FU Berlin o.J.</td>\n",
       "      <td>NaN</td>\n",
       "    </tr>\n",
       "    <tr>\n",
       "      <th>4</th>\n",
       "      <td>Bochum o.J.</td>\n",
       "      <td>NaN</td>\n",
       "    </tr>\n",
       "  </tbody>\n",
       "</table>\n",
       "</div>"
      ],
      "text/plain": [
       "        Leseliste   Datum\n",
       "0  Aachen 2017/18  2017.0\n",
       "1   Augsburg 2020  2020.0\n",
       "2             NaN     NaN\n",
       "3  FU Berlin o.J.     NaN\n",
       "4     Bochum o.J.     NaN"
      ]
     },
     "execution_count": 16,
     "metadata": {},
     "output_type": "execute_result"
    }
   ],
   "source": [
    "leselisten_meta.head()"
   ]
  },
  {
   "cell_type": "markdown",
   "id": "b4ec3d08-8057-4462-8d2d-5d0273bd6ff2",
   "metadata": {},
   "source": [
    "### Check"
   ]
  },
  {
   "cell_type": "code",
   "execution_count": 17,
   "id": "30dfb101-3ba4-47a7-8a5f-0507e9b4b214",
   "metadata": {},
   "outputs": [
    {
     "data": {
      "text/html": [
       "<div>\n",
       "<style scoped>\n",
       "    .dataframe tbody tr th:only-of-type {\n",
       "        vertical-align: middle;\n",
       "    }\n",
       "\n",
       "    .dataframe tbody tr th {\n",
       "        vertical-align: top;\n",
       "    }\n",
       "\n",
       "    .dataframe thead th {\n",
       "        text-align: right;\n",
       "    }\n",
       "</style>\n",
       "<table border=\"1\" class=\"dataframe\">\n",
       "  <thead>\n",
       "    <tr style=\"text-align: right;\">\n",
       "      <th></th>\n",
       "      <th>Autor</th>\n",
       "      <th>Titel</th>\n",
       "      <th>Jahreszahl_Statistik</th>\n",
       "      <th>Dekade</th>\n",
       "      <th>Gattung</th>\n",
       "      <th>Aachen 2017/18</th>\n",
       "      <th>FU Berlin o.J.</th>\n",
       "      <th>Stuttgart o.J.</th>\n",
       "    </tr>\n",
       "  </thead>\n",
       "  <tbody>\n",
       "    <tr>\n",
       "      <th>1987</th>\n",
       "      <td>Musil, Robert</td>\n",
       "      <td>Erzählungen/Novellen</td>\n",
       "      <td>1911.0</td>\n",
       "      <td>1910.0</td>\n",
       "      <td>Prosa</td>\n",
       "      <td>0.000</td>\n",
       "      <td>0.0</td>\n",
       "      <td>0.0</td>\n",
       "    </tr>\n",
       "    <tr>\n",
       "      <th>725</th>\n",
       "      <td>Feuchtwanger, Lion</td>\n",
       "      <td>Jud Süß</td>\n",
       "      <td>1925.0</td>\n",
       "      <td>1920.0</td>\n",
       "      <td>Prosa</td>\n",
       "      <td>0.066</td>\n",
       "      <td>0.0</td>\n",
       "      <td>0.0</td>\n",
       "    </tr>\n",
       "    <tr>\n",
       "      <th>81</th>\n",
       "      <td>$Schröder, Jürgen (Hg.)</td>\n",
       "      <td>Die Stunde Null in der deutschen Literatur</td>\n",
       "      <td>1995.0</td>\n",
       "      <td>1990.0</td>\n",
       "      <td>Prosa</td>\n",
       "      <td>0.000</td>\n",
       "      <td>0.0</td>\n",
       "      <td>0.0</td>\n",
       "    </tr>\n",
       "    <tr>\n",
       "      <th>2178</th>\n",
       "      <td>Rinke, Moritz</td>\n",
       "      <td>Republik Vineta</td>\n",
       "      <td>2001.0</td>\n",
       "      <td>2000.0</td>\n",
       "      <td>Drama</td>\n",
       "      <td>0.000</td>\n",
       "      <td>0.0</td>\n",
       "      <td>0.0</td>\n",
       "    </tr>\n",
       "    <tr>\n",
       "      <th>862</th>\n",
       "      <td>Gernhardt, Robert</td>\n",
       "      <td>Körper in Cafés</td>\n",
       "      <td>1987.0</td>\n",
       "      <td>1980.0</td>\n",
       "      <td>Lyrik</td>\n",
       "      <td>0.000</td>\n",
       "      <td>0.0</td>\n",
       "      <td>0.0</td>\n",
       "    </tr>\n",
       "  </tbody>\n",
       "</table>\n",
       "</div>"
      ],
      "text/plain": [
       "                        Autor                                       Titel  Jahreszahl_Statistik  Dekade Gattung  Aachen 2017/18  FU Berlin o.J.  Stuttgart o.J.\n",
       "1987            Musil, Robert                        Erzählungen/Novellen                1911.0  1910.0   Prosa           0.000             0.0             0.0\n",
       "725        Feuchtwanger, Lion                                     Jud Süß                1925.0  1920.0   Prosa           0.066             0.0             0.0\n",
       "81    $Schröder, Jürgen (Hg.)  Die Stunde Null in der deutschen Literatur                1995.0  1990.0   Prosa           0.000             0.0             0.0\n",
       "2178            Rinke, Moritz                             Republik Vineta                2001.0  2000.0   Drama           0.000             0.0             0.0\n",
       "862         Gernhardt, Robert                             Körper in Cafés                1987.0  1980.0   Lyrik           0.000             0.0             0.0"
      ]
     },
     "execution_count": 17,
     "metadata": {},
     "output_type": "execute_result"
    }
   ],
   "source": [
    "data[[\n",
    "    'Autor', 'Titel',\n",
    "    'Jahreszahl_Statistik', 'Dekade',\n",
    "    'Gattung',\n",
    "    'Aachen 2017/18', 'FU Berlin o.J.', 'Stuttgart o.J.',\n",
    "]].sample(n=5)"
   ]
  },
  {
   "cell_type": "code",
   "execution_count": 18,
   "id": "5fd32598-2ea9-4433-96aa-8073b30f7137",
   "metadata": {},
   "outputs": [
    {
     "name": "stdout",
     "output_type": "stream",
     "text": [
      "Vorhandene Leselisten : 42\n",
      "Vorhandene Einträge   : 2792\n",
      "Fehlende Autornamen   : 26\n",
      "Fehlende Titel        : 9\n",
      "Fehlende Jahreszahlen : 78\n",
      "Fehlende Gattungen    : 49\n"
     ]
    }
   ],
   "source": [
    "print(f\"Vorhandene Leselisten : {len(leselisten)}\")\n",
    "print(f\"Vorhandene Einträge   : {data.shape[0]}\")\n",
    "print(f\"Fehlende Autornamen   : {data.query('Autor.isna()').shape[0]}\")\n",
    "print(f\"Fehlende Titel        : {data.query('Titel.isna()').shape[0]}\")\n",
    "print(f\"Fehlende Jahreszahlen : {data.query('Jahreszahl_Statistik.isna()').shape[0]}\")\n",
    "print(f\"Fehlende Gattungen    : {data.query('Gattung.isna()').shape[0]}\")"
   ]
  },
  {
   "cell_type": "markdown",
   "id": "c142310c-4655-4b81-b80d-591afaabb5fb",
   "metadata": {},
   "source": [
    "### Export"
   ]
  },
  {
   "cell_type": "code",
   "execution_count": 19,
   "id": "07f8fa0c-8596-4319-8477-99da7ccaa646",
   "metadata": {},
   "outputs": [],
   "source": [
    "data.to_csv(f\"data/data_{date}_clean.tsv\", sep = \"\\t\")"
   ]
  },
  {
   "cell_type": "markdown",
   "id": "cea52fa5",
   "metadata": {},
   "source": [
    "### Filter"
   ]
  },
  {
   "cell_type": "code",
   "execution_count": 20,
   "id": "f5c95fb4-4c0a-45d8-b4f7-04d9f46c83be",
   "metadata": {},
   "outputs": [],
   "source": [
    "data = (data\n",
    "        .query(\"Modul_Zeit != 'Antike'\")\n",
    "        .query(\"Modul_Zeit != 'MA'\")\n",
    "        .query(\"Jahreszahl_Statistik >= 1600\")\n",
    "        .query(\"Modul_Sprache != 'International'\")\n",
    ").reset_index(drop=True).copy()"
   ]
  },
  {
   "cell_type": "code",
   "execution_count": 21,
   "id": "fa8c053a-38af-44bc-9da5-4a1e2e6be15f",
   "metadata": {},
   "outputs": [],
   "source": [
    "# Texte ausschließen, die mit $ beginnen (Anthologien)\n",
    "data = data[~data['Autor'].str.startswith('$', na = False)]"
   ]
  },
  {
   "cell_type": "markdown",
   "id": "9ca0a729-f81d-4218-939f-1c75dfbe91cf",
   "metadata": {},
   "source": [
    "### Metriken"
   ]
  },
  {
   "cell_type": "code",
   "execution_count": 22,
   "id": "31eaa71b",
   "metadata": {},
   "outputs": [],
   "source": [
    "# AnzahlGenannt: in wie vielen Leselisten wird der Text genannt? (0.33, 0.5 usw. nicht berücksichtigt)\n",
    "data_leselisten_binary = data[leselisten].copy()\n",
    "data_leselisten_binary[data_leselisten_binary > 0] = 1\n",
    "data['AnzahlGenannt'] = data_leselisten_binary.sum(axis=1)\n",
    "data['AnzahlGenannt_Rang'] = data['AnzahlGenannt'].rank(ascending=False)\n",
    "\n",
    "# AnzahlGenannt_normalisiert: wie viel % der genannten Titel macht der Text im Durchschnitt der Leselisten aus?\n",
    "data_leselisten_binary_normalized = data_leselisten_binary/data_leselisten_binary.sum()\n",
    "data['AnzahlGenannt_normalisiert'] = data_leselisten_binary_normalized.mean(axis=1)\n",
    "data['AnzahlGenannt_normalisiert_Rang'] = data['AnzahlGenannt_normalisiert'].rank(ascending=False)\n",
    "\n",
    "# AnzahlZuLesen: wie oft muss der Text über alle Leselisten hinweg gelesen werden? (0.33, 0.5 usw. berücksichtigt)\n",
    "data_leselisten = data[leselisten]\n",
    "data['AnzahlZuLesen'] = data_leselisten.sum(axis = 1)\n",
    "data['AnzahlZuLesen_Rang'] = data['AnzahlZuLesen'].rank(ascending=False)\n",
    "\n",
    "# AnzahlZuLesen_normalisiert: wie viel % der vorgeschriebenen Lektürevorgänge macht der Text im Durchschnitt der Leselisten aus?\n",
    "data_leselisten_normalized = data[leselisten]/data[leselisten].sum()\n",
    "data['AnzahlZuLesen_normalisiert'] = data_leselisten_normalized.mean(axis = 1)\n",
    "data['AnzahlZuLesen_normalisiert_Rang'] = data['AnzahlZuLesen_normalisiert'].rank(ascending=False)"
   ]
  },
  {
   "cell_type": "markdown",
   "id": "960b8eff-3ada-40d2-ab3d-f3236641b759",
   "metadata": {},
   "source": [
    "#### Test (Titel)"
   ]
  },
  {
   "cell_type": "code",
   "execution_count": 23,
   "id": "3d6048a6-e7a4-4f97-8c11-7ab6ff71bf3e",
   "metadata": {},
   "outputs": [
    {
     "data": {
      "text/html": [
       "<div>\n",
       "<style scoped>\n",
       "    .dataframe tbody tr th:only-of-type {\n",
       "        vertical-align: middle;\n",
       "    }\n",
       "\n",
       "    .dataframe tbody tr th {\n",
       "        vertical-align: top;\n",
       "    }\n",
       "\n",
       "    .dataframe thead th {\n",
       "        text-align: right;\n",
       "    }\n",
       "</style>\n",
       "<table border=\"1\" class=\"dataframe\">\n",
       "  <thead>\n",
       "    <tr style=\"text-align: right;\">\n",
       "      <th></th>\n",
       "      <th>Autor</th>\n",
       "      <th>Titel</th>\n",
       "      <th>AnzahlGenannt</th>\n",
       "      <th>AnzahlGenannt_normalisiert</th>\n",
       "      <th>AnzahlZuLesen</th>\n",
       "      <th>AnzahlZuLesen_normalisiert</th>\n",
       "    </tr>\n",
       "  </thead>\n",
       "  <tbody>\n",
       "    <tr>\n",
       "      <th>664</th>\n",
       "      <td>Fontane, Theodor</td>\n",
       "      <td>Effi Briest</td>\n",
       "      <td>38.0</td>\n",
       "      <td>0.006438</td>\n",
       "      <td>25.030159</td>\n",
       "      <td>0.006389</td>\n",
       "    </tr>\n",
       "    <tr>\n",
       "      <th>1407</th>\n",
       "      <td>Keller, Gottfried</td>\n",
       "      <td>Die Leute von Seldwyla</td>\n",
       "      <td>20.0</td>\n",
       "      <td>0.002828</td>\n",
       "      <td>14.061265</td>\n",
       "      <td>0.002766</td>\n",
       "    </tr>\n",
       "    <tr>\n",
       "      <th>1941</th>\n",
       "      <td>Ransmayr, Christoph</td>\n",
       "      <td>Die letzte Welt</td>\n",
       "      <td>20.0</td>\n",
       "      <td>0.001964</td>\n",
       "      <td>12.027927</td>\n",
       "      <td>0.001670</td>\n",
       "    </tr>\n",
       "    <tr>\n",
       "      <th>2072</th>\n",
       "      <td>Schiller, Friedrich</td>\n",
       "      <td>Maria Stuart</td>\n",
       "      <td>31.0</td>\n",
       "      <td>0.004734</td>\n",
       "      <td>22.328336</td>\n",
       "      <td>0.004741</td>\n",
       "    </tr>\n",
       "  </tbody>\n",
       "</table>\n",
       "</div>"
      ],
      "text/plain": [
       "                    Autor                   Titel  AnzahlGenannt  AnzahlGenannt_normalisiert  AnzahlZuLesen  AnzahlZuLesen_normalisiert\n",
       "664      Fontane, Theodor             Effi Briest           38.0                    0.006438      25.030159                    0.006389\n",
       "1407    Keller, Gottfried  Die Leute von Seldwyla           20.0                    0.002828      14.061265                    0.002766\n",
       "1941  Ransmayr, Christoph         Die letzte Welt           20.0                    0.001964      12.027927                    0.001670\n",
       "2072  Schiller, Friedrich            Maria Stuart           31.0                    0.004734      22.328336                    0.004741"
      ]
     },
     "execution_count": 23,
     "metadata": {},
     "output_type": "execute_result"
    }
   ],
   "source": [
    "test_titel = ['Effi Briest', 'Maria Stuart', 'Die Leute von Seldwyla', 'Die letzte Welt']\n",
    "\n",
    "data.query(\"Titel.isin(@test_titel)\")[[\n",
    "    'Autor', 'Titel', \n",
    "    'AnzahlGenannt', 'AnzahlGenannt_normalisiert',\n",
    "    'AnzahlZuLesen', 'AnzahlZuLesen_normalisiert'\n",
    "]]"
   ]
  },
  {
   "cell_type": "code",
   "execution_count": 24,
   "id": "d610a64f-3d18-4298-adfc-18d1ab921fed",
   "metadata": {},
   "outputs": [],
   "source": [
    "test_titel = 'Effi Briest'\n",
    "\n",
    "test_df = pd.DataFrame()\n",
    "for leseliste in leselisten:\n",
    "    data_leseliste = data[data[leseliste] > 0].copy()\n",
    "    data_leseliste_titel = data_leseliste.query(\"Titel.str.contains(@test_titel, na = False)\").copy()\n",
    "\n",
    "    test_df.at[leseliste, 'AnzahlGenannt_gesamt'] = data_leseliste.shape[0]\n",
    "    if data_leseliste_titel.shape[0] > 0:\n",
    "        test_df.at[leseliste, 'AnzahlGenannt_DieserTitel'] = data_leseliste_titel.shape[0]\n",
    "        test_df.at[leseliste, 'AnzahlGenannt_DieserTitel_normalisiert'] = data_leseliste_titel.shape[0]/data_leseliste.shape[0]\n",
    "        \n",
    "    test_df.at[leseliste, 'AnzahlZuLesen_gesamt'] = data_leseliste[leseliste].sum()\n",
    "    if data_leseliste_titel.shape[0] > 0:\n",
    "        test_df.at[leseliste, 'AnzahlZuLesen_DieserTitel'] = data_leseliste_titel[leseliste].sum()\n",
    "        test_df.at[leseliste, 'AnzahlZuLesen_DieserTitel_normalisiert'] = data_leseliste_titel[leseliste].sum()/data_leseliste[leseliste].sum()\n",
    "\n",
    "test_df = test_df.fillna(0)\n",
    "test_df[['AnzahlGenannt_gesamt', 'AnzahlGenannt_DieserTitel']] = test_df[['AnzahlGenannt_gesamt', 'AnzahlGenannt_DieserTitel']].astype(int)"
   ]
  },
  {
   "cell_type": "code",
   "execution_count": 25,
   "id": "275ee6d7-8c5f-4be5-8950-d31ef4f0f8a2",
   "metadata": {},
   "outputs": [
    {
     "data": {
      "text/html": [
       "<div>\n",
       "<style scoped>\n",
       "    .dataframe tbody tr th:only-of-type {\n",
       "        vertical-align: middle;\n",
       "    }\n",
       "\n",
       "    .dataframe tbody tr th {\n",
       "        vertical-align: top;\n",
       "    }\n",
       "\n",
       "    .dataframe thead th {\n",
       "        text-align: right;\n",
       "    }\n",
       "</style>\n",
       "<table border=\"1\" class=\"dataframe\">\n",
       "  <thead>\n",
       "    <tr style=\"text-align: right;\">\n",
       "      <th></th>\n",
       "      <th>AnzahlGenannt_gesamt</th>\n",
       "      <th>AnzahlGenannt_DieserTitel</th>\n",
       "      <th>AnzahlGenannt_DieserTitel_normalisiert</th>\n",
       "      <th>AnzahlZuLesen_gesamt</th>\n",
       "      <th>AnzahlZuLesen_DieserTitel</th>\n",
       "      <th>AnzahlZuLesen_DieserTitel_normalisiert</th>\n",
       "    </tr>\n",
       "  </thead>\n",
       "  <tbody>\n",
       "    <tr>\n",
       "      <th>Aachen 2017/18</th>\n",
       "      <td>347</td>\n",
       "      <td>1</td>\n",
       "      <td>0.002882</td>\n",
       "      <td>44.880692</td>\n",
       "      <td>0.076923</td>\n",
       "      <td>0.001714</td>\n",
       "    </tr>\n",
       "    <tr>\n",
       "      <th>Augsburg 2020</th>\n",
       "      <td>107</td>\n",
       "      <td>0</td>\n",
       "      <td>0.000000</td>\n",
       "      <td>107.000000</td>\n",
       "      <td>0.000000</td>\n",
       "      <td>0.000000</td>\n",
       "    </tr>\n",
       "    <tr>\n",
       "      <th>Bochum o.J.</th>\n",
       "      <td>98</td>\n",
       "      <td>1</td>\n",
       "      <td>0.010204</td>\n",
       "      <td>95.000000</td>\n",
       "      <td>1.000000</td>\n",
       "      <td>0.010526</td>\n",
       "    </tr>\n",
       "    <tr>\n",
       "      <th>Braunschweig o.J.</th>\n",
       "      <td>221</td>\n",
       "      <td>1</td>\n",
       "      <td>0.004525</td>\n",
       "      <td>56.828929</td>\n",
       "      <td>0.238095</td>\n",
       "      <td>0.004190</td>\n",
       "    </tr>\n",
       "    <tr>\n",
       "      <th>Dortmund o.J.</th>\n",
       "      <td>231</td>\n",
       "      <td>1</td>\n",
       "      <td>0.004329</td>\n",
       "      <td>172.000000</td>\n",
       "      <td>0.333333</td>\n",
       "      <td>0.001938</td>\n",
       "    </tr>\n",
       "  </tbody>\n",
       "</table>\n",
       "</div>"
      ],
      "text/plain": [
       "                   AnzahlGenannt_gesamt  AnzahlGenannt_DieserTitel  AnzahlGenannt_DieserTitel_normalisiert  AnzahlZuLesen_gesamt  AnzahlZuLesen_DieserTitel  AnzahlZuLesen_DieserTitel_normalisiert\n",
       "Aachen 2017/18                      347                          1                                0.002882             44.880692                   0.076923                                0.001714\n",
       "Augsburg 2020                       107                          0                                0.000000            107.000000                   0.000000                                0.000000\n",
       "Bochum o.J.                          98                          1                                0.010204             95.000000                   1.000000                                0.010526\n",
       "Braunschweig o.J.                   221                          1                                0.004525             56.828929                   0.238095                                0.004190\n",
       "Dortmund o.J.                       231                          1                                0.004329            172.000000                   0.333333                                0.001938"
      ]
     },
     "execution_count": 25,
     "metadata": {},
     "output_type": "execute_result"
    }
   ],
   "source": [
    "test_df.head()"
   ]
  },
  {
   "cell_type": "code",
   "execution_count": 26,
   "id": "fc4cf208-9bf0-4c99-84eb-4430de06f33b",
   "metadata": {},
   "outputs": [
    {
     "name": "stdout",
     "output_type": "stream",
     "text": [
      "AnzahlGenannt               : 38\n",
      "AnzahlGenannt_normalisiert  : 0.006437970694534374\n",
      "AnzahlZuLesen               : 25.03015880617565\n",
      "AnzahlZuLesen_normalisiert  : 0.00638897152681453\n"
     ]
    }
   ],
   "source": [
    "print(f\"AnzahlGenannt               : {test_df['AnzahlGenannt_DieserTitel'].sum()}\")\n",
    "print(f\"AnzahlGenannt_normalisiert  : {test_df['AnzahlGenannt_DieserTitel_normalisiert'].mean()}\")\n",
    "print(f\"AnzahlZuLesen               : {test_df['AnzahlZuLesen_DieserTitel'].sum()}\")\n",
    "print(f\"AnzahlZuLesen_normalisiert  : {test_df['AnzahlZuLesen_DieserTitel_normalisiert'].mean()}\")"
   ]
  },
  {
   "cell_type": "markdown",
   "id": "976ebb96-a6f5-41df-b0ee-9872389f45dd",
   "metadata": {},
   "source": [
    "#### Test (Autor)"
   ]
  },
  {
   "cell_type": "code",
   "execution_count": 27,
   "id": "69b0c609-760b-4442-9ee0-f7ec85ee3374",
   "metadata": {},
   "outputs": [
    {
     "data": {
      "text/html": [
       "<div>\n",
       "<style scoped>\n",
       "    .dataframe tbody tr th:only-of-type {\n",
       "        vertical-align: middle;\n",
       "    }\n",
       "\n",
       "    .dataframe tbody tr th {\n",
       "        vertical-align: top;\n",
       "    }\n",
       "\n",
       "    .dataframe thead th {\n",
       "        text-align: right;\n",
       "    }\n",
       "</style>\n",
       "<table border=\"1\" class=\"dataframe\">\n",
       "  <thead>\n",
       "    <tr style=\"text-align: right;\">\n",
       "      <th></th>\n",
       "      <th>AnzahlGenannt</th>\n",
       "      <th>AnzahlGenannt_normalisiert</th>\n",
       "      <th>AnzahlZuLesen</th>\n",
       "      <th>AnzahlZuLesen_normalisiert</th>\n",
       "    </tr>\n",
       "    <tr>\n",
       "      <th>Autor</th>\n",
       "      <th></th>\n",
       "      <th></th>\n",
       "      <th></th>\n",
       "      <th></th>\n",
       "    </tr>\n",
       "  </thead>\n",
       "  <tbody>\n",
       "    <tr>\n",
       "      <th>Fontane, Theodor</th>\n",
       "      <td>99.0</td>\n",
       "      <td>0.012514</td>\n",
       "      <td>59.044436</td>\n",
       "      <td>0.012084</td>\n",
       "    </tr>\n",
       "    <tr>\n",
       "      <th>Keller, Gottfried</th>\n",
       "      <td>83.0</td>\n",
       "      <td>0.010405</td>\n",
       "      <td>53.915727</td>\n",
       "      <td>0.010495</td>\n",
       "    </tr>\n",
       "    <tr>\n",
       "      <th>Ransmayr, Christoph</th>\n",
       "      <td>25.0</td>\n",
       "      <td>0.002252</td>\n",
       "      <td>15.064927</td>\n",
       "      <td>0.001846</td>\n",
       "    </tr>\n",
       "    <tr>\n",
       "      <th>Schiller, Friedrich</th>\n",
       "      <td>258.0</td>\n",
       "      <td>0.032072</td>\n",
       "      <td>166.424373</td>\n",
       "      <td>0.033645</td>\n",
       "    </tr>\n",
       "  </tbody>\n",
       "</table>\n",
       "</div>"
      ],
      "text/plain": [
       "                     AnzahlGenannt  AnzahlGenannt_normalisiert  AnzahlZuLesen  AnzahlZuLesen_normalisiert\n",
       "Autor                                                                                                    \n",
       "Fontane, Theodor              99.0                    0.012514      59.044436                    0.012084\n",
       "Keller, Gottfried             83.0                    0.010405      53.915727                    0.010495\n",
       "Ransmayr, Christoph           25.0                    0.002252      15.064927                    0.001846\n",
       "Schiller, Friedrich          258.0                    0.032072     166.424373                    0.033645"
      ]
     },
     "execution_count": 27,
     "metadata": {},
     "output_type": "execute_result"
    }
   ],
   "source": [
    "test_authors = ['Fontane, Theodor', 'Keller, Gottfried', 'Ransmayr, Christoph', 'Schiller, Friedrich']\n",
    "\n",
    "data_autoren = data.groupby('Autor')[[\n",
    "    'AnzahlGenannt', 'AnzahlGenannt_normalisiert',\n",
    "    'AnzahlZuLesen', 'AnzahlZuLesen_normalisiert'\n",
    "]].sum()\n",
    "data_autoren_specific = data_autoren.loc[test_authors]\n",
    "\n",
    "data_autoren_specific"
   ]
  },
  {
   "cell_type": "code",
   "execution_count": 28,
   "id": "a37b4819-f792-4d08-91c1-843cf4b1d1ba",
   "metadata": {},
   "outputs": [],
   "source": [
    "test_author = 'Fontane, Theodor'\n",
    "\n",
    "test_df = pd.DataFrame()\n",
    "for leseliste in leselisten:\n",
    "    data_leseliste = data[data[leseliste] > 0].copy()\n",
    "    data_leseliste_autor = data_leseliste.query(\"Autor.str.contains(@test_author, na = False)\").copy()\n",
    "\n",
    "    test_df.at[leseliste, 'AnzahlGenannt_gesamt'] = data_leseliste.shape[0]\n",
    "    if data_leseliste_titel.shape[0] > 0:\n",
    "        test_df.at[leseliste, 'AnzahlGenannt_Autor'] = data_leseliste_autor.shape[0]\n",
    "        test_df.at[leseliste, 'AnzahlGenannt_Autor_normalisiert'] = data_leseliste_autor.shape[0]/data_leseliste.shape[0]\n",
    "        \n",
    "    test_df.at[leseliste, 'AnzahlZuLesen_gesamt'] = data_leseliste[leseliste].sum()\n",
    "    if data_leseliste_titel.shape[0] > 0:\n",
    "        test_df.at[leseliste, 'AnzahlZuLesen_Autor'] = data_leseliste_autor[leseliste].sum()\n",
    "        test_df.at[leseliste, 'AnzahlZuLesen_Autor_normalisiert'] = data_leseliste_autor[leseliste].sum()/data_leseliste[leseliste].sum()\n",
    "\n",
    "test_df = test_df.fillna(0)\n",
    "test_df[['AnzahlGenannt_gesamt', 'AnzahlGenannt_Autor']] = test_df[['AnzahlGenannt_gesamt', 'AnzahlGenannt_Autor']].astype(int)"
   ]
  },
  {
   "cell_type": "code",
   "execution_count": 29,
   "id": "3d6ff251-3f28-4af0-94eb-b63d9ed85270",
   "metadata": {},
   "outputs": [
    {
     "data": {
      "text/html": [
       "<div>\n",
       "<style scoped>\n",
       "    .dataframe tbody tr th:only-of-type {\n",
       "        vertical-align: middle;\n",
       "    }\n",
       "\n",
       "    .dataframe tbody tr th {\n",
       "        vertical-align: top;\n",
       "    }\n",
       "\n",
       "    .dataframe thead th {\n",
       "        text-align: right;\n",
       "    }\n",
       "</style>\n",
       "<table border=\"1\" class=\"dataframe\">\n",
       "  <thead>\n",
       "    <tr style=\"text-align: right;\">\n",
       "      <th></th>\n",
       "      <th>AnzahlGenannt_gesamt</th>\n",
       "      <th>AnzahlGenannt_Autor</th>\n",
       "      <th>AnzahlGenannt_Autor_normalisiert</th>\n",
       "      <th>AnzahlZuLesen_gesamt</th>\n",
       "      <th>AnzahlZuLesen_Autor</th>\n",
       "      <th>AnzahlZuLesen_Autor_normalisiert</th>\n",
       "    </tr>\n",
       "  </thead>\n",
       "  <tbody>\n",
       "    <tr>\n",
       "      <th>Aachen 2017/18</th>\n",
       "      <td>347</td>\n",
       "      <td>2</td>\n",
       "      <td>0.005764</td>\n",
       "      <td>44.880692</td>\n",
       "      <td>0.153846</td>\n",
       "      <td>0.003428</td>\n",
       "    </tr>\n",
       "    <tr>\n",
       "      <th>Augsburg 2020</th>\n",
       "      <td>107</td>\n",
       "      <td>1</td>\n",
       "      <td>0.009346</td>\n",
       "      <td>107.000000</td>\n",
       "      <td>1.000000</td>\n",
       "      <td>0.009346</td>\n",
       "    </tr>\n",
       "    <tr>\n",
       "      <th>Bochum o.J.</th>\n",
       "      <td>98</td>\n",
       "      <td>1</td>\n",
       "      <td>0.010204</td>\n",
       "      <td>95.000000</td>\n",
       "      <td>1.000000</td>\n",
       "      <td>0.010526</td>\n",
       "    </tr>\n",
       "    <tr>\n",
       "      <th>Braunschweig o.J.</th>\n",
       "      <td>221</td>\n",
       "      <td>2</td>\n",
       "      <td>0.009050</td>\n",
       "      <td>56.828929</td>\n",
       "      <td>0.476190</td>\n",
       "      <td>0.008379</td>\n",
       "    </tr>\n",
       "    <tr>\n",
       "      <th>Dortmund o.J.</th>\n",
       "      <td>231</td>\n",
       "      <td>3</td>\n",
       "      <td>0.012987</td>\n",
       "      <td>172.000000</td>\n",
       "      <td>1.000000</td>\n",
       "      <td>0.005814</td>\n",
       "    </tr>\n",
       "  </tbody>\n",
       "</table>\n",
       "</div>"
      ],
      "text/plain": [
       "                   AnzahlGenannt_gesamt  AnzahlGenannt_Autor  AnzahlGenannt_Autor_normalisiert  AnzahlZuLesen_gesamt  AnzahlZuLesen_Autor  AnzahlZuLesen_Autor_normalisiert\n",
       "Aachen 2017/18                      347                    2                          0.005764             44.880692             0.153846                          0.003428\n",
       "Augsburg 2020                       107                    1                          0.009346            107.000000             1.000000                          0.009346\n",
       "Bochum o.J.                          98                    1                          0.010204             95.000000             1.000000                          0.010526\n",
       "Braunschweig o.J.                   221                    2                          0.009050             56.828929             0.476190                          0.008379\n",
       "Dortmund o.J.                       231                    3                          0.012987            172.000000             1.000000                          0.005814"
      ]
     },
     "execution_count": 29,
     "metadata": {},
     "output_type": "execute_result"
    }
   ],
   "source": [
    "test_df.head()"
   ]
  },
  {
   "cell_type": "code",
   "execution_count": 30,
   "id": "f709ac9a-7766-42f7-b322-6611b8f4ad10",
   "metadata": {},
   "outputs": [
    {
     "name": "stdout",
     "output_type": "stream",
     "text": [
      "AnzahlGenannt               : 99\n",
      "AnzahlGenannt_normalisiert  : 0.01251437452976308\n",
      "AnzahlZuLesen               : 59.04443600771096\n",
      "AnzahlZuLesen_normalisiert  : 0.0120839909209064\n"
     ]
    }
   ],
   "source": [
    "print(f\"AnzahlGenannt               : {test_df['AnzahlGenannt_Autor'].sum()}\")\n",
    "print(f\"AnzahlGenannt_normalisiert  : {test_df['AnzahlGenannt_Autor_normalisiert'].mean()}\")\n",
    "print(f\"AnzahlZuLesen               : {test_df['AnzahlZuLesen_Autor'].sum()}\")\n",
    "print(f\"AnzahlZuLesen_normalisiert  : {test_df['AnzahlZuLesen_Autor_normalisiert'].mean()}\")"
   ]
  },
  {
   "cell_type": "markdown",
   "id": "8b354212-09a7-49d8-aa05-ca0395be2d69",
   "metadata": {},
   "source": [
    "### Check2"
   ]
  },
  {
   "cell_type": "code",
   "execution_count": 31,
   "id": "46d1fda8-78af-415d-83cd-e767f6c1953b",
   "metadata": {},
   "outputs": [
    {
     "data": {
      "text/html": [
       "<div>\n",
       "<style scoped>\n",
       "    .dataframe tbody tr th:only-of-type {\n",
       "        vertical-align: middle;\n",
       "    }\n",
       "\n",
       "    .dataframe tbody tr th {\n",
       "        vertical-align: top;\n",
       "    }\n",
       "\n",
       "    .dataframe thead th {\n",
       "        text-align: right;\n",
       "    }\n",
       "</style>\n",
       "<table border=\"1\" class=\"dataframe\">\n",
       "  <thead>\n",
       "    <tr style=\"text-align: right;\">\n",
       "      <th></th>\n",
       "      <th>Autor</th>\n",
       "      <th>Titel</th>\n",
       "      <th>Jahreszahl_Statistik</th>\n",
       "      <th>Dekade</th>\n",
       "      <th>Gattung</th>\n",
       "      <th>Aachen 2017/18</th>\n",
       "      <th>FU Berlin o.J.</th>\n",
       "      <th>Stuttgart o.J.</th>\n",
       "      <th>AnzahlZuLesen</th>\n",
       "      <th>AnzahlGenannt</th>\n",
       "    </tr>\n",
       "  </thead>\n",
       "  <tbody>\n",
       "    <tr>\n",
       "      <th>415</th>\n",
       "      <td>Brockes, Barthold Heinrich</td>\n",
       "      <td>Irdisches Vergnügen in Gott</td>\n",
       "      <td>1721.0</td>\n",
       "      <td>1720.0</td>\n",
       "      <td>Lyrik</td>\n",
       "      <td>0.0</td>\n",
       "      <td>0.0</td>\n",
       "      <td>0.0</td>\n",
       "      <td>6.337183</td>\n",
       "      <td>9.0</td>\n",
       "    </tr>\n",
       "    <tr>\n",
       "      <th>1350</th>\n",
       "      <td>Kafka, Franz</td>\n",
       "      <td>Forschungen eines Hundes</td>\n",
       "      <td>1922.0</td>\n",
       "      <td>1920.0</td>\n",
       "      <td>Prosa</td>\n",
       "      <td>0.0</td>\n",
       "      <td>0.0</td>\n",
       "      <td>0.0</td>\n",
       "      <td>0.126582</td>\n",
       "      <td>1.0</td>\n",
       "    </tr>\n",
       "    <tr>\n",
       "      <th>1923</th>\n",
       "      <td>Raabe, Wilhelm</td>\n",
       "      <td>Die Innerste</td>\n",
       "      <td>1874.0</td>\n",
       "      <td>1870.0</td>\n",
       "      <td>Prosa</td>\n",
       "      <td>0.0</td>\n",
       "      <td>0.0</td>\n",
       "      <td>0.0</td>\n",
       "      <td>1.000000</td>\n",
       "      <td>1.0</td>\n",
       "    </tr>\n",
       "    <tr>\n",
       "      <th>1999</th>\n",
       "      <td>Roth, Joseph</td>\n",
       "      <td>Die Legende vom heiligen Trinker</td>\n",
       "      <td>1939.0</td>\n",
       "      <td>1930.0</td>\n",
       "      <td>Prosa</td>\n",
       "      <td>0.0</td>\n",
       "      <td>0.0</td>\n",
       "      <td>0.0</td>\n",
       "      <td>1.000000</td>\n",
       "      <td>1.0</td>\n",
       "    </tr>\n",
       "    <tr>\n",
       "      <th>889</th>\n",
       "      <td>Grillparzer, Franz</td>\n",
       "      <td>Libussa</td>\n",
       "      <td>1872.0</td>\n",
       "      <td>1870.0</td>\n",
       "      <td>Drama</td>\n",
       "      <td>0.0</td>\n",
       "      <td>0.0</td>\n",
       "      <td>0.0</td>\n",
       "      <td>0.904762</td>\n",
       "      <td>4.0</td>\n",
       "    </tr>\n",
       "  </tbody>\n",
       "</table>\n",
       "</div>"
      ],
      "text/plain": [
       "                           Autor                             Titel  Jahreszahl_Statistik  Dekade Gattung  Aachen 2017/18  FU Berlin o.J.  Stuttgart o.J.  AnzahlZuLesen  AnzahlGenannt\n",
       "415   Brockes, Barthold Heinrich       Irdisches Vergnügen in Gott                1721.0  1720.0   Lyrik             0.0             0.0             0.0       6.337183            9.0\n",
       "1350                Kafka, Franz          Forschungen eines Hundes                1922.0  1920.0   Prosa             0.0             0.0             0.0       0.126582            1.0\n",
       "1923              Raabe, Wilhelm                     Die Innerste                 1874.0  1870.0   Prosa             0.0             0.0             0.0       1.000000            1.0\n",
       "1999                Roth, Joseph  Die Legende vom heiligen Trinker                1939.0  1930.0   Prosa             0.0             0.0             0.0       1.000000            1.0\n",
       "889           Grillparzer, Franz                           Libussa                1872.0  1870.0   Drama             0.0             0.0             0.0       0.904762            4.0"
      ]
     },
     "execution_count": 31,
     "metadata": {},
     "output_type": "execute_result"
    }
   ],
   "source": [
    "data[[\n",
    "    'Autor', 'Titel',\n",
    "    'Jahreszahl_Statistik', 'Dekade',\n",
    "    'Gattung',\n",
    "    'Aachen 2017/18', 'FU Berlin o.J.', 'Stuttgart o.J.',\n",
    "    'AnzahlZuLesen', 'AnzahlGenannt'\n",
    "]].sample(n=5)"
   ]
  },
  {
   "cell_type": "code",
   "execution_count": 32,
   "id": "544a34b4-c9ce-473b-9a53-4d1d5cd02a5f",
   "metadata": {},
   "outputs": [
    {
     "name": "stdout",
     "output_type": "stream",
     "text": [
      "Vorhandene Leselisten : 42\n",
      "Vorhandene Einträge   : 2425\n",
      "Fehlende Autornamen   : 0\n",
      "Fehlende Titel        : 0\n",
      "Fehlende Jahreszahlen : 0\n",
      "Fehlende Gattungen    : 0\n"
     ]
    }
   ],
   "source": [
    "print(f\"Vorhandene Leselisten : {len(leselisten)}\")\n",
    "print(f\"Vorhandene Einträge   : {data.shape[0]}\")\n",
    "print(f\"Fehlende Autornamen   : {data.query('Autor.isna()').shape[0]}\")\n",
    "print(f\"Fehlende Titel        : {data.query('Titel.isna()').shape[0]}\")\n",
    "print(f\"Fehlende Jahreszahlen : {data.query('Jahreszahl_Statistik.isna()').shape[0]}\")\n",
    "print(f\"Fehlende Gattungen    : {data.query('Gattung.isna()').shape[0]}\")"
   ]
  },
  {
   "cell_type": "markdown",
   "id": "77366ebd-eada-4677-9e54-5baa623579b8",
   "metadata": {},
   "source": [
    "# 5.1 Datengrundlage"
   ]
  },
  {
   "cell_type": "code",
   "execution_count": 33,
   "id": "3eea0d94-e89f-4534-89e6-fd3ddf437572",
   "metadata": {},
   "outputs": [
    {
     "data": {
      "text/html": [
       "<div>\n",
       "<style scoped>\n",
       "    .dataframe tbody tr th:only-of-type {\n",
       "        vertical-align: middle;\n",
       "    }\n",
       "\n",
       "    .dataframe tbody tr th {\n",
       "        vertical-align: top;\n",
       "    }\n",
       "\n",
       "    .dataframe thead th {\n",
       "        text-align: right;\n",
       "    }\n",
       "</style>\n",
       "<table border=\"1\" class=\"dataframe\">\n",
       "  <thead>\n",
       "    <tr style=\"text-align: right;\">\n",
       "      <th></th>\n",
       "      <th>AnzahlGenannt</th>\n",
       "      <th>AnzahlGenannt_normalisiert</th>\n",
       "      <th>AnzahlZuLesen</th>\n",
       "      <th>AnzahlZuLesen_normalisiert</th>\n",
       "    </tr>\n",
       "  </thead>\n",
       "  <tbody>\n",
       "    <tr>\n",
       "      <th>AnzahlGenannt</th>\n",
       "      <td>1.000000</td>\n",
       "      <td>0.972785</td>\n",
       "      <td>0.980274</td>\n",
       "      <td>0.959902</td>\n",
       "    </tr>\n",
       "    <tr>\n",
       "      <th>AnzahlGenannt_normalisiert</th>\n",
       "      <td>0.972785</td>\n",
       "      <td>1.000000</td>\n",
       "      <td>0.975638</td>\n",
       "      <td>0.989566</td>\n",
       "    </tr>\n",
       "    <tr>\n",
       "      <th>AnzahlZuLesen</th>\n",
       "      <td>0.980274</td>\n",
       "      <td>0.975638</td>\n",
       "      <td>1.000000</td>\n",
       "      <td>0.973382</td>\n",
       "    </tr>\n",
       "    <tr>\n",
       "      <th>AnzahlZuLesen_normalisiert</th>\n",
       "      <td>0.959902</td>\n",
       "      <td>0.989566</td>\n",
       "      <td>0.973382</td>\n",
       "      <td>1.000000</td>\n",
       "    </tr>\n",
       "  </tbody>\n",
       "</table>\n",
       "</div>"
      ],
      "text/plain": [
       "                            AnzahlGenannt  AnzahlGenannt_normalisiert  AnzahlZuLesen  AnzahlZuLesen_normalisiert\n",
       "AnzahlGenannt                    1.000000                    0.972785       0.980274                    0.959902\n",
       "AnzahlGenannt_normalisiert       0.972785                    1.000000       0.975638                    0.989566\n",
       "AnzahlZuLesen                    0.980274                    0.975638       1.000000                    0.973382\n",
       "AnzahlZuLesen_normalisiert       0.959902                    0.989566       0.973382                    1.000000"
      ]
     },
     "execution_count": 33,
     "metadata": {},
     "output_type": "execute_result"
    }
   ],
   "source": [
    "data[['AnzahlGenannt', 'AnzahlGenannt_normalisiert', 'AnzahlZuLesen', 'AnzahlZuLesen_normalisiert']].corr(method='pearson')"
   ]
  },
  {
   "cell_type": "code",
   "execution_count": 34,
   "id": "c19ea525-ce16-4232-93ad-01b74a574175",
   "metadata": {},
   "outputs": [
    {
     "data": {
      "text/html": [
       "<div>\n",
       "<style scoped>\n",
       "    .dataframe tbody tr th:only-of-type {\n",
       "        vertical-align: middle;\n",
       "    }\n",
       "\n",
       "    .dataframe tbody tr th {\n",
       "        vertical-align: top;\n",
       "    }\n",
       "\n",
       "    .dataframe thead th {\n",
       "        text-align: right;\n",
       "    }\n",
       "</style>\n",
       "<table border=\"1\" class=\"dataframe\">\n",
       "  <thead>\n",
       "    <tr style=\"text-align: right;\">\n",
       "      <th></th>\n",
       "      <th>AnzahlGenannt</th>\n",
       "      <th>AnzahlGenannt_normalisiert</th>\n",
       "      <th>AnzahlZuLesen</th>\n",
       "      <th>AnzahlZuLesen_normalisiert</th>\n",
       "    </tr>\n",
       "  </thead>\n",
       "  <tbody>\n",
       "    <tr>\n",
       "      <th>AnzahlGenannt</th>\n",
       "      <td>1.000000</td>\n",
       "      <td>0.855968</td>\n",
       "      <td>0.856018</td>\n",
       "      <td>0.835899</td>\n",
       "    </tr>\n",
       "    <tr>\n",
       "      <th>AnzahlGenannt_normalisiert</th>\n",
       "      <td>0.855968</td>\n",
       "      <td>1.000000</td>\n",
       "      <td>0.841561</td>\n",
       "      <td>0.958477</td>\n",
       "    </tr>\n",
       "    <tr>\n",
       "      <th>AnzahlZuLesen</th>\n",
       "      <td>0.856018</td>\n",
       "      <td>0.841561</td>\n",
       "      <td>1.000000</td>\n",
       "      <td>0.866056</td>\n",
       "    </tr>\n",
       "    <tr>\n",
       "      <th>AnzahlZuLesen_normalisiert</th>\n",
       "      <td>0.835899</td>\n",
       "      <td>0.958477</td>\n",
       "      <td>0.866056</td>\n",
       "      <td>1.000000</td>\n",
       "    </tr>\n",
       "  </tbody>\n",
       "</table>\n",
       "</div>"
      ],
      "text/plain": [
       "                            AnzahlGenannt  AnzahlGenannt_normalisiert  AnzahlZuLesen  AnzahlZuLesen_normalisiert\n",
       "AnzahlGenannt                    1.000000                    0.855968       0.856018                    0.835899\n",
       "AnzahlGenannt_normalisiert       0.855968                    1.000000       0.841561                    0.958477\n",
       "AnzahlZuLesen                    0.856018                    0.841561       1.000000                    0.866056\n",
       "AnzahlZuLesen_normalisiert       0.835899                    0.958477       0.866056                    1.000000"
      ]
     },
     "execution_count": 34,
     "metadata": {},
     "output_type": "execute_result"
    }
   ],
   "source": [
    "data[['AnzahlGenannt', 'AnzahlGenannt_normalisiert', 'AnzahlZuLesen', 'AnzahlZuLesen_normalisiert']].corr(method='spearman')"
   ]
  },
  {
   "cell_type": "markdown",
   "id": "0873d8ab-d82a-497e-b790-7e68668c7889",
   "metadata": {},
   "source": [
    "# 5.2 Länge der Leselisten"
   ]
  },
  {
   "cell_type": "code",
   "execution_count": 35,
   "id": "63a2e383-fd71-4c29-83e5-829930675290",
   "metadata": {},
   "outputs": [
    {
     "data": {
      "text/html": [
       "<div>\n",
       "<style scoped>\n",
       "    .dataframe tbody tr th:only-of-type {\n",
       "        vertical-align: middle;\n",
       "    }\n",
       "\n",
       "    .dataframe tbody tr th {\n",
       "        vertical-align: top;\n",
       "    }\n",
       "\n",
       "    .dataframe thead th {\n",
       "        text-align: right;\n",
       "    }\n",
       "</style>\n",
       "<table border=\"1\" class=\"dataframe\">\n",
       "  <thead>\n",
       "    <tr style=\"text-align: right;\">\n",
       "      <th></th>\n",
       "      <th>AnzahlGenannt</th>\n",
       "      <th>AnzahlZuLesen</th>\n",
       "    </tr>\n",
       "  </thead>\n",
       "  <tbody>\n",
       "    <tr>\n",
       "      <th>Trier o.J.</th>\n",
       "      <td>739.0</td>\n",
       "      <td>47.421737</td>\n",
       "    </tr>\n",
       "    <tr>\n",
       "      <th>Lausanne o.J.</th>\n",
       "      <td>668.0</td>\n",
       "      <td>668.000000</td>\n",
       "    </tr>\n",
       "    <tr>\n",
       "      <th>Hildesheim o.J.</th>\n",
       "      <td>411.0</td>\n",
       "      <td>53.772152</td>\n",
       "    </tr>\n",
       "    <tr>\n",
       "      <th>Aachen 2017/18</th>\n",
       "      <td>347.0</td>\n",
       "      <td>44.880692</td>\n",
       "    </tr>\n",
       "    <tr>\n",
       "      <th>Wien o.J.</th>\n",
       "      <td>345.0</td>\n",
       "      <td>39.000000</td>\n",
       "    </tr>\n",
       "    <tr>\n",
       "      <th>Saarland 2007</th>\n",
       "      <td>344.0</td>\n",
       "      <td>293.250000</td>\n",
       "    </tr>\n",
       "    <tr>\n",
       "      <th>Magdeburg 2020</th>\n",
       "      <td>343.0</td>\n",
       "      <td>68.600000</td>\n",
       "    </tr>\n",
       "    <tr>\n",
       "      <th>Salzburg o.J.</th>\n",
       "      <td>332.0</td>\n",
       "      <td>264.000000</td>\n",
       "    </tr>\n",
       "    <tr>\n",
       "      <th>Jena 2018</th>\n",
       "      <td>331.0</td>\n",
       "      <td>70.750000</td>\n",
       "    </tr>\n",
       "    <tr>\n",
       "      <th>Leipzig o.J.</th>\n",
       "      <td>314.0</td>\n",
       "      <td>296.000000</td>\n",
       "    </tr>\n",
       "    <tr>\n",
       "      <th>München o.J.</th>\n",
       "      <td>311.0</td>\n",
       "      <td>73.325758</td>\n",
       "    </tr>\n",
       "    <tr>\n",
       "      <th>Frankfurt a.M. o.J.</th>\n",
       "      <td>297.0</td>\n",
       "      <td>14.833333</td>\n",
       "    </tr>\n",
       "    <tr>\n",
       "      <th>Wuppertal 2015</th>\n",
       "      <td>262.0</td>\n",
       "      <td>262.000000</td>\n",
       "    </tr>\n",
       "    <tr>\n",
       "      <th>Würzburg 2003/04</th>\n",
       "      <td>244.0</td>\n",
       "      <td>57.658333</td>\n",
       "    </tr>\n",
       "    <tr>\n",
       "      <th>Zürich 2013</th>\n",
       "      <td>241.0</td>\n",
       "      <td>241.000000</td>\n",
       "    </tr>\n",
       "    <tr>\n",
       "      <th>FU Berlin o.J.</th>\n",
       "      <td>239.0</td>\n",
       "      <td>239.000000</td>\n",
       "    </tr>\n",
       "    <tr>\n",
       "      <th>Dortmund o.J.</th>\n",
       "      <td>231.0</td>\n",
       "      <td>172.000000</td>\n",
       "    </tr>\n",
       "    <tr>\n",
       "      <th>Karlsruhe o.J.</th>\n",
       "      <td>230.0</td>\n",
       "      <td>230.000000</td>\n",
       "    </tr>\n",
       "    <tr>\n",
       "      <th>Würzburg 2019</th>\n",
       "      <td>227.0</td>\n",
       "      <td>227.000000</td>\n",
       "    </tr>\n",
       "    <tr>\n",
       "      <th>Braunschweig o.J.</th>\n",
       "      <td>221.0</td>\n",
       "      <td>56.828929</td>\n",
       "    </tr>\n",
       "    <tr>\n",
       "      <th>Gießen o.J.</th>\n",
       "      <td>208.0</td>\n",
       "      <td>208.000000</td>\n",
       "    </tr>\n",
       "    <tr>\n",
       "      <th>Stuttgart 2022</th>\n",
       "      <td>202.0</td>\n",
       "      <td>202.000000</td>\n",
       "    </tr>\n",
       "    <tr>\n",
       "      <th>Koblenz o.J.</th>\n",
       "      <td>182.0</td>\n",
       "      <td>179.000000</td>\n",
       "    </tr>\n",
       "    <tr>\n",
       "      <th>Innsbruck 2023</th>\n",
       "      <td>166.0</td>\n",
       "      <td>18.333333</td>\n",
       "    </tr>\n",
       "    <tr>\n",
       "      <th>LA Aachen 2018</th>\n",
       "      <td>165.0</td>\n",
       "      <td>21.952000</td>\n",
       "    </tr>\n",
       "    <tr>\n",
       "      <th>Tübingen o.J.</th>\n",
       "      <td>143.0</td>\n",
       "      <td>143.000000</td>\n",
       "    </tr>\n",
       "    <tr>\n",
       "      <th>Heidelberg 2017</th>\n",
       "      <td>135.0</td>\n",
       "      <td>66.200000</td>\n",
       "    </tr>\n",
       "    <tr>\n",
       "      <th>Passau o.J.</th>\n",
       "      <td>127.0</td>\n",
       "      <td>127.000000</td>\n",
       "    </tr>\n",
       "    <tr>\n",
       "      <th>Augsburg 2020</th>\n",
       "      <td>107.0</td>\n",
       "      <td>107.000000</td>\n",
       "    </tr>\n",
       "    <tr>\n",
       "      <th>Mannheim o.J.</th>\n",
       "      <td>106.0</td>\n",
       "      <td>106.000000</td>\n",
       "    </tr>\n",
       "    <tr>\n",
       "      <th>Eichstätt-Ingolstadt 2007</th>\n",
       "      <td>100.0</td>\n",
       "      <td>100.000000</td>\n",
       "    </tr>\n",
       "    <tr>\n",
       "      <th>Oldenburg 2020</th>\n",
       "      <td>99.0</td>\n",
       "      <td>99.000000</td>\n",
       "    </tr>\n",
       "    <tr>\n",
       "      <th>Bochum o.J.</th>\n",
       "      <td>98.0</td>\n",
       "      <td>95.000000</td>\n",
       "    </tr>\n",
       "    <tr>\n",
       "      <th>Graz 2021</th>\n",
       "      <td>86.0</td>\n",
       "      <td>86.000000</td>\n",
       "    </tr>\n",
       "    <tr>\n",
       "      <th>Lüneburg o.J.</th>\n",
       "      <td>79.0</td>\n",
       "      <td>26.333333</td>\n",
       "    </tr>\n",
       "    <tr>\n",
       "      <th>Potsdam 2022</th>\n",
       "      <td>76.0</td>\n",
       "      <td>76.000000</td>\n",
       "    </tr>\n",
       "    <tr>\n",
       "      <th>Göttingen o.J.</th>\n",
       "      <td>73.0</td>\n",
       "      <td>64.000000</td>\n",
       "    </tr>\n",
       "    <tr>\n",
       "      <th>Osnabrück o.J.</th>\n",
       "      <td>68.0</td>\n",
       "      <td>28.333333</td>\n",
       "    </tr>\n",
       "    <tr>\n",
       "      <th>Luxemburg o.J.</th>\n",
       "      <td>61.0</td>\n",
       "      <td>61.000000</td>\n",
       "    </tr>\n",
       "    <tr>\n",
       "      <th>Köln o.J.</th>\n",
       "      <td>54.0</td>\n",
       "      <td>54.000000</td>\n",
       "    </tr>\n",
       "    <tr>\n",
       "      <th>Stuttgart o.J.</th>\n",
       "      <td>50.0</td>\n",
       "      <td>50.000000</td>\n",
       "    </tr>\n",
       "    <tr>\n",
       "      <th>Innsbruck o.J.</th>\n",
       "      <td>37.0</td>\n",
       "      <td>37.000000</td>\n",
       "    </tr>\n",
       "  </tbody>\n",
       "</table>\n",
       "</div>"
      ],
      "text/plain": [
       "                           AnzahlGenannt  AnzahlZuLesen\n",
       "Trier o.J.                         739.0      47.421737\n",
       "Lausanne o.J.                      668.0     668.000000\n",
       "Hildesheim o.J.                    411.0      53.772152\n",
       "Aachen 2017/18                     347.0      44.880692\n",
       "Wien o.J.                          345.0      39.000000\n",
       "Saarland 2007                      344.0     293.250000\n",
       "Magdeburg 2020                     343.0      68.600000\n",
       "Salzburg o.J.                      332.0     264.000000\n",
       "Jena 2018                          331.0      70.750000\n",
       "Leipzig o.J.                       314.0     296.000000\n",
       "München o.J.                       311.0      73.325758\n",
       "Frankfurt a.M. o.J.                297.0      14.833333\n",
       "Wuppertal 2015                     262.0     262.000000\n",
       "Würzburg 2003/04                   244.0      57.658333\n",
       "Zürich 2013                        241.0     241.000000\n",
       "FU Berlin o.J.                     239.0     239.000000\n",
       "Dortmund o.J.                      231.0     172.000000\n",
       "Karlsruhe o.J.                     230.0     230.000000\n",
       "Würzburg 2019                      227.0     227.000000\n",
       "Braunschweig o.J.                  221.0      56.828929\n",
       "Gießen o.J.                        208.0     208.000000\n",
       "Stuttgart 2022                     202.0     202.000000\n",
       "Koblenz o.J.                       182.0     179.000000\n",
       "Innsbruck 2023                     166.0      18.333333\n",
       "LA Aachen 2018                     165.0      21.952000\n",
       "Tübingen o.J.                      143.0     143.000000\n",
       "Heidelberg 2017                    135.0      66.200000\n",
       "Passau o.J.                        127.0     127.000000\n",
       "Augsburg 2020                      107.0     107.000000\n",
       "Mannheim o.J.                      106.0     106.000000\n",
       "Eichstätt-Ingolstadt 2007          100.0     100.000000\n",
       "Oldenburg 2020                      99.0      99.000000\n",
       "Bochum o.J.                         98.0      95.000000\n",
       "Graz 2021                           86.0      86.000000\n",
       "Lüneburg o.J.                       79.0      26.333333\n",
       "Potsdam 2022                        76.0      76.000000\n",
       "Göttingen o.J.                      73.0      64.000000\n",
       "Osnabrück o.J.                      68.0      28.333333\n",
       "Luxemburg o.J.                      61.0      61.000000\n",
       "Köln o.J.                           54.0      54.000000\n",
       "Stuttgart o.J.                      50.0      50.000000\n",
       "Innsbruck o.J.                      37.0      37.000000"
      ]
     },
     "execution_count": 35,
     "metadata": {},
     "output_type": "execute_result"
    }
   ],
   "source": [
    "metriken = ['AnzahlGenannt', 'AnzahlZuLesen']\n",
    "\n",
    "data_plot = pd.DataFrame()\n",
    "for leseliste in leselisten:\n",
    "    data_leseliste = data[data[leseliste] > 0].copy()\n",
    "    data_leseliste['ListeAnzahlGenannt'] = 1\n",
    "    data_leseliste['ListeAnzahlGenannt_normalisiert'] = 1/data_leseliste.shape[0]\n",
    "    data_leseliste['ListeAnzahlZuLesen'] = data_leseliste[leseliste]\n",
    "    data_leseliste['ListeAnzahlZuLesen_normalisiert'] = data_leseliste[leseliste]/data_leseliste[leseliste].sum()\n",
    "\n",
    "    for metrik in metriken:\n",
    "        summe_alle = data_leseliste['Liste'+metrik].sum()\n",
    "        data_plot.at[leseliste, metrik] = summe_alle\n",
    "\n",
    "data_plot.sort_values(by=metriken[0], ascending=False)"
   ]
  },
  {
   "cell_type": "code",
   "execution_count": 36,
   "id": "d8aa97c4-cefb-4735-b29e-ce2202ad6d33",
   "metadata": {},
   "outputs": [
    {
     "data": {
      "text/plain": [
       "AnzahlGenannt    205.0\n",
       "AnzahlZuLesen     81.0\n",
       "dtype: float64"
      ]
     },
     "execution_count": 36,
     "metadata": {},
     "output_type": "execute_result"
    }
   ],
   "source": [
    "data_plot.median()"
   ]
  },
  {
   "cell_type": "markdown",
   "id": "64d37b42",
   "metadata": {},
   "source": [
    "# 5.3 Autor*innen"
   ]
  },
  {
   "cell_type": "code",
   "execution_count": 37,
   "id": "19971fab-41bd-44ae-8762-6d859e3b879d",
   "metadata": {},
   "outputs": [
    {
     "data": {
      "text/plain": [
       "773"
      ]
     },
     "execution_count": 37,
     "metadata": {},
     "output_type": "execute_result"
    }
   ],
   "source": [
    "data['Autor'].nunique()"
   ]
  },
  {
   "cell_type": "code",
   "execution_count": 38,
   "id": "ac0ee599-22c2-4bee-b2fc-e9fd3c9b621e",
   "metadata": {},
   "outputs": [
    {
     "name": "stdout",
     "output_type": "stream",
     "text": [
      "                          Geschlecht  AnzahlZuLesen  AnzahlZuLesen_normalisiert  AnzahlListen\n",
      "Autor                                                                                        \n",
      "Goethe, Johann Wolfgang            m     262.604382                    0.054798            42\n",
      "Schiller, Friedrich                m     166.424373                    0.033645            42\n",
      "Kleist, Heinrich von               m     125.857400                    0.026944            42\n",
      "Brecht, Bertolt                    m     114.518668                    0.024774            42\n",
      "Lessing, Gotthold Ephraim          m     111.924665                    0.023436            42\n",
      "Kafka, Franz                       m      95.223132                    0.019652            41\n",
      "Hofmannsthal, Hugo von             m      89.151108                    0.016722            38\n",
      "Mann, Thomas                       m      82.897052                    0.016905            42\n",
      "Büchner, Georg                     m      76.941583                    0.017157            41\n",
      "Eichendorff, Joseph von            m      73.987421                    0.013876            40\n",
      "Heine, Heinrich                    m      73.656883                    0.012985            37\n",
      "Schnitzler, Arthur                 m      71.775309                    0.014486            42\n",
      "Gryphius, Andreas                  m      68.429551                    0.014813            38\n",
      "Hoffmann, E.T.A.                   m      62.941029                    0.013530            42\n",
      "Hauptmann, Gerhart                 m      60.165484                    0.013128            42\n",
      "Fontane, Theodor                   m      59.044436                    0.012084            42\n",
      "Tieck, Ludwig                      m      57.832940                    0.010753            34\n",
      "Bachmann, Ingeborg                 w      56.809962                    0.010606            38\n",
      "Keller, Gottfried                  m      53.915727                    0.010495            39\n",
      "Benn, Gottfried                    m      52.801080                    0.008793            31\n"
     ]
    },
    {
     "data": {
      "application/vnd.plotly.v1+json": {
       "config": {
        "plotlyServerURL": "https://plot.ly"
       },
       "data": [
        {
         "alignmentgroup": "True",
         "hovertemplate": "Häufigkeit=%{x}<br>=%{y}<extra></extra>",
         "legendgroup": "",
         "marker": {
          "color": "#636efa",
          "pattern": {
           "shape": ""
          }
         },
         "name": "",
         "offsetgroup": "",
         "orientation": "h",
         "showlegend": false,
         "textposition": "auto",
         "type": "bar",
         "x": [
          262.60438194512,
          166.42437346439738,
          125.85740007259874,
          114.51866839120326,
          111.92466508255934,
          95.22313208803655,
          89.1511075429311,
          82.89705165040522,
          76.94158291532767,
          73.98742062348143,
          73.65688304323312,
          71.77530883803487,
          68.42955131460864,
          62.941028874607674,
          60.16548429859755,
          59.04443600771096,
          57.83293993804252,
          56.809962234259956,
          53.91572689723534,
          52.80108002080391
         ],
         "xaxis": "x",
         "y": [
          "Goethe, Johann Wolfgang",
          "Schiller, Friedrich",
          "Kleist, Heinrich von",
          "Brecht, Bertolt",
          "Lessing, Gotthold Ephraim",
          "Kafka, Franz",
          "Hofmannsthal, Hugo von",
          "Mann, Thomas",
          "Büchner, Georg",
          "Eichendorff, Joseph von",
          "Heine, Heinrich",
          "Schnitzler, Arthur",
          "Gryphius, Andreas",
          "Hoffmann, E.T.A.",
          "Hauptmann, Gerhart",
          "Fontane, Theodor",
          "Tieck, Ludwig",
          "Bachmann, Ingeborg",
          "Keller, Gottfried",
          "Benn, Gottfried"
         ],
         "yaxis": "y"
        }
       ],
       "layout": {
        "barmode": "relative",
        "height": 700,
        "legend": {
         "tracegroupgap": 0
        },
        "margin": {
         "t": 60
        },
        "showlegend": false,
        "template": {
         "data": {
          "bar": [
           {
            "error_x": {
             "color": "#2a3f5f"
            },
            "error_y": {
             "color": "#2a3f5f"
            },
            "marker": {
             "line": {
              "color": "#E5ECF6",
              "width": 0.5
             },
             "pattern": {
              "fillmode": "overlay",
              "size": 10,
              "solidity": 0.2
             }
            },
            "type": "bar"
           }
          ],
          "barpolar": [
           {
            "marker": {
             "line": {
              "color": "#E5ECF6",
              "width": 0.5
             },
             "pattern": {
              "fillmode": "overlay",
              "size": 10,
              "solidity": 0.2
             }
            },
            "type": "barpolar"
           }
          ],
          "carpet": [
           {
            "aaxis": {
             "endlinecolor": "#2a3f5f",
             "gridcolor": "white",
             "linecolor": "white",
             "minorgridcolor": "white",
             "startlinecolor": "#2a3f5f"
            },
            "baxis": {
             "endlinecolor": "#2a3f5f",
             "gridcolor": "white",
             "linecolor": "white",
             "minorgridcolor": "white",
             "startlinecolor": "#2a3f5f"
            },
            "type": "carpet"
           }
          ],
          "choropleth": [
           {
            "colorbar": {
             "outlinewidth": 0,
             "ticks": ""
            },
            "type": "choropleth"
           }
          ],
          "contour": [
           {
            "colorbar": {
             "outlinewidth": 0,
             "ticks": ""
            },
            "colorscale": [
             [
              0,
              "#0d0887"
             ],
             [
              0.1111111111111111,
              "#46039f"
             ],
             [
              0.2222222222222222,
              "#7201a8"
             ],
             [
              0.3333333333333333,
              "#9c179e"
             ],
             [
              0.4444444444444444,
              "#bd3786"
             ],
             [
              0.5555555555555556,
              "#d8576b"
             ],
             [
              0.6666666666666666,
              "#ed7953"
             ],
             [
              0.7777777777777778,
              "#fb9f3a"
             ],
             [
              0.8888888888888888,
              "#fdca26"
             ],
             [
              1,
              "#f0f921"
             ]
            ],
            "type": "contour"
           }
          ],
          "contourcarpet": [
           {
            "colorbar": {
             "outlinewidth": 0,
             "ticks": ""
            },
            "type": "contourcarpet"
           }
          ],
          "heatmap": [
           {
            "colorbar": {
             "outlinewidth": 0,
             "ticks": ""
            },
            "colorscale": [
             [
              0,
              "#0d0887"
             ],
             [
              0.1111111111111111,
              "#46039f"
             ],
             [
              0.2222222222222222,
              "#7201a8"
             ],
             [
              0.3333333333333333,
              "#9c179e"
             ],
             [
              0.4444444444444444,
              "#bd3786"
             ],
             [
              0.5555555555555556,
              "#d8576b"
             ],
             [
              0.6666666666666666,
              "#ed7953"
             ],
             [
              0.7777777777777778,
              "#fb9f3a"
             ],
             [
              0.8888888888888888,
              "#fdca26"
             ],
             [
              1,
              "#f0f921"
             ]
            ],
            "type": "heatmap"
           }
          ],
          "heatmapgl": [
           {
            "colorbar": {
             "outlinewidth": 0,
             "ticks": ""
            },
            "colorscale": [
             [
              0,
              "#0d0887"
             ],
             [
              0.1111111111111111,
              "#46039f"
             ],
             [
              0.2222222222222222,
              "#7201a8"
             ],
             [
              0.3333333333333333,
              "#9c179e"
             ],
             [
              0.4444444444444444,
              "#bd3786"
             ],
             [
              0.5555555555555556,
              "#d8576b"
             ],
             [
              0.6666666666666666,
              "#ed7953"
             ],
             [
              0.7777777777777778,
              "#fb9f3a"
             ],
             [
              0.8888888888888888,
              "#fdca26"
             ],
             [
              1,
              "#f0f921"
             ]
            ],
            "type": "heatmapgl"
           }
          ],
          "histogram": [
           {
            "marker": {
             "pattern": {
              "fillmode": "overlay",
              "size": 10,
              "solidity": 0.2
             }
            },
            "type": "histogram"
           }
          ],
          "histogram2d": [
           {
            "colorbar": {
             "outlinewidth": 0,
             "ticks": ""
            },
            "colorscale": [
             [
              0,
              "#0d0887"
             ],
             [
              0.1111111111111111,
              "#46039f"
             ],
             [
              0.2222222222222222,
              "#7201a8"
             ],
             [
              0.3333333333333333,
              "#9c179e"
             ],
             [
              0.4444444444444444,
              "#bd3786"
             ],
             [
              0.5555555555555556,
              "#d8576b"
             ],
             [
              0.6666666666666666,
              "#ed7953"
             ],
             [
              0.7777777777777778,
              "#fb9f3a"
             ],
             [
              0.8888888888888888,
              "#fdca26"
             ],
             [
              1,
              "#f0f921"
             ]
            ],
            "type": "histogram2d"
           }
          ],
          "histogram2dcontour": [
           {
            "colorbar": {
             "outlinewidth": 0,
             "ticks": ""
            },
            "colorscale": [
             [
              0,
              "#0d0887"
             ],
             [
              0.1111111111111111,
              "#46039f"
             ],
             [
              0.2222222222222222,
              "#7201a8"
             ],
             [
              0.3333333333333333,
              "#9c179e"
             ],
             [
              0.4444444444444444,
              "#bd3786"
             ],
             [
              0.5555555555555556,
              "#d8576b"
             ],
             [
              0.6666666666666666,
              "#ed7953"
             ],
             [
              0.7777777777777778,
              "#fb9f3a"
             ],
             [
              0.8888888888888888,
              "#fdca26"
             ],
             [
              1,
              "#f0f921"
             ]
            ],
            "type": "histogram2dcontour"
           }
          ],
          "mesh3d": [
           {
            "colorbar": {
             "outlinewidth": 0,
             "ticks": ""
            },
            "type": "mesh3d"
           }
          ],
          "parcoords": [
           {
            "line": {
             "colorbar": {
              "outlinewidth": 0,
              "ticks": ""
             }
            },
            "type": "parcoords"
           }
          ],
          "pie": [
           {
            "automargin": true,
            "type": "pie"
           }
          ],
          "scatter": [
           {
            "fillpattern": {
             "fillmode": "overlay",
             "size": 10,
             "solidity": 0.2
            },
            "type": "scatter"
           }
          ],
          "scatter3d": [
           {
            "line": {
             "colorbar": {
              "outlinewidth": 0,
              "ticks": ""
             }
            },
            "marker": {
             "colorbar": {
              "outlinewidth": 0,
              "ticks": ""
             }
            },
            "type": "scatter3d"
           }
          ],
          "scattercarpet": [
           {
            "marker": {
             "colorbar": {
              "outlinewidth": 0,
              "ticks": ""
             }
            },
            "type": "scattercarpet"
           }
          ],
          "scattergeo": [
           {
            "marker": {
             "colorbar": {
              "outlinewidth": 0,
              "ticks": ""
             }
            },
            "type": "scattergeo"
           }
          ],
          "scattergl": [
           {
            "marker": {
             "colorbar": {
              "outlinewidth": 0,
              "ticks": ""
             }
            },
            "type": "scattergl"
           }
          ],
          "scattermapbox": [
           {
            "marker": {
             "colorbar": {
              "outlinewidth": 0,
              "ticks": ""
             }
            },
            "type": "scattermapbox"
           }
          ],
          "scatterpolar": [
           {
            "marker": {
             "colorbar": {
              "outlinewidth": 0,
              "ticks": ""
             }
            },
            "type": "scatterpolar"
           }
          ],
          "scatterpolargl": [
           {
            "marker": {
             "colorbar": {
              "outlinewidth": 0,
              "ticks": ""
             }
            },
            "type": "scatterpolargl"
           }
          ],
          "scatterternary": [
           {
            "marker": {
             "colorbar": {
              "outlinewidth": 0,
              "ticks": ""
             }
            },
            "type": "scatterternary"
           }
          ],
          "surface": [
           {
            "colorbar": {
             "outlinewidth": 0,
             "ticks": ""
            },
            "colorscale": [
             [
              0,
              "#0d0887"
             ],
             [
              0.1111111111111111,
              "#46039f"
             ],
             [
              0.2222222222222222,
              "#7201a8"
             ],
             [
              0.3333333333333333,
              "#9c179e"
             ],
             [
              0.4444444444444444,
              "#bd3786"
             ],
             [
              0.5555555555555556,
              "#d8576b"
             ],
             [
              0.6666666666666666,
              "#ed7953"
             ],
             [
              0.7777777777777778,
              "#fb9f3a"
             ],
             [
              0.8888888888888888,
              "#fdca26"
             ],
             [
              1,
              "#f0f921"
             ]
            ],
            "type": "surface"
           }
          ],
          "table": [
           {
            "cells": {
             "fill": {
              "color": "#EBF0F8"
             },
             "line": {
              "color": "white"
             }
            },
            "header": {
             "fill": {
              "color": "#C8D4E3"
             },
             "line": {
              "color": "white"
             }
            },
            "type": "table"
           }
          ]
         },
         "layout": {
          "annotationdefaults": {
           "arrowcolor": "#2a3f5f",
           "arrowhead": 0,
           "arrowwidth": 1
          },
          "autotypenumbers": "strict",
          "coloraxis": {
           "colorbar": {
            "outlinewidth": 0,
            "ticks": ""
           }
          },
          "colorscale": {
           "diverging": [
            [
             0,
             "#8e0152"
            ],
            [
             0.1,
             "#c51b7d"
            ],
            [
             0.2,
             "#de77ae"
            ],
            [
             0.3,
             "#f1b6da"
            ],
            [
             0.4,
             "#fde0ef"
            ],
            [
             0.5,
             "#f7f7f7"
            ],
            [
             0.6,
             "#e6f5d0"
            ],
            [
             0.7,
             "#b8e186"
            ],
            [
             0.8,
             "#7fbc41"
            ],
            [
             0.9,
             "#4d9221"
            ],
            [
             1,
             "#276419"
            ]
           ],
           "sequential": [
            [
             0,
             "#0d0887"
            ],
            [
             0.1111111111111111,
             "#46039f"
            ],
            [
             0.2222222222222222,
             "#7201a8"
            ],
            [
             0.3333333333333333,
             "#9c179e"
            ],
            [
             0.4444444444444444,
             "#bd3786"
            ],
            [
             0.5555555555555556,
             "#d8576b"
            ],
            [
             0.6666666666666666,
             "#ed7953"
            ],
            [
             0.7777777777777778,
             "#fb9f3a"
            ],
            [
             0.8888888888888888,
             "#fdca26"
            ],
            [
             1,
             "#f0f921"
            ]
           ],
           "sequentialminus": [
            [
             0,
             "#0d0887"
            ],
            [
             0.1111111111111111,
             "#46039f"
            ],
            [
             0.2222222222222222,
             "#7201a8"
            ],
            [
             0.3333333333333333,
             "#9c179e"
            ],
            [
             0.4444444444444444,
             "#bd3786"
            ],
            [
             0.5555555555555556,
             "#d8576b"
            ],
            [
             0.6666666666666666,
             "#ed7953"
            ],
            [
             0.7777777777777778,
             "#fb9f3a"
            ],
            [
             0.8888888888888888,
             "#fdca26"
            ],
            [
             1,
             "#f0f921"
            ]
           ]
          },
          "colorway": [
           "#636efa",
           "#EF553B",
           "#00cc96",
           "#ab63fa",
           "#FFA15A",
           "#19d3f3",
           "#FF6692",
           "#B6E880",
           "#FF97FF",
           "#FECB52"
          ],
          "font": {
           "color": "#2a3f5f"
          },
          "geo": {
           "bgcolor": "white",
           "lakecolor": "white",
           "landcolor": "#E5ECF6",
           "showlakes": true,
           "showland": true,
           "subunitcolor": "white"
          },
          "hoverlabel": {
           "align": "left"
          },
          "hovermode": "closest",
          "mapbox": {
           "style": "light"
          },
          "paper_bgcolor": "white",
          "plot_bgcolor": "#E5ECF6",
          "polar": {
           "angularaxis": {
            "gridcolor": "white",
            "linecolor": "white",
            "ticks": ""
           },
           "bgcolor": "#E5ECF6",
           "radialaxis": {
            "gridcolor": "white",
            "linecolor": "white",
            "ticks": ""
           }
          },
          "scene": {
           "xaxis": {
            "backgroundcolor": "#E5ECF6",
            "gridcolor": "white",
            "gridwidth": 2,
            "linecolor": "white",
            "showbackground": true,
            "ticks": "",
            "zerolinecolor": "white"
           },
           "yaxis": {
            "backgroundcolor": "#E5ECF6",
            "gridcolor": "white",
            "gridwidth": 2,
            "linecolor": "white",
            "showbackground": true,
            "ticks": "",
            "zerolinecolor": "white"
           },
           "zaxis": {
            "backgroundcolor": "#E5ECF6",
            "gridcolor": "white",
            "gridwidth": 2,
            "linecolor": "white",
            "showbackground": true,
            "ticks": "",
            "zerolinecolor": "white"
           }
          },
          "shapedefaults": {
           "line": {
            "color": "#2a3f5f"
           }
          },
          "ternary": {
           "aaxis": {
            "gridcolor": "white",
            "linecolor": "white",
            "ticks": ""
           },
           "baxis": {
            "gridcolor": "white",
            "linecolor": "white",
            "ticks": ""
           },
           "bgcolor": "#E5ECF6",
           "caxis": {
            "gridcolor": "white",
            "linecolor": "white",
            "ticks": ""
           }
          },
          "title": {
           "x": 0.05
          },
          "xaxis": {
           "automargin": true,
           "gridcolor": "white",
           "linecolor": "white",
           "ticks": "",
           "title": {
            "standoff": 15
           },
           "zerolinecolor": "white",
           "zerolinewidth": 2
          },
          "yaxis": {
           "automargin": true,
           "gridcolor": "white",
           "linecolor": "white",
           "ticks": "",
           "title": {
            "standoff": 15
           },
           "zerolinecolor": "white",
           "zerolinewidth": 2
          }
         }
        },
        "width": 700,
        "xaxis": {
         "anchor": "y",
         "domain": [
          0,
          1
         ],
         "tickfont": {
          "size": 16
         },
         "title": {
          "font": {
           "size": 18
          },
          "text": "Häufigkeit"
         }
        },
        "yaxis": {
         "anchor": "x",
         "categoryorder": "total ascending",
         "domain": [
          0,
          1
         ],
         "tickfont": {
          "size": 16
         },
         "ticksuffix": "  ",
         "title": {
          "font": {
           "size": 18
          },
          "text": ""
         }
        }
       }
      }
     },
     "metadata": {},
     "output_type": "display_data"
    }
   ],
   "source": [
    "metriken = ['AnzahlZuLesen', 'AnzahlZuLesen_normalisiert']\n",
    "\n",
    "data_plot = data.groupby('Autor')[['Geschlecht']+metriken].sum()\n",
    "data_plot['AnzahlListen'] = (data.groupby('Autor')[leselisten].sum() > 0).sum(axis=1)\n",
    "data_plot['Geschlecht'] = [str(x)[0] for x in data_plot['Geschlecht']]\n",
    "for metrik in metriken:\n",
    "    data_plot[metrik+'_Rang'] = data_plot[metrik].rank(ascending=False)\n",
    "\n",
    "print(data_plot.drop([x+'_Rang' for x in metriken], axis=1).sort_values(by=metriken[0], ascending=False).head(20))\n",
    "data_plot.sort_values(by=metriken[0], ascending=False).to_excel(\"results/top_autorinnen.xlsx\")\n",
    "\n",
    "fig = px.bar(\n",
    "    data_plot.sort_values(by=metriken[0], ascending=False).head(20),\n",
    "    x = metriken[0],\n",
    "    labels = {'Autor':'', metriken[0]:'Häufigkeit'}\n",
    ")\n",
    "fig.update_yaxes(categoryorder='total ascending')\n",
    "fig.update_layout(\n",
    "    height=700, width = 700,\n",
    "    showlegend=False,\n",
    "    xaxis=dict(tickfont=dict(size=16), titlefont=dict(size=18)),\n",
    "    yaxis=dict(tickfont=dict(size=16), titlefont=dict(size=18), ticksuffix = \"  \"),\n",
    ")\n",
    "fig.write_image(\"plots/haeufigste_autorinnen.pdf\")\n",
    "fig.show()"
   ]
  },
  {
   "cell_type": "code",
   "execution_count": 39,
   "id": "046ce4c8-c3d6-42b8-a731-2cbfd597bb81",
   "metadata": {},
   "outputs": [
    {
     "data": {
      "text/plain": [
       "np.float64(1.5779202077110304)"
      ]
     },
     "execution_count": 39,
     "metadata": {},
     "output_type": "execute_result"
    }
   ],
   "source": [
    "data_plot.loc['Goethe, Johann Wolfgang'][metriken[0]] / data_plot.loc['Schiller, Friedrich'][metriken[0]]"
   ]
  },
  {
   "cell_type": "code",
   "execution_count": 40,
   "id": "cc568b91-581d-41ce-bcb5-7f387328ab8d",
   "metadata": {},
   "outputs": [
    {
     "data": {
      "application/vnd.plotly.v1+json": {
       "config": {
        "plotlyServerURL": "https://plot.ly"
       },
       "data": [
        {
         "alignmentgroup": "True",
         "boxpoints": "all",
         "hovertemplate": "<b>%{hovertext}</b><br><br>=%{y}<extra></extra>",
         "hovertext": [
          "Stuttgart o.J.",
          "Luxemburg o.J.",
          "Passau o.J.",
          "Göttingen o.J.",
          "Osnabrück o.J.",
          "Heidelberg 2017",
          "Innsbruck o.J.",
          "Eichstätt-Ingolstadt 2007",
          "Mannheim o.J.",
          "Köln o.J.",
          "Würzburg 2003/04",
          "LA Aachen 2018",
          "Braunschweig o.J.",
          "Wuppertal 2015",
          "Lüneburg o.J.",
          "Leipzig o.J.",
          "Augsburg 2020",
          "Koblenz o.J.",
          "Aachen 2017/18",
          "München o.J.",
          "FU Berlin o.J.",
          "Frankfurt a.M. o.J.",
          "Würzburg 2019",
          "Graz 2021",
          "Karlsruhe o.J.",
          "Trier o.J.",
          "Bochum o.J.",
          "Tübingen o.J.",
          "Saarland 2007",
          "Salzburg o.J.",
          "Zürich 2013",
          "Stuttgart 2022",
          "Lausanne o.J.",
          "Dortmund o.J.",
          "Innsbruck 2023",
          "Gießen o.J.",
          "Hildesheim o.J.",
          "Magdeburg 2020",
          "Jena 2018",
          "Wien o.J.",
          "Potsdam 2022",
          "Oldenburg 2020"
         ],
         "legendgroup": "",
         "marker": {
          "color": "#636efa"
         },
         "name": "",
         "notched": false,
         "offsetgroup": "",
         "orientation": "v",
         "showlegend": false,
         "type": "box",
         "x": [
          "Anteil_Goethe",
          "Anteil_Goethe",
          "Anteil_Goethe",
          "Anteil_Goethe",
          "Anteil_Goethe",
          "Anteil_Goethe",
          "Anteil_Goethe",
          "Anteil_Goethe",
          "Anteil_Goethe",
          "Anteil_Goethe",
          "Anteil_Goethe",
          "Anteil_Goethe",
          "Anteil_Goethe",
          "Anteil_Goethe",
          "Anteil_Goethe",
          "Anteil_Goethe",
          "Anteil_Goethe",
          "Anteil_Goethe",
          "Anteil_Goethe",
          "Anteil_Goethe",
          "Anteil_Goethe",
          "Anteil_Goethe",
          "Anteil_Goethe",
          "Anteil_Goethe",
          "Anteil_Goethe",
          "Anteil_Goethe",
          "Anteil_Goethe",
          "Anteil_Goethe",
          "Anteil_Goethe",
          "Anteil_Goethe",
          "Anteil_Goethe",
          "Anteil_Goethe",
          "Anteil_Goethe",
          "Anteil_Goethe",
          "Anteil_Goethe",
          "Anteil_Goethe",
          "Anteil_Goethe",
          "Anteil_Goethe",
          "Anteil_Goethe",
          "Anteil_Goethe",
          "Anteil_Goethe",
          "Anteil_Goethe"
         ],
         "x0": " ",
         "xaxis": "x",
         "y": [
          0.12,
          0.11475409836065574,
          0.09448818897637795,
          0.09375000000000001,
          0.08823529411764705,
          0.08651469376544903,
          0.08108108108108109,
          0.08,
          0.07547169811320754,
          0.07407407407407407,
          0.07125307125307125,
          0.06833090379226639,
          0.06517285751504676,
          0.0648854961832061,
          0.06329113924050635,
          0.057432432432432436,
          0.056074766355140186,
          0.055865921787709494,
          0.05554181861131594,
          0.054892034301064166,
          0.05439330543933055,
          0.053191287388460275,
          0.05286343612334802,
          0.046511627906976744,
          0.043478260869565216,
          0.04345706656855744,
          0.042105263157894736,
          0.04195804195804196,
          0.04092071611253197,
          0.03787878787878788,
          0.03734439834024896,
          0.034653465346534656,
          0.0344311377245509,
          0.031976744186046506,
          0.031019283746556475,
          0.028846153846153848,
          0.02824858757077907,
          0.02623906705539359,
          0.024734982332155472,
          0.02290159982467675,
          0.013157894736842105,
          0.010101010101010102
         ],
         "y0": " ",
         "yaxis": "y"
        }
       ],
       "layout": {
        "boxmode": "group",
        "legend": {
         "tracegroupgap": 0
        },
        "margin": {
         "t": 60
        },
        "template": {
         "data": {
          "bar": [
           {
            "error_x": {
             "color": "#2a3f5f"
            },
            "error_y": {
             "color": "#2a3f5f"
            },
            "marker": {
             "line": {
              "color": "#E5ECF6",
              "width": 0.5
             },
             "pattern": {
              "fillmode": "overlay",
              "size": 10,
              "solidity": 0.2
             }
            },
            "type": "bar"
           }
          ],
          "barpolar": [
           {
            "marker": {
             "line": {
              "color": "#E5ECF6",
              "width": 0.5
             },
             "pattern": {
              "fillmode": "overlay",
              "size": 10,
              "solidity": 0.2
             }
            },
            "type": "barpolar"
           }
          ],
          "carpet": [
           {
            "aaxis": {
             "endlinecolor": "#2a3f5f",
             "gridcolor": "white",
             "linecolor": "white",
             "minorgridcolor": "white",
             "startlinecolor": "#2a3f5f"
            },
            "baxis": {
             "endlinecolor": "#2a3f5f",
             "gridcolor": "white",
             "linecolor": "white",
             "minorgridcolor": "white",
             "startlinecolor": "#2a3f5f"
            },
            "type": "carpet"
           }
          ],
          "choropleth": [
           {
            "colorbar": {
             "outlinewidth": 0,
             "ticks": ""
            },
            "type": "choropleth"
           }
          ],
          "contour": [
           {
            "colorbar": {
             "outlinewidth": 0,
             "ticks": ""
            },
            "colorscale": [
             [
              0,
              "#0d0887"
             ],
             [
              0.1111111111111111,
              "#46039f"
             ],
             [
              0.2222222222222222,
              "#7201a8"
             ],
             [
              0.3333333333333333,
              "#9c179e"
             ],
             [
              0.4444444444444444,
              "#bd3786"
             ],
             [
              0.5555555555555556,
              "#d8576b"
             ],
             [
              0.6666666666666666,
              "#ed7953"
             ],
             [
              0.7777777777777778,
              "#fb9f3a"
             ],
             [
              0.8888888888888888,
              "#fdca26"
             ],
             [
              1,
              "#f0f921"
             ]
            ],
            "type": "contour"
           }
          ],
          "contourcarpet": [
           {
            "colorbar": {
             "outlinewidth": 0,
             "ticks": ""
            },
            "type": "contourcarpet"
           }
          ],
          "heatmap": [
           {
            "colorbar": {
             "outlinewidth": 0,
             "ticks": ""
            },
            "colorscale": [
             [
              0,
              "#0d0887"
             ],
             [
              0.1111111111111111,
              "#46039f"
             ],
             [
              0.2222222222222222,
              "#7201a8"
             ],
             [
              0.3333333333333333,
              "#9c179e"
             ],
             [
              0.4444444444444444,
              "#bd3786"
             ],
             [
              0.5555555555555556,
              "#d8576b"
             ],
             [
              0.6666666666666666,
              "#ed7953"
             ],
             [
              0.7777777777777778,
              "#fb9f3a"
             ],
             [
              0.8888888888888888,
              "#fdca26"
             ],
             [
              1,
              "#f0f921"
             ]
            ],
            "type": "heatmap"
           }
          ],
          "heatmapgl": [
           {
            "colorbar": {
             "outlinewidth": 0,
             "ticks": ""
            },
            "colorscale": [
             [
              0,
              "#0d0887"
             ],
             [
              0.1111111111111111,
              "#46039f"
             ],
             [
              0.2222222222222222,
              "#7201a8"
             ],
             [
              0.3333333333333333,
              "#9c179e"
             ],
             [
              0.4444444444444444,
              "#bd3786"
             ],
             [
              0.5555555555555556,
              "#d8576b"
             ],
             [
              0.6666666666666666,
              "#ed7953"
             ],
             [
              0.7777777777777778,
              "#fb9f3a"
             ],
             [
              0.8888888888888888,
              "#fdca26"
             ],
             [
              1,
              "#f0f921"
             ]
            ],
            "type": "heatmapgl"
           }
          ],
          "histogram": [
           {
            "marker": {
             "pattern": {
              "fillmode": "overlay",
              "size": 10,
              "solidity": 0.2
             }
            },
            "type": "histogram"
           }
          ],
          "histogram2d": [
           {
            "colorbar": {
             "outlinewidth": 0,
             "ticks": ""
            },
            "colorscale": [
             [
              0,
              "#0d0887"
             ],
             [
              0.1111111111111111,
              "#46039f"
             ],
             [
              0.2222222222222222,
              "#7201a8"
             ],
             [
              0.3333333333333333,
              "#9c179e"
             ],
             [
              0.4444444444444444,
              "#bd3786"
             ],
             [
              0.5555555555555556,
              "#d8576b"
             ],
             [
              0.6666666666666666,
              "#ed7953"
             ],
             [
              0.7777777777777778,
              "#fb9f3a"
             ],
             [
              0.8888888888888888,
              "#fdca26"
             ],
             [
              1,
              "#f0f921"
             ]
            ],
            "type": "histogram2d"
           }
          ],
          "histogram2dcontour": [
           {
            "colorbar": {
             "outlinewidth": 0,
             "ticks": ""
            },
            "colorscale": [
             [
              0,
              "#0d0887"
             ],
             [
              0.1111111111111111,
              "#46039f"
             ],
             [
              0.2222222222222222,
              "#7201a8"
             ],
             [
              0.3333333333333333,
              "#9c179e"
             ],
             [
              0.4444444444444444,
              "#bd3786"
             ],
             [
              0.5555555555555556,
              "#d8576b"
             ],
             [
              0.6666666666666666,
              "#ed7953"
             ],
             [
              0.7777777777777778,
              "#fb9f3a"
             ],
             [
              0.8888888888888888,
              "#fdca26"
             ],
             [
              1,
              "#f0f921"
             ]
            ],
            "type": "histogram2dcontour"
           }
          ],
          "mesh3d": [
           {
            "colorbar": {
             "outlinewidth": 0,
             "ticks": ""
            },
            "type": "mesh3d"
           }
          ],
          "parcoords": [
           {
            "line": {
             "colorbar": {
              "outlinewidth": 0,
              "ticks": ""
             }
            },
            "type": "parcoords"
           }
          ],
          "pie": [
           {
            "automargin": true,
            "type": "pie"
           }
          ],
          "scatter": [
           {
            "fillpattern": {
             "fillmode": "overlay",
             "size": 10,
             "solidity": 0.2
            },
            "type": "scatter"
           }
          ],
          "scatter3d": [
           {
            "line": {
             "colorbar": {
              "outlinewidth": 0,
              "ticks": ""
             }
            },
            "marker": {
             "colorbar": {
              "outlinewidth": 0,
              "ticks": ""
             }
            },
            "type": "scatter3d"
           }
          ],
          "scattercarpet": [
           {
            "marker": {
             "colorbar": {
              "outlinewidth": 0,
              "ticks": ""
             }
            },
            "type": "scattercarpet"
           }
          ],
          "scattergeo": [
           {
            "marker": {
             "colorbar": {
              "outlinewidth": 0,
              "ticks": ""
             }
            },
            "type": "scattergeo"
           }
          ],
          "scattergl": [
           {
            "marker": {
             "colorbar": {
              "outlinewidth": 0,
              "ticks": ""
             }
            },
            "type": "scattergl"
           }
          ],
          "scattermapbox": [
           {
            "marker": {
             "colorbar": {
              "outlinewidth": 0,
              "ticks": ""
             }
            },
            "type": "scattermapbox"
           }
          ],
          "scatterpolar": [
           {
            "marker": {
             "colorbar": {
              "outlinewidth": 0,
              "ticks": ""
             }
            },
            "type": "scatterpolar"
           }
          ],
          "scatterpolargl": [
           {
            "marker": {
             "colorbar": {
              "outlinewidth": 0,
              "ticks": ""
             }
            },
            "type": "scatterpolargl"
           }
          ],
          "scatterternary": [
           {
            "marker": {
             "colorbar": {
              "outlinewidth": 0,
              "ticks": ""
             }
            },
            "type": "scatterternary"
           }
          ],
          "surface": [
           {
            "colorbar": {
             "outlinewidth": 0,
             "ticks": ""
            },
            "colorscale": [
             [
              0,
              "#0d0887"
             ],
             [
              0.1111111111111111,
              "#46039f"
             ],
             [
              0.2222222222222222,
              "#7201a8"
             ],
             [
              0.3333333333333333,
              "#9c179e"
             ],
             [
              0.4444444444444444,
              "#bd3786"
             ],
             [
              0.5555555555555556,
              "#d8576b"
             ],
             [
              0.6666666666666666,
              "#ed7953"
             ],
             [
              0.7777777777777778,
              "#fb9f3a"
             ],
             [
              0.8888888888888888,
              "#fdca26"
             ],
             [
              1,
              "#f0f921"
             ]
            ],
            "type": "surface"
           }
          ],
          "table": [
           {
            "cells": {
             "fill": {
              "color": "#EBF0F8"
             },
             "line": {
              "color": "white"
             }
            },
            "header": {
             "fill": {
              "color": "#C8D4E3"
             },
             "line": {
              "color": "white"
             }
            },
            "type": "table"
           }
          ]
         },
         "layout": {
          "annotationdefaults": {
           "arrowcolor": "#2a3f5f",
           "arrowhead": 0,
           "arrowwidth": 1
          },
          "autotypenumbers": "strict",
          "coloraxis": {
           "colorbar": {
            "outlinewidth": 0,
            "ticks": ""
           }
          },
          "colorscale": {
           "diverging": [
            [
             0,
             "#8e0152"
            ],
            [
             0.1,
             "#c51b7d"
            ],
            [
             0.2,
             "#de77ae"
            ],
            [
             0.3,
             "#f1b6da"
            ],
            [
             0.4,
             "#fde0ef"
            ],
            [
             0.5,
             "#f7f7f7"
            ],
            [
             0.6,
             "#e6f5d0"
            ],
            [
             0.7,
             "#b8e186"
            ],
            [
             0.8,
             "#7fbc41"
            ],
            [
             0.9,
             "#4d9221"
            ],
            [
             1,
             "#276419"
            ]
           ],
           "sequential": [
            [
             0,
             "#0d0887"
            ],
            [
             0.1111111111111111,
             "#46039f"
            ],
            [
             0.2222222222222222,
             "#7201a8"
            ],
            [
             0.3333333333333333,
             "#9c179e"
            ],
            [
             0.4444444444444444,
             "#bd3786"
            ],
            [
             0.5555555555555556,
             "#d8576b"
            ],
            [
             0.6666666666666666,
             "#ed7953"
            ],
            [
             0.7777777777777778,
             "#fb9f3a"
            ],
            [
             0.8888888888888888,
             "#fdca26"
            ],
            [
             1,
             "#f0f921"
            ]
           ],
           "sequentialminus": [
            [
             0,
             "#0d0887"
            ],
            [
             0.1111111111111111,
             "#46039f"
            ],
            [
             0.2222222222222222,
             "#7201a8"
            ],
            [
             0.3333333333333333,
             "#9c179e"
            ],
            [
             0.4444444444444444,
             "#bd3786"
            ],
            [
             0.5555555555555556,
             "#d8576b"
            ],
            [
             0.6666666666666666,
             "#ed7953"
            ],
            [
             0.7777777777777778,
             "#fb9f3a"
            ],
            [
             0.8888888888888888,
             "#fdca26"
            ],
            [
             1,
             "#f0f921"
            ]
           ]
          },
          "colorway": [
           "#636efa",
           "#EF553B",
           "#00cc96",
           "#ab63fa",
           "#FFA15A",
           "#19d3f3",
           "#FF6692",
           "#B6E880",
           "#FF97FF",
           "#FECB52"
          ],
          "font": {
           "color": "#2a3f5f"
          },
          "geo": {
           "bgcolor": "white",
           "lakecolor": "white",
           "landcolor": "#E5ECF6",
           "showlakes": true,
           "showland": true,
           "subunitcolor": "white"
          },
          "hoverlabel": {
           "align": "left"
          },
          "hovermode": "closest",
          "mapbox": {
           "style": "light"
          },
          "paper_bgcolor": "white",
          "plot_bgcolor": "#E5ECF6",
          "polar": {
           "angularaxis": {
            "gridcolor": "white",
            "linecolor": "white",
            "ticks": ""
           },
           "bgcolor": "#E5ECF6",
           "radialaxis": {
            "gridcolor": "white",
            "linecolor": "white",
            "ticks": ""
           }
          },
          "scene": {
           "xaxis": {
            "backgroundcolor": "#E5ECF6",
            "gridcolor": "white",
            "gridwidth": 2,
            "linecolor": "white",
            "showbackground": true,
            "ticks": "",
            "zerolinecolor": "white"
           },
           "yaxis": {
            "backgroundcolor": "#E5ECF6",
            "gridcolor": "white",
            "gridwidth": 2,
            "linecolor": "white",
            "showbackground": true,
            "ticks": "",
            "zerolinecolor": "white"
           },
           "zaxis": {
            "backgroundcolor": "#E5ECF6",
            "gridcolor": "white",
            "gridwidth": 2,
            "linecolor": "white",
            "showbackground": true,
            "ticks": "",
            "zerolinecolor": "white"
           }
          },
          "shapedefaults": {
           "line": {
            "color": "#2a3f5f"
           }
          },
          "ternary": {
           "aaxis": {
            "gridcolor": "white",
            "linecolor": "white",
            "ticks": ""
           },
           "baxis": {
            "gridcolor": "white",
            "linecolor": "white",
            "ticks": ""
           },
           "bgcolor": "#E5ECF6",
           "caxis": {
            "gridcolor": "white",
            "linecolor": "white",
            "ticks": ""
           }
          },
          "title": {
           "x": 0.05
          },
          "xaxis": {
           "automargin": true,
           "gridcolor": "white",
           "linecolor": "white",
           "ticks": "",
           "title": {
            "standoff": 15
           },
           "zerolinecolor": "white",
           "zerolinewidth": 2
          },
          "yaxis": {
           "automargin": true,
           "gridcolor": "white",
           "linecolor": "white",
           "ticks": "",
           "title": {
            "standoff": 15
           },
           "zerolinecolor": "white",
           "zerolinewidth": 2
          }
         }
        },
        "xaxis": {
         "anchor": "y",
         "domain": [
          0,
          1
         ],
         "title": {
          "text": ""
         }
        },
        "yaxis": {
         "anchor": "x",
         "domain": [
          0,
          1
         ],
         "title": {
          "text": ""
         }
        }
       }
      }
     },
     "metadata": {},
     "output_type": "display_data"
    }
   ],
   "source": [
    "metrik = 'AnzahlZuLesen'\n",
    "\n",
    "data_plot = pd.DataFrame()\n",
    "for leseliste in leselisten:\n",
    "    data_leseliste = data[data[leseliste] > 0].copy()\n",
    "    data_leseliste['ListeAnzahlGenannt'] = 1\n",
    "    data_leseliste['ListeAnzahlGenannt_normalisiert'] = 1/data_leseliste.shape[0]\n",
    "    data_leseliste['ListeAnzahlZuLesen'] = data_leseliste[leseliste]\n",
    "    data_leseliste['ListeAnzahlZuLesen_normalisiert'] = data_leseliste[leseliste]/data_leseliste[leseliste].sum()\n",
    "    \n",
    "    summe_alle = data_leseliste['Liste'+metrik].sum()\n",
    "    summe_goethe = data_leseliste.query(\"Autor == 'Goethe, Johann Wolfgang'\")['Liste'+metrik].sum()\n",
    "    data_plot.at[leseliste, 'Anteil_Goethe'] = summe_goethe/summe_alle\n",
    "\n",
    "data_plot = data_plot.sort_values(by = 'Anteil_Goethe', ascending=False)\n",
    "px.box(\n",
    "    data_plot,\n",
    "    points = 'all',\n",
    "    hover_name = data_plot.index,\n",
    "    labels = {'value':'', 'variable':''}\n",
    ")"
   ]
  },
  {
   "cell_type": "code",
   "execution_count": 41,
   "id": "787e9197-3d01-48d1-bab7-37cfd6a01fb5",
   "metadata": {},
   "outputs": [
    {
     "data": {
      "application/vnd.plotly.v1+json": {
       "config": {
        "plotlyServerURL": "https://plot.ly"
       },
       "data": [
        {
         "alignmentgroup": "True",
         "hovertemplate": "=%{x}<br>Häufigkeit=%{y}<extra></extra>",
         "legendgroup": "",
         "marker": {
          "color": "#636efa",
          "pattern": {
           "shape": ""
          }
         },
         "name": "",
         "offsetgroup": "",
         "orientation": "v",
         "showlegend": false,
         "textposition": "auto",
         "type": "bar",
         "x": [
          "Goethe, Johann Wolfgang",
          "Schiller, Friedrich",
          "Kleist, Heinrich von",
          "Brecht, Bertolt",
          "Lessing, Gotthold Ephraim",
          "Kafka, Franz",
          "Hofmannsthal, Hugo von",
          "Mann, Thomas",
          "Büchner, Georg",
          "Eichendorff, Joseph von",
          "Heine, Heinrich",
          "Schnitzler, Arthur",
          "Gryphius, Andreas",
          "Hoffmann, E.T.A.",
          "Hauptmann, Gerhart",
          "Fontane, Theodor",
          "Tieck, Ludwig",
          "Bachmann, Ingeborg",
          "Keller, Gottfried",
          "Benn, Gottfried",
          "Rilke, Rainer Maria",
          "Handke, Peter",
          "Hölderlin, Friedrich",
          "Stifter, Adalbert",
          "Bernhard, Thomas",
          "Musil, Robert",
          "Novalis",
          "Droste-Hülshoff, Annette von",
          "Celan, Paul",
          "Grillparzer, Franz",
          "Frisch, Max",
          "Storm, Theodor",
          "Mörike, Eduard",
          "Dürrenmatt, Friedrich",
          "Wolf, Christa",
          "Grass, Günter",
          "Döblin, Alfred",
          "Jelinek, Elfriede",
          "Jean Paul",
          "Meyer, Conrad Ferdinand",
          "George, Stefan",
          "Böll, Heinrich",
          "Grimmelshausen, Johann Jakob Christoph von",
          "Lenz, Jakob Michael Reinhold",
          "Weiss, Peter",
          "Klopstock, Friedrich Gottlob",
          "Schlegel, Friedrich",
          "Seghers, Anna",
          "Jandl, Ernst",
          "Müller, Heiner",
          "Wieland, Christoph Martin",
          "Wedekind, Frank",
          "Lasker-Schüler, Else",
          "Brentano, Clemens",
          "Strauß, Botho",
          "Gellert, Christian Fürchtegott",
          "Holz, Arno",
          "Moritz, Karl Philipp",
          "Johnson, Uwe",
          "Lohenstein, Daniel Caspar von",
          "Raabe, Wilhelm",
          "Trakl, Georg",
          "Mann, Heinrich",
          "Eich, Günter",
          "Horvath, Ödon von",
          "Enzensberger, Hans Magnus",
          "Koeppen, Wolfgang",
          "Herder, Johann Gottfried",
          "Hebbel, Friedrich",
          "Kästner, Erich",
          "Opitz, Martin",
          "Walser, Martin",
          "Roth, Joseph",
          "Walser, Robert",
          "Fleißer, Marieluise",
          "Nietzsche, Friedrich",
          "Kracht, Christian",
          "Gottsched, Johann Christoph",
          "Gotthelf, Jeremias",
          "La Roche, Sophie von",
          "Canetti, Elias",
          "Hesse, Hermann",
          "Schmidt, Arno",
          "Nestroy, Johann",
          "Aichinger, Ilse",
          "Günderrode, Karoline von",
          "Grünbein, Durs",
          "Sebald, W. G.",
          "Müller, Herta",
          "Brockes, Barthold Heinrich",
          "Ransmayr, Christoph",
          "Keun, Irmgard",
          "Borchert, Wolfgang",
          "Kraus, Karl",
          "Grimm, Jacob und Wilhelm",
          "Jünger, Ernst",
          "Fleming, Paul",
          "Hein, Christoph",
          "Hildesheimer, Wolfgang",
          "Brinkmann, Rolf Dieter",
          "Hebel, Johann Peter",
          "Gottsched, Luise Adelgunde Victorie",
          "Benjamin, Walter",
          "Arnim, Bettine von",
          "Toller, Ernst",
          "Mayröcker, Friederike",
          "Tucholsky, Kurt",
          "Lichtenberg, Georg Christoph",
          "Chamisso, Adelbert von",
          "Zweig, Stefan",
          "Timm, Uwe",
          "Heym, Georg",
          "Grabbe, Christian Dietrich",
          "Arnim, Achim von",
          "Klingemann, Ernst August Friedrich",
          "Broch, Hermann",
          "Arnim, Achim von/ Brentano, Clemens (Hg.)",
          "Kaiser, Georg",
          "Hoffmannswaldau, Christian Hoffmann von",
          "Becker, Jurek",
          "Bobrowski, Johannes",
          "Lenz, Siegfried",
          "Ebner-Eschenbach, Marie v.",
          "Sachs, Nelly",
          "Kirsch, Sarah",
          "Haller, Albrecht von",
          "Klüger, Ruth",
          "Süskind, Patrick",
          "Braun, Volker",
          "Doderer, Heimito von",
          "Goetz, Rainald",
          "Huchel, Peter",
          "Beyer, Marcel",
          "Kaléko, Mascha",
          "Schlaf, Johannes",
          "Schwitters, Kurt",
          "Kant, Immanuel",
          "Gernhardt, Robert",
          "Özdamar, Emine Sevgi",
          "Sternheim, Carl",
          "Kipphardt, Heinar",
          "Kaschnitz, Marie Luise",
          "Rühmkorf, Peter",
          "Winckelmann, Johann Joachim",
          "Bidermann, Jakob",
          "Kluge, Alexander",
          "Bürger, Gottfried August",
          "Günther, Johann Christian",
          "Zuckmayer, Carl",
          "Greiffenberg, Katharina von",
          "Karsch, Anna Louisa",
          "Wackenroder, Wilhelm Heinrich",
          "Ende, Michael",
          "Morgner, Irmtraud",
          "Schnabel, Johann Gottfried",
          "Freud, Sigmund",
          "Schulze, Ingo",
          "Haushofer, Marlen",
          "Plenzdorf, Ulrich",
          "Busch, Wilhelm",
          "Hölty, Ludwig Christoph Heinrich",
          "Hochhuth, Rolf",
          "Motte-Fouque, Friedrich de la",
          "Zeh, Juli",
          "Fichte, Hubert",
          "Kempowski, Walter",
          "Wagner, Jan",
          "Reuter, Christian",
          "Ausländer, Rose",
          "Andersch, Alfred",
          "Hilbig, Wolfgang",
          "Stamm, Peter",
          "Huch, Ricarda",
          "Hauff, Wilhelm",
          "Spee von Langenfeld, Friedrich",
          "Adorno, Theodor W.",
          "Becker, Jürgen",
          "Pinthus, Kurt (Hg.)",
          "Weise, Christian",
          "Reventlow, Franziska von",
          "Hagedorn, Friedrich von",
          "Preußler, Ottfried",
          "Geßner, Salomon",
          "Raimund, Ferdinand",
          "Kling, Thomas",
          "Bahr, Hermann",
          "Ludwig, Otto",
          "Burger, Hermann",
          "Reimann, Brigitte",
          "Kroetz, Franz Xaver",
          "Gerstenberg, Heinrich Wilhelm von",
          "Morgenstern, Christian",
          "Widmer, Urs",
          "Schwab, Werner",
          "Schwarz, Sibylla",
          "Nossack, Hans Erich",
          "Artmann, Hans Carl",
          "Bichsel, Peter",
          "Hoppe, Felicitas",
          "Langgässer, Elisabeth"
         ],
         "xaxis": "x",
         "y": [
          262.60438194512,
          166.42437346439738,
          125.85740007259874,
          114.51866839120326,
          111.92466508255934,
          95.22313208803655,
          89.1511075429311,
          82.89705165040522,
          76.94158291532767,
          73.98742062348143,
          73.65688304323312,
          71.77530883803487,
          68.42955131460864,
          62.941028874607674,
          60.16548429859755,
          59.04443600771096,
          57.83293993804252,
          56.809962234259956,
          53.91572689723534,
          52.80108002080391,
          51.657252845465976,
          51.52910130046774,
          51.018734435681566,
          48.836128380331175,
          48.07004098494896,
          46.36062083674691,
          45.99778315412211,
          42.66967555137968,
          42.24370421339428,
          40.70033839518212,
          40.02536814612073,
          39.73542515997035,
          39.47502902865649,
          39.31016221942753,
          39.13074515990234,
          38.97137128087203,
          38.92988738729993,
          38.071675957143825,
          35.82617391984459,
          35.033471425799526,
          34.07533460093043,
          33.8808979502777,
          32.2012185331921,
          31.860689322690806,
          31.083039929867418,
          30.930923790897356,
          30.28763916856441,
          29.9476173849463,
          29.749132090768448,
          28.953305750501293,
          28.467290760348092,
          28.345112739330006,
          28.056634359198068,
          27.85564960908495,
          27.731477946863556,
          27.117184087185574,
          27.020695708686034,
          26.935154560128122,
          26.608816850329738,
          26.308595073650917,
          26.235250123017682,
          25.72691561183333,
          24.968772871511256,
          24.937882714657206,
          24.490692517773912,
          23.421796620322127,
          22.8838476130048,
          22.863996097887384,
          22.676362739372863,
          22.606798795144357,
          22.296244145107508,
          21.803792110471342,
          21.27248743794397,
          20.752499181622092,
          20.20581001716315,
          20.05977920293642,
          19.596347611708076,
          19.031095768097256,
          19.007762915332236,
          18.922045400073323,
          18.79695887514948,
          18.72619639465609,
          17.914527070192374,
          17.10433892984905,
          17.007765333208077,
          16.771026722944445,
          16.19658931388012,
          16.173188602258744,
          15.315649947928135,
          15.134619131564776,
          15.06492741899756,
          14.729883865801586,
          14.72908716121316,
          14.594321147853,
          13.85719985606322,
          13.714797731906684,
          13.134274586192308,
          13.108548937827123,
          13.097777599988493,
          12.846381035935114,
          12.559405456351099,
          12.399489844517767,
          11.846842467172728,
          11.69257248065793,
          11.52452690594058,
          11.511697221028736,
          11.377160492888757,
          11.36111111111111,
          11.026548859762654,
          10.968288225934213,
          10.633464964452829,
          10.172928290710145,
          10.009584801894578,
          9.700927251482875,
          9.37051656746221,
          9.361188270666535,
          9.33061757756322,
          9.322561846154244,
          9.273848818876742,
          9.224049521693823,
          9.01710805733062,
          8.993488943050966,
          8.782903058721038,
          8.632697221028735,
          8.622642650126584,
          8.410600955628876,
          8.296320346320346,
          8.103829294899437,
          7.997222999859355,
          7.99100196930681,
          7.875929141289606,
          7.850207053141328,
          7.6528050431655075,
          7.619831223666667,
          7.5915243029202895,
          7.589594957376812,
          7.5628571429,
          7.536329114,
          7.481623655913978,
          7.322561846154244,
          7.224557586215963,
          7.160328142468426,
          7.115006298282568,
          6.846442493388136,
          6.817438562466485,
          6.780204005646748,
          6.730942334777778,
          6.656841353786998,
          6.538314970113377,
          6.443589743589744,
          6.311111111111112,
          6.266156511184433,
          6.205504411257576,
          5.962554430542294,
          5.903526881554804,
          5.897120315130434,
          5.777025543095685,
          5.685388446678769,
          5.658194374264515,
          5.6354737452556,
          5.63076923076923,
          5.528530863271519,
          5.52642862930208,
          5.523407675325396,
          5.4454013378,
          5.439043553195974,
          5.41952380952381,
          5.343424133479978,
          5.311697221028736,
          5.303160731196127,
          5.293248945166667,
          5.290164557,
          5.2,
          5.158895300868867,
          5.0326463557022,
          5.004245891329032,
          5,
          4.877262678876812,
          4.87590276595861,
          4.8428571428571425,
          4.780259075286997,
          4.750958956712122,
          4.724489844517766,
          4.656632701660624,
          4.643363887695402,
          4.5789285714000005,
          4.547935755776811,
          4.513221669795829,
          4.509389873542294,
          4.50131942962427,
          4.432823177851099,
          4.4309282907101455,
          4.3867658028216585,
          4.364677516595238,
          4.326923076923077,
          4.263224191529033,
          4.256060371626585,
          4.253164557,
          4.2376933896111115,
          4.2316120957645165
         ],
         "yaxis": "y"
        }
       ],
       "layout": {
        "barmode": "relative",
        "height": 600,
        "legend": {
         "tracegroupgap": 0
        },
        "margin": {
         "t": 60
        },
        "showlegend": false,
        "template": {
         "data": {
          "bar": [
           {
            "error_x": {
             "color": "#2a3f5f"
            },
            "error_y": {
             "color": "#2a3f5f"
            },
            "marker": {
             "line": {
              "color": "#E5ECF6",
              "width": 0.5
             },
             "pattern": {
              "fillmode": "overlay",
              "size": 10,
              "solidity": 0.2
             }
            },
            "type": "bar"
           }
          ],
          "barpolar": [
           {
            "marker": {
             "line": {
              "color": "#E5ECF6",
              "width": 0.5
             },
             "pattern": {
              "fillmode": "overlay",
              "size": 10,
              "solidity": 0.2
             }
            },
            "type": "barpolar"
           }
          ],
          "carpet": [
           {
            "aaxis": {
             "endlinecolor": "#2a3f5f",
             "gridcolor": "white",
             "linecolor": "white",
             "minorgridcolor": "white",
             "startlinecolor": "#2a3f5f"
            },
            "baxis": {
             "endlinecolor": "#2a3f5f",
             "gridcolor": "white",
             "linecolor": "white",
             "minorgridcolor": "white",
             "startlinecolor": "#2a3f5f"
            },
            "type": "carpet"
           }
          ],
          "choropleth": [
           {
            "colorbar": {
             "outlinewidth": 0,
             "ticks": ""
            },
            "type": "choropleth"
           }
          ],
          "contour": [
           {
            "colorbar": {
             "outlinewidth": 0,
             "ticks": ""
            },
            "colorscale": [
             [
              0,
              "#0d0887"
             ],
             [
              0.1111111111111111,
              "#46039f"
             ],
             [
              0.2222222222222222,
              "#7201a8"
             ],
             [
              0.3333333333333333,
              "#9c179e"
             ],
             [
              0.4444444444444444,
              "#bd3786"
             ],
             [
              0.5555555555555556,
              "#d8576b"
             ],
             [
              0.6666666666666666,
              "#ed7953"
             ],
             [
              0.7777777777777778,
              "#fb9f3a"
             ],
             [
              0.8888888888888888,
              "#fdca26"
             ],
             [
              1,
              "#f0f921"
             ]
            ],
            "type": "contour"
           }
          ],
          "contourcarpet": [
           {
            "colorbar": {
             "outlinewidth": 0,
             "ticks": ""
            },
            "type": "contourcarpet"
           }
          ],
          "heatmap": [
           {
            "colorbar": {
             "outlinewidth": 0,
             "ticks": ""
            },
            "colorscale": [
             [
              0,
              "#0d0887"
             ],
             [
              0.1111111111111111,
              "#46039f"
             ],
             [
              0.2222222222222222,
              "#7201a8"
             ],
             [
              0.3333333333333333,
              "#9c179e"
             ],
             [
              0.4444444444444444,
              "#bd3786"
             ],
             [
              0.5555555555555556,
              "#d8576b"
             ],
             [
              0.6666666666666666,
              "#ed7953"
             ],
             [
              0.7777777777777778,
              "#fb9f3a"
             ],
             [
              0.8888888888888888,
              "#fdca26"
             ],
             [
              1,
              "#f0f921"
             ]
            ],
            "type": "heatmap"
           }
          ],
          "heatmapgl": [
           {
            "colorbar": {
             "outlinewidth": 0,
             "ticks": ""
            },
            "colorscale": [
             [
              0,
              "#0d0887"
             ],
             [
              0.1111111111111111,
              "#46039f"
             ],
             [
              0.2222222222222222,
              "#7201a8"
             ],
             [
              0.3333333333333333,
              "#9c179e"
             ],
             [
              0.4444444444444444,
              "#bd3786"
             ],
             [
              0.5555555555555556,
              "#d8576b"
             ],
             [
              0.6666666666666666,
              "#ed7953"
             ],
             [
              0.7777777777777778,
              "#fb9f3a"
             ],
             [
              0.8888888888888888,
              "#fdca26"
             ],
             [
              1,
              "#f0f921"
             ]
            ],
            "type": "heatmapgl"
           }
          ],
          "histogram": [
           {
            "marker": {
             "pattern": {
              "fillmode": "overlay",
              "size": 10,
              "solidity": 0.2
             }
            },
            "type": "histogram"
           }
          ],
          "histogram2d": [
           {
            "colorbar": {
             "outlinewidth": 0,
             "ticks": ""
            },
            "colorscale": [
             [
              0,
              "#0d0887"
             ],
             [
              0.1111111111111111,
              "#46039f"
             ],
             [
              0.2222222222222222,
              "#7201a8"
             ],
             [
              0.3333333333333333,
              "#9c179e"
             ],
             [
              0.4444444444444444,
              "#bd3786"
             ],
             [
              0.5555555555555556,
              "#d8576b"
             ],
             [
              0.6666666666666666,
              "#ed7953"
             ],
             [
              0.7777777777777778,
              "#fb9f3a"
             ],
             [
              0.8888888888888888,
              "#fdca26"
             ],
             [
              1,
              "#f0f921"
             ]
            ],
            "type": "histogram2d"
           }
          ],
          "histogram2dcontour": [
           {
            "colorbar": {
             "outlinewidth": 0,
             "ticks": ""
            },
            "colorscale": [
             [
              0,
              "#0d0887"
             ],
             [
              0.1111111111111111,
              "#46039f"
             ],
             [
              0.2222222222222222,
              "#7201a8"
             ],
             [
              0.3333333333333333,
              "#9c179e"
             ],
             [
              0.4444444444444444,
              "#bd3786"
             ],
             [
              0.5555555555555556,
              "#d8576b"
             ],
             [
              0.6666666666666666,
              "#ed7953"
             ],
             [
              0.7777777777777778,
              "#fb9f3a"
             ],
             [
              0.8888888888888888,
              "#fdca26"
             ],
             [
              1,
              "#f0f921"
             ]
            ],
            "type": "histogram2dcontour"
           }
          ],
          "mesh3d": [
           {
            "colorbar": {
             "outlinewidth": 0,
             "ticks": ""
            },
            "type": "mesh3d"
           }
          ],
          "parcoords": [
           {
            "line": {
             "colorbar": {
              "outlinewidth": 0,
              "ticks": ""
             }
            },
            "type": "parcoords"
           }
          ],
          "pie": [
           {
            "automargin": true,
            "type": "pie"
           }
          ],
          "scatter": [
           {
            "fillpattern": {
             "fillmode": "overlay",
             "size": 10,
             "solidity": 0.2
            },
            "type": "scatter"
           }
          ],
          "scatter3d": [
           {
            "line": {
             "colorbar": {
              "outlinewidth": 0,
              "ticks": ""
             }
            },
            "marker": {
             "colorbar": {
              "outlinewidth": 0,
              "ticks": ""
             }
            },
            "type": "scatter3d"
           }
          ],
          "scattercarpet": [
           {
            "marker": {
             "colorbar": {
              "outlinewidth": 0,
              "ticks": ""
             }
            },
            "type": "scattercarpet"
           }
          ],
          "scattergeo": [
           {
            "marker": {
             "colorbar": {
              "outlinewidth": 0,
              "ticks": ""
             }
            },
            "type": "scattergeo"
           }
          ],
          "scattergl": [
           {
            "marker": {
             "colorbar": {
              "outlinewidth": 0,
              "ticks": ""
             }
            },
            "type": "scattergl"
           }
          ],
          "scattermapbox": [
           {
            "marker": {
             "colorbar": {
              "outlinewidth": 0,
              "ticks": ""
             }
            },
            "type": "scattermapbox"
           }
          ],
          "scatterpolar": [
           {
            "marker": {
             "colorbar": {
              "outlinewidth": 0,
              "ticks": ""
             }
            },
            "type": "scatterpolar"
           }
          ],
          "scatterpolargl": [
           {
            "marker": {
             "colorbar": {
              "outlinewidth": 0,
              "ticks": ""
             }
            },
            "type": "scatterpolargl"
           }
          ],
          "scatterternary": [
           {
            "marker": {
             "colorbar": {
              "outlinewidth": 0,
              "ticks": ""
             }
            },
            "type": "scatterternary"
           }
          ],
          "surface": [
           {
            "colorbar": {
             "outlinewidth": 0,
             "ticks": ""
            },
            "colorscale": [
             [
              0,
              "#0d0887"
             ],
             [
              0.1111111111111111,
              "#46039f"
             ],
             [
              0.2222222222222222,
              "#7201a8"
             ],
             [
              0.3333333333333333,
              "#9c179e"
             ],
             [
              0.4444444444444444,
              "#bd3786"
             ],
             [
              0.5555555555555556,
              "#d8576b"
             ],
             [
              0.6666666666666666,
              "#ed7953"
             ],
             [
              0.7777777777777778,
              "#fb9f3a"
             ],
             [
              0.8888888888888888,
              "#fdca26"
             ],
             [
              1,
              "#f0f921"
             ]
            ],
            "type": "surface"
           }
          ],
          "table": [
           {
            "cells": {
             "fill": {
              "color": "#EBF0F8"
             },
             "line": {
              "color": "white"
             }
            },
            "header": {
             "fill": {
              "color": "#C8D4E3"
             },
             "line": {
              "color": "white"
             }
            },
            "type": "table"
           }
          ]
         },
         "layout": {
          "annotationdefaults": {
           "arrowcolor": "#2a3f5f",
           "arrowhead": 0,
           "arrowwidth": 1
          },
          "autotypenumbers": "strict",
          "coloraxis": {
           "colorbar": {
            "outlinewidth": 0,
            "ticks": ""
           }
          },
          "colorscale": {
           "diverging": [
            [
             0,
             "#8e0152"
            ],
            [
             0.1,
             "#c51b7d"
            ],
            [
             0.2,
             "#de77ae"
            ],
            [
             0.3,
             "#f1b6da"
            ],
            [
             0.4,
             "#fde0ef"
            ],
            [
             0.5,
             "#f7f7f7"
            ],
            [
             0.6,
             "#e6f5d0"
            ],
            [
             0.7,
             "#b8e186"
            ],
            [
             0.8,
             "#7fbc41"
            ],
            [
             0.9,
             "#4d9221"
            ],
            [
             1,
             "#276419"
            ]
           ],
           "sequential": [
            [
             0,
             "#0d0887"
            ],
            [
             0.1111111111111111,
             "#46039f"
            ],
            [
             0.2222222222222222,
             "#7201a8"
            ],
            [
             0.3333333333333333,
             "#9c179e"
            ],
            [
             0.4444444444444444,
             "#bd3786"
            ],
            [
             0.5555555555555556,
             "#d8576b"
            ],
            [
             0.6666666666666666,
             "#ed7953"
            ],
            [
             0.7777777777777778,
             "#fb9f3a"
            ],
            [
             0.8888888888888888,
             "#fdca26"
            ],
            [
             1,
             "#f0f921"
            ]
           ],
           "sequentialminus": [
            [
             0,
             "#0d0887"
            ],
            [
             0.1111111111111111,
             "#46039f"
            ],
            [
             0.2222222222222222,
             "#7201a8"
            ],
            [
             0.3333333333333333,
             "#9c179e"
            ],
            [
             0.4444444444444444,
             "#bd3786"
            ],
            [
             0.5555555555555556,
             "#d8576b"
            ],
            [
             0.6666666666666666,
             "#ed7953"
            ],
            [
             0.7777777777777778,
             "#fb9f3a"
            ],
            [
             0.8888888888888888,
             "#fdca26"
            ],
            [
             1,
             "#f0f921"
            ]
           ]
          },
          "colorway": [
           "#636efa",
           "#EF553B",
           "#00cc96",
           "#ab63fa",
           "#FFA15A",
           "#19d3f3",
           "#FF6692",
           "#B6E880",
           "#FF97FF",
           "#FECB52"
          ],
          "font": {
           "color": "#2a3f5f"
          },
          "geo": {
           "bgcolor": "white",
           "lakecolor": "white",
           "landcolor": "#E5ECF6",
           "showlakes": true,
           "showland": true,
           "subunitcolor": "white"
          },
          "hoverlabel": {
           "align": "left"
          },
          "hovermode": "closest",
          "mapbox": {
           "style": "light"
          },
          "paper_bgcolor": "white",
          "plot_bgcolor": "#E5ECF6",
          "polar": {
           "angularaxis": {
            "gridcolor": "white",
            "linecolor": "white",
            "ticks": ""
           },
           "bgcolor": "#E5ECF6",
           "radialaxis": {
            "gridcolor": "white",
            "linecolor": "white",
            "ticks": ""
           }
          },
          "scene": {
           "xaxis": {
            "backgroundcolor": "#E5ECF6",
            "gridcolor": "white",
            "gridwidth": 2,
            "linecolor": "white",
            "showbackground": true,
            "ticks": "",
            "zerolinecolor": "white"
           },
           "yaxis": {
            "backgroundcolor": "#E5ECF6",
            "gridcolor": "white",
            "gridwidth": 2,
            "linecolor": "white",
            "showbackground": true,
            "ticks": "",
            "zerolinecolor": "white"
           },
           "zaxis": {
            "backgroundcolor": "#E5ECF6",
            "gridcolor": "white",
            "gridwidth": 2,
            "linecolor": "white",
            "showbackground": true,
            "ticks": "",
            "zerolinecolor": "white"
           }
          },
          "shapedefaults": {
           "line": {
            "color": "#2a3f5f"
           }
          },
          "ternary": {
           "aaxis": {
            "gridcolor": "white",
            "linecolor": "white",
            "ticks": ""
           },
           "baxis": {
            "gridcolor": "white",
            "linecolor": "white",
            "ticks": ""
           },
           "bgcolor": "#E5ECF6",
           "caxis": {
            "gridcolor": "white",
            "linecolor": "white",
            "ticks": ""
           }
          },
          "title": {
           "x": 0.05
          },
          "xaxis": {
           "automargin": true,
           "gridcolor": "white",
           "linecolor": "white",
           "ticks": "",
           "title": {
            "standoff": 15
           },
           "zerolinecolor": "white",
           "zerolinewidth": 2
          },
          "yaxis": {
           "automargin": true,
           "gridcolor": "white",
           "linecolor": "white",
           "ticks": "",
           "title": {
            "standoff": 15
           },
           "zerolinecolor": "white",
           "zerolinewidth": 2
          }
         }
        },
        "width": 1200,
        "xaxis": {
         "anchor": "y",
         "categoryorder": "total descending",
         "domain": [
          0,
          1
         ],
         "tickfont": {
          "size": 4
         },
         "title": {
          "font": {
           "size": 18
          },
          "text": ""
         }
        },
        "yaxis": {
         "anchor": "x",
         "domain": [
          0,
          1
         ],
         "tickfont": {
          "size": 16
         },
         "ticksuffix": "  ",
         "title": {
          "font": {
           "size": 18
          },
          "text": "Häufigkeit"
         }
        }
       }
      }
     },
     "metadata": {},
     "output_type": "display_data"
    }
   ],
   "source": [
    "metriken = ['AnzahlZuLesen', 'AnzahlZuLesen_normalisiert']\n",
    "top_authors = 200\n",
    "\n",
    "data_plot = data.groupby('Autor')[metriken+['Geschlecht']].sum()\n",
    "data_plot['Geschlecht'] = [str(x)[0] for x in data_plot['Geschlecht']]\n",
    "data_plot = data_plot.sort_values(by=metriken[0], ascending=False)\n",
    "\n",
    "for i, author in enumerate(data_plot.index):\n",
    "    if i == 0:\n",
    "        continue\n",
    "\n",
    "    last_author = data_plot.iloc[i-1]\n",
    "    current_author = data_plot.iloc[i]\n",
    "\n",
    "    last_author_freq = last_author[metriken[0]]\n",
    "    current_author_freq = current_author[metriken[0]]\n",
    "    decline = 1 - (current_author_freq / last_author_freq)\n",
    "\n",
    "    data_plot.at[author, 'decline'] = decline\n",
    "\n",
    "fig = px.bar(\n",
    "    data_plot.head(top_authors),\n",
    "    y = metriken[0],\n",
    "    labels = {'Autor':'', metriken[0]:'Häufigkeit'}\n",
    ")\n",
    "fig.update_xaxes(categoryorder='total descending')\n",
    "fig.update_layout(\n",
    "    height=600, width = 1200,\n",
    "    showlegend=False,\n",
    "    xaxis=dict(tickfont=dict(size=4), titlefont=dict(size=18)),\n",
    "    yaxis=dict(tickfont=dict(size=16), titlefont=dict(size=18), ticksuffix = \"  \"),\n",
    ")\n",
    "fig.show()"
   ]
  },
  {
   "cell_type": "code",
   "execution_count": 42,
   "id": "03091a8d-be2d-458f-b1fd-1ae9a6af60d7",
   "metadata": {},
   "outputs": [
    {
     "data": {
      "application/vnd.plotly.v1+json": {
       "config": {
        "plotlyServerURL": "https://plot.ly"
       },
       "data": [
        {
         "alignmentgroup": "True",
         "hovertemplate": "=%{x}<br>Abnahme  Häufigkeit gegenüber<br>nächsthäufiger Autor:in in %=%{y}<extra></extra>",
         "legendgroup": "",
         "marker": {
          "color": "#636efa",
          "pattern": {
           "shape": ""
          }
         },
         "name": "",
         "offsetgroup": "",
         "orientation": "v",
         "showlegend": false,
         "textposition": "auto",
         "type": "bar",
         "x": [
          "Goethe, Johann Wolfgang",
          "Schiller, Friedrich",
          "Kleist, Heinrich von",
          "Brecht, Bertolt",
          "Lessing, Gotthold Ephraim",
          "Kafka, Franz",
          "Hofmannsthal, Hugo von",
          "Mann, Thomas",
          "Büchner, Georg",
          "Eichendorff, Joseph von",
          "Heine, Heinrich",
          "Schnitzler, Arthur",
          "Gryphius, Andreas",
          "Hoffmann, E.T.A.",
          "Hauptmann, Gerhart",
          "Fontane, Theodor",
          "Tieck, Ludwig",
          "Bachmann, Ingeborg",
          "Keller, Gottfried",
          "Benn, Gottfried",
          "Rilke, Rainer Maria",
          "Handke, Peter",
          "Hölderlin, Friedrich",
          "Stifter, Adalbert",
          "Bernhard, Thomas",
          "Musil, Robert",
          "Novalis",
          "Droste-Hülshoff, Annette von",
          "Celan, Paul",
          "Grillparzer, Franz",
          "Frisch, Max",
          "Storm, Theodor",
          "Mörike, Eduard",
          "Dürrenmatt, Friedrich",
          "Wolf, Christa",
          "Grass, Günter",
          "Döblin, Alfred",
          "Jelinek, Elfriede",
          "Jean Paul",
          "Meyer, Conrad Ferdinand",
          "George, Stefan",
          "Böll, Heinrich",
          "Grimmelshausen, Johann Jakob Christoph von",
          "Lenz, Jakob Michael Reinhold",
          "Weiss, Peter",
          "Klopstock, Friedrich Gottlob",
          "Schlegel, Friedrich",
          "Seghers, Anna",
          "Jandl, Ernst",
          "Müller, Heiner",
          "Wieland, Christoph Martin",
          "Wedekind, Frank",
          "Lasker-Schüler, Else",
          "Brentano, Clemens",
          "Strauß, Botho",
          "Gellert, Christian Fürchtegott",
          "Holz, Arno",
          "Moritz, Karl Philipp",
          "Johnson, Uwe",
          "Lohenstein, Daniel Caspar von",
          "Raabe, Wilhelm",
          "Trakl, Georg",
          "Mann, Heinrich",
          "Eich, Günter",
          "Horvath, Ödon von",
          "Enzensberger, Hans Magnus",
          "Koeppen, Wolfgang",
          "Herder, Johann Gottfried",
          "Hebbel, Friedrich",
          "Kästner, Erich",
          "Opitz, Martin",
          "Walser, Martin",
          "Roth, Joseph",
          "Walser, Robert",
          "Fleißer, Marieluise",
          "Nietzsche, Friedrich",
          "Kracht, Christian",
          "Gottsched, Johann Christoph",
          "Gotthelf, Jeremias",
          "La Roche, Sophie von",
          "Canetti, Elias",
          "Hesse, Hermann",
          "Schmidt, Arno",
          "Nestroy, Johann",
          "Aichinger, Ilse",
          "Günderrode, Karoline von",
          "Grünbein, Durs",
          "Sebald, W. G.",
          "Müller, Herta",
          "Brockes, Barthold Heinrich",
          "Ransmayr, Christoph",
          "Keun, Irmgard",
          "Borchert, Wolfgang",
          "Kraus, Karl",
          "Grimm, Jacob und Wilhelm",
          "Jünger, Ernst",
          "Fleming, Paul",
          "Hein, Christoph",
          "Hildesheimer, Wolfgang",
          "Brinkmann, Rolf Dieter",
          "Hebel, Johann Peter",
          "Gottsched, Luise Adelgunde Victorie",
          "Benjamin, Walter",
          "Arnim, Bettine von",
          "Toller, Ernst",
          "Mayröcker, Friederike",
          "Tucholsky, Kurt",
          "Lichtenberg, Georg Christoph",
          "Chamisso, Adelbert von",
          "Zweig, Stefan",
          "Timm, Uwe",
          "Heym, Georg",
          "Grabbe, Christian Dietrich",
          "Arnim, Achim von",
          "Klingemann, Ernst August Friedrich",
          "Broch, Hermann",
          "Arnim, Achim von/ Brentano, Clemens (Hg.)",
          "Kaiser, Georg",
          "Hoffmannswaldau, Christian Hoffmann von",
          "Becker, Jurek",
          "Bobrowski, Johannes",
          "Lenz, Siegfried",
          "Ebner-Eschenbach, Marie v.",
          "Sachs, Nelly",
          "Kirsch, Sarah",
          "Haller, Albrecht von",
          "Klüger, Ruth",
          "Süskind, Patrick",
          "Braun, Volker",
          "Doderer, Heimito von",
          "Goetz, Rainald",
          "Huchel, Peter",
          "Beyer, Marcel",
          "Kaléko, Mascha",
          "Schlaf, Johannes",
          "Schwitters, Kurt",
          "Kant, Immanuel",
          "Gernhardt, Robert",
          "Özdamar, Emine Sevgi",
          "Sternheim, Carl",
          "Kipphardt, Heinar",
          "Kaschnitz, Marie Luise",
          "Rühmkorf, Peter",
          "Winckelmann, Johann Joachim",
          "Bidermann, Jakob",
          "Kluge, Alexander",
          "Bürger, Gottfried August",
          "Günther, Johann Christian",
          "Zuckmayer, Carl",
          "Greiffenberg, Katharina von",
          "Karsch, Anna Louisa",
          "Wackenroder, Wilhelm Heinrich",
          "Ende, Michael",
          "Morgner, Irmtraud",
          "Schnabel, Johann Gottfried",
          "Freud, Sigmund",
          "Schulze, Ingo",
          "Haushofer, Marlen",
          "Plenzdorf, Ulrich",
          "Busch, Wilhelm",
          "Hölty, Ludwig Christoph Heinrich",
          "Hochhuth, Rolf",
          "Motte-Fouque, Friedrich de la",
          "Zeh, Juli",
          "Fichte, Hubert",
          "Kempowski, Walter",
          "Wagner, Jan",
          "Reuter, Christian",
          "Ausländer, Rose",
          "Andersch, Alfred",
          "Hilbig, Wolfgang",
          "Stamm, Peter",
          "Huch, Ricarda",
          "Hauff, Wilhelm",
          "Spee von Langenfeld, Friedrich",
          "Adorno, Theodor W.",
          "Becker, Jürgen",
          "Pinthus, Kurt (Hg.)",
          "Weise, Christian",
          "Reventlow, Franziska von",
          "Hagedorn, Friedrich von",
          "Preußler, Ottfried",
          "Geßner, Salomon",
          "Raimund, Ferdinand",
          "Kling, Thomas",
          "Bahr, Hermann",
          "Ludwig, Otto",
          "Burger, Hermann",
          "Reimann, Brigitte",
          "Kroetz, Franz Xaver",
          "Gerstenberg, Heinrich Wilhelm von",
          "Morgenstern, Christian",
          "Widmer, Urs",
          "Schwab, Werner",
          "Schwarz, Sibylla",
          "Nossack, Hans Erich",
          "Artmann, Hans Carl",
          "Bichsel, Peter",
          "Hoppe, Felicitas",
          "Langgässer, Elisabeth"
         ],
         "xaxis": "x",
         "y": [
          null,
          0.3662543928944135,
          0.2437562031770365,
          0.09009189507216031,
          0.022651357591607968,
          0.14922120144119433,
          0.0637662762393878,
          0.07015118560937916,
          0.07184174366288731,
          0.03839487283615195,
          0.004467483491962687,
          0.02554512392404462,
          0.0466143243072088,
          0.08020690380925022,
          0.04409754059692317,
          0.01863274772829715,
          0.020518378217893707,
          0.017688495602653065,
          0.05094591200553933,
          0.020673872737651755,
          0.021662950357971056,
          0.0024808044938356977,
          0.009904439470236559,
          0.04278048210117724,
          0.015686898629965085,
          0.03556102955554541,
          0.007826419838131371,
          0.07235365216604306,
          0.00998299922558532,
          0.03653481262949476,
          0.01658389771868074,
          0.007243980494867186,
          0.006553248902346653,
          0.004176483546326937,
          0.004564139382679078,
          0.004072855714325252,
          0.001064470974683429,
          0.022045052985076863,
          0.058980908532288656,
          0.022126350857856414,
          0.027349183106173625,
          0.005706081919073069,
          0.04957600059923539,
          0.010575041132380836,
          0.024407801882351476,
          0.004893862997740306,
          0.0207974590956852,
          0.011226420842038398,
          0.006627749100254765,
          0.026751245644376587,
          0.016786165778143847,
          0.004291873857847683,
          0.010177358713823748,
          0.00716353742006226,
          0.004457683233526022,
          0.02215150093532825,
          0.0035582005192470456,
          0.003165764104675284,
          0.01211567986624662,
          0.011282793157152415,
          0.0027878702921195764,
          0.019376011617985744,
          0.029468854788537557,
          0.0012371515818181411,
          0.017932163768677123,
          0.043644984586533986,
          0.022967879707851746,
          0.0008674902688189379,
          0.008206498886336733,
          0.003067685282160393,
          0.013737223604765814,
          0.022086770822529966,
          0.024367535235864435,
          0.02444416798170812,
          0.02634329290532278,
          0.00722716951721758,
          0.023102527028837083,
          0.02884475489060545,
          0.0012260383242952422,
          0.004509605661683125,
          0.006610623866453613,
          0.003764570692706082,
          0.04334405702886579,
          0.045225203945873704,
          0.005646146105795391,
          0.013919442420891937,
          0.03425177352311026,
          0.001444792552795282,
          0.053022237940813066,
          0.01181998916003224,
          0.004604788000371118,
          0.02223997128412769,
          0.000054087635427690905,
          0.009149651426807126,
          0.05050740519700159,
          0.010276399679277737,
          0.04232823239994432,
          0.0019586653375002205,
          0.0008217032937603008,
          0.019193833620567813,
          0.02233902129955967,
          0.012732737420501516,
          0.04457017056950796,
          0.013022034094086754,
          0.01437199341678952,
          0.0011132504628219575,
          0.011686958539373071,
          0.001410666728985488,
          0.029448022123580553,
          0.005283668949315756,
          0.03052648276416592,
          0.04331012283223168,
          0.016056683400071825,
          0.03083619915516178,
          0.034059701248677854,
          0.0009954944029518797,
          0.0032656851052882407,
          0.0008633652962423133,
          0.005225283358951116,
          0.005369862950704185,
          0.022434990605427862,
          0.002619366888972019,
          0.02341537146077688,
          0.017102071682682962,
          0.0011647079290187934,
          0.024591265474117163,
          0.013587686529349163,
          0.023201979116715732,
          0.013155051909494286,
          0.0007778988472192383,
          0.014400300295156376,
          0.0032659115752362577,
          0.025146089604965005,
          0.004308723312935858,
          0.003714901277400817,
          0.00025414468379370003,
          0.0035229567094121617,
          0.0035076728805997215,
          0.007258899824902465,
          0.02126033292706475,
          0.013383876025540475,
          0.008890432802429626,
          0.006329576422210548,
          0.03774610922821775,
          0.004236350622920049,
          0.0054616637141010616,
          0.0072655145520612585,
          0.011009005471330657,
          0.01780519879840503,
          0.014487712347389547,
          0.020559755935800395,
          0.00712308801655126,
          0.009679314555676943,
          0.03915072242548723,
          0.009899708199749169,
          0.0010852100029199452,
          0.020364985894321674,
          0.015862331875342695,
          0.00478315117239525,
          0.004015526421689786,
          0.0008348037270744513,
          0.01815708712391051,
          0.0003802518284569123,
          0.0005466376532333728,
          0.014122864382050349,
          0.0011675511518117743,
          0.0035888191519802826,
          0.014041764317023642,
          0.005937562068571767,
          0.0016071115271431013,
          0.0018690336823383724,
          0.0005827022682323157,
          0.017043809512634733,
          0.00790474983291023,
          0.0244720890430562,
          0.0056432465875511095,
          0.0008484577739052979,
          0.024547464224637716,
          0.0002788270814469973,
          0.006777334308669447,
          0.012925854660502,
          0.006129399706880201,
          0.005571319903103,
          0.014362850824175766,
          0.002849443968490295,
          0.013876861226868487,
          0.006768573726345317,
          0.0076329323554950035,
          0.0008490157439371426,
          0.0017896975298976603,
          0.015216927579584927,
          0.0004274673419011332,
          0.009966870369145342,
          0.00503520981498784,
          0.008649995223842466,
          0.01472152017995676,
          0.0016803760676442625,
          0.0006803979205489696,
          0.003637566141997839,
          0.001435048099870495
         ],
         "yaxis": "y"
        }
       ],
       "layout": {
        "barmode": "relative",
        "height": 600,
        "legend": {
         "tracegroupgap": 0
        },
        "margin": {
         "t": 60
        },
        "showlegend": false,
        "template": {
         "data": {
          "bar": [
           {
            "error_x": {
             "color": "#2a3f5f"
            },
            "error_y": {
             "color": "#2a3f5f"
            },
            "marker": {
             "line": {
              "color": "#E5ECF6",
              "width": 0.5
             },
             "pattern": {
              "fillmode": "overlay",
              "size": 10,
              "solidity": 0.2
             }
            },
            "type": "bar"
           }
          ],
          "barpolar": [
           {
            "marker": {
             "line": {
              "color": "#E5ECF6",
              "width": 0.5
             },
             "pattern": {
              "fillmode": "overlay",
              "size": 10,
              "solidity": 0.2
             }
            },
            "type": "barpolar"
           }
          ],
          "carpet": [
           {
            "aaxis": {
             "endlinecolor": "#2a3f5f",
             "gridcolor": "white",
             "linecolor": "white",
             "minorgridcolor": "white",
             "startlinecolor": "#2a3f5f"
            },
            "baxis": {
             "endlinecolor": "#2a3f5f",
             "gridcolor": "white",
             "linecolor": "white",
             "minorgridcolor": "white",
             "startlinecolor": "#2a3f5f"
            },
            "type": "carpet"
           }
          ],
          "choropleth": [
           {
            "colorbar": {
             "outlinewidth": 0,
             "ticks": ""
            },
            "type": "choropleth"
           }
          ],
          "contour": [
           {
            "colorbar": {
             "outlinewidth": 0,
             "ticks": ""
            },
            "colorscale": [
             [
              0,
              "#0d0887"
             ],
             [
              0.1111111111111111,
              "#46039f"
             ],
             [
              0.2222222222222222,
              "#7201a8"
             ],
             [
              0.3333333333333333,
              "#9c179e"
             ],
             [
              0.4444444444444444,
              "#bd3786"
             ],
             [
              0.5555555555555556,
              "#d8576b"
             ],
             [
              0.6666666666666666,
              "#ed7953"
             ],
             [
              0.7777777777777778,
              "#fb9f3a"
             ],
             [
              0.8888888888888888,
              "#fdca26"
             ],
             [
              1,
              "#f0f921"
             ]
            ],
            "type": "contour"
           }
          ],
          "contourcarpet": [
           {
            "colorbar": {
             "outlinewidth": 0,
             "ticks": ""
            },
            "type": "contourcarpet"
           }
          ],
          "heatmap": [
           {
            "colorbar": {
             "outlinewidth": 0,
             "ticks": ""
            },
            "colorscale": [
             [
              0,
              "#0d0887"
             ],
             [
              0.1111111111111111,
              "#46039f"
             ],
             [
              0.2222222222222222,
              "#7201a8"
             ],
             [
              0.3333333333333333,
              "#9c179e"
             ],
             [
              0.4444444444444444,
              "#bd3786"
             ],
             [
              0.5555555555555556,
              "#d8576b"
             ],
             [
              0.6666666666666666,
              "#ed7953"
             ],
             [
              0.7777777777777778,
              "#fb9f3a"
             ],
             [
              0.8888888888888888,
              "#fdca26"
             ],
             [
              1,
              "#f0f921"
             ]
            ],
            "type": "heatmap"
           }
          ],
          "heatmapgl": [
           {
            "colorbar": {
             "outlinewidth": 0,
             "ticks": ""
            },
            "colorscale": [
             [
              0,
              "#0d0887"
             ],
             [
              0.1111111111111111,
              "#46039f"
             ],
             [
              0.2222222222222222,
              "#7201a8"
             ],
             [
              0.3333333333333333,
              "#9c179e"
             ],
             [
              0.4444444444444444,
              "#bd3786"
             ],
             [
              0.5555555555555556,
              "#d8576b"
             ],
             [
              0.6666666666666666,
              "#ed7953"
             ],
             [
              0.7777777777777778,
              "#fb9f3a"
             ],
             [
              0.8888888888888888,
              "#fdca26"
             ],
             [
              1,
              "#f0f921"
             ]
            ],
            "type": "heatmapgl"
           }
          ],
          "histogram": [
           {
            "marker": {
             "pattern": {
              "fillmode": "overlay",
              "size": 10,
              "solidity": 0.2
             }
            },
            "type": "histogram"
           }
          ],
          "histogram2d": [
           {
            "colorbar": {
             "outlinewidth": 0,
             "ticks": ""
            },
            "colorscale": [
             [
              0,
              "#0d0887"
             ],
             [
              0.1111111111111111,
              "#46039f"
             ],
             [
              0.2222222222222222,
              "#7201a8"
             ],
             [
              0.3333333333333333,
              "#9c179e"
             ],
             [
              0.4444444444444444,
              "#bd3786"
             ],
             [
              0.5555555555555556,
              "#d8576b"
             ],
             [
              0.6666666666666666,
              "#ed7953"
             ],
             [
              0.7777777777777778,
              "#fb9f3a"
             ],
             [
              0.8888888888888888,
              "#fdca26"
             ],
             [
              1,
              "#f0f921"
             ]
            ],
            "type": "histogram2d"
           }
          ],
          "histogram2dcontour": [
           {
            "colorbar": {
             "outlinewidth": 0,
             "ticks": ""
            },
            "colorscale": [
             [
              0,
              "#0d0887"
             ],
             [
              0.1111111111111111,
              "#46039f"
             ],
             [
              0.2222222222222222,
              "#7201a8"
             ],
             [
              0.3333333333333333,
              "#9c179e"
             ],
             [
              0.4444444444444444,
              "#bd3786"
             ],
             [
              0.5555555555555556,
              "#d8576b"
             ],
             [
              0.6666666666666666,
              "#ed7953"
             ],
             [
              0.7777777777777778,
              "#fb9f3a"
             ],
             [
              0.8888888888888888,
              "#fdca26"
             ],
             [
              1,
              "#f0f921"
             ]
            ],
            "type": "histogram2dcontour"
           }
          ],
          "mesh3d": [
           {
            "colorbar": {
             "outlinewidth": 0,
             "ticks": ""
            },
            "type": "mesh3d"
           }
          ],
          "parcoords": [
           {
            "line": {
             "colorbar": {
              "outlinewidth": 0,
              "ticks": ""
             }
            },
            "type": "parcoords"
           }
          ],
          "pie": [
           {
            "automargin": true,
            "type": "pie"
           }
          ],
          "scatter": [
           {
            "fillpattern": {
             "fillmode": "overlay",
             "size": 10,
             "solidity": 0.2
            },
            "type": "scatter"
           }
          ],
          "scatter3d": [
           {
            "line": {
             "colorbar": {
              "outlinewidth": 0,
              "ticks": ""
             }
            },
            "marker": {
             "colorbar": {
              "outlinewidth": 0,
              "ticks": ""
             }
            },
            "type": "scatter3d"
           }
          ],
          "scattercarpet": [
           {
            "marker": {
             "colorbar": {
              "outlinewidth": 0,
              "ticks": ""
             }
            },
            "type": "scattercarpet"
           }
          ],
          "scattergeo": [
           {
            "marker": {
             "colorbar": {
              "outlinewidth": 0,
              "ticks": ""
             }
            },
            "type": "scattergeo"
           }
          ],
          "scattergl": [
           {
            "marker": {
             "colorbar": {
              "outlinewidth": 0,
              "ticks": ""
             }
            },
            "type": "scattergl"
           }
          ],
          "scattermapbox": [
           {
            "marker": {
             "colorbar": {
              "outlinewidth": 0,
              "ticks": ""
             }
            },
            "type": "scattermapbox"
           }
          ],
          "scatterpolar": [
           {
            "marker": {
             "colorbar": {
              "outlinewidth": 0,
              "ticks": ""
             }
            },
            "type": "scatterpolar"
           }
          ],
          "scatterpolargl": [
           {
            "marker": {
             "colorbar": {
              "outlinewidth": 0,
              "ticks": ""
             }
            },
            "type": "scatterpolargl"
           }
          ],
          "scatterternary": [
           {
            "marker": {
             "colorbar": {
              "outlinewidth": 0,
              "ticks": ""
             }
            },
            "type": "scatterternary"
           }
          ],
          "surface": [
           {
            "colorbar": {
             "outlinewidth": 0,
             "ticks": ""
            },
            "colorscale": [
             [
              0,
              "#0d0887"
             ],
             [
              0.1111111111111111,
              "#46039f"
             ],
             [
              0.2222222222222222,
              "#7201a8"
             ],
             [
              0.3333333333333333,
              "#9c179e"
             ],
             [
              0.4444444444444444,
              "#bd3786"
             ],
             [
              0.5555555555555556,
              "#d8576b"
             ],
             [
              0.6666666666666666,
              "#ed7953"
             ],
             [
              0.7777777777777778,
              "#fb9f3a"
             ],
             [
              0.8888888888888888,
              "#fdca26"
             ],
             [
              1,
              "#f0f921"
             ]
            ],
            "type": "surface"
           }
          ],
          "table": [
           {
            "cells": {
             "fill": {
              "color": "#EBF0F8"
             },
             "line": {
              "color": "white"
             }
            },
            "header": {
             "fill": {
              "color": "#C8D4E3"
             },
             "line": {
              "color": "white"
             }
            },
            "type": "table"
           }
          ]
         },
         "layout": {
          "annotationdefaults": {
           "arrowcolor": "#2a3f5f",
           "arrowhead": 0,
           "arrowwidth": 1
          },
          "autotypenumbers": "strict",
          "coloraxis": {
           "colorbar": {
            "outlinewidth": 0,
            "ticks": ""
           }
          },
          "colorscale": {
           "diverging": [
            [
             0,
             "#8e0152"
            ],
            [
             0.1,
             "#c51b7d"
            ],
            [
             0.2,
             "#de77ae"
            ],
            [
             0.3,
             "#f1b6da"
            ],
            [
             0.4,
             "#fde0ef"
            ],
            [
             0.5,
             "#f7f7f7"
            ],
            [
             0.6,
             "#e6f5d0"
            ],
            [
             0.7,
             "#b8e186"
            ],
            [
             0.8,
             "#7fbc41"
            ],
            [
             0.9,
             "#4d9221"
            ],
            [
             1,
             "#276419"
            ]
           ],
           "sequential": [
            [
             0,
             "#0d0887"
            ],
            [
             0.1111111111111111,
             "#46039f"
            ],
            [
             0.2222222222222222,
             "#7201a8"
            ],
            [
             0.3333333333333333,
             "#9c179e"
            ],
            [
             0.4444444444444444,
             "#bd3786"
            ],
            [
             0.5555555555555556,
             "#d8576b"
            ],
            [
             0.6666666666666666,
             "#ed7953"
            ],
            [
             0.7777777777777778,
             "#fb9f3a"
            ],
            [
             0.8888888888888888,
             "#fdca26"
            ],
            [
             1,
             "#f0f921"
            ]
           ],
           "sequentialminus": [
            [
             0,
             "#0d0887"
            ],
            [
             0.1111111111111111,
             "#46039f"
            ],
            [
             0.2222222222222222,
             "#7201a8"
            ],
            [
             0.3333333333333333,
             "#9c179e"
            ],
            [
             0.4444444444444444,
             "#bd3786"
            ],
            [
             0.5555555555555556,
             "#d8576b"
            ],
            [
             0.6666666666666666,
             "#ed7953"
            ],
            [
             0.7777777777777778,
             "#fb9f3a"
            ],
            [
             0.8888888888888888,
             "#fdca26"
            ],
            [
             1,
             "#f0f921"
            ]
           ]
          },
          "colorway": [
           "#636efa",
           "#EF553B",
           "#00cc96",
           "#ab63fa",
           "#FFA15A",
           "#19d3f3",
           "#FF6692",
           "#B6E880",
           "#FF97FF",
           "#FECB52"
          ],
          "font": {
           "color": "#2a3f5f"
          },
          "geo": {
           "bgcolor": "white",
           "lakecolor": "white",
           "landcolor": "#E5ECF6",
           "showlakes": true,
           "showland": true,
           "subunitcolor": "white"
          },
          "hoverlabel": {
           "align": "left"
          },
          "hovermode": "closest",
          "mapbox": {
           "style": "light"
          },
          "paper_bgcolor": "white",
          "plot_bgcolor": "#E5ECF6",
          "polar": {
           "angularaxis": {
            "gridcolor": "white",
            "linecolor": "white",
            "ticks": ""
           },
           "bgcolor": "#E5ECF6",
           "radialaxis": {
            "gridcolor": "white",
            "linecolor": "white",
            "ticks": ""
           }
          },
          "scene": {
           "xaxis": {
            "backgroundcolor": "#E5ECF6",
            "gridcolor": "white",
            "gridwidth": 2,
            "linecolor": "white",
            "showbackground": true,
            "ticks": "",
            "zerolinecolor": "white"
           },
           "yaxis": {
            "backgroundcolor": "#E5ECF6",
            "gridcolor": "white",
            "gridwidth": 2,
            "linecolor": "white",
            "showbackground": true,
            "ticks": "",
            "zerolinecolor": "white"
           },
           "zaxis": {
            "backgroundcolor": "#E5ECF6",
            "gridcolor": "white",
            "gridwidth": 2,
            "linecolor": "white",
            "showbackground": true,
            "ticks": "",
            "zerolinecolor": "white"
           }
          },
          "shapedefaults": {
           "line": {
            "color": "#2a3f5f"
           }
          },
          "ternary": {
           "aaxis": {
            "gridcolor": "white",
            "linecolor": "white",
            "ticks": ""
           },
           "baxis": {
            "gridcolor": "white",
            "linecolor": "white",
            "ticks": ""
           },
           "bgcolor": "#E5ECF6",
           "caxis": {
            "gridcolor": "white",
            "linecolor": "white",
            "ticks": ""
           }
          },
          "title": {
           "x": 0.05
          },
          "xaxis": {
           "automargin": true,
           "gridcolor": "white",
           "linecolor": "white",
           "ticks": "",
           "title": {
            "standoff": 15
           },
           "zerolinecolor": "white",
           "zerolinewidth": 2
          },
          "yaxis": {
           "automargin": true,
           "gridcolor": "white",
           "linecolor": "white",
           "ticks": "",
           "title": {
            "standoff": 15
           },
           "zerolinecolor": "white",
           "zerolinewidth": 2
          }
         }
        },
        "width": 1200,
        "xaxis": {
         "anchor": "y",
         "domain": [
          0,
          1
         ],
         "tickfont": {
          "size": 4
         },
         "title": {
          "font": {
           "size": 18
          },
          "text": ""
         }
        },
        "yaxis": {
         "anchor": "x",
         "domain": [
          0,
          1
         ],
         "tickfont": {
          "size": 16
         },
         "ticksuffix": "  ",
         "title": {
          "font": {
           "size": 18
          },
          "text": "Abnahme  Häufigkeit gegenüber<br>nächsthäufiger Autor:in in %"
         }
        }
       }
      }
     },
     "metadata": {},
     "output_type": "display_data"
    }
   ],
   "source": [
    "fig = px.bar(\n",
    "    data_plot.head(200),\n",
    "    y = 'decline',\n",
    "    labels = {'Autor':'', 'decline':'Abnahme  Häufigkeit gegenüber<br>nächsthäufiger Autor:in in %'}\n",
    ")\n",
    "fig.update_layout(\n",
    "    height=600, width = 1200,\n",
    "    showlegend=False,\n",
    "    xaxis=dict(tickfont=dict(size=4), titlefont=dict(size=18)),\n",
    "    yaxis=dict(tickfont=dict(size=16), titlefont=dict(size=18), ticksuffix = \"  \"),\n",
    ")\n",
    "fig.show()"
   ]
  },
  {
   "cell_type": "code",
   "execution_count": 43,
   "id": "8a3f7689-34e6-41f3-b9f3-dbfa6153e185",
   "metadata": {},
   "outputs": [
    {
     "data": {
      "text/plain": [
       "455"
      ]
     },
     "execution_count": 43,
     "metadata": {},
     "output_type": "execute_result"
    }
   ],
   "source": [
    "data_plot.query(\"AnzahlZuLesen <= 2\").shape[0]"
   ]
  },
  {
   "cell_type": "code",
   "execution_count": 44,
   "id": "a7fc8fca-80db-4580-8e00-e040b0192ced",
   "metadata": {},
   "outputs": [
    {
     "data": {
      "text/html": [
       "<div>\n",
       "<style scoped>\n",
       "    .dataframe tbody tr th:only-of-type {\n",
       "        vertical-align: middle;\n",
       "    }\n",
       "\n",
       "    .dataframe tbody tr th {\n",
       "        vertical-align: top;\n",
       "    }\n",
       "\n",
       "    .dataframe thead th {\n",
       "        text-align: right;\n",
       "    }\n",
       "</style>\n",
       "<table border=\"1\" class=\"dataframe\">\n",
       "  <thead>\n",
       "    <tr style=\"text-align: right;\">\n",
       "      <th></th>\n",
       "      <th>AnzahlZuLesen</th>\n",
       "      <th>AnzahlZuLesen_normalisiert</th>\n",
       "      <th>Geschlecht</th>\n",
       "      <th>AnzahlZuLesen_Rang</th>\n",
       "      <th>AnzahlZuLesen_normalisiert_Rang</th>\n",
       "    </tr>\n",
       "    <tr>\n",
       "      <th>Autor</th>\n",
       "      <th></th>\n",
       "      <th></th>\n",
       "      <th></th>\n",
       "      <th></th>\n",
       "      <th></th>\n",
       "    </tr>\n",
       "  </thead>\n",
       "  <tbody>\n",
       "    <tr>\n",
       "      <th>Bachmann, Ingeborg</th>\n",
       "      <td>56.809962</td>\n",
       "      <td>0.010606</td>\n",
       "      <td>w</td>\n",
       "      <td>18.0</td>\n",
       "      <td>18.0</td>\n",
       "    </tr>\n",
       "    <tr>\n",
       "      <th>Droste-Hülshoff, Annette von</th>\n",
       "      <td>42.669676</td>\n",
       "      <td>0.010098</td>\n",
       "      <td>w</td>\n",
       "      <td>28.0</td>\n",
       "      <td>21.0</td>\n",
       "    </tr>\n",
       "    <tr>\n",
       "      <th>Wolf, Christa</th>\n",
       "      <td>39.130745</td>\n",
       "      <td>0.008140</td>\n",
       "      <td>w</td>\n",
       "      <td>35.0</td>\n",
       "      <td>30.0</td>\n",
       "    </tr>\n",
       "    <tr>\n",
       "      <th>Jelinek, Elfriede</th>\n",
       "      <td>38.071676</td>\n",
       "      <td>0.007845</td>\n",
       "      <td>w</td>\n",
       "      <td>38.0</td>\n",
       "      <td>36.0</td>\n",
       "    </tr>\n",
       "    <tr>\n",
       "      <th>Seghers, Anna</th>\n",
       "      <td>29.947617</td>\n",
       "      <td>0.006254</td>\n",
       "      <td>w</td>\n",
       "      <td>48.0</td>\n",
       "      <td>43.0</td>\n",
       "    </tr>\n",
       "    <tr>\n",
       "      <th>Lasker-Schüler, Else</th>\n",
       "      <td>28.056634</td>\n",
       "      <td>0.004909</td>\n",
       "      <td>w</td>\n",
       "      <td>53.0</td>\n",
       "      <td>55.0</td>\n",
       "    </tr>\n",
       "    <tr>\n",
       "      <th>Fleißer, Marieluise</th>\n",
       "      <td>20.205810</td>\n",
       "      <td>0.003954</td>\n",
       "      <td>w</td>\n",
       "      <td>75.0</td>\n",
       "      <td>71.0</td>\n",
       "    </tr>\n",
       "    <tr>\n",
       "      <th>La Roche, Sophie von</th>\n",
       "      <td>18.922045</td>\n",
       "      <td>0.004230</td>\n",
       "      <td>w</td>\n",
       "      <td>80.0</td>\n",
       "      <td>67.0</td>\n",
       "    </tr>\n",
       "    <tr>\n",
       "      <th>Aichinger, Ilse</th>\n",
       "      <td>17.007765</td>\n",
       "      <td>0.003633</td>\n",
       "      <td>w</td>\n",
       "      <td>85.0</td>\n",
       "      <td>74.0</td>\n",
       "    </tr>\n",
       "    <tr>\n",
       "      <th>Günderrode, Karoline von</th>\n",
       "      <td>16.771027</td>\n",
       "      <td>0.002943</td>\n",
       "      <td>w</td>\n",
       "      <td>86.0</td>\n",
       "      <td>86.0</td>\n",
       "    </tr>\n",
       "  </tbody>\n",
       "</table>\n",
       "</div>"
      ],
      "text/plain": [
       "                              AnzahlZuLesen  AnzahlZuLesen_normalisiert Geschlecht  AnzahlZuLesen_Rang  AnzahlZuLesen_normalisiert_Rang\n",
       "Autor                                                                                                                                  \n",
       "Bachmann, Ingeborg                56.809962                    0.010606          w                18.0                             18.0\n",
       "Droste-Hülshoff, Annette von      42.669676                    0.010098          w                28.0                             21.0\n",
       "Wolf, Christa                     39.130745                    0.008140          w                35.0                             30.0\n",
       "Jelinek, Elfriede                 38.071676                    0.007845          w                38.0                             36.0\n",
       "Seghers, Anna                     29.947617                    0.006254          w                48.0                             43.0\n",
       "Lasker-Schüler, Else              28.056634                    0.004909          w                53.0                             55.0\n",
       "Fleißer, Marieluise               20.205810                    0.003954          w                75.0                             71.0\n",
       "La Roche, Sophie von              18.922045                    0.004230          w                80.0                             67.0\n",
       "Aichinger, Ilse                   17.007765                    0.003633          w                85.0                             74.0\n",
       "Günderrode, Karoline von          16.771027                    0.002943          w                86.0                             86.0"
      ]
     },
     "execution_count": 44,
     "metadata": {},
     "output_type": "execute_result"
    }
   ],
   "source": [
    "metriken = ['AnzahlZuLesen', 'AnzahlZuLesen_normalisiert']\n",
    "\n",
    "data_plot = data.groupby('Autor')[metriken + ['Geschlecht']].sum()\n",
    "data_plot['Geschlecht'] = [str(x)[0] for x in data_plot['Geschlecht']]\n",
    "\n",
    "for metrik in metriken:\n",
    "    data_plot[metrik+'_Rang'] = data_plot[metrik].rank(ascending=False)\n",
    "    \n",
    "data_plot.query(\"Geschlecht=='w'\").nsmallest(10, metriken[0]+'_Rang')"
   ]
  },
  {
   "cell_type": "code",
   "execution_count": 45,
   "id": "1ea76196-48dd-4c12-b009-f0d615eda7c6",
   "metadata": {},
   "outputs": [
    {
     "data": {
      "application/vnd.plotly.v1+json": {
       "config": {
        "plotlyServerURL": "https://plot.ly"
       },
       "data": [
        {
         "alignmentgroup": "True",
         "hovertemplate": "Anteil Autorinnen=%{x}<br>=%{y}<extra></extra>",
         "legendgroup": "",
         "marker": {
          "color": "#636efa",
          "pattern": {
           "shape": ""
          }
         },
         "name": "",
         "offsetgroup": "",
         "orientation": "h",
         "showlegend": false,
         "textposition": "auto",
         "type": "bar",
         "x": [
          0.009800480388715681,
          0.02092050209205021,
          0.021052631578947368,
          0.031496062992125984,
          0.04,
          0.04198473282442748,
          0.044117647058823525,
          0.04946996466431095,
          0.051322823330741604,
          0.055742950846913865,
          0.056125452534588546,
          0.05726872246696035,
          0.06577027339502801,
          0.07468879668049792,
          0.07594936708860761,
          0.07692307692307693,
          0.07694537928564563,
          0.07848837209302326,
          0.08260869565217391,
          0.09375000000000001,
          0.09797297297297297,
          0.1090547687408334,
          0.10990884648173652,
          0.11320754716981132,
          0.11475409836065574,
          0.12521515852049078,
          0.12962962962962962,
          0.12980769230769232,
          0.1467065868263473,
          0.1603498542274052,
          0.16242937853197975,
          0.165464733456947,
          0.19318181818181818,
          0.2,
          0.20930232558139536,
          0.21621621621621623,
          0.2346368715083799,
          0.24299065420560748,
          0.2631578947368421,
          0.2828282828282828,
          0.3009858323494687,
          0.3465346534653465
         ],
         "xaxis": "x",
         "y": [
          "Würzburg 2003/04",
          "FU Berlin o.J.",
          "Bochum o.J.",
          "Passau o.J.",
          "Eichstätt-Ingolstadt 2007",
          "Wuppertal 2015",
          "Osnabrück o.J.",
          "Jena 2018",
          "Trier o.J.",
          "Heidelberg 2017",
          "LA Aachen 2018",
          "Würzburg 2019",
          "München o.J.",
          "Zürich 2013",
          "Lüneburg o.J.",
          "Tübingen o.J.",
          "Aachen 2017/18",
          "Dortmund o.J.",
          "Karlsruhe o.J.",
          "Göttingen o.J.",
          "Leipzig o.J.",
          "Braunschweig o.J.",
          "Saarland 2007",
          "Mannheim o.J.",
          "Luxemburg o.J.",
          "Frankfurt a.M. o.J.",
          "Köln o.J.",
          "Gießen o.J.",
          "Lausanne o.J.",
          "Magdeburg 2020",
          "Hildesheim o.J.",
          "Wien o.J.",
          "Salzburg o.J.",
          "Stuttgart o.J.",
          "Graz 2021",
          "Innsbruck o.J.",
          "Koblenz o.J.",
          "Augsburg 2020",
          "Potsdam 2022",
          "Oldenburg 2020",
          "Innsbruck 2023",
          "Stuttgart 2022"
         ],
         "yaxis": "y"
        }
       ],
       "layout": {
        "barmode": "relative",
        "height": 1100,
        "legend": {
         "tracegroupgap": 0
        },
        "margin": {
         "t": 60
        },
        "showlegend": false,
        "template": {
         "data": {
          "bar": [
           {
            "error_x": {
             "color": "#2a3f5f"
            },
            "error_y": {
             "color": "#2a3f5f"
            },
            "marker": {
             "line": {
              "color": "#E5ECF6",
              "width": 0.5
             },
             "pattern": {
              "fillmode": "overlay",
              "size": 10,
              "solidity": 0.2
             }
            },
            "type": "bar"
           }
          ],
          "barpolar": [
           {
            "marker": {
             "line": {
              "color": "#E5ECF6",
              "width": 0.5
             },
             "pattern": {
              "fillmode": "overlay",
              "size": 10,
              "solidity": 0.2
             }
            },
            "type": "barpolar"
           }
          ],
          "carpet": [
           {
            "aaxis": {
             "endlinecolor": "#2a3f5f",
             "gridcolor": "white",
             "linecolor": "white",
             "minorgridcolor": "white",
             "startlinecolor": "#2a3f5f"
            },
            "baxis": {
             "endlinecolor": "#2a3f5f",
             "gridcolor": "white",
             "linecolor": "white",
             "minorgridcolor": "white",
             "startlinecolor": "#2a3f5f"
            },
            "type": "carpet"
           }
          ],
          "choropleth": [
           {
            "colorbar": {
             "outlinewidth": 0,
             "ticks": ""
            },
            "type": "choropleth"
           }
          ],
          "contour": [
           {
            "colorbar": {
             "outlinewidth": 0,
             "ticks": ""
            },
            "colorscale": [
             [
              0,
              "#0d0887"
             ],
             [
              0.1111111111111111,
              "#46039f"
             ],
             [
              0.2222222222222222,
              "#7201a8"
             ],
             [
              0.3333333333333333,
              "#9c179e"
             ],
             [
              0.4444444444444444,
              "#bd3786"
             ],
             [
              0.5555555555555556,
              "#d8576b"
             ],
             [
              0.6666666666666666,
              "#ed7953"
             ],
             [
              0.7777777777777778,
              "#fb9f3a"
             ],
             [
              0.8888888888888888,
              "#fdca26"
             ],
             [
              1,
              "#f0f921"
             ]
            ],
            "type": "contour"
           }
          ],
          "contourcarpet": [
           {
            "colorbar": {
             "outlinewidth": 0,
             "ticks": ""
            },
            "type": "contourcarpet"
           }
          ],
          "heatmap": [
           {
            "colorbar": {
             "outlinewidth": 0,
             "ticks": ""
            },
            "colorscale": [
             [
              0,
              "#0d0887"
             ],
             [
              0.1111111111111111,
              "#46039f"
             ],
             [
              0.2222222222222222,
              "#7201a8"
             ],
             [
              0.3333333333333333,
              "#9c179e"
             ],
             [
              0.4444444444444444,
              "#bd3786"
             ],
             [
              0.5555555555555556,
              "#d8576b"
             ],
             [
              0.6666666666666666,
              "#ed7953"
             ],
             [
              0.7777777777777778,
              "#fb9f3a"
             ],
             [
              0.8888888888888888,
              "#fdca26"
             ],
             [
              1,
              "#f0f921"
             ]
            ],
            "type": "heatmap"
           }
          ],
          "heatmapgl": [
           {
            "colorbar": {
             "outlinewidth": 0,
             "ticks": ""
            },
            "colorscale": [
             [
              0,
              "#0d0887"
             ],
             [
              0.1111111111111111,
              "#46039f"
             ],
             [
              0.2222222222222222,
              "#7201a8"
             ],
             [
              0.3333333333333333,
              "#9c179e"
             ],
             [
              0.4444444444444444,
              "#bd3786"
             ],
             [
              0.5555555555555556,
              "#d8576b"
             ],
             [
              0.6666666666666666,
              "#ed7953"
             ],
             [
              0.7777777777777778,
              "#fb9f3a"
             ],
             [
              0.8888888888888888,
              "#fdca26"
             ],
             [
              1,
              "#f0f921"
             ]
            ],
            "type": "heatmapgl"
           }
          ],
          "histogram": [
           {
            "marker": {
             "pattern": {
              "fillmode": "overlay",
              "size": 10,
              "solidity": 0.2
             }
            },
            "type": "histogram"
           }
          ],
          "histogram2d": [
           {
            "colorbar": {
             "outlinewidth": 0,
             "ticks": ""
            },
            "colorscale": [
             [
              0,
              "#0d0887"
             ],
             [
              0.1111111111111111,
              "#46039f"
             ],
             [
              0.2222222222222222,
              "#7201a8"
             ],
             [
              0.3333333333333333,
              "#9c179e"
             ],
             [
              0.4444444444444444,
              "#bd3786"
             ],
             [
              0.5555555555555556,
              "#d8576b"
             ],
             [
              0.6666666666666666,
              "#ed7953"
             ],
             [
              0.7777777777777778,
              "#fb9f3a"
             ],
             [
              0.8888888888888888,
              "#fdca26"
             ],
             [
              1,
              "#f0f921"
             ]
            ],
            "type": "histogram2d"
           }
          ],
          "histogram2dcontour": [
           {
            "colorbar": {
             "outlinewidth": 0,
             "ticks": ""
            },
            "colorscale": [
             [
              0,
              "#0d0887"
             ],
             [
              0.1111111111111111,
              "#46039f"
             ],
             [
              0.2222222222222222,
              "#7201a8"
             ],
             [
              0.3333333333333333,
              "#9c179e"
             ],
             [
              0.4444444444444444,
              "#bd3786"
             ],
             [
              0.5555555555555556,
              "#d8576b"
             ],
             [
              0.6666666666666666,
              "#ed7953"
             ],
             [
              0.7777777777777778,
              "#fb9f3a"
             ],
             [
              0.8888888888888888,
              "#fdca26"
             ],
             [
              1,
              "#f0f921"
             ]
            ],
            "type": "histogram2dcontour"
           }
          ],
          "mesh3d": [
           {
            "colorbar": {
             "outlinewidth": 0,
             "ticks": ""
            },
            "type": "mesh3d"
           }
          ],
          "parcoords": [
           {
            "line": {
             "colorbar": {
              "outlinewidth": 0,
              "ticks": ""
             }
            },
            "type": "parcoords"
           }
          ],
          "pie": [
           {
            "automargin": true,
            "type": "pie"
           }
          ],
          "scatter": [
           {
            "fillpattern": {
             "fillmode": "overlay",
             "size": 10,
             "solidity": 0.2
            },
            "type": "scatter"
           }
          ],
          "scatter3d": [
           {
            "line": {
             "colorbar": {
              "outlinewidth": 0,
              "ticks": ""
             }
            },
            "marker": {
             "colorbar": {
              "outlinewidth": 0,
              "ticks": ""
             }
            },
            "type": "scatter3d"
           }
          ],
          "scattercarpet": [
           {
            "marker": {
             "colorbar": {
              "outlinewidth": 0,
              "ticks": ""
             }
            },
            "type": "scattercarpet"
           }
          ],
          "scattergeo": [
           {
            "marker": {
             "colorbar": {
              "outlinewidth": 0,
              "ticks": ""
             }
            },
            "type": "scattergeo"
           }
          ],
          "scattergl": [
           {
            "marker": {
             "colorbar": {
              "outlinewidth": 0,
              "ticks": ""
             }
            },
            "type": "scattergl"
           }
          ],
          "scattermapbox": [
           {
            "marker": {
             "colorbar": {
              "outlinewidth": 0,
              "ticks": ""
             }
            },
            "type": "scattermapbox"
           }
          ],
          "scatterpolar": [
           {
            "marker": {
             "colorbar": {
              "outlinewidth": 0,
              "ticks": ""
             }
            },
            "type": "scatterpolar"
           }
          ],
          "scatterpolargl": [
           {
            "marker": {
             "colorbar": {
              "outlinewidth": 0,
              "ticks": ""
             }
            },
            "type": "scatterpolargl"
           }
          ],
          "scatterternary": [
           {
            "marker": {
             "colorbar": {
              "outlinewidth": 0,
              "ticks": ""
             }
            },
            "type": "scatterternary"
           }
          ],
          "surface": [
           {
            "colorbar": {
             "outlinewidth": 0,
             "ticks": ""
            },
            "colorscale": [
             [
              0,
              "#0d0887"
             ],
             [
              0.1111111111111111,
              "#46039f"
             ],
             [
              0.2222222222222222,
              "#7201a8"
             ],
             [
              0.3333333333333333,
              "#9c179e"
             ],
             [
              0.4444444444444444,
              "#bd3786"
             ],
             [
              0.5555555555555556,
              "#d8576b"
             ],
             [
              0.6666666666666666,
              "#ed7953"
             ],
             [
              0.7777777777777778,
              "#fb9f3a"
             ],
             [
              0.8888888888888888,
              "#fdca26"
             ],
             [
              1,
              "#f0f921"
             ]
            ],
            "type": "surface"
           }
          ],
          "table": [
           {
            "cells": {
             "fill": {
              "color": "#EBF0F8"
             },
             "line": {
              "color": "white"
             }
            },
            "header": {
             "fill": {
              "color": "#C8D4E3"
             },
             "line": {
              "color": "white"
             }
            },
            "type": "table"
           }
          ]
         },
         "layout": {
          "annotationdefaults": {
           "arrowcolor": "#2a3f5f",
           "arrowhead": 0,
           "arrowwidth": 1
          },
          "autotypenumbers": "strict",
          "coloraxis": {
           "colorbar": {
            "outlinewidth": 0,
            "ticks": ""
           }
          },
          "colorscale": {
           "diverging": [
            [
             0,
             "#8e0152"
            ],
            [
             0.1,
             "#c51b7d"
            ],
            [
             0.2,
             "#de77ae"
            ],
            [
             0.3,
             "#f1b6da"
            ],
            [
             0.4,
             "#fde0ef"
            ],
            [
             0.5,
             "#f7f7f7"
            ],
            [
             0.6,
             "#e6f5d0"
            ],
            [
             0.7,
             "#b8e186"
            ],
            [
             0.8,
             "#7fbc41"
            ],
            [
             0.9,
             "#4d9221"
            ],
            [
             1,
             "#276419"
            ]
           ],
           "sequential": [
            [
             0,
             "#0d0887"
            ],
            [
             0.1111111111111111,
             "#46039f"
            ],
            [
             0.2222222222222222,
             "#7201a8"
            ],
            [
             0.3333333333333333,
             "#9c179e"
            ],
            [
             0.4444444444444444,
             "#bd3786"
            ],
            [
             0.5555555555555556,
             "#d8576b"
            ],
            [
             0.6666666666666666,
             "#ed7953"
            ],
            [
             0.7777777777777778,
             "#fb9f3a"
            ],
            [
             0.8888888888888888,
             "#fdca26"
            ],
            [
             1,
             "#f0f921"
            ]
           ],
           "sequentialminus": [
            [
             0,
             "#0d0887"
            ],
            [
             0.1111111111111111,
             "#46039f"
            ],
            [
             0.2222222222222222,
             "#7201a8"
            ],
            [
             0.3333333333333333,
             "#9c179e"
            ],
            [
             0.4444444444444444,
             "#bd3786"
            ],
            [
             0.5555555555555556,
             "#d8576b"
            ],
            [
             0.6666666666666666,
             "#ed7953"
            ],
            [
             0.7777777777777778,
             "#fb9f3a"
            ],
            [
             0.8888888888888888,
             "#fdca26"
            ],
            [
             1,
             "#f0f921"
            ]
           ]
          },
          "colorway": [
           "#636efa",
           "#EF553B",
           "#00cc96",
           "#ab63fa",
           "#FFA15A",
           "#19d3f3",
           "#FF6692",
           "#B6E880",
           "#FF97FF",
           "#FECB52"
          ],
          "font": {
           "color": "#2a3f5f"
          },
          "geo": {
           "bgcolor": "white",
           "lakecolor": "white",
           "landcolor": "#E5ECF6",
           "showlakes": true,
           "showland": true,
           "subunitcolor": "white"
          },
          "hoverlabel": {
           "align": "left"
          },
          "hovermode": "closest",
          "mapbox": {
           "style": "light"
          },
          "paper_bgcolor": "white",
          "plot_bgcolor": "#E5ECF6",
          "polar": {
           "angularaxis": {
            "gridcolor": "white",
            "linecolor": "white",
            "ticks": ""
           },
           "bgcolor": "#E5ECF6",
           "radialaxis": {
            "gridcolor": "white",
            "linecolor": "white",
            "ticks": ""
           }
          },
          "scene": {
           "xaxis": {
            "backgroundcolor": "#E5ECF6",
            "gridcolor": "white",
            "gridwidth": 2,
            "linecolor": "white",
            "showbackground": true,
            "ticks": "",
            "zerolinecolor": "white"
           },
           "yaxis": {
            "backgroundcolor": "#E5ECF6",
            "gridcolor": "white",
            "gridwidth": 2,
            "linecolor": "white",
            "showbackground": true,
            "ticks": "",
            "zerolinecolor": "white"
           },
           "zaxis": {
            "backgroundcolor": "#E5ECF6",
            "gridcolor": "white",
            "gridwidth": 2,
            "linecolor": "white",
            "showbackground": true,
            "ticks": "",
            "zerolinecolor": "white"
           }
          },
          "shapedefaults": {
           "line": {
            "color": "#2a3f5f"
           }
          },
          "ternary": {
           "aaxis": {
            "gridcolor": "white",
            "linecolor": "white",
            "ticks": ""
           },
           "baxis": {
            "gridcolor": "white",
            "linecolor": "white",
            "ticks": ""
           },
           "bgcolor": "#E5ECF6",
           "caxis": {
            "gridcolor": "white",
            "linecolor": "white",
            "ticks": ""
           }
          },
          "title": {
           "x": 0.05
          },
          "xaxis": {
           "automargin": true,
           "gridcolor": "white",
           "linecolor": "white",
           "ticks": "",
           "title": {
            "standoff": 15
           },
           "zerolinecolor": "white",
           "zerolinewidth": 2
          },
          "yaxis": {
           "automargin": true,
           "gridcolor": "white",
           "linecolor": "white",
           "ticks": "",
           "title": {
            "standoff": 15
           },
           "zerolinecolor": "white",
           "zerolinewidth": 2
          }
         }
        },
        "width": 700,
        "xaxis": {
         "anchor": "y",
         "domain": [
          0,
          1
         ],
         "tickfont": {
          "size": 16
         },
         "title": {
          "font": {
           "size": 18
          },
          "text": "Anteil Autorinnen"
         }
        },
        "yaxis": {
         "anchor": "x",
         "domain": [
          0,
          1
         ],
         "tickfont": {
          "size": 16
         },
         "ticksuffix": "  ",
         "title": {
          "font": {
           "size": 18
          },
          "text": ""
         }
        }
       }
      }
     },
     "metadata": {},
     "output_type": "display_data"
    },
    {
     "name": "stdout",
     "output_type": "stream",
     "text": [
      "Median Anteil Autorinnen : 0.1035\n"
     ]
    }
   ],
   "source": [
    "metrik = 'AnzahlZuLesen'\n",
    "\n",
    "data_plot = pd.DataFrame()\n",
    "for leseliste in leselisten:\n",
    "    data_leseliste = data[data[leseliste] > 0].copy()\n",
    "    data_leseliste['ListeAnzahlGenannt'] = 1\n",
    "    data_leseliste['ListeAnzahlGenannt_normalisiert'] = 1/data_leseliste.shape[0]\n",
    "    data_leseliste['ListeAnzahlZuLesen'] = data_leseliste[leseliste]\n",
    "    data_leseliste['ListeAnzahlZuLesen_normalisiert'] = data_leseliste[leseliste]/data_leseliste[leseliste].sum()\n",
    "    \n",
    "    summe_alle = data_leseliste['Liste'+metrik].sum()\n",
    "    summe_frauen = data_leseliste.query(\"Geschlecht == 'w'\")['Liste'+metrik].sum()\n",
    "    data_plot.at[leseliste, 'Frauenanteil'] = summe_frauen/summe_alle\n",
    "    data_plot.at[leseliste, 'Datum'] = leselisten_meta.query(\"Leseliste==@leseliste\")['Datum'].tolist()[0]\n",
    "\n",
    "fig = px.bar(\n",
    "    data_plot.sort_values(by='Frauenanteil'),\n",
    "    x = 'Frauenanteil',\n",
    "    orientation='h',\n",
    "    labels = {'Autor':'', 'Frauenanteil':'Anteil Autorinnen', 'index':''}\n",
    ")\n",
    "fig.update_layout(\n",
    "    height=1100, width = 700,\n",
    "    showlegend=False,\n",
    "    xaxis=dict(tickfont=dict(size=16), titlefont=dict(size=18)),\n",
    "    yaxis=dict(tickfont=dict(size=16), titlefont=dict(size=18), ticksuffix = \"  \"),\n",
    ")\n",
    "fig.write_image(\"plots/frauenanteil.pdf\")\n",
    "fig.show()\n",
    "\n",
    "print(f\"Median Anteil Autorinnen : {round(data_plot['Frauenanteil'].median(), 4)}\")"
   ]
  },
  {
   "cell_type": "code",
   "execution_count": 46,
   "id": "0c8b4fd9-c56f-48c3-9d05-d54b27177ea2",
   "metadata": {},
   "outputs": [
    {
     "data": {
      "application/vnd.plotly.v1+json": {
       "config": {
        "plotlyServerURL": "https://plot.ly"
       },
       "data": [
        {
         "hovertemplate": "Datum=%{x}<br>Anteil Autorinnen=%{y}<extra></extra>",
         "legendgroup": "",
         "marker": {
          "color": "#636efa",
          "symbol": "circle"
         },
         "mode": "markers",
         "name": "",
         "orientation": "v",
         "showlegend": false,
         "type": "scatter",
         "x": [
          2017,
          2020,
          null,
          null,
          null,
          2007,
          null,
          null,
          null,
          2021,
          null,
          2017,
          null,
          2023,
          null,
          2018,
          null,
          null,
          null,
          2018,
          null,
          null,
          null,
          null,
          2020,
          null,
          null,
          2020,
          null,
          null,
          2022,
          2007,
          null,
          2022,
          null,
          null,
          null,
          null,
          2015,
          2003,
          2019,
          2013
         ],
         "xaxis": "x",
         "y": [
          0.07694537928564563,
          0.24299065420560748,
          0.021052631578947368,
          0.1090547687408334,
          0.07848837209302326,
          0.04,
          0.02092050209205021,
          0.12521515852049078,
          0.12980769230769232,
          0.20930232558139536,
          0.09375000000000001,
          0.055742950846913865,
          0.16242937853197975,
          0.3009858323494687,
          0.21621621621621623,
          0.04946996466431095,
          0.08260869565217391,
          0.2346368715083799,
          0.12962962962962962,
          0.056125452534588546,
          0.1467065868263473,
          0.09797297297297297,
          0.11475409836065574,
          0.07594936708860761,
          0.1603498542274052,
          0.11320754716981132,
          0.06577027339502801,
          0.2828282828282828,
          0.044117647058823525,
          0.031496062992125984,
          0.2631578947368421,
          0.10990884648173652,
          0.19318181818181818,
          0.3465346534653465,
          0.2,
          0.051322823330741604,
          0.07692307692307693,
          0.165464733456947,
          0.04198473282442748,
          0.009800480388715681,
          0.05726872246696035,
          0.07468879668049792
         ],
         "yaxis": "y"
        }
       ],
       "layout": {
        "legend": {
         "tracegroupgap": 0
        },
        "margin": {
         "t": 60
        },
        "template": {
         "data": {
          "bar": [
           {
            "error_x": {
             "color": "#2a3f5f"
            },
            "error_y": {
             "color": "#2a3f5f"
            },
            "marker": {
             "line": {
              "color": "#E5ECF6",
              "width": 0.5
             },
             "pattern": {
              "fillmode": "overlay",
              "size": 10,
              "solidity": 0.2
             }
            },
            "type": "bar"
           }
          ],
          "barpolar": [
           {
            "marker": {
             "line": {
              "color": "#E5ECF6",
              "width": 0.5
             },
             "pattern": {
              "fillmode": "overlay",
              "size": 10,
              "solidity": 0.2
             }
            },
            "type": "barpolar"
           }
          ],
          "carpet": [
           {
            "aaxis": {
             "endlinecolor": "#2a3f5f",
             "gridcolor": "white",
             "linecolor": "white",
             "minorgridcolor": "white",
             "startlinecolor": "#2a3f5f"
            },
            "baxis": {
             "endlinecolor": "#2a3f5f",
             "gridcolor": "white",
             "linecolor": "white",
             "minorgridcolor": "white",
             "startlinecolor": "#2a3f5f"
            },
            "type": "carpet"
           }
          ],
          "choropleth": [
           {
            "colorbar": {
             "outlinewidth": 0,
             "ticks": ""
            },
            "type": "choropleth"
           }
          ],
          "contour": [
           {
            "colorbar": {
             "outlinewidth": 0,
             "ticks": ""
            },
            "colorscale": [
             [
              0,
              "#0d0887"
             ],
             [
              0.1111111111111111,
              "#46039f"
             ],
             [
              0.2222222222222222,
              "#7201a8"
             ],
             [
              0.3333333333333333,
              "#9c179e"
             ],
             [
              0.4444444444444444,
              "#bd3786"
             ],
             [
              0.5555555555555556,
              "#d8576b"
             ],
             [
              0.6666666666666666,
              "#ed7953"
             ],
             [
              0.7777777777777778,
              "#fb9f3a"
             ],
             [
              0.8888888888888888,
              "#fdca26"
             ],
             [
              1,
              "#f0f921"
             ]
            ],
            "type": "contour"
           }
          ],
          "contourcarpet": [
           {
            "colorbar": {
             "outlinewidth": 0,
             "ticks": ""
            },
            "type": "contourcarpet"
           }
          ],
          "heatmap": [
           {
            "colorbar": {
             "outlinewidth": 0,
             "ticks": ""
            },
            "colorscale": [
             [
              0,
              "#0d0887"
             ],
             [
              0.1111111111111111,
              "#46039f"
             ],
             [
              0.2222222222222222,
              "#7201a8"
             ],
             [
              0.3333333333333333,
              "#9c179e"
             ],
             [
              0.4444444444444444,
              "#bd3786"
             ],
             [
              0.5555555555555556,
              "#d8576b"
             ],
             [
              0.6666666666666666,
              "#ed7953"
             ],
             [
              0.7777777777777778,
              "#fb9f3a"
             ],
             [
              0.8888888888888888,
              "#fdca26"
             ],
             [
              1,
              "#f0f921"
             ]
            ],
            "type": "heatmap"
           }
          ],
          "heatmapgl": [
           {
            "colorbar": {
             "outlinewidth": 0,
             "ticks": ""
            },
            "colorscale": [
             [
              0,
              "#0d0887"
             ],
             [
              0.1111111111111111,
              "#46039f"
             ],
             [
              0.2222222222222222,
              "#7201a8"
             ],
             [
              0.3333333333333333,
              "#9c179e"
             ],
             [
              0.4444444444444444,
              "#bd3786"
             ],
             [
              0.5555555555555556,
              "#d8576b"
             ],
             [
              0.6666666666666666,
              "#ed7953"
             ],
             [
              0.7777777777777778,
              "#fb9f3a"
             ],
             [
              0.8888888888888888,
              "#fdca26"
             ],
             [
              1,
              "#f0f921"
             ]
            ],
            "type": "heatmapgl"
           }
          ],
          "histogram": [
           {
            "marker": {
             "pattern": {
              "fillmode": "overlay",
              "size": 10,
              "solidity": 0.2
             }
            },
            "type": "histogram"
           }
          ],
          "histogram2d": [
           {
            "colorbar": {
             "outlinewidth": 0,
             "ticks": ""
            },
            "colorscale": [
             [
              0,
              "#0d0887"
             ],
             [
              0.1111111111111111,
              "#46039f"
             ],
             [
              0.2222222222222222,
              "#7201a8"
             ],
             [
              0.3333333333333333,
              "#9c179e"
             ],
             [
              0.4444444444444444,
              "#bd3786"
             ],
             [
              0.5555555555555556,
              "#d8576b"
             ],
             [
              0.6666666666666666,
              "#ed7953"
             ],
             [
              0.7777777777777778,
              "#fb9f3a"
             ],
             [
              0.8888888888888888,
              "#fdca26"
             ],
             [
              1,
              "#f0f921"
             ]
            ],
            "type": "histogram2d"
           }
          ],
          "histogram2dcontour": [
           {
            "colorbar": {
             "outlinewidth": 0,
             "ticks": ""
            },
            "colorscale": [
             [
              0,
              "#0d0887"
             ],
             [
              0.1111111111111111,
              "#46039f"
             ],
             [
              0.2222222222222222,
              "#7201a8"
             ],
             [
              0.3333333333333333,
              "#9c179e"
             ],
             [
              0.4444444444444444,
              "#bd3786"
             ],
             [
              0.5555555555555556,
              "#d8576b"
             ],
             [
              0.6666666666666666,
              "#ed7953"
             ],
             [
              0.7777777777777778,
              "#fb9f3a"
             ],
             [
              0.8888888888888888,
              "#fdca26"
             ],
             [
              1,
              "#f0f921"
             ]
            ],
            "type": "histogram2dcontour"
           }
          ],
          "mesh3d": [
           {
            "colorbar": {
             "outlinewidth": 0,
             "ticks": ""
            },
            "type": "mesh3d"
           }
          ],
          "parcoords": [
           {
            "line": {
             "colorbar": {
              "outlinewidth": 0,
              "ticks": ""
             }
            },
            "type": "parcoords"
           }
          ],
          "pie": [
           {
            "automargin": true,
            "type": "pie"
           }
          ],
          "scatter": [
           {
            "fillpattern": {
             "fillmode": "overlay",
             "size": 10,
             "solidity": 0.2
            },
            "type": "scatter"
           }
          ],
          "scatter3d": [
           {
            "line": {
             "colorbar": {
              "outlinewidth": 0,
              "ticks": ""
             }
            },
            "marker": {
             "colorbar": {
              "outlinewidth": 0,
              "ticks": ""
             }
            },
            "type": "scatter3d"
           }
          ],
          "scattercarpet": [
           {
            "marker": {
             "colorbar": {
              "outlinewidth": 0,
              "ticks": ""
             }
            },
            "type": "scattercarpet"
           }
          ],
          "scattergeo": [
           {
            "marker": {
             "colorbar": {
              "outlinewidth": 0,
              "ticks": ""
             }
            },
            "type": "scattergeo"
           }
          ],
          "scattergl": [
           {
            "marker": {
             "colorbar": {
              "outlinewidth": 0,
              "ticks": ""
             }
            },
            "type": "scattergl"
           }
          ],
          "scattermapbox": [
           {
            "marker": {
             "colorbar": {
              "outlinewidth": 0,
              "ticks": ""
             }
            },
            "type": "scattermapbox"
           }
          ],
          "scatterpolar": [
           {
            "marker": {
             "colorbar": {
              "outlinewidth": 0,
              "ticks": ""
             }
            },
            "type": "scatterpolar"
           }
          ],
          "scatterpolargl": [
           {
            "marker": {
             "colorbar": {
              "outlinewidth": 0,
              "ticks": ""
             }
            },
            "type": "scatterpolargl"
           }
          ],
          "scatterternary": [
           {
            "marker": {
             "colorbar": {
              "outlinewidth": 0,
              "ticks": ""
             }
            },
            "type": "scatterternary"
           }
          ],
          "surface": [
           {
            "colorbar": {
             "outlinewidth": 0,
             "ticks": ""
            },
            "colorscale": [
             [
              0,
              "#0d0887"
             ],
             [
              0.1111111111111111,
              "#46039f"
             ],
             [
              0.2222222222222222,
              "#7201a8"
             ],
             [
              0.3333333333333333,
              "#9c179e"
             ],
             [
              0.4444444444444444,
              "#bd3786"
             ],
             [
              0.5555555555555556,
              "#d8576b"
             ],
             [
              0.6666666666666666,
              "#ed7953"
             ],
             [
              0.7777777777777778,
              "#fb9f3a"
             ],
             [
              0.8888888888888888,
              "#fdca26"
             ],
             [
              1,
              "#f0f921"
             ]
            ],
            "type": "surface"
           }
          ],
          "table": [
           {
            "cells": {
             "fill": {
              "color": "#EBF0F8"
             },
             "line": {
              "color": "white"
             }
            },
            "header": {
             "fill": {
              "color": "#C8D4E3"
             },
             "line": {
              "color": "white"
             }
            },
            "type": "table"
           }
          ]
         },
         "layout": {
          "annotationdefaults": {
           "arrowcolor": "#2a3f5f",
           "arrowhead": 0,
           "arrowwidth": 1
          },
          "autotypenumbers": "strict",
          "coloraxis": {
           "colorbar": {
            "outlinewidth": 0,
            "ticks": ""
           }
          },
          "colorscale": {
           "diverging": [
            [
             0,
             "#8e0152"
            ],
            [
             0.1,
             "#c51b7d"
            ],
            [
             0.2,
             "#de77ae"
            ],
            [
             0.3,
             "#f1b6da"
            ],
            [
             0.4,
             "#fde0ef"
            ],
            [
             0.5,
             "#f7f7f7"
            ],
            [
             0.6,
             "#e6f5d0"
            ],
            [
             0.7,
             "#b8e186"
            ],
            [
             0.8,
             "#7fbc41"
            ],
            [
             0.9,
             "#4d9221"
            ],
            [
             1,
             "#276419"
            ]
           ],
           "sequential": [
            [
             0,
             "#0d0887"
            ],
            [
             0.1111111111111111,
             "#46039f"
            ],
            [
             0.2222222222222222,
             "#7201a8"
            ],
            [
             0.3333333333333333,
             "#9c179e"
            ],
            [
             0.4444444444444444,
             "#bd3786"
            ],
            [
             0.5555555555555556,
             "#d8576b"
            ],
            [
             0.6666666666666666,
             "#ed7953"
            ],
            [
             0.7777777777777778,
             "#fb9f3a"
            ],
            [
             0.8888888888888888,
             "#fdca26"
            ],
            [
             1,
             "#f0f921"
            ]
           ],
           "sequentialminus": [
            [
             0,
             "#0d0887"
            ],
            [
             0.1111111111111111,
             "#46039f"
            ],
            [
             0.2222222222222222,
             "#7201a8"
            ],
            [
             0.3333333333333333,
             "#9c179e"
            ],
            [
             0.4444444444444444,
             "#bd3786"
            ],
            [
             0.5555555555555556,
             "#d8576b"
            ],
            [
             0.6666666666666666,
             "#ed7953"
            ],
            [
             0.7777777777777778,
             "#fb9f3a"
            ],
            [
             0.8888888888888888,
             "#fdca26"
            ],
            [
             1,
             "#f0f921"
            ]
           ]
          },
          "colorway": [
           "#636efa",
           "#EF553B",
           "#00cc96",
           "#ab63fa",
           "#FFA15A",
           "#19d3f3",
           "#FF6692",
           "#B6E880",
           "#FF97FF",
           "#FECB52"
          ],
          "font": {
           "color": "#2a3f5f"
          },
          "geo": {
           "bgcolor": "white",
           "lakecolor": "white",
           "landcolor": "#E5ECF6",
           "showlakes": true,
           "showland": true,
           "subunitcolor": "white"
          },
          "hoverlabel": {
           "align": "left"
          },
          "hovermode": "closest",
          "mapbox": {
           "style": "light"
          },
          "paper_bgcolor": "white",
          "plot_bgcolor": "#E5ECF6",
          "polar": {
           "angularaxis": {
            "gridcolor": "white",
            "linecolor": "white",
            "ticks": ""
           },
           "bgcolor": "#E5ECF6",
           "radialaxis": {
            "gridcolor": "white",
            "linecolor": "white",
            "ticks": ""
           }
          },
          "scene": {
           "xaxis": {
            "backgroundcolor": "#E5ECF6",
            "gridcolor": "white",
            "gridwidth": 2,
            "linecolor": "white",
            "showbackground": true,
            "ticks": "",
            "zerolinecolor": "white"
           },
           "yaxis": {
            "backgroundcolor": "#E5ECF6",
            "gridcolor": "white",
            "gridwidth": 2,
            "linecolor": "white",
            "showbackground": true,
            "ticks": "",
            "zerolinecolor": "white"
           },
           "zaxis": {
            "backgroundcolor": "#E5ECF6",
            "gridcolor": "white",
            "gridwidth": 2,
            "linecolor": "white",
            "showbackground": true,
            "ticks": "",
            "zerolinecolor": "white"
           }
          },
          "shapedefaults": {
           "line": {
            "color": "#2a3f5f"
           }
          },
          "ternary": {
           "aaxis": {
            "gridcolor": "white",
            "linecolor": "white",
            "ticks": ""
           },
           "baxis": {
            "gridcolor": "white",
            "linecolor": "white",
            "ticks": ""
           },
           "bgcolor": "#E5ECF6",
           "caxis": {
            "gridcolor": "white",
            "linecolor": "white",
            "ticks": ""
           }
          },
          "title": {
           "x": 0.05
          },
          "xaxis": {
           "automargin": true,
           "gridcolor": "white",
           "linecolor": "white",
           "ticks": "",
           "title": {
            "standoff": 15
           },
           "zerolinecolor": "white",
           "zerolinewidth": 2
          },
          "yaxis": {
           "automargin": true,
           "gridcolor": "white",
           "linecolor": "white",
           "ticks": "",
           "title": {
            "standoff": 15
           },
           "zerolinecolor": "white",
           "zerolinewidth": 2
          }
         }
        },
        "xaxis": {
         "anchor": "y",
         "domain": [
          0,
          1
         ],
         "title": {
          "text": "Datum"
         }
        },
        "yaxis": {
         "anchor": "x",
         "domain": [
          0,
          1
         ],
         "title": {
          "text": "Anteil Autorinnen"
         }
        }
       }
      }
     },
     "metadata": {},
     "output_type": "display_data"
    }
   ],
   "source": [
    "px.scatter(\n",
    "    data_plot,\n",
    "    x = 'Datum',\n",
    "    y = 'Frauenanteil',\n",
    "    labels = {'Frauenanteil' : 'Anteil Autorinnen'}\n",
    ")"
   ]
  },
  {
   "cell_type": "markdown",
   "id": "379c7dc7-19dc-4fbe-8f1d-b68a3f3f3d23",
   "metadata": {},
   "source": [
    "# 5.4 Titel"
   ]
  },
  {
   "cell_type": "code",
   "execution_count": 47,
   "id": "d8ed7ded-e246-4897-b0b3-02ca4b55848e",
   "metadata": {},
   "outputs": [
    {
     "name": "stdout",
     "output_type": "stream",
     "text": [
      "Titel insgesamt                            : 2425\n"
     ]
    },
    {
     "data": {
      "application/vnd.plotly.v1+json": {
       "config": {
        "plotlyServerURL": "https://plot.ly"
       },
       "data": [
        {
         "alignmentgroup": "True",
         "bingroup": "x",
         "hovertemplate": "variable=AnzahlGenannt<br>AnzahlGenannt=%{x}<br>count=%{y}<extra></extra>",
         "legendgroup": "AnzahlGenannt",
         "marker": {
          "color": "#636efa",
          "pattern": {
           "shape": ""
          }
         },
         "name": "AnzahlGenannt",
         "offsetgroup": "AnzahlGenannt",
         "orientation": "v",
         "showlegend": true,
         "type": "histogram",
         "x": [
          2,
          1,
          1,
          1,
          1,
          1,
          2,
          1,
          2,
          1,
          6,
          2,
          1,
          3,
          14,
          1,
          1,
          1,
          4,
          1,
          1,
          1,
          1,
          1,
          1,
          2,
          2,
          1,
          10,
          2,
          1,
          1,
          1,
          2,
          1,
          3,
          2,
          3,
          1,
          1,
          1,
          1,
          1,
          1,
          1,
          4,
          2,
          1,
          8,
          2,
          2,
          14,
          1,
          1,
          1,
          3,
          7,
          7,
          2,
          6,
          1,
          1,
          1,
          3,
          1,
          1,
          1,
          1,
          6,
          1,
          1,
          8,
          1,
          9,
          1,
          2,
          9,
          7,
          1,
          2,
          1,
          3,
          16,
          1,
          16,
          1,
          2,
          1,
          6,
          1,
          1,
          7,
          4,
          1,
          1,
          2,
          1,
          2,
          1,
          1,
          1,
          2,
          1,
          1,
          5,
          1,
          1,
          1,
          1,
          2,
          1,
          1,
          1,
          15,
          1,
          3,
          1,
          1,
          1,
          4,
          6,
          1,
          10,
          1,
          1,
          4,
          2,
          2,
          1,
          1,
          3,
          1,
          1,
          2,
          1,
          2,
          1,
          16,
          10,
          2,
          3,
          2,
          3,
          10,
          1,
          3,
          11,
          3,
          7,
          2,
          2,
          2,
          4,
          1,
          1,
          2,
          1,
          1,
          7,
          4,
          10,
          1,
          6,
          2,
          2,
          2,
          1,
          7,
          2,
          2,
          1,
          5,
          3,
          4,
          2,
          1,
          5,
          16,
          2,
          1,
          1,
          6,
          2,
          2,
          1,
          12,
          2,
          1,
          1,
          3,
          1,
          10,
          1,
          3,
          1,
          1,
          1,
          2,
          2,
          1,
          1,
          1,
          1,
          1,
          5,
          5,
          2,
          3,
          1,
          1,
          1,
          3,
          2,
          1,
          12,
          10,
          1,
          1,
          8,
          3,
          1,
          1,
          1,
          5,
          3,
          12,
          1,
          2,
          1,
          1,
          15,
          4,
          1,
          1,
          1,
          1,
          4,
          3,
          1,
          1,
          1,
          1,
          2,
          1,
          3,
          1,
          3,
          2,
          1,
          2,
          2,
          2,
          2,
          1,
          10,
          12,
          8,
          1,
          1,
          1,
          9,
          1,
          2,
          7,
          2,
          1,
          1,
          1,
          16,
          4,
          1,
          1,
          4,
          2,
          1,
          16,
          2,
          1,
          2,
          3,
          2,
          12,
          16,
          1,
          1,
          16,
          1,
          1,
          7,
          2,
          1,
          4,
          2,
          1,
          2,
          1,
          1,
          2,
          1,
          2,
          1,
          1,
          12,
          15,
          2,
          3,
          1,
          1,
          2,
          2,
          3,
          1,
          1,
          8,
          2,
          5,
          6,
          1,
          5,
          12,
          1,
          1,
          1,
          1,
          1,
          1,
          7,
          9,
          1,
          1,
          1,
          1,
          7,
          16,
          4,
          1,
          16,
          13,
          16,
          1,
          1,
          5,
          1,
          2,
          1,
          3,
          1,
          5,
          1,
          2,
          8,
          1,
          1,
          1,
          5,
          2,
          1,
          1,
          16,
          2,
          10,
          2,
          1,
          1,
          1,
          2,
          1,
          1,
          1,
          1,
          1,
          2,
          12,
          5,
          2,
          2,
          2,
          2,
          16,
          7,
          2,
          3,
          2,
          5,
          2,
          2,
          1,
          16,
          1,
          1,
          1,
          1,
          6,
          2,
          1,
          3,
          5,
          1,
          1,
          1,
          1,
          1,
          2,
          1,
          1,
          1,
          1,
          1,
          1,
          1,
          1,
          1,
          1,
          1,
          1,
          3,
          16,
          4,
          1,
          1,
          12,
          1,
          1,
          2,
          1,
          7,
          2,
          2,
          1,
          1,
          4,
          2,
          1,
          3,
          3,
          1,
          1,
          1,
          2,
          1,
          1,
          1,
          2,
          1,
          16,
          16,
          1,
          1,
          1,
          1,
          1,
          1,
          1,
          1,
          1,
          16,
          6,
          1,
          1,
          2,
          16,
          1,
          2,
          1,
          1,
          2,
          1,
          2,
          10,
          3,
          4,
          1,
          1,
          1,
          1,
          4,
          4,
          6,
          1,
          8,
          1,
          1,
          1,
          1,
          8,
          1,
          1,
          1,
          8,
          16,
          16,
          1,
          2,
          2,
          2,
          1,
          1,
          16,
          1,
          2,
          2,
          4,
          2,
          2,
          2,
          3,
          2,
          4,
          1,
          1,
          1,
          1,
          6,
          2,
          4,
          1,
          1,
          1,
          1,
          1,
          3,
          1,
          1,
          1,
          1,
          3,
          1,
          1,
          15,
          7,
          2,
          1,
          1,
          1,
          1,
          4,
          1,
          1,
          1,
          1,
          1,
          1,
          1,
          1,
          3,
          1,
          2,
          2,
          3,
          4,
          1,
          4,
          1,
          5,
          1,
          2,
          1,
          1,
          1,
          2,
          3,
          1,
          8,
          5,
          16,
          4,
          2,
          2,
          9,
          2,
          2,
          1,
          1,
          15,
          1,
          1,
          16,
          1,
          8,
          1,
          2,
          13,
          1,
          5,
          1,
          1,
          3,
          1,
          1,
          1,
          2,
          1,
          3,
          1,
          1,
          1,
          3,
          1,
          1,
          1,
          2,
          6,
          1,
          4,
          2,
          1,
          1,
          6,
          1,
          5,
          1,
          2,
          10,
          7,
          1,
          4,
          1,
          1,
          16,
          9,
          2,
          1,
          16,
          2,
          1,
          1,
          2,
          2,
          3,
          1,
          2,
          2,
          1,
          1,
          1,
          3,
          1,
          1,
          10,
          2,
          3,
          3,
          13,
          11,
          1,
          1,
          1,
          1,
          1,
          1,
          1,
          2,
          2,
          7,
          2,
          3,
          1,
          2,
          2,
          2,
          16,
          2,
          1,
          1,
          4,
          2,
          2,
          2,
          2,
          4,
          2,
          1,
          7,
          1,
          1,
          1,
          2,
          1,
          1,
          1,
          1,
          1,
          1,
          6,
          1,
          7,
          1,
          1,
          2,
          4,
          1,
          2,
          1,
          1,
          1,
          1,
          1,
          1,
          3,
          2,
          2,
          9,
          1,
          1,
          1,
          2,
          16,
          1,
          16,
          4,
          6,
          3,
          16,
          16,
          3,
          16,
          16,
          2,
          1,
          3,
          2,
          16,
          3,
          1,
          2,
          1,
          1,
          1,
          2,
          6,
          7,
          1,
          7,
          1,
          2,
          2,
          2,
          16,
          11,
          2,
          1,
          2,
          10,
          16,
          6,
          3,
          3,
          1,
          1,
          9,
          2,
          2,
          1,
          2,
          1,
          1,
          4,
          2,
          1,
          2,
          1,
          1,
          16,
          1,
          1,
          1,
          1,
          9,
          1,
          16,
          13,
          15,
          1,
          5,
          10,
          1,
          1,
          1,
          2,
          16,
          1,
          1,
          1,
          1,
          4,
          9,
          2,
          1,
          3,
          1,
          1,
          4,
          4,
          1,
          2,
          16,
          5,
          5,
          5,
          8,
          8,
          4,
          3,
          1,
          1,
          10,
          1,
          1,
          16,
          16,
          5,
          1,
          1,
          2,
          3,
          1,
          11,
          2,
          3,
          7,
          1,
          1,
          1,
          1,
          1,
          1,
          10,
          1,
          2,
          1,
          5,
          16,
          4,
          5,
          15,
          10,
          2,
          3,
          3,
          5,
          2,
          5,
          1,
          2,
          1,
          1,
          1,
          1,
          1,
          1,
          10,
          1,
          3,
          2,
          1,
          1,
          1,
          7,
          1,
          1,
          3,
          1,
          1,
          1,
          1,
          1,
          3,
          1,
          1,
          1,
          1,
          1,
          4,
          2,
          1,
          1,
          2,
          1,
          1,
          1,
          8,
          2,
          1,
          1,
          1,
          1,
          1,
          2,
          1,
          1,
          1,
          1,
          1,
          7,
          4,
          5,
          1,
          6,
          5,
          1,
          3,
          10,
          1,
          2,
          2,
          3,
          16,
          1,
          1,
          15,
          1,
          1,
          2,
          1,
          1,
          2,
          2,
          2,
          1,
          3,
          2,
          1,
          5,
          1,
          1,
          1,
          1,
          2,
          1,
          1,
          1,
          3,
          1,
          1,
          1,
          16,
          7,
          1,
          7,
          16,
          1,
          1,
          1,
          16,
          1,
          1,
          9,
          1,
          7,
          2,
          2,
          4,
          16,
          1,
          13,
          1,
          3,
          1,
          3,
          1,
          1,
          13,
          1,
          4,
          2,
          1,
          3,
          13,
          2,
          2,
          16,
          11,
          3,
          8,
          2,
          2,
          2,
          1,
          16,
          3,
          3,
          1,
          2,
          2,
          2,
          1,
          8,
          6,
          2,
          1,
          1,
          2,
          2,
          7,
          1,
          3,
          1,
          1,
          1,
          1,
          1,
          3,
          2,
          1,
          6,
          1,
          1,
          1,
          3,
          1,
          4,
          2,
          7,
          8,
          1,
          1,
          5,
          6,
          2,
          6,
          16,
          1,
          1,
          1,
          3,
          8,
          1,
          1,
          1,
          1,
          2,
          2,
          2,
          2,
          2,
          2,
          10,
          1,
          1,
          1,
          1,
          1,
          4,
          1,
          1,
          2,
          3,
          6,
          2,
          2,
          10,
          2,
          1,
          3,
          9,
          2,
          1,
          1,
          9,
          2,
          2,
          8,
          16,
          16,
          1,
          2,
          6,
          4,
          2,
          3,
          1,
          16,
          1,
          1,
          6,
          1,
          2,
          5,
          1,
          1,
          2,
          9,
          2,
          1,
          1,
          1,
          1,
          6,
          9,
          3,
          16,
          2,
          13,
          2,
          2,
          1,
          16,
          9,
          1,
          4,
          2,
          14,
          4,
          2,
          10,
          3,
          1,
          4,
          1,
          1,
          1,
          2,
          1,
          1,
          2,
          3,
          2,
          4,
          1,
          2,
          5,
          1,
          3,
          16,
          1,
          2,
          16,
          5,
          2,
          1,
          2,
          1,
          1,
          1,
          4,
          1,
          15,
          8,
          1,
          16,
          5,
          1,
          1,
          2,
          2,
          1,
          1,
          16,
          4,
          2,
          6,
          7,
          1,
          1,
          1,
          2,
          1,
          3,
          2,
          1,
          10,
          1,
          6,
          1,
          1,
          1,
          1,
          1,
          1,
          2,
          1,
          1,
          1,
          1,
          3,
          1,
          1,
          2,
          1,
          1,
          1,
          1,
          1,
          1,
          3,
          1,
          1,
          3,
          2,
          2,
          5,
          2,
          2,
          2,
          1,
          11,
          2,
          13,
          2,
          2,
          4,
          5,
          1,
          2,
          1,
          3,
          15,
          7,
          6,
          1,
          1,
          16,
          9,
          8,
          1,
          1,
          3,
          16,
          4,
          3,
          6,
          1,
          3,
          13,
          2,
          3,
          1,
          4,
          4,
          1,
          1,
          1,
          1,
          1,
          2,
          1,
          11,
          16,
          1,
          2,
          1,
          4,
          10,
          3,
          1,
          11,
          1,
          3,
          2,
          4,
          16,
          1,
          16,
          16,
          9,
          16,
          1,
          4,
          5,
          1,
          1,
          8,
          1,
          10,
          1,
          1,
          1,
          1,
          1,
          2,
          1,
          1,
          4,
          4,
          1,
          7,
          1,
          1,
          2,
          6,
          1,
          1,
          1,
          1,
          2,
          4,
          7,
          1,
          1,
          1,
          1,
          5,
          2,
          2,
          1,
          1,
          3,
          3,
          5,
          1,
          1,
          2,
          1,
          1,
          1,
          8,
          13,
          1,
          4,
          2,
          1,
          1,
          1,
          1,
          6,
          1,
          1,
          1,
          16,
          16,
          3,
          1,
          4,
          3,
          3,
          12,
          1,
          3,
          3,
          3,
          1,
          6,
          1,
          1,
          1,
          1,
          16,
          3,
          1,
          2,
          1,
          2,
          13,
          1,
          1,
          1,
          9,
          1,
          1,
          1,
          2,
          1,
          3,
          1,
          1,
          1,
          1,
          9,
          2,
          1,
          1,
          16,
          8,
          2,
          16,
          2,
          16,
          1,
          2,
          2,
          13,
          15,
          16,
          16,
          16,
          5,
          1,
          1,
          3,
          6,
          14,
          1,
          4,
          1,
          3,
          3,
          2,
          1,
          2,
          1,
          8,
          4,
          1,
          1,
          3,
          8,
          1,
          14,
          1,
          1,
          5,
          1,
          5,
          11,
          2,
          8,
          5,
          1,
          3,
          1,
          1,
          16,
          1,
          1,
          1,
          1,
          1,
          1,
          2,
          1,
          2,
          1,
          2,
          1,
          1,
          1,
          3,
          1,
          16,
          1,
          3,
          1,
          15,
          2,
          1,
          1,
          3,
          1,
          1,
          1,
          1,
          1,
          1,
          1,
          1,
          1,
          1,
          4,
          3,
          1,
          1,
          1,
          4,
          1,
          1,
          1,
          1,
          1,
          1,
          1,
          1,
          1,
          1,
          1,
          3,
          1,
          16,
          1,
          1,
          1,
          1,
          2,
          3,
          1,
          2,
          6,
          3,
          2,
          15,
          2,
          2,
          1,
          3,
          6,
          1,
          1,
          1,
          2,
          3,
          1,
          2,
          1,
          1,
          1,
          1,
          2,
          7,
          1,
          1,
          7,
          16,
          16,
          1,
          1,
          1,
          1,
          1,
          13,
          1,
          1,
          2,
          7,
          1,
          1,
          2,
          1,
          1,
          2,
          1,
          16,
          8,
          1,
          14,
          10,
          16,
          12,
          16,
          1,
          1,
          1,
          1,
          1,
          1,
          3,
          1,
          6,
          1,
          6,
          1,
          1,
          2,
          1,
          1,
          1,
          4,
          1,
          3,
          1,
          2,
          2,
          3,
          2,
          15,
          2,
          1,
          1,
          16,
          1,
          1,
          1,
          1,
          1,
          1,
          4,
          4,
          1,
          1,
          1,
          5,
          1,
          1,
          1,
          1,
          1,
          16,
          3,
          1,
          1,
          3,
          1,
          1,
          1,
          7,
          2,
          2,
          6,
          16,
          16,
          5,
          16,
          5,
          16,
          1,
          1,
          9,
          14,
          1,
          1,
          1,
          1,
          1,
          2,
          2,
          1,
          5,
          1,
          3,
          1,
          1,
          1,
          1,
          2,
          1,
          5,
          1,
          1,
          1,
          1,
          9,
          1,
          2,
          1,
          1,
          1,
          1,
          2,
          1,
          1,
          1,
          1,
          4,
          1,
          1,
          1,
          1,
          1,
          1,
          1,
          1,
          1,
          2,
          1,
          2,
          1,
          7,
          1,
          5,
          5,
          6,
          8,
          2,
          12,
          1,
          5,
          1,
          1,
          1,
          5,
          1,
          1,
          1,
          1,
          1,
          1,
          1,
          1,
          2,
          2,
          5,
          4,
          1,
          6,
          1,
          2,
          1,
          3,
          2,
          2,
          2,
          2,
          2,
          1,
          16,
          1,
          2,
          6,
          15,
          16,
          4,
          1,
          1,
          1,
          1,
          1,
          9,
          1,
          2,
          6,
          16,
          1,
          1,
          1,
          5,
          1,
          1,
          4,
          1,
          16,
          1,
          1,
          6,
          3,
          1,
          1,
          1,
          1,
          2,
          2,
          1,
          2,
          2,
          1,
          2,
          16,
          2,
          1,
          16,
          8,
          1,
          2,
          4,
          5,
          1,
          11,
          8,
          1,
          1,
          6,
          4,
          2,
          1,
          1,
          2,
          2,
          8,
          3,
          1,
          1,
          11,
          1,
          1,
          1,
          1,
          1,
          4,
          1,
          1,
          1,
          1,
          1,
          1,
          4,
          1,
          1,
          3,
          1,
          1,
          1,
          1,
          2,
          1,
          6,
          1,
          16,
          16,
          7,
          1,
          1,
          1,
          1,
          16,
          2,
          9,
          2,
          1,
          1,
          1,
          2,
          1,
          4,
          4,
          3,
          1,
          1,
          1,
          1,
          1,
          2,
          1,
          1,
          1,
          1,
          1,
          1,
          1,
          1,
          1,
          1,
          1,
          4,
          10,
          2,
          6,
          1,
          1,
          9,
          1,
          1,
          1,
          1,
          1,
          1,
          1,
          3,
          1,
          1,
          1,
          1,
          2,
          2,
          6,
          2,
          3,
          9,
          4,
          1,
          1,
          1,
          1,
          3,
          16,
          1,
          1,
          2,
          1,
          3,
          5,
          1,
          1,
          1,
          1,
          1,
          1,
          16,
          2,
          2,
          1,
          1,
          1,
          2,
          1,
          1,
          2,
          1,
          4,
          1,
          1,
          1,
          9,
          1,
          1,
          8,
          2,
          3,
          1,
          2,
          3,
          1,
          3,
          1,
          3,
          1,
          1,
          3,
          16,
          14,
          2,
          16,
          11,
          2,
          9,
          2,
          2,
          2,
          1,
          1,
          2,
          1,
          1,
          1,
          1,
          6,
          1,
          1,
          1,
          1,
          1,
          1,
          1,
          1,
          6,
          1,
          1,
          10,
          2,
          13,
          1,
          2,
          1,
          2,
          1,
          1,
          4,
          1,
          4,
          2,
          6,
          3,
          2,
          1,
          2,
          1,
          2,
          1,
          1,
          1,
          1,
          2,
          10,
          1,
          1,
          1,
          1,
          1,
          1,
          1,
          1,
          1,
          2,
          1,
          1,
          1,
          2,
          2,
          1,
          5,
          1,
          1,
          6,
          2,
          1,
          6,
          3,
          1,
          2,
          2,
          3,
          8,
          1,
          3,
          5,
          2,
          3,
          3,
          16,
          1,
          2,
          14,
          1,
          1,
          1,
          5,
          8,
          16,
          16,
          3,
          2,
          1,
          7,
          3,
          15,
          13,
          16,
          1,
          6,
          15,
          2,
          1,
          1,
          1,
          5,
          7,
          1,
          5,
          14,
          7,
          16,
          1,
          1,
          2,
          3,
          3,
          2,
          1,
          6,
          1,
          1,
          1,
          6,
          8,
          2,
          4,
          8,
          2,
          2,
          1,
          1,
          1,
          1,
          10,
          2,
          1,
          1,
          1,
          2,
          9,
          2,
          1,
          16,
          1,
          1,
          2,
          16,
          16,
          4,
          1,
          2,
          2,
          10,
          1,
          1,
          1,
          1,
          2,
          1,
          1,
          1,
          1,
          11,
          5,
          1,
          1,
          1,
          4,
          1,
          1,
          1,
          1,
          1,
          1,
          5,
          7,
          1,
          13,
          8,
          4,
          1,
          16,
          2,
          1,
          8,
          1,
          1,
          1,
          1,
          9,
          1,
          3,
          1,
          1,
          1,
          1,
          2,
          1,
          3,
          1,
          1,
          1,
          1,
          1,
          1,
          2,
          6,
          1,
          1,
          1,
          1,
          1,
          1,
          4,
          1,
          2,
          1,
          2,
          1,
          4,
          1,
          3,
          2,
          2,
          1,
          2,
          1,
          1,
          1,
          5,
          7,
          2,
          1,
          1,
          1,
          6,
          6,
          16,
          4,
          16,
          2,
          4,
          1,
          1,
          3,
          6,
          1,
          1,
          1,
          2,
          1,
          16,
          2,
          8,
          1,
          3,
          6,
          2,
          1,
          5,
          4,
          1,
          2,
          4,
          2,
          1,
          3,
          1,
          5,
          1,
          16,
          1,
          12,
          1,
          2,
          2,
          1,
          1,
          2,
          1,
          1,
          2,
          2,
          1,
          1,
          3,
          1,
          13,
          1,
          3,
          2,
          3,
          5,
          1,
          1,
          1,
          1,
          1,
          1,
          1,
          1,
          16,
          16,
          1,
          1,
          1,
          5,
          3,
          2,
          1,
          9,
          1,
          9,
          2,
          6,
          4,
          9,
          1,
          4,
          4,
          2,
          2,
          2,
          13,
          2,
          2,
          2,
          2,
          16,
          2,
          2,
          2,
          2,
          2,
          2,
          2,
          1,
          2,
          1,
          1,
          4,
          2,
          1,
          4,
          1,
          1,
          1,
          1,
          1,
          1,
          3,
          1,
          1,
          2,
          3,
          1,
          1,
          1,
          1,
          3,
          3,
          3,
          1,
          6,
          1,
          1,
          1,
          1,
          1,
          1,
          2,
          1,
          1,
          8,
          1,
          1,
          4,
          1,
          1,
          4,
          1,
          1,
          1,
          1,
          4,
          1,
          2,
          1,
          1,
          1,
          6,
          16,
          2,
          3,
          4,
          1,
          2,
          3,
          1,
          2,
          12,
          1,
          5,
          1,
          1,
          1,
          1,
          14,
          1,
          1,
          1,
          1,
          1,
          1,
          4,
          1,
          1,
          1,
          1,
          1,
          1,
          2,
          1,
          2,
          2,
          1,
          2,
          1,
          1,
          6,
          5,
          16,
          8,
          1,
          2,
          1,
          1,
          1,
          1,
          7,
          1,
          10,
          4,
          7,
          16,
          16,
          2,
          1,
          3,
          1,
          1,
          1,
          1,
          1,
          1,
          2,
          1,
          2,
          1,
          2,
          3,
          1,
          1,
          2,
          2,
          2,
          4,
          3,
          1,
          1,
          4,
          2,
          10,
          16,
          7,
          1,
          2,
          1,
          10,
          1,
          1,
          1,
          4,
          1,
          1,
          16,
          4,
          8,
          4,
          16,
          1,
          1,
          1,
          1,
          1,
          1,
          1,
          1,
          1,
          1,
          1,
          1,
          1,
          1,
          1,
          7,
          1,
          1,
          3,
          1,
          2,
          2,
          1,
          3,
          1,
          1,
          1,
          1,
          1,
          7,
          3,
          2,
          1,
          3,
          2,
          4,
          1,
          10,
          1
         ],
         "xaxis": "x",
         "yaxis": "y"
        }
       ],
       "layout": {
        "barmode": "relative",
        "height": 500,
        "legend": {
         "title": {
          "text": "variable"
         },
         "tracegroupgap": 0
        },
        "margin": {
         "t": 60
        },
        "showlegend": false,
        "template": {
         "data": {
          "bar": [
           {
            "error_x": {
             "color": "#2a3f5f"
            },
            "error_y": {
             "color": "#2a3f5f"
            },
            "marker": {
             "line": {
              "color": "#E5ECF6",
              "width": 0.5
             },
             "pattern": {
              "fillmode": "overlay",
              "size": 10,
              "solidity": 0.2
             }
            },
            "type": "bar"
           }
          ],
          "barpolar": [
           {
            "marker": {
             "line": {
              "color": "#E5ECF6",
              "width": 0.5
             },
             "pattern": {
              "fillmode": "overlay",
              "size": 10,
              "solidity": 0.2
             }
            },
            "type": "barpolar"
           }
          ],
          "carpet": [
           {
            "aaxis": {
             "endlinecolor": "#2a3f5f",
             "gridcolor": "white",
             "linecolor": "white",
             "minorgridcolor": "white",
             "startlinecolor": "#2a3f5f"
            },
            "baxis": {
             "endlinecolor": "#2a3f5f",
             "gridcolor": "white",
             "linecolor": "white",
             "minorgridcolor": "white",
             "startlinecolor": "#2a3f5f"
            },
            "type": "carpet"
           }
          ],
          "choropleth": [
           {
            "colorbar": {
             "outlinewidth": 0,
             "ticks": ""
            },
            "type": "choropleth"
           }
          ],
          "contour": [
           {
            "colorbar": {
             "outlinewidth": 0,
             "ticks": ""
            },
            "colorscale": [
             [
              0,
              "#0d0887"
             ],
             [
              0.1111111111111111,
              "#46039f"
             ],
             [
              0.2222222222222222,
              "#7201a8"
             ],
             [
              0.3333333333333333,
              "#9c179e"
             ],
             [
              0.4444444444444444,
              "#bd3786"
             ],
             [
              0.5555555555555556,
              "#d8576b"
             ],
             [
              0.6666666666666666,
              "#ed7953"
             ],
             [
              0.7777777777777778,
              "#fb9f3a"
             ],
             [
              0.8888888888888888,
              "#fdca26"
             ],
             [
              1,
              "#f0f921"
             ]
            ],
            "type": "contour"
           }
          ],
          "contourcarpet": [
           {
            "colorbar": {
             "outlinewidth": 0,
             "ticks": ""
            },
            "type": "contourcarpet"
           }
          ],
          "heatmap": [
           {
            "colorbar": {
             "outlinewidth": 0,
             "ticks": ""
            },
            "colorscale": [
             [
              0,
              "#0d0887"
             ],
             [
              0.1111111111111111,
              "#46039f"
             ],
             [
              0.2222222222222222,
              "#7201a8"
             ],
             [
              0.3333333333333333,
              "#9c179e"
             ],
             [
              0.4444444444444444,
              "#bd3786"
             ],
             [
              0.5555555555555556,
              "#d8576b"
             ],
             [
              0.6666666666666666,
              "#ed7953"
             ],
             [
              0.7777777777777778,
              "#fb9f3a"
             ],
             [
              0.8888888888888888,
              "#fdca26"
             ],
             [
              1,
              "#f0f921"
             ]
            ],
            "type": "heatmap"
           }
          ],
          "heatmapgl": [
           {
            "colorbar": {
             "outlinewidth": 0,
             "ticks": ""
            },
            "colorscale": [
             [
              0,
              "#0d0887"
             ],
             [
              0.1111111111111111,
              "#46039f"
             ],
             [
              0.2222222222222222,
              "#7201a8"
             ],
             [
              0.3333333333333333,
              "#9c179e"
             ],
             [
              0.4444444444444444,
              "#bd3786"
             ],
             [
              0.5555555555555556,
              "#d8576b"
             ],
             [
              0.6666666666666666,
              "#ed7953"
             ],
             [
              0.7777777777777778,
              "#fb9f3a"
             ],
             [
              0.8888888888888888,
              "#fdca26"
             ],
             [
              1,
              "#f0f921"
             ]
            ],
            "type": "heatmapgl"
           }
          ],
          "histogram": [
           {
            "marker": {
             "pattern": {
              "fillmode": "overlay",
              "size": 10,
              "solidity": 0.2
             }
            },
            "type": "histogram"
           }
          ],
          "histogram2d": [
           {
            "colorbar": {
             "outlinewidth": 0,
             "ticks": ""
            },
            "colorscale": [
             [
              0,
              "#0d0887"
             ],
             [
              0.1111111111111111,
              "#46039f"
             ],
             [
              0.2222222222222222,
              "#7201a8"
             ],
             [
              0.3333333333333333,
              "#9c179e"
             ],
             [
              0.4444444444444444,
              "#bd3786"
             ],
             [
              0.5555555555555556,
              "#d8576b"
             ],
             [
              0.6666666666666666,
              "#ed7953"
             ],
             [
              0.7777777777777778,
              "#fb9f3a"
             ],
             [
              0.8888888888888888,
              "#fdca26"
             ],
             [
              1,
              "#f0f921"
             ]
            ],
            "type": "histogram2d"
           }
          ],
          "histogram2dcontour": [
           {
            "colorbar": {
             "outlinewidth": 0,
             "ticks": ""
            },
            "colorscale": [
             [
              0,
              "#0d0887"
             ],
             [
              0.1111111111111111,
              "#46039f"
             ],
             [
              0.2222222222222222,
              "#7201a8"
             ],
             [
              0.3333333333333333,
              "#9c179e"
             ],
             [
              0.4444444444444444,
              "#bd3786"
             ],
             [
              0.5555555555555556,
              "#d8576b"
             ],
             [
              0.6666666666666666,
              "#ed7953"
             ],
             [
              0.7777777777777778,
              "#fb9f3a"
             ],
             [
              0.8888888888888888,
              "#fdca26"
             ],
             [
              1,
              "#f0f921"
             ]
            ],
            "type": "histogram2dcontour"
           }
          ],
          "mesh3d": [
           {
            "colorbar": {
             "outlinewidth": 0,
             "ticks": ""
            },
            "type": "mesh3d"
           }
          ],
          "parcoords": [
           {
            "line": {
             "colorbar": {
              "outlinewidth": 0,
              "ticks": ""
             }
            },
            "type": "parcoords"
           }
          ],
          "pie": [
           {
            "automargin": true,
            "type": "pie"
           }
          ],
          "scatter": [
           {
            "fillpattern": {
             "fillmode": "overlay",
             "size": 10,
             "solidity": 0.2
            },
            "type": "scatter"
           }
          ],
          "scatter3d": [
           {
            "line": {
             "colorbar": {
              "outlinewidth": 0,
              "ticks": ""
             }
            },
            "marker": {
             "colorbar": {
              "outlinewidth": 0,
              "ticks": ""
             }
            },
            "type": "scatter3d"
           }
          ],
          "scattercarpet": [
           {
            "marker": {
             "colorbar": {
              "outlinewidth": 0,
              "ticks": ""
             }
            },
            "type": "scattercarpet"
           }
          ],
          "scattergeo": [
           {
            "marker": {
             "colorbar": {
              "outlinewidth": 0,
              "ticks": ""
             }
            },
            "type": "scattergeo"
           }
          ],
          "scattergl": [
           {
            "marker": {
             "colorbar": {
              "outlinewidth": 0,
              "ticks": ""
             }
            },
            "type": "scattergl"
           }
          ],
          "scattermapbox": [
           {
            "marker": {
             "colorbar": {
              "outlinewidth": 0,
              "ticks": ""
             }
            },
            "type": "scattermapbox"
           }
          ],
          "scatterpolar": [
           {
            "marker": {
             "colorbar": {
              "outlinewidth": 0,
              "ticks": ""
             }
            },
            "type": "scatterpolar"
           }
          ],
          "scatterpolargl": [
           {
            "marker": {
             "colorbar": {
              "outlinewidth": 0,
              "ticks": ""
             }
            },
            "type": "scatterpolargl"
           }
          ],
          "scatterternary": [
           {
            "marker": {
             "colorbar": {
              "outlinewidth": 0,
              "ticks": ""
             }
            },
            "type": "scatterternary"
           }
          ],
          "surface": [
           {
            "colorbar": {
             "outlinewidth": 0,
             "ticks": ""
            },
            "colorscale": [
             [
              0,
              "#0d0887"
             ],
             [
              0.1111111111111111,
              "#46039f"
             ],
             [
              0.2222222222222222,
              "#7201a8"
             ],
             [
              0.3333333333333333,
              "#9c179e"
             ],
             [
              0.4444444444444444,
              "#bd3786"
             ],
             [
              0.5555555555555556,
              "#d8576b"
             ],
             [
              0.6666666666666666,
              "#ed7953"
             ],
             [
              0.7777777777777778,
              "#fb9f3a"
             ],
             [
              0.8888888888888888,
              "#fdca26"
             ],
             [
              1,
              "#f0f921"
             ]
            ],
            "type": "surface"
           }
          ],
          "table": [
           {
            "cells": {
             "fill": {
              "color": "#EBF0F8"
             },
             "line": {
              "color": "white"
             }
            },
            "header": {
             "fill": {
              "color": "#C8D4E3"
             },
             "line": {
              "color": "white"
             }
            },
            "type": "table"
           }
          ]
         },
         "layout": {
          "annotationdefaults": {
           "arrowcolor": "#2a3f5f",
           "arrowhead": 0,
           "arrowwidth": 1
          },
          "autotypenumbers": "strict",
          "coloraxis": {
           "colorbar": {
            "outlinewidth": 0,
            "ticks": ""
           }
          },
          "colorscale": {
           "diverging": [
            [
             0,
             "#8e0152"
            ],
            [
             0.1,
             "#c51b7d"
            ],
            [
             0.2,
             "#de77ae"
            ],
            [
             0.3,
             "#f1b6da"
            ],
            [
             0.4,
             "#fde0ef"
            ],
            [
             0.5,
             "#f7f7f7"
            ],
            [
             0.6,
             "#e6f5d0"
            ],
            [
             0.7,
             "#b8e186"
            ],
            [
             0.8,
             "#7fbc41"
            ],
            [
             0.9,
             "#4d9221"
            ],
            [
             1,
             "#276419"
            ]
           ],
           "sequential": [
            [
             0,
             "#0d0887"
            ],
            [
             0.1111111111111111,
             "#46039f"
            ],
            [
             0.2222222222222222,
             "#7201a8"
            ],
            [
             0.3333333333333333,
             "#9c179e"
            ],
            [
             0.4444444444444444,
             "#bd3786"
            ],
            [
             0.5555555555555556,
             "#d8576b"
            ],
            [
             0.6666666666666666,
             "#ed7953"
            ],
            [
             0.7777777777777778,
             "#fb9f3a"
            ],
            [
             0.8888888888888888,
             "#fdca26"
            ],
            [
             1,
             "#f0f921"
            ]
           ],
           "sequentialminus": [
            [
             0,
             "#0d0887"
            ],
            [
             0.1111111111111111,
             "#46039f"
            ],
            [
             0.2222222222222222,
             "#7201a8"
            ],
            [
             0.3333333333333333,
             "#9c179e"
            ],
            [
             0.4444444444444444,
             "#bd3786"
            ],
            [
             0.5555555555555556,
             "#d8576b"
            ],
            [
             0.6666666666666666,
             "#ed7953"
            ],
            [
             0.7777777777777778,
             "#fb9f3a"
            ],
            [
             0.8888888888888888,
             "#fdca26"
            ],
            [
             1,
             "#f0f921"
            ]
           ]
          },
          "colorway": [
           "#636efa",
           "#EF553B",
           "#00cc96",
           "#ab63fa",
           "#FFA15A",
           "#19d3f3",
           "#FF6692",
           "#B6E880",
           "#FF97FF",
           "#FECB52"
          ],
          "font": {
           "color": "#2a3f5f"
          },
          "geo": {
           "bgcolor": "white",
           "lakecolor": "white",
           "landcolor": "#E5ECF6",
           "showlakes": true,
           "showland": true,
           "subunitcolor": "white"
          },
          "hoverlabel": {
           "align": "left"
          },
          "hovermode": "closest",
          "mapbox": {
           "style": "light"
          },
          "paper_bgcolor": "white",
          "plot_bgcolor": "#E5ECF6",
          "polar": {
           "angularaxis": {
            "gridcolor": "white",
            "linecolor": "white",
            "ticks": ""
           },
           "bgcolor": "#E5ECF6",
           "radialaxis": {
            "gridcolor": "white",
            "linecolor": "white",
            "ticks": ""
           }
          },
          "scene": {
           "xaxis": {
            "backgroundcolor": "#E5ECF6",
            "gridcolor": "white",
            "gridwidth": 2,
            "linecolor": "white",
            "showbackground": true,
            "ticks": "",
            "zerolinecolor": "white"
           },
           "yaxis": {
            "backgroundcolor": "#E5ECF6",
            "gridcolor": "white",
            "gridwidth": 2,
            "linecolor": "white",
            "showbackground": true,
            "ticks": "",
            "zerolinecolor": "white"
           },
           "zaxis": {
            "backgroundcolor": "#E5ECF6",
            "gridcolor": "white",
            "gridwidth": 2,
            "linecolor": "white",
            "showbackground": true,
            "ticks": "",
            "zerolinecolor": "white"
           }
          },
          "shapedefaults": {
           "line": {
            "color": "#2a3f5f"
           }
          },
          "ternary": {
           "aaxis": {
            "gridcolor": "white",
            "linecolor": "white",
            "ticks": ""
           },
           "baxis": {
            "gridcolor": "white",
            "linecolor": "white",
            "ticks": ""
           },
           "bgcolor": "#E5ECF6",
           "caxis": {
            "gridcolor": "white",
            "linecolor": "white",
            "ticks": ""
           }
          },
          "title": {
           "x": 0.05
          },
          "xaxis": {
           "automargin": true,
           "gridcolor": "white",
           "linecolor": "white",
           "ticks": "",
           "title": {
            "standoff": 15
           },
           "zerolinecolor": "white",
           "zerolinewidth": 2
          },
          "yaxis": {
           "automargin": true,
           "gridcolor": "white",
           "linecolor": "white",
           "ticks": "",
           "title": {
            "standoff": 15
           },
           "zerolinecolor": "white",
           "zerolinewidth": 2
          }
         }
        },
        "width": 1000,
        "xaxis": {
         "anchor": "y",
         "domain": [
          0,
          1
         ],
         "tickfont": {
          "size": 16
         },
         "title": {
          "font": {
           "size": 18
          },
          "text": "AnzahlGenannt"
         }
        },
        "yaxis": {
         "anchor": "x",
         "domain": [
          0,
          1
         ],
         "tickfont": {
          "size": 16
         },
         "ticksuffix": "  ",
         "title": {
          "font": {
           "size": 18
          },
          "text": "Anzahl Texte"
         }
        }
       }
      }
     },
     "metadata": {},
     "output_type": "display_data"
    }
   ],
   "source": [
    "metrik = 'AnzahlGenannt'\n",
    "print(f\"Titel insgesamt                            : {data.shape[0]}\")\n",
    "\n",
    "data_plot = data[metrik].clip(upper=data[metrik].quantile(0.95))\n",
    "\n",
    "fig = px.histogram(\n",
    "    data_plot,\n",
    "    labels = {'value': metrik}\n",
    ")\n",
    "fig.update_layout(\n",
    "    height=500, width = 1000,\n",
    "    showlegend=False,\n",
    "    xaxis=dict(tickfont=dict(size=16), titlefont=dict(size=18)),\n",
    "    yaxis=dict(title = \"Anzahl Texte\", tickfont=dict(size=16), titlefont=dict(size=18), ticksuffix = \"  \"),\n",
    ")\n",
    "# fig.write_image(\"plots/texte_pro_AnzahlGenannt.pdf\")\n",
    "fig.show()"
   ]
  },
  {
   "cell_type": "code",
   "execution_count": 48,
   "id": "291966a4-bbd6-43d2-81fb-177df2d70c21",
   "metadata": {},
   "outputs": [
    {
     "data": {
      "text/html": [
       "<div>\n",
       "<style scoped>\n",
       "    .dataframe tbody tr th:only-of-type {\n",
       "        vertical-align: middle;\n",
       "    }\n",
       "\n",
       "    .dataframe tbody tr th {\n",
       "        vertical-align: top;\n",
       "    }\n",
       "\n",
       "    .dataframe thead th {\n",
       "        text-align: right;\n",
       "    }\n",
       "</style>\n",
       "<table border=\"1\" class=\"dataframe\">\n",
       "  <thead>\n",
       "    <tr style=\"text-align: right;\">\n",
       "      <th></th>\n",
       "      <th>Autor</th>\n",
       "      <th>Titel</th>\n",
       "      <th>Jahreszahl_Statistik</th>\n",
       "      <th>AnzahlZuLesen</th>\n",
       "      <th>AnzahlZuLesen_normalisiert</th>\n",
       "      <th>AnzahlGenannt</th>\n",
       "      <th>AnzahlZuLesen_Rang</th>\n",
       "      <th>AnzahlZuLesen_normalisiert_Rang</th>\n",
       "      <th>AnzahlGenannt_Rang</th>\n",
       "    </tr>\n",
       "  </thead>\n",
       "  <tbody>\n",
       "    <tr>\n",
       "      <th>897</th>\n",
       "      <td>Grimmelshausen, Johann Jakob Christoph von</td>\n",
       "      <td>Der Abentheuerliche Simplicissimus Teutsch</td>\n",
       "      <td>1668.0</td>\n",
       "      <td>30.23840</td>\n",
       "      <td>0.00878</td>\n",
       "      <td>38.0</td>\n",
       "      <td>1.0</td>\n",
       "      <td>1.0</td>\n",
       "      <td>4.0</td>\n",
       "    </tr>\n",
       "    <tr>\n",
       "      <th>794</th>\n",
       "      <td>Goethe, Johann Wolfgang</td>\n",
       "      <td>Die Leiden des jungen Werthers</td>\n",
       "      <td>1774.0</td>\n",
       "      <td>29.83381</td>\n",
       "      <td>0.00805</td>\n",
       "      <td>38.0</td>\n",
       "      <td>2.0</td>\n",
       "      <td>2.0</td>\n",
       "      <td>4.0</td>\n",
       "    </tr>\n",
       "    <tr>\n",
       "      <th>800</th>\n",
       "      <td>Goethe, Johann Wolfgang</td>\n",
       "      <td>Faust. Der Tragödie erster Teil</td>\n",
       "      <td>1808.0</td>\n",
       "      <td>28.15702</td>\n",
       "      <td>0.00714</td>\n",
       "      <td>40.0</td>\n",
       "      <td>3.0</td>\n",
       "      <td>4.0</td>\n",
       "      <td>1.0</td>\n",
       "    </tr>\n",
       "    <tr>\n",
       "      <th>532</th>\n",
       "      <td>Droste-Hülshoff, Annette von</td>\n",
       "      <td>Die Judenbuche. Sittengemälde aus dem gebirgic...</td>\n",
       "      <td>1842.0</td>\n",
       "      <td>28.00732</td>\n",
       "      <td>0.00703</td>\n",
       "      <td>39.0</td>\n",
       "      <td>4.0</td>\n",
       "      <td>5.0</td>\n",
       "      <td>2.0</td>\n",
       "    </tr>\n",
       "    <tr>\n",
       "      <th>426</th>\n",
       "      <td>Büchner, Georg</td>\n",
       "      <td>Woyzeck</td>\n",
       "      <td>1836.0</td>\n",
       "      <td>26.63315</td>\n",
       "      <td>0.00731</td>\n",
       "      <td>37.0</td>\n",
       "      <td>5.0</td>\n",
       "      <td>3.0</td>\n",
       "      <td>6.0</td>\n",
       "    </tr>\n",
       "    <tr>\n",
       "      <th>664</th>\n",
       "      <td>Fontane, Theodor</td>\n",
       "      <td>Effi Briest</td>\n",
       "      <td>1896.0</td>\n",
       "      <td>25.03016</td>\n",
       "      <td>0.00639</td>\n",
       "      <td>38.0</td>\n",
       "      <td>6.0</td>\n",
       "      <td>6.0</td>\n",
       "      <td>4.0</td>\n",
       "    </tr>\n",
       "    <tr>\n",
       "      <th>1614</th>\n",
       "      <td>Lessing, Gotthold Ephraim</td>\n",
       "      <td>Nathan der Weise</td>\n",
       "      <td>1779.0</td>\n",
       "      <td>24.60517</td>\n",
       "      <td>0.00519</td>\n",
       "      <td>35.0</td>\n",
       "      <td>7.0</td>\n",
       "      <td>11.0</td>\n",
       "      <td>9.0</td>\n",
       "    </tr>\n",
       "    <tr>\n",
       "      <th>504</th>\n",
       "      <td>Döblin, Alfred</td>\n",
       "      <td>Berlin Alexanderplatz</td>\n",
       "      <td>1929.0</td>\n",
       "      <td>24.48562</td>\n",
       "      <td>0.00559</td>\n",
       "      <td>36.0</td>\n",
       "      <td>8.0</td>\n",
       "      <td>8.0</td>\n",
       "      <td>7.0</td>\n",
       "    </tr>\n",
       "    <tr>\n",
       "      <th>2235</th>\n",
       "      <td>Storm, Theodor</td>\n",
       "      <td>Der Schimmelreiter</td>\n",
       "      <td>1888.0</td>\n",
       "      <td>24.27533</td>\n",
       "      <td>0.00524</td>\n",
       "      <td>35.0</td>\n",
       "      <td>9.0</td>\n",
       "      <td>10.0</td>\n",
       "      <td>9.0</td>\n",
       "    </tr>\n",
       "    <tr>\n",
       "      <th>867</th>\n",
       "      <td>Grass, Günter</td>\n",
       "      <td>Die Blechtrommel</td>\n",
       "      <td>1959.0</td>\n",
       "      <td>23.28644</td>\n",
       "      <td>0.00498</td>\n",
       "      <td>32.0</td>\n",
       "      <td>10.0</td>\n",
       "      <td>18.0</td>\n",
       "      <td>16.5</td>\n",
       "    </tr>\n",
       "    <tr>\n",
       "      <th>831</th>\n",
       "      <td>Goethe, Johann Wolfgang</td>\n",
       "      <td>Wilhelm Meisters Lehrjahre</td>\n",
       "      <td>1795.0</td>\n",
       "      <td>22.99770</td>\n",
       "      <td>0.00503</td>\n",
       "      <td>33.0</td>\n",
       "      <td>11.0</td>\n",
       "      <td>16.0</td>\n",
       "      <td>13.0</td>\n",
       "    </tr>\n",
       "    <tr>\n",
       "      <th>1027</th>\n",
       "      <td>Hauptmann, Gerhart</td>\n",
       "      <td>Die Weber</td>\n",
       "      <td>1892.0</td>\n",
       "      <td>22.57472</td>\n",
       "      <td>0.00532</td>\n",
       "      <td>35.0</td>\n",
       "      <td>12.0</td>\n",
       "      <td>9.0</td>\n",
       "      <td>9.0</td>\n",
       "    </tr>\n",
       "    <tr>\n",
       "      <th>1607</th>\n",
       "      <td>Lessing, Gotthold Ephraim</td>\n",
       "      <td>Emilia Galotti</td>\n",
       "      <td>1772.0</td>\n",
       "      <td>22.43850</td>\n",
       "      <td>0.00564</td>\n",
       "      <td>33.0</td>\n",
       "      <td>13.0</td>\n",
       "      <td>7.0</td>\n",
       "      <td>13.0</td>\n",
       "    </tr>\n",
       "    <tr>\n",
       "      <th>1452</th>\n",
       "      <td>Kleist, Heinrich von</td>\n",
       "      <td>Der zerbrochene Krug</td>\n",
       "      <td>1806.0</td>\n",
       "      <td>22.35604</td>\n",
       "      <td>0.00503</td>\n",
       "      <td>34.0</td>\n",
       "      <td>14.0</td>\n",
       "      <td>15.0</td>\n",
       "      <td>11.0</td>\n",
       "    </tr>\n",
       "    <tr>\n",
       "      <th>2072</th>\n",
       "      <td>Schiller, Friedrich</td>\n",
       "      <td>Maria Stuart</td>\n",
       "      <td>1800.0</td>\n",
       "      <td>22.32834</td>\n",
       "      <td>0.00474</td>\n",
       "      <td>31.0</td>\n",
       "      <td>15.0</td>\n",
       "      <td>22.0</td>\n",
       "      <td>22.5</td>\n",
       "    </tr>\n",
       "    <tr>\n",
       "      <th>1343</th>\n",
       "      <td>Kafka, Franz</td>\n",
       "      <td>Die Verwandlung</td>\n",
       "      <td>1912.0</td>\n",
       "      <td>22.30958</td>\n",
       "      <td>0.00502</td>\n",
       "      <td>30.0</td>\n",
       "      <td>16.0</td>\n",
       "      <td>17.0</td>\n",
       "      <td>28.5</td>\n",
       "    </tr>\n",
       "    <tr>\n",
       "      <th>1341</th>\n",
       "      <td>Kafka, Franz</td>\n",
       "      <td>Der Prozess</td>\n",
       "      <td>1925.0</td>\n",
       "      <td>22.14452</td>\n",
       "      <td>0.00489</td>\n",
       "      <td>33.0</td>\n",
       "      <td>17.0</td>\n",
       "      <td>19.0</td>\n",
       "      <td>13.0</td>\n",
       "    </tr>\n",
       "    <tr>\n",
       "      <th>577</th>\n",
       "      <td>Eichendorff, Joseph von</td>\n",
       "      <td>Aus dem Leben eines Taugenichts</td>\n",
       "      <td>1826.0</td>\n",
       "      <td>21.85124</td>\n",
       "      <td>0.00449</td>\n",
       "      <td>32.0</td>\n",
       "      <td>18.0</td>\n",
       "      <td>26.0</td>\n",
       "      <td>16.5</td>\n",
       "    </tr>\n",
       "    <tr>\n",
       "      <th>1775</th>\n",
       "      <td>Moritz, Karl Philipp</td>\n",
       "      <td>Anton Reiser</td>\n",
       "      <td>1785.0</td>\n",
       "      <td>21.83566</td>\n",
       "      <td>0.00457</td>\n",
       "      <td>31.0</td>\n",
       "      <td>19.0</td>\n",
       "      <td>23.0</td>\n",
       "      <td>22.5</td>\n",
       "    </tr>\n",
       "    <tr>\n",
       "      <th>1861</th>\n",
       "      <td>Novalis</td>\n",
       "      <td>Heinrich von Ofterdingen</td>\n",
       "      <td>1802.0</td>\n",
       "      <td>21.28632</td>\n",
       "      <td>0.00402</td>\n",
       "      <td>31.0</td>\n",
       "      <td>20.0</td>\n",
       "      <td>36.0</td>\n",
       "      <td>22.5</td>\n",
       "    </tr>\n",
       "    <tr>\n",
       "      <th>801</th>\n",
       "      <td>Goethe, Johann Wolfgang</td>\n",
       "      <td>Faust. Der Tragödie zweiter Teil</td>\n",
       "      <td>1832.0</td>\n",
       "      <td>21.23956</td>\n",
       "      <td>0.00513</td>\n",
       "      <td>29.0</td>\n",
       "      <td>21.0</td>\n",
       "      <td>12.0</td>\n",
       "      <td>33.0</td>\n",
       "    </tr>\n",
       "    <tr>\n",
       "      <th>1814</th>\n",
       "      <td>Musil, Robert</td>\n",
       "      <td>Die Verwirrungen des Zöglings Törless</td>\n",
       "      <td>1906.0</td>\n",
       "      <td>21.22007</td>\n",
       "      <td>0.00508</td>\n",
       "      <td>32.0</td>\n",
       "      <td>22.0</td>\n",
       "      <td>14.0</td>\n",
       "      <td>16.5</td>\n",
       "    </tr>\n",
       "    <tr>\n",
       "      <th>1151</th>\n",
       "      <td>Hoffmann, E.T.A.</td>\n",
       "      <td>Der Sandmann</td>\n",
       "      <td>1816.0</td>\n",
       "      <td>21.02046</td>\n",
       "      <td>0.00513</td>\n",
       "      <td>31.0</td>\n",
       "      <td>23.0</td>\n",
       "      <td>13.0</td>\n",
       "      <td>22.5</td>\n",
       "    </tr>\n",
       "    <tr>\n",
       "      <th>1612</th>\n",
       "      <td>Lessing, Gotthold Ephraim</td>\n",
       "      <td>Minna von Barnhelm</td>\n",
       "      <td>1767.0</td>\n",
       "      <td>20.79683</td>\n",
       "      <td>0.00426</td>\n",
       "      <td>31.0</td>\n",
       "      <td>24.0</td>\n",
       "      <td>31.0</td>\n",
       "      <td>22.5</td>\n",
       "    </tr>\n",
       "    <tr>\n",
       "      <th>809</th>\n",
       "      <td>Goethe, Johann Wolfgang</td>\n",
       "      <td>Iphigenie auf Tauris</td>\n",
       "      <td>1787.0</td>\n",
       "      <td>20.75837</td>\n",
       "      <td>0.00484</td>\n",
       "      <td>32.0</td>\n",
       "      <td>25.0</td>\n",
       "      <td>20.0</td>\n",
       "      <td>16.5</td>\n",
       "    </tr>\n",
       "    <tr>\n",
       "      <th>2131</th>\n",
       "      <td>Schnitzler, Arthur</td>\n",
       "      <td>Leutnant Gustl</td>\n",
       "      <td>1901.0</td>\n",
       "      <td>20.67338</td>\n",
       "      <td>0.00453</td>\n",
       "      <td>30.0</td>\n",
       "      <td>26.0</td>\n",
       "      <td>25.0</td>\n",
       "      <td>28.5</td>\n",
       "    </tr>\n",
       "    <tr>\n",
       "      <th>424</th>\n",
       "      <td>Büchner, Georg</td>\n",
       "      <td>Lenz</td>\n",
       "      <td>1839.0</td>\n",
       "      <td>20.15091</td>\n",
       "      <td>0.00405</td>\n",
       "      <td>31.0</td>\n",
       "      <td>27.0</td>\n",
       "      <td>35.0</td>\n",
       "      <td>22.5</td>\n",
       "    </tr>\n",
       "    <tr>\n",
       "      <th>1677</th>\n",
       "      <td>Mann, Thomas</td>\n",
       "      <td>Die Buddenbrooks</td>\n",
       "      <td>1901.0</td>\n",
       "      <td>19.74370</td>\n",
       "      <td>0.00434</td>\n",
       "      <td>31.0</td>\n",
       "      <td>28.0</td>\n",
       "      <td>28.0</td>\n",
       "      <td>22.5</td>\n",
       "    </tr>\n",
       "    <tr>\n",
       "      <th>1184</th>\n",
       "      <td>Hofmannsthal, Hugo von</td>\n",
       "      <td>Ein Brief (Chandosbrief)</td>\n",
       "      <td>1902.0</td>\n",
       "      <td>19.69922</td>\n",
       "      <td>0.00427</td>\n",
       "      <td>27.0</td>\n",
       "      <td>29.0</td>\n",
       "      <td>30.0</td>\n",
       "      <td>42.0</td>\n",
       "    </tr>\n",
       "    <tr>\n",
       "      <th>796</th>\n",
       "      <td>Goethe, Johann Wolfgang</td>\n",
       "      <td>Die Wahlverwandtschaften</td>\n",
       "      <td>1809.0</td>\n",
       "      <td>19.69175</td>\n",
       "      <td>0.00483</td>\n",
       "      <td>31.0</td>\n",
       "      <td>30.0</td>\n",
       "      <td>21.0</td>\n",
       "      <td>22.5</td>\n",
       "    </tr>\n",
       "  </tbody>\n",
       "</table>\n",
       "</div>"
      ],
      "text/plain": [
       "                                           Autor                                              Titel  Jahreszahl_Statistik  AnzahlZuLesen  AnzahlZuLesen_normalisiert  AnzahlGenannt  AnzahlZuLesen_Rang  AnzahlZuLesen_normalisiert_Rang  AnzahlGenannt_Rang\n",
       "897   Grimmelshausen, Johann Jakob Christoph von         Der Abentheuerliche Simplicissimus Teutsch                1668.0       30.23840                     0.00878           38.0                 1.0                              1.0                 4.0\n",
       "794                      Goethe, Johann Wolfgang                    Die Leiden des jungen Werthers                 1774.0       29.83381                     0.00805           38.0                 2.0                              2.0                 4.0\n",
       "800                      Goethe, Johann Wolfgang                   Faust. Der Tragödie erster Teil                 1808.0       28.15702                     0.00714           40.0                 3.0                              4.0                 1.0\n",
       "532                 Droste-Hülshoff, Annette von  Die Judenbuche. Sittengemälde aus dem gebirgic...                1842.0       28.00732                     0.00703           39.0                 4.0                              5.0                 2.0\n",
       "426                               Büchner, Georg                                            Woyzeck                1836.0       26.63315                     0.00731           37.0                 5.0                              3.0                 6.0\n",
       "664                             Fontane, Theodor                                        Effi Briest                1896.0       25.03016                     0.00639           38.0                 6.0                              6.0                 4.0\n",
       "1614                   Lessing, Gotthold Ephraim                                   Nathan der Weise                1779.0       24.60517                     0.00519           35.0                 7.0                             11.0                 9.0\n",
       "504                               Döblin, Alfred                              Berlin Alexanderplatz                1929.0       24.48562                     0.00559           36.0                 8.0                              8.0                 7.0\n",
       "2235                              Storm, Theodor                                 Der Schimmelreiter                1888.0       24.27533                     0.00524           35.0                 9.0                             10.0                 9.0\n",
       "867                                Grass, Günter                                   Die Blechtrommel                1959.0       23.28644                     0.00498           32.0                10.0                             18.0                16.5\n",
       "831                      Goethe, Johann Wolfgang                         Wilhelm Meisters Lehrjahre                1795.0       22.99770                     0.00503           33.0                11.0                             16.0                13.0\n",
       "1027                          Hauptmann, Gerhart                                          Die Weber                1892.0       22.57472                     0.00532           35.0                12.0                              9.0                 9.0\n",
       "1607                   Lessing, Gotthold Ephraim                                     Emilia Galotti                1772.0       22.43850                     0.00564           33.0                13.0                              7.0                13.0\n",
       "1452                        Kleist, Heinrich von                               Der zerbrochene Krug                1806.0       22.35604                     0.00503           34.0                14.0                             15.0                11.0\n",
       "2072                         Schiller, Friedrich                                       Maria Stuart                1800.0       22.32834                     0.00474           31.0                15.0                             22.0                22.5\n",
       "1343                                Kafka, Franz                                    Die Verwandlung                1912.0       22.30958                     0.00502           30.0                16.0                             17.0                28.5\n",
       "1341                                Kafka, Franz                                        Der Prozess                1925.0       22.14452                     0.00489           33.0                17.0                             19.0                13.0\n",
       "577                      Eichendorff, Joseph von                    Aus dem Leben eines Taugenichts                1826.0       21.85124                     0.00449           32.0                18.0                             26.0                16.5\n",
       "1775                        Moritz, Karl Philipp                                       Anton Reiser                1785.0       21.83566                     0.00457           31.0                19.0                             23.0                22.5\n",
       "1861                                     Novalis                           Heinrich von Ofterdingen                1802.0       21.28632                     0.00402           31.0                20.0                             36.0                22.5\n",
       "801                      Goethe, Johann Wolfgang                  Faust. Der Tragödie zweiter Teil                 1832.0       21.23956                     0.00513           29.0                21.0                             12.0                33.0\n",
       "1814                               Musil, Robert              Die Verwirrungen des Zöglings Törless                1906.0       21.22007                     0.00508           32.0                22.0                             14.0                16.5\n",
       "1151                            Hoffmann, E.T.A.                                       Der Sandmann                1816.0       21.02046                     0.00513           31.0                23.0                             13.0                22.5\n",
       "1612                   Lessing, Gotthold Ephraim                                 Minna von Barnhelm                1767.0       20.79683                     0.00426           31.0                24.0                             31.0                22.5\n",
       "809                      Goethe, Johann Wolfgang                               Iphigenie auf Tauris                1787.0       20.75837                     0.00484           32.0                25.0                             20.0                16.5\n",
       "2131                          Schnitzler, Arthur                                     Leutnant Gustl                1901.0       20.67338                     0.00453           30.0                26.0                             25.0                28.5\n",
       "424                               Büchner, Georg                                               Lenz                1839.0       20.15091                     0.00405           31.0                27.0                             35.0                22.5\n",
       "1677                                Mann, Thomas                                   Die Buddenbrooks                1901.0       19.74370                     0.00434           31.0                28.0                             28.0                22.5\n",
       "1184                      Hofmannsthal, Hugo von                           Ein Brief (Chandosbrief)                1902.0       19.69922                     0.00427           27.0                29.0                             30.0                42.0\n",
       "796                      Goethe, Johann Wolfgang                           Die Wahlverwandtschaften                1809.0       19.69175                     0.00483           31.0                30.0                             21.0                22.5"
      ]
     },
     "execution_count": 48,
     "metadata": {},
     "output_type": "execute_result"
    }
   ],
   "source": [
    "metriken = ['AnzahlZuLesen', 'AnzahlZuLesen_normalisiert', 'AnzahlGenannt']\n",
    "\n",
    "data_plot = data.copy()\n",
    "for metrik in metriken:\n",
    "    data_plot[metrik+'_Rang'] = data_plot[metrik].rank(ascending=False)\n",
    "\n",
    "result_view = top_titles = (\n",
    "    data_plot\n",
    "    .sort_values(by=metriken[0], ascending=False)\n",
    ")[['Autor', 'Titel', 'Jahreszahl_Statistik'] + metriken + [x+'_Rang' for x in metriken]]\n",
    "result_view.to_excel(\"results/top_titel.xlsx\")\n",
    "\n",
    "round(result_view.head(30), 5)"
   ]
  },
  {
   "cell_type": "code",
   "execution_count": 49,
   "id": "e925d8df-13f0-4249-b2a0-12b09f7e0174",
   "metadata": {},
   "outputs": [
    {
     "data": {
      "text/html": [
       "<div>\n",
       "<style scoped>\n",
       "    .dataframe tbody tr th:only-of-type {\n",
       "        vertical-align: middle;\n",
       "    }\n",
       "\n",
       "    .dataframe tbody tr th {\n",
       "        vertical-align: top;\n",
       "    }\n",
       "\n",
       "    .dataframe thead th {\n",
       "        text-align: right;\n",
       "    }\n",
       "</style>\n",
       "<table border=\"1\" class=\"dataframe\">\n",
       "  <thead>\n",
       "    <tr style=\"text-align: right;\">\n",
       "      <th></th>\n",
       "      <th>AnzahlZuLesen</th>\n",
       "      <th>AnzahlZuLesen_normalisiert</th>\n",
       "      <th>AnzahlZuLesen_Rang</th>\n",
       "      <th>AnzahlZuLesen_normalisiert_Rang</th>\n",
       "    </tr>\n",
       "    <tr>\n",
       "      <th>Autor</th>\n",
       "      <th></th>\n",
       "      <th></th>\n",
       "      <th></th>\n",
       "      <th></th>\n",
       "    </tr>\n",
       "  </thead>\n",
       "  <tbody>\n",
       "    <tr>\n",
       "      <th>Grimmelshausen, Johann Jakob Christoph von</th>\n",
       "      <td>32.201219</td>\n",
       "      <td>0.009218</td>\n",
       "      <td>43.0</td>\n",
       "      <td>26.0</td>\n",
       "    </tr>\n",
       "  </tbody>\n",
       "</table>\n",
       "</div>"
      ],
      "text/plain": [
       "                                            AnzahlZuLesen  AnzahlZuLesen_normalisiert  AnzahlZuLesen_Rang  AnzahlZuLesen_normalisiert_Rang\n",
       "Autor                                                                                                                                     \n",
       "Grimmelshausen, Johann Jakob Christoph von      32.201219                    0.009218                43.0                             26.0"
      ]
     },
     "execution_count": 49,
     "metadata": {},
     "output_type": "execute_result"
    }
   ],
   "source": [
    "metriken = ['AnzahlZuLesen', 'AnzahlZuLesen_normalisiert']\n",
    "\n",
    "data_autoren = data.groupby('Autor')[metriken].sum()\n",
    "for metrik in metriken:\n",
    "    data_autoren[metrik+'_Rang'] = data_autoren[metrik].rank(ascending=False)\n",
    "data_autoren_specific= data_autoren.loc[['Grimmelshausen, Johann Jakob Christoph von']]\n",
    "\n",
    "data_autoren_specific"
   ]
  },
  {
   "cell_type": "code",
   "execution_count": 50,
   "id": "54a9b67c-833f-4440-ad4b-96a4679ec3f6",
   "metadata": {},
   "outputs": [
    {
     "data": {
      "application/vnd.jupyter.widget-view+json": {
       "model_id": "ad973da915ef4753990fbbd577c1d366",
       "version_major": 2,
       "version_minor": 0
      },
      "text/plain": [
       "  0%|          | 0/43 [00:00<?, ?it/s]"
      ]
     },
     "metadata": {},
     "output_type": "display_data"
    }
   ],
   "source": [
    "metrik = 'AnzahlZuLesen'\n",
    "sample_count, sample_size = 1000, 5\n",
    "\n",
    "data_plot = pd.DataFrame()\n",
    "for dekade in tqdm(sorted(data['Dekade'].unique())):\n",
    "    data_dekade = data.query(\"Dekade==@dekade\")\n",
    "\n",
    "    data_plot.at[dekade, 'AnzahlGenannt'] = data_dekade.shape[0]\n",
    "    data_plot.at[dekade, metrik] = data_dekade[metrik].sum()\n",
    "    \n",
    "    data_plot.at[dekade, metrik+'_pro_Titel'] = data_plot.at[dekade, metrik]/data_plot.at[dekade, 'AnzahlGenannt']\n",
    "\n",
    "    sample_means = []\n",
    "    for i in range(sample_count):\n",
    "        data_dekade_sample = data_dekade.sample(n=sample_size, replace=True)\n",
    "        sample_means.append(data_dekade_sample[metrik].sum()/sample_size)\n",
    "\n",
    "    data_plot.at[dekade, metrik+'_pro_Titel_samples'] = np.array(sample_means, dtype='object')\n",
    "    data_plot.at[dekade, metrik+'_pro_Titel_samplemean'] = np.mean(sample_means)"
   ]
  },
  {
   "cell_type": "code",
   "execution_count": 51,
   "id": "5aebd97a-6c78-4e79-896f-e019cbdfa860",
   "metadata": {},
   "outputs": [
    {
     "data": {
      "text/html": [
       "<div>\n",
       "<style scoped>\n",
       "    .dataframe tbody tr th:only-of-type {\n",
       "        vertical-align: middle;\n",
       "    }\n",
       "\n",
       "    .dataframe tbody tr th {\n",
       "        vertical-align: top;\n",
       "    }\n",
       "\n",
       "    .dataframe thead th {\n",
       "        text-align: right;\n",
       "    }\n",
       "</style>\n",
       "<table border=\"1\" class=\"dataframe\">\n",
       "  <thead>\n",
       "    <tr style=\"text-align: right;\">\n",
       "      <th></th>\n",
       "      <th>AnzahlGenannt</th>\n",
       "      <th>AnzahlZuLesen</th>\n",
       "      <th>AnzahlZuLesen_pro_Titel</th>\n",
       "      <th>AnzahlZuLesen_pro_Titel_samplemean</th>\n",
       "    </tr>\n",
       "  </thead>\n",
       "  <tbody>\n",
       "    <tr>\n",
       "      <th>1600</th>\n",
       "      <td>3.0</td>\n",
       "      <td>8.567439</td>\n",
       "      <td>2.855813</td>\n",
       "      <td>2.875219</td>\n",
       "    </tr>\n",
       "    <tr>\n",
       "      <th>1610</th>\n",
       "      <td>4.0</td>\n",
       "      <td>7.314095</td>\n",
       "      <td>1.828524</td>\n",
       "      <td>1.857518</td>\n",
       "    </tr>\n",
       "    <tr>\n",
       "      <th>1620</th>\n",
       "      <td>3.0</td>\n",
       "      <td>14.802995</td>\n",
       "      <td>4.934332</td>\n",
       "      <td>4.897415</td>\n",
       "    </tr>\n",
       "    <tr>\n",
       "      <th>1630</th>\n",
       "      <td>14.0</td>\n",
       "      <td>21.953336</td>\n",
       "      <td>1.568095</td>\n",
       "      <td>1.590996</td>\n",
       "    </tr>\n",
       "    <tr>\n",
       "      <th>1640</th>\n",
       "      <td>16.0</td>\n",
       "      <td>41.685301</td>\n",
       "      <td>2.605331</td>\n",
       "      <td>2.607274</td>\n",
       "    </tr>\n",
       "  </tbody>\n",
       "</table>\n",
       "</div>"
      ],
      "text/plain": [
       "      AnzahlGenannt  AnzahlZuLesen  AnzahlZuLesen_pro_Titel  AnzahlZuLesen_pro_Titel_samplemean\n",
       "1600            3.0       8.567439                 2.855813                            2.875219\n",
       "1610            4.0       7.314095                 1.828524                            1.857518\n",
       "1620            3.0      14.802995                 4.934332                            4.897415\n",
       "1630           14.0      21.953336                 1.568095                            1.590996\n",
       "1640           16.0      41.685301                 2.605331                            2.607274"
      ]
     },
     "execution_count": 51,
     "metadata": {},
     "output_type": "execute_result"
    }
   ],
   "source": [
    "data_plot.drop(metrik+'_pro_Titel_samples', axis = 'columns').head(5)"
   ]
  },
  {
   "cell_type": "code",
   "execution_count": 52,
   "id": "2a1e9ac8-d7a8-453c-a228-b882e69b5745",
   "metadata": {},
   "outputs": [
    {
     "name": "stdout",
     "output_type": "stream",
     "text": [
      "Maxdiff AnzahlZuLesen_pro_Titel <> AnzahlZuLesen_pro_Titel_samplemean: 0.19599\n"
     ]
    }
   ],
   "source": [
    "maxdiff = max(abs(data_plot[metrik+'_pro_Titel']-data_plot[metrik+'_pro_Titel_samplemean']))\n",
    "print(f\"Maxdiff AnzahlZuLesen_pro_Titel <> AnzahlZuLesen_pro_Titel_samplemean: {round(maxdiff, 5)}\")"
   ]
  },
  {
   "cell_type": "code",
   "execution_count": 53,
   "id": "d1e78225-c5ad-403b-9d8e-8a6088a98f41",
   "metadata": {},
   "outputs": [
    {
     "data": {
      "application/vnd.plotly.v1+json": {
       "config": {
        "plotlyServerURL": "https://plot.ly"
       },
       "data": [
        {
         "customdata": [
          [
           3,
           8.567438562466485
          ],
          [
           4,
           7.314095099012821
          ],
          [
           3,
           14.802995199940842
          ],
          [
           14,
           21.95333599836392
          ],
          [
           16,
           41.68530075721996
          ],
          [
           13,
           43.90553313867275
          ],
          [
           13,
           52.58707001709943
          ],
          [
           9,
           6.552825842881687
          ],
          [
           9,
           24.7782927114044
          ],
          [
           7,
           11.493934288962212
          ],
          [
           6,
           8.156841353786998
          ],
          [
           4,
           6.797435897435897
          ],
          [
           8,
           11.536162923164412
          ],
          [
           13,
           51.32599283605017
          ],
          [
           19,
           45.742254576367756
          ],
          [
           26,
           53.10268034368332
          ],
          [
           22,
           83.23944913148003
          ],
          [
           67,
           235.5279331167261
          ],
          [
           48,
           165.83375675876013
          ],
          [
           74,
           285.23372004397424
          ],
          [
           62,
           278.9944763999112
          ],
          [
           65,
           218.08613923783128
          ],
          [
           51,
           146.86605099471194
          ],
          [
           54,
           193.0561471912026
          ],
          [
           57,
           170.1529015748199
          ],
          [
           37,
           132.17666370250132
          ],
          [
           19,
           23.29004630220984
          ],
          [
           38,
           46.24525458953811
          ],
          [
           43,
           124.76626677196532
          ],
          [
           67,
           207.63545685820665
          ],
          [
           67,
           234.3311743412108
          ],
          [
           136,
           304.21784827373347
          ],
          [
           125,
           297.7446924083692
          ],
          [
           109,
           217.90952821879503
          ],
          [
           88,
           149.3765127565851
          ],
          [
           147,
           318.2495940033456
          ],
          [
           153,
           286.6871855091844
          ],
          [
           201,
           287.9012249394798
          ],
          [
           158,
           227.57495176857418
          ],
          [
           161,
           158.46377577369003
          ],
          [
           137,
           108.85022925263414
          ],
          [
           68,
           56.759764400721025
          ],
          [
           4,
           5
          ]
         ],
         "hovertemplate": "=%{x}<br>AnzahlZuLesen_pro_Titel=%{y}<br>AnzahlGenannt=%{customdata[0]}<br>AnzahlZuLesen=%{customdata[1]}<extra></extra>",
         "legendgroup": "",
         "line": {
          "color": "#636efa",
          "dash": "solid"
         },
         "marker": {
          "symbol": "circle"
         },
         "mode": "lines",
         "name": "",
         "orientation": "v",
         "showlegend": false,
         "type": "scatter",
         "x": [
          1600,
          1610,
          1620,
          1630,
          1640,
          1650,
          1660,
          1670,
          1680,
          1690,
          1700,
          1710,
          1720,
          1730,
          1740,
          1750,
          1760,
          1770,
          1780,
          1790,
          1800,
          1810,
          1820,
          1830,
          1840,
          1850,
          1860,
          1870,
          1880,
          1890,
          1900,
          1910,
          1920,
          1930,
          1940,
          1950,
          1960,
          1970,
          1980,
          1990,
          2000,
          2010,
          2020
         ],
         "xaxis": "x",
         "y": [
          2.855812854155495,
          1.8285237747532053,
          4.934331733313614,
          1.5680954284545656,
          2.6053312973262477,
          3.3773487029748273,
          4.045159232084571,
          0.7280917603201874,
          2.753143634600489,
          1.6419906127088875,
          1.3594735589644997,
          1.6993589743589743,
          1.4420203653955515,
          3.948153295080782,
          2.407487082966724,
          2.0424107824493585,
          3.783611324158183,
          3.5153422853242704,
          3.4548699324741694,
          3.854509730323976,
          4.499910909675987,
          3.355171372889712,
          2.879726490092391,
          3.575113836874122,
          2.9851386241196476,
          3.5723422622297654,
          1.2257919106426232,
          1.2169803839352136,
          2.9015410877201235,
          3.0990366695254723,
          3.4974802140479224,
          2.2368959431892166,
          2.3819575392669536,
          1.99916998365867,
          1.6974603722339217,
          2.164963224512555,
          1.873772454308395,
          1.4323444026839791,
          1.4403477960036342,
          0.9842470544949692,
          0.794527220822147,
          0.8347024176576622,
          1.25
         ],
         "yaxis": "y"
        }
       ],
       "layout": {
        "legend": {
         "tracegroupgap": 0
        },
        "margin": {
         "t": 60
        },
        "template": {
         "data": {
          "bar": [
           {
            "error_x": {
             "color": "#2a3f5f"
            },
            "error_y": {
             "color": "#2a3f5f"
            },
            "marker": {
             "line": {
              "color": "#E5ECF6",
              "width": 0.5
             },
             "pattern": {
              "fillmode": "overlay",
              "size": 10,
              "solidity": 0.2
             }
            },
            "type": "bar"
           }
          ],
          "barpolar": [
           {
            "marker": {
             "line": {
              "color": "#E5ECF6",
              "width": 0.5
             },
             "pattern": {
              "fillmode": "overlay",
              "size": 10,
              "solidity": 0.2
             }
            },
            "type": "barpolar"
           }
          ],
          "carpet": [
           {
            "aaxis": {
             "endlinecolor": "#2a3f5f",
             "gridcolor": "white",
             "linecolor": "white",
             "minorgridcolor": "white",
             "startlinecolor": "#2a3f5f"
            },
            "baxis": {
             "endlinecolor": "#2a3f5f",
             "gridcolor": "white",
             "linecolor": "white",
             "minorgridcolor": "white",
             "startlinecolor": "#2a3f5f"
            },
            "type": "carpet"
           }
          ],
          "choropleth": [
           {
            "colorbar": {
             "outlinewidth": 0,
             "ticks": ""
            },
            "type": "choropleth"
           }
          ],
          "contour": [
           {
            "colorbar": {
             "outlinewidth": 0,
             "ticks": ""
            },
            "colorscale": [
             [
              0,
              "#0d0887"
             ],
             [
              0.1111111111111111,
              "#46039f"
             ],
             [
              0.2222222222222222,
              "#7201a8"
             ],
             [
              0.3333333333333333,
              "#9c179e"
             ],
             [
              0.4444444444444444,
              "#bd3786"
             ],
             [
              0.5555555555555556,
              "#d8576b"
             ],
             [
              0.6666666666666666,
              "#ed7953"
             ],
             [
              0.7777777777777778,
              "#fb9f3a"
             ],
             [
              0.8888888888888888,
              "#fdca26"
             ],
             [
              1,
              "#f0f921"
             ]
            ],
            "type": "contour"
           }
          ],
          "contourcarpet": [
           {
            "colorbar": {
             "outlinewidth": 0,
             "ticks": ""
            },
            "type": "contourcarpet"
           }
          ],
          "heatmap": [
           {
            "colorbar": {
             "outlinewidth": 0,
             "ticks": ""
            },
            "colorscale": [
             [
              0,
              "#0d0887"
             ],
             [
              0.1111111111111111,
              "#46039f"
             ],
             [
              0.2222222222222222,
              "#7201a8"
             ],
             [
              0.3333333333333333,
              "#9c179e"
             ],
             [
              0.4444444444444444,
              "#bd3786"
             ],
             [
              0.5555555555555556,
              "#d8576b"
             ],
             [
              0.6666666666666666,
              "#ed7953"
             ],
             [
              0.7777777777777778,
              "#fb9f3a"
             ],
             [
              0.8888888888888888,
              "#fdca26"
             ],
             [
              1,
              "#f0f921"
             ]
            ],
            "type": "heatmap"
           }
          ],
          "heatmapgl": [
           {
            "colorbar": {
             "outlinewidth": 0,
             "ticks": ""
            },
            "colorscale": [
             [
              0,
              "#0d0887"
             ],
             [
              0.1111111111111111,
              "#46039f"
             ],
             [
              0.2222222222222222,
              "#7201a8"
             ],
             [
              0.3333333333333333,
              "#9c179e"
             ],
             [
              0.4444444444444444,
              "#bd3786"
             ],
             [
              0.5555555555555556,
              "#d8576b"
             ],
             [
              0.6666666666666666,
              "#ed7953"
             ],
             [
              0.7777777777777778,
              "#fb9f3a"
             ],
             [
              0.8888888888888888,
              "#fdca26"
             ],
             [
              1,
              "#f0f921"
             ]
            ],
            "type": "heatmapgl"
           }
          ],
          "histogram": [
           {
            "marker": {
             "pattern": {
              "fillmode": "overlay",
              "size": 10,
              "solidity": 0.2
             }
            },
            "type": "histogram"
           }
          ],
          "histogram2d": [
           {
            "colorbar": {
             "outlinewidth": 0,
             "ticks": ""
            },
            "colorscale": [
             [
              0,
              "#0d0887"
             ],
             [
              0.1111111111111111,
              "#46039f"
             ],
             [
              0.2222222222222222,
              "#7201a8"
             ],
             [
              0.3333333333333333,
              "#9c179e"
             ],
             [
              0.4444444444444444,
              "#bd3786"
             ],
             [
              0.5555555555555556,
              "#d8576b"
             ],
             [
              0.6666666666666666,
              "#ed7953"
             ],
             [
              0.7777777777777778,
              "#fb9f3a"
             ],
             [
              0.8888888888888888,
              "#fdca26"
             ],
             [
              1,
              "#f0f921"
             ]
            ],
            "type": "histogram2d"
           }
          ],
          "histogram2dcontour": [
           {
            "colorbar": {
             "outlinewidth": 0,
             "ticks": ""
            },
            "colorscale": [
             [
              0,
              "#0d0887"
             ],
             [
              0.1111111111111111,
              "#46039f"
             ],
             [
              0.2222222222222222,
              "#7201a8"
             ],
             [
              0.3333333333333333,
              "#9c179e"
             ],
             [
              0.4444444444444444,
              "#bd3786"
             ],
             [
              0.5555555555555556,
              "#d8576b"
             ],
             [
              0.6666666666666666,
              "#ed7953"
             ],
             [
              0.7777777777777778,
              "#fb9f3a"
             ],
             [
              0.8888888888888888,
              "#fdca26"
             ],
             [
              1,
              "#f0f921"
             ]
            ],
            "type": "histogram2dcontour"
           }
          ],
          "mesh3d": [
           {
            "colorbar": {
             "outlinewidth": 0,
             "ticks": ""
            },
            "type": "mesh3d"
           }
          ],
          "parcoords": [
           {
            "line": {
             "colorbar": {
              "outlinewidth": 0,
              "ticks": ""
             }
            },
            "type": "parcoords"
           }
          ],
          "pie": [
           {
            "automargin": true,
            "type": "pie"
           }
          ],
          "scatter": [
           {
            "fillpattern": {
             "fillmode": "overlay",
             "size": 10,
             "solidity": 0.2
            },
            "type": "scatter"
           }
          ],
          "scatter3d": [
           {
            "line": {
             "colorbar": {
              "outlinewidth": 0,
              "ticks": ""
             }
            },
            "marker": {
             "colorbar": {
              "outlinewidth": 0,
              "ticks": ""
             }
            },
            "type": "scatter3d"
           }
          ],
          "scattercarpet": [
           {
            "marker": {
             "colorbar": {
              "outlinewidth": 0,
              "ticks": ""
             }
            },
            "type": "scattercarpet"
           }
          ],
          "scattergeo": [
           {
            "marker": {
             "colorbar": {
              "outlinewidth": 0,
              "ticks": ""
             }
            },
            "type": "scattergeo"
           }
          ],
          "scattergl": [
           {
            "marker": {
             "colorbar": {
              "outlinewidth": 0,
              "ticks": ""
             }
            },
            "type": "scattergl"
           }
          ],
          "scattermapbox": [
           {
            "marker": {
             "colorbar": {
              "outlinewidth": 0,
              "ticks": ""
             }
            },
            "type": "scattermapbox"
           }
          ],
          "scatterpolar": [
           {
            "marker": {
             "colorbar": {
              "outlinewidth": 0,
              "ticks": ""
             }
            },
            "type": "scatterpolar"
           }
          ],
          "scatterpolargl": [
           {
            "marker": {
             "colorbar": {
              "outlinewidth": 0,
              "ticks": ""
             }
            },
            "type": "scatterpolargl"
           }
          ],
          "scatterternary": [
           {
            "marker": {
             "colorbar": {
              "outlinewidth": 0,
              "ticks": ""
             }
            },
            "type": "scatterternary"
           }
          ],
          "surface": [
           {
            "colorbar": {
             "outlinewidth": 0,
             "ticks": ""
            },
            "colorscale": [
             [
              0,
              "#0d0887"
             ],
             [
              0.1111111111111111,
              "#46039f"
             ],
             [
              0.2222222222222222,
              "#7201a8"
             ],
             [
              0.3333333333333333,
              "#9c179e"
             ],
             [
              0.4444444444444444,
              "#bd3786"
             ],
             [
              0.5555555555555556,
              "#d8576b"
             ],
             [
              0.6666666666666666,
              "#ed7953"
             ],
             [
              0.7777777777777778,
              "#fb9f3a"
             ],
             [
              0.8888888888888888,
              "#fdca26"
             ],
             [
              1,
              "#f0f921"
             ]
            ],
            "type": "surface"
           }
          ],
          "table": [
           {
            "cells": {
             "fill": {
              "color": "#EBF0F8"
             },
             "line": {
              "color": "white"
             }
            },
            "header": {
             "fill": {
              "color": "#C8D4E3"
             },
             "line": {
              "color": "white"
             }
            },
            "type": "table"
           }
          ]
         },
         "layout": {
          "annotationdefaults": {
           "arrowcolor": "#2a3f5f",
           "arrowhead": 0,
           "arrowwidth": 1
          },
          "autotypenumbers": "strict",
          "coloraxis": {
           "colorbar": {
            "outlinewidth": 0,
            "ticks": ""
           }
          },
          "colorscale": {
           "diverging": [
            [
             0,
             "#8e0152"
            ],
            [
             0.1,
             "#c51b7d"
            ],
            [
             0.2,
             "#de77ae"
            ],
            [
             0.3,
             "#f1b6da"
            ],
            [
             0.4,
             "#fde0ef"
            ],
            [
             0.5,
             "#f7f7f7"
            ],
            [
             0.6,
             "#e6f5d0"
            ],
            [
             0.7,
             "#b8e186"
            ],
            [
             0.8,
             "#7fbc41"
            ],
            [
             0.9,
             "#4d9221"
            ],
            [
             1,
             "#276419"
            ]
           ],
           "sequential": [
            [
             0,
             "#0d0887"
            ],
            [
             0.1111111111111111,
             "#46039f"
            ],
            [
             0.2222222222222222,
             "#7201a8"
            ],
            [
             0.3333333333333333,
             "#9c179e"
            ],
            [
             0.4444444444444444,
             "#bd3786"
            ],
            [
             0.5555555555555556,
             "#d8576b"
            ],
            [
             0.6666666666666666,
             "#ed7953"
            ],
            [
             0.7777777777777778,
             "#fb9f3a"
            ],
            [
             0.8888888888888888,
             "#fdca26"
            ],
            [
             1,
             "#f0f921"
            ]
           ],
           "sequentialminus": [
            [
             0,
             "#0d0887"
            ],
            [
             0.1111111111111111,
             "#46039f"
            ],
            [
             0.2222222222222222,
             "#7201a8"
            ],
            [
             0.3333333333333333,
             "#9c179e"
            ],
            [
             0.4444444444444444,
             "#bd3786"
            ],
            [
             0.5555555555555556,
             "#d8576b"
            ],
            [
             0.6666666666666666,
             "#ed7953"
            ],
            [
             0.7777777777777778,
             "#fb9f3a"
            ],
            [
             0.8888888888888888,
             "#fdca26"
            ],
            [
             1,
             "#f0f921"
            ]
           ]
          },
          "colorway": [
           "#636efa",
           "#EF553B",
           "#00cc96",
           "#ab63fa",
           "#FFA15A",
           "#19d3f3",
           "#FF6692",
           "#B6E880",
           "#FF97FF",
           "#FECB52"
          ],
          "font": {
           "color": "#2a3f5f"
          },
          "geo": {
           "bgcolor": "white",
           "lakecolor": "white",
           "landcolor": "#E5ECF6",
           "showlakes": true,
           "showland": true,
           "subunitcolor": "white"
          },
          "hoverlabel": {
           "align": "left"
          },
          "hovermode": "closest",
          "mapbox": {
           "style": "light"
          },
          "paper_bgcolor": "white",
          "plot_bgcolor": "#E5ECF6",
          "polar": {
           "angularaxis": {
            "gridcolor": "white",
            "linecolor": "white",
            "ticks": ""
           },
           "bgcolor": "#E5ECF6",
           "radialaxis": {
            "gridcolor": "white",
            "linecolor": "white",
            "ticks": ""
           }
          },
          "scene": {
           "xaxis": {
            "backgroundcolor": "#E5ECF6",
            "gridcolor": "white",
            "gridwidth": 2,
            "linecolor": "white",
            "showbackground": true,
            "ticks": "",
            "zerolinecolor": "white"
           },
           "yaxis": {
            "backgroundcolor": "#E5ECF6",
            "gridcolor": "white",
            "gridwidth": 2,
            "linecolor": "white",
            "showbackground": true,
            "ticks": "",
            "zerolinecolor": "white"
           },
           "zaxis": {
            "backgroundcolor": "#E5ECF6",
            "gridcolor": "white",
            "gridwidth": 2,
            "linecolor": "white",
            "showbackground": true,
            "ticks": "",
            "zerolinecolor": "white"
           }
          },
          "shapedefaults": {
           "line": {
            "color": "#2a3f5f"
           }
          },
          "ternary": {
           "aaxis": {
            "gridcolor": "white",
            "linecolor": "white",
            "ticks": ""
           },
           "baxis": {
            "gridcolor": "white",
            "linecolor": "white",
            "ticks": ""
           },
           "bgcolor": "#E5ECF6",
           "caxis": {
            "gridcolor": "white",
            "linecolor": "white",
            "ticks": ""
           }
          },
          "title": {
           "x": 0.05
          },
          "xaxis": {
           "automargin": true,
           "gridcolor": "white",
           "linecolor": "white",
           "ticks": "",
           "title": {
            "standoff": 15
           },
           "zerolinecolor": "white",
           "zerolinewidth": 2
          },
          "yaxis": {
           "automargin": true,
           "gridcolor": "white",
           "linecolor": "white",
           "ticks": "",
           "title": {
            "standoff": 15
           },
           "zerolinecolor": "white",
           "zerolinewidth": 2
          }
         }
        },
        "xaxis": {
         "anchor": "y",
         "domain": [
          0,
          1
         ],
         "title": {
          "text": ""
         }
        },
        "yaxis": {
         "anchor": "x",
         "domain": [
          0,
          1
         ],
         "title": {
          "text": "AnzahlZuLesen_pro_Titel"
         }
        }
       }
      }
     },
     "metadata": {},
     "output_type": "display_data"
    },
    {
     "name": "stdout",
     "output_type": "stream",
     "text": [
      "Korrelation AnzahlGenannt <> AnzahlZuLesen_pro_Titel: -0.24\n"
     ]
    }
   ],
   "source": [
    "fig = px.line(\n",
    "    data_plot,\n",
    "    y = metrik+'_pro_Titel',\n",
    "    hover_data = ['AnzahlGenannt', metrik],\n",
    "    labels = {'index':''}\n",
    ")\n",
    "fig.show()\n",
    "\n",
    "corr = data_plot[['AnzahlGenannt', metrik+'_pro_Titel']].corr().iloc[0,1]\n",
    "print(f\"Korrelation AnzahlGenannt <> {metrik}_pro_Titel: {round(corr, 2)}\")"
   ]
  },
  {
   "cell_type": "code",
   "execution_count": 54,
   "id": "c4b35d9d-6526-449e-98d8-b32dc2bbcfda",
   "metadata": {},
   "outputs": [
    {
     "name": "stdout",
     "output_type": "stream",
     "text": [
      "| Autor                   |   Anzahl Texte |\n",
      "|:------------------------|---------------:|\n",
      "| Brecht, Bertolt         |             44 |\n",
      "| Goethe, Johann Wolfgang |             55 |\n",
      "| Schiller, Friedrich     |             39 |\n"
     ]
    },
    {
     "data": {
      "application/vnd.plotly.v1+json": {
       "config": {
        "plotlyServerURL": "https://plot.ly"
       },
       "data": [
        {
         "alignmentgroup": "True",
         "boxpoints": "all",
         "customdata": [
          [
           674
          ],
          [
           674
          ],
          [
           1360.5
          ],
          [
           259
          ],
          [
           177
          ],
          [
           347
          ],
          [
           1784
          ],
          [
           1360.5
          ],
          [
           1688
          ],
          [
           252
          ],
          [
           1784
          ],
          [
           792
          ],
          [
           350
          ],
          [
           1724
          ],
          [
           1784
          ],
          [
           1784
          ],
          [
           1360.5
          ],
          [
           70
          ],
          [
           747
          ],
          [
           1784
          ],
          [
           1980.5
          ],
          [
           948
          ],
          [
           864.5
          ],
          [
           2339.5
          ],
          [
           96
          ],
          [
           975.5
          ],
          [
           1784
          ],
          [
           1890
          ],
          [
           812
          ],
          [
           975.5
          ],
          [
           152
          ],
          [
           109
          ],
          [
           1784
          ],
          [
           1735.5
          ],
          [
           35
          ],
          [
           2397.5
          ],
          [
           1784
          ],
          [
           619
          ],
          [
           1817
          ],
          [
           2339.5
          ],
          [
           601
          ],
          [
           2063.5
          ],
          [
           1784
          ],
          [
           674
          ],
          [
           1015
          ],
          [
           1360.5
          ],
          [
           1360.5
          ],
          [
           1360.5
          ],
          [
           1360.5
          ],
          [
           1360.5
          ],
          [
           1360.5
          ],
          [
           595.5
          ],
          [
           1071.5
          ],
          [
           1023
          ],
          [
           211
          ],
          [
           1360.5
          ],
          [
           1360.5
          ],
          [
           1360.5
          ],
          [
           1071.5
          ],
          [
           2
          ],
          [
           2095.5
          ],
          [
           30
          ],
          [
           442.5
          ],
          [
           315.5
          ],
          [
           637.5
          ],
          [
           3
          ],
          [
           21
          ],
          [
           615
          ],
          [
           48
          ],
          [
           47
          ],
          [
           1071.5
          ],
          [
           2130
          ],
          [
           606.5
          ],
          [
           1071.5
          ],
          [
           25
          ],
          [
           921.5
          ],
          [
           1360.5
          ],
          [
           1023
          ],
          [
           1360.5
          ],
          [
           2130
          ],
          [
           1360.5
          ],
          [
           1071.5
          ],
          [
           324
          ],
          [
           325
          ],
          [
           2095.5
          ],
          [
           361
          ],
          [
           2130
          ],
          [
           1071.5
          ],
          [
           991
          ],
          [
           1006
          ],
          [
           108
          ],
          [
           188
          ],
          [
           1071.5
          ],
          [
           2130
          ],
          [
           1071.5
          ],
          [
           262
          ],
          [
           11
          ],
          [
           539
          ],
          [
           637.5
          ],
          [
           1718.5
          ],
          [
           300
          ],
          [
           864.5
          ],
          [
           1360.5
          ],
          [
           377
          ],
          [
           565.5
          ],
          [
           1360.5
          ],
          [
           864.5
          ],
          [
           864.5
          ],
          [
           565.5
          ],
          [
           342
          ],
          [
           1360.5
          ],
          [
           565.5
          ],
          [
           315.5
          ],
          [
           1006
          ],
          [
           565.5
          ],
          [
           788
          ],
          [
           40
          ],
          [
           1360.5
          ],
          [
           1743.5
          ],
          [
           155
          ],
          [
           1360.5
          ],
          [
           1360.5
          ],
          [
           1360.5
          ],
          [
           610
          ],
          [
           173
          ],
          [
           58
          ],
          [
           15
          ],
          [
           565.5
          ],
          [
           864.5
          ],
          [
           2095.5
          ],
          [
           358
          ],
          [
           779.5
          ],
          [
           103
          ],
          [
           145
          ],
          [
           74
          ],
          [
           1360.5
          ],
          [
           375
          ],
          [
           148
          ]
         ],
         "hovertemplate": "<b>%{hovertext}</b><br><br>Autor=%{x}<br>AnzahlZuLesen=%{y}<br>AnzahlZuLesen_Rang=%{customdata[0]}<extra></extra>",
         "hovertext": [
          "An die Nachgeborenen",
          "Anmerkungen zu \"Aufstieg und Fall der Stadt Mahagonny\"",
          "Aus dem Lesebuch für Städtebewohner",
          "Baal",
          "Bertolt Brechts Hauspostille",
          "Buckower Elegien",
          "Choral vom großen Baal",
          "Der Augsburger Kreidekreis",
          "Der Dreigroschenprozess",
          "Der gute Mensch von Sezuan",
          "Der Himmel dieses Sommers",
          "Der Jasager und der Neinsager",
          "Der Kaukasische Kreidekreis",
          "Der Ozeanflug",
          "Der Radwechsel",
          "Der Rauch",
          "Der Rundfunk als Kommunikationsapparat",
          "Die Dreigroschenoper",
          "Die Heilige Johanna der Schlachthöfe",
          "Die Kindermörderin Marie Farrar",
          "Die Kleinbürgerhochzeit",
          "Die Maßnahme",
          "Erinnerung an die Marie A.",
          "Flüchtlingsgespräche",
          "Gedichte",
          "Geschichten vom Herrn Keuner",
          "Großer Dankchoral",
          "Herr Puntila und sein Knecht Matti",
          "Im Dickicht der Städte",
          "Kalendergeschichten",
          "Kleines Organon für das Theater",
          "Leben des Galilei",
          "Legende vom toten Soldaten",
          "Mann ist Mann",
          "Mutter Courage und ihre Kinder",
          "Prosa",
          "Rudern, Gespräche",
          "Svendborger Gedichte",
          "Trommeln in der Nacht",
          "Über eine nichtaristotelische Dramatik ",
          "Über reimlose Lyrik",
          "Vergnügungstheater oder Lehrtheater",
          "Vom Schwimmen in Seen und Flüssen",
          "zwei Dramen",
          "Clavigo",
          "Die Metamorphose der Pflanzen",
          "Farbenlehre",
          "Maximen und Reflexionen",
          "Über den Granit",
          "Über epische und dramatische Dichtung",
          "Von deutscher Baukunst",
          "Zum Schäkespears-Tag",
          "An den Mond",
          "An Schwager Kronos",
          "Aus meinem Leben. Dichtung und Wahrheit",
          "Ballade",
          "Das Göttliche",
          "Der Adler und die Taube",
          "Der Zauberlehrling",
          "Die Leiden des jungen Werthers ",
          "Die natürliche Tochter",
          "Die Wahlverwandtschaften",
          "Egmont",
          "Einfache Nachahmung der Natur, Manier, Stil",
          "Erlkönig",
          "Faust. Der Tragödie erster Teil ",
          "Faust. Der Tragödie zweiter Teil ",
          "Ganymed",
          "Gedichte (aus allen Hauptphasen)",
          "Götz von Berlichingen",
          "Grenzen der Menschheit",
          "Harzreise im Winter",
          "Hermann und Dorothea",
          "Hochbild",
          "Iphigenie auf Tauris",
          "Italienische Reise",
          "Jägers Nachtlied",
          "Mahomets Gesang",
          "Maifest",
          "Mailied",
          "Märchen",
          "Marienbader Elegie",
          "Novelle",
          "Prometheus",
          "Reineke Fuchs",
          "Römische Elegien",
          "Seefahrt",
          "Selige Sehnsucht",
          "Sesenheimer Gedichte",
          "Stella",
          "Torquato Tasso ",
          "Unterhaltungen deutscher Ausgewanderten",
          "Urworte - orphisch",
          "Wanderers Sturmlied",
          "Wandrers Nachtlied I und II",
          "West-östlicher Divan",
          "Wilhelm Meisters Lehrjahre",
          "Wilhelm Meisters Wanderjahre",
          "Willkomm und Abschied",
          "Abhandlung",
          "Balladen",
          "Das Lied von der Glocke",
          "Das verschleierte Bild zu Sais",
          "Der Geisterseher. Aus den Memoiren des Grafen von O**",
          "Der Handschuh",
          "Der Kampf",
          "Der Ring des Polykrates",
          "Der Spaziergang",
          "Der Taucher",
          "Der Verbrecher aus verlorener Ehre",
          "Die Braut von Messina",
          "Die Bürgschaft",
          "Die Götter Griechenlands",
          "Die Jungfrau von Orleans",
          "Die Kraniche des Ibykus",
          "Die Künstler",
          "Die Räuber",
          "Die seligen Augenblicke an Laura",
          "Die Verschwörung des Fiesco zu Genua",
          "Don Karlos",
          "Dramen",
          "Fantasie an Laura",
          "Freygeisterei der Leidenschaft",
          "Gedichte",
          "Gedichte",
          "Kabale und Liebe",
          "Maria Stuart",
          "Nänie",
          "Philosophische Gedichte",
          "Über Anmuth und Würde",
          "Über das Erhabene",
          "Über das Pathetische",
          "Über die ästhetische Erziehung des Menschen",
          "Über naive und sentimentalische Dichtung",
          "Wallenstein",
          "Was heißt und zu welchem Ende studiert man Universalgeschichte",
          "Was kann eine gute stehende Schaubühne eigentlich wirken?",
          "Wilhelm Tell"
         ],
         "legendgroup": "",
         "marker": {
          "color": "#636efa"
         },
         "name": "",
         "notched": false,
         "offsetgroup": "",
         "orientation": "v",
         "showlegend": false,
         "type": "box",
         "x": [
          "Brecht, Bertolt",
          "Brecht, Bertolt",
          "Brecht, Bertolt",
          "Brecht, Bertolt",
          "Brecht, Bertolt",
          "Brecht, Bertolt",
          "Brecht, Bertolt",
          "Brecht, Bertolt",
          "Brecht, Bertolt",
          "Brecht, Bertolt",
          "Brecht, Bertolt",
          "Brecht, Bertolt",
          "Brecht, Bertolt",
          "Brecht, Bertolt",
          "Brecht, Bertolt",
          "Brecht, Bertolt",
          "Brecht, Bertolt",
          "Brecht, Bertolt",
          "Brecht, Bertolt",
          "Brecht, Bertolt",
          "Brecht, Bertolt",
          "Brecht, Bertolt",
          "Brecht, Bertolt",
          "Brecht, Bertolt",
          "Brecht, Bertolt",
          "Brecht, Bertolt",
          "Brecht, Bertolt",
          "Brecht, Bertolt",
          "Brecht, Bertolt",
          "Brecht, Bertolt",
          "Brecht, Bertolt",
          "Brecht, Bertolt",
          "Brecht, Bertolt",
          "Brecht, Bertolt",
          "Brecht, Bertolt",
          "Brecht, Bertolt",
          "Brecht, Bertolt",
          "Brecht, Bertolt",
          "Brecht, Bertolt",
          "Brecht, Bertolt",
          "Brecht, Bertolt",
          "Brecht, Bertolt",
          "Brecht, Bertolt",
          "Brecht, Bertolt",
          "Goethe, Johann Wolfgang",
          "Goethe, Johann Wolfgang",
          "Goethe, Johann Wolfgang",
          "Goethe, Johann Wolfgang",
          "Goethe, Johann Wolfgang",
          "Goethe, Johann Wolfgang",
          "Goethe, Johann Wolfgang",
          "Goethe, Johann Wolfgang",
          "Goethe, Johann Wolfgang",
          "Goethe, Johann Wolfgang",
          "Goethe, Johann Wolfgang",
          "Goethe, Johann Wolfgang",
          "Goethe, Johann Wolfgang",
          "Goethe, Johann Wolfgang",
          "Goethe, Johann Wolfgang",
          "Goethe, Johann Wolfgang",
          "Goethe, Johann Wolfgang",
          "Goethe, Johann Wolfgang",
          "Goethe, Johann Wolfgang",
          "Goethe, Johann Wolfgang",
          "Goethe, Johann Wolfgang",
          "Goethe, Johann Wolfgang",
          "Goethe, Johann Wolfgang",
          "Goethe, Johann Wolfgang",
          "Goethe, Johann Wolfgang",
          "Goethe, Johann Wolfgang",
          "Goethe, Johann Wolfgang",
          "Goethe, Johann Wolfgang",
          "Goethe, Johann Wolfgang",
          "Goethe, Johann Wolfgang",
          "Goethe, Johann Wolfgang",
          "Goethe, Johann Wolfgang",
          "Goethe, Johann Wolfgang",
          "Goethe, Johann Wolfgang",
          "Goethe, Johann Wolfgang",
          "Goethe, Johann Wolfgang",
          "Goethe, Johann Wolfgang",
          "Goethe, Johann Wolfgang",
          "Goethe, Johann Wolfgang",
          "Goethe, Johann Wolfgang",
          "Goethe, Johann Wolfgang",
          "Goethe, Johann Wolfgang",
          "Goethe, Johann Wolfgang",
          "Goethe, Johann Wolfgang",
          "Goethe, Johann Wolfgang",
          "Goethe, Johann Wolfgang",
          "Goethe, Johann Wolfgang",
          "Goethe, Johann Wolfgang",
          "Goethe, Johann Wolfgang",
          "Goethe, Johann Wolfgang",
          "Goethe, Johann Wolfgang",
          "Goethe, Johann Wolfgang",
          "Goethe, Johann Wolfgang",
          "Goethe, Johann Wolfgang",
          "Goethe, Johann Wolfgang",
          "Schiller, Friedrich",
          "Schiller, Friedrich",
          "Schiller, Friedrich",
          "Schiller, Friedrich",
          "Schiller, Friedrich",
          "Schiller, Friedrich",
          "Schiller, Friedrich",
          "Schiller, Friedrich",
          "Schiller, Friedrich",
          "Schiller, Friedrich",
          "Schiller, Friedrich",
          "Schiller, Friedrich",
          "Schiller, Friedrich",
          "Schiller, Friedrich",
          "Schiller, Friedrich",
          "Schiller, Friedrich",
          "Schiller, Friedrich",
          "Schiller, Friedrich",
          "Schiller, Friedrich",
          "Schiller, Friedrich",
          "Schiller, Friedrich",
          "Schiller, Friedrich",
          "Schiller, Friedrich",
          "Schiller, Friedrich",
          "Schiller, Friedrich",
          "Schiller, Friedrich",
          "Schiller, Friedrich",
          "Schiller, Friedrich",
          "Schiller, Friedrich",
          "Schiller, Friedrich",
          "Schiller, Friedrich",
          "Schiller, Friedrich",
          "Schiller, Friedrich",
          "Schiller, Friedrich",
          "Schiller, Friedrich",
          "Schiller, Friedrich",
          "Schiller, Friedrich",
          "Schiller, Friedrich",
          "Schiller, Friedrich"
         ],
         "x0": " ",
         "xaxis": "x",
         "y": [
          2,
          2,
          1,
          5.003844957376811,
          7.073785433610144,
          3.864861040931183,
          0.25,
          1,
          0.5,
          5.079231143383565,
          0.25,
          1.3333333333333333,
          3.840435625176281,
          0.39999999999999997,
          0.25,
          0.25,
          1,
          13.699584107405384,
          1.5547619047619048,
          0.25,
          0.1265822785,
          1.1781555359768114,
          1.25,
          0.0316120957645161,
          11.613916666666666,
          1.1265822785,
          0.25,
          0.1581943742645161,
          1.2666666666666666,
          1.1265822785,
          8.531612095764515,
          10.668130671662526,
          0.25,
          0.3333333333333333,
          18.932024583595858,
          0.027777777777777776,
          0.25,
          2.0737854336101447,
          0.2272626788768115,
          0.0316120957645161,
          2.1075,
          0.1075,
          0.25,
          2,
          1.0961538461538463,
          1,
          1,
          1,
          1,
          1,
          1,
          2.1265822785,
          1.0227272727272727,
          1.083,
          5.929775826721469,
          1,
          1,
          1,
          1.0227272727272727,
          29.833812863758506,
          0.0994898445177665,
          19.691747695996852,
          3.0994898445177665,
          4.25,
          2.0227272727272725,
          28.157019416441983,
          21.23955623683809,
          2.083,
          16.011055212972934,
          16.07462211965004,
          1.0227272727272727,
          0.083,
          2.0994898445177665,
          1.0227272727272727,
          20.758372230294796,
          1.2260721230177665,
          1,
          1.083,
          1,
          0.083,
          1,
          1.0227272727272727,
          4.226072123017767,
          4.20521711724504,
          0.0994898445177665,
          3.6106009556288776,
          0.083,
          1.0227272727272727,
          1.1111111111111112,
          1.0994898445177665,
          10.68268072770865,
          6.794944390017766,
          1.0227272727272727,
          0.083,
          1.0227272727272727,
          4.942738789684433,
          22.997701752647394,
          2.3328231778510995,
          2.0227272727272725,
          0.4166666666666667,
          4.3765822785,
          1.25,
          1,
          3.4883787334066554,
          2.25,
          1,
          1.25,
          1.25,
          2.25,
          3.948294345239989,
          1,
          2.25,
          4.25,
          1.0994898445177665,
          2.25,
          1.3494898445177665,
          17.928885050830694,
          1,
          0.2994898445177665,
          8.240265735293656,
          1,
          1,
          1,
          2.0974358974358975,
          7.25,
          14.641848013793656,
          22.32833599834084,
          2.25,
          1.25,
          0.0994898445177665,
          3.6528571429000003,
          1.4,
          10.996442493388134,
          8.752346987417766,
          13.359878529883375,
          1,
          3.499489844517767,
          8.698706368711214
         ],
         "y0": " ",
         "yaxis": "y"
        }
       ],
       "layout": {
        "boxmode": "group",
        "legend": {
         "tracegroupgap": 0
        },
        "margin": {
         "t": 60
        },
        "template": {
         "data": {
          "bar": [
           {
            "error_x": {
             "color": "#2a3f5f"
            },
            "error_y": {
             "color": "#2a3f5f"
            },
            "marker": {
             "line": {
              "color": "#E5ECF6",
              "width": 0.5
             },
             "pattern": {
              "fillmode": "overlay",
              "size": 10,
              "solidity": 0.2
             }
            },
            "type": "bar"
           }
          ],
          "barpolar": [
           {
            "marker": {
             "line": {
              "color": "#E5ECF6",
              "width": 0.5
             },
             "pattern": {
              "fillmode": "overlay",
              "size": 10,
              "solidity": 0.2
             }
            },
            "type": "barpolar"
           }
          ],
          "carpet": [
           {
            "aaxis": {
             "endlinecolor": "#2a3f5f",
             "gridcolor": "white",
             "linecolor": "white",
             "minorgridcolor": "white",
             "startlinecolor": "#2a3f5f"
            },
            "baxis": {
             "endlinecolor": "#2a3f5f",
             "gridcolor": "white",
             "linecolor": "white",
             "minorgridcolor": "white",
             "startlinecolor": "#2a3f5f"
            },
            "type": "carpet"
           }
          ],
          "choropleth": [
           {
            "colorbar": {
             "outlinewidth": 0,
             "ticks": ""
            },
            "type": "choropleth"
           }
          ],
          "contour": [
           {
            "colorbar": {
             "outlinewidth": 0,
             "ticks": ""
            },
            "colorscale": [
             [
              0,
              "#0d0887"
             ],
             [
              0.1111111111111111,
              "#46039f"
             ],
             [
              0.2222222222222222,
              "#7201a8"
             ],
             [
              0.3333333333333333,
              "#9c179e"
             ],
             [
              0.4444444444444444,
              "#bd3786"
             ],
             [
              0.5555555555555556,
              "#d8576b"
             ],
             [
              0.6666666666666666,
              "#ed7953"
             ],
             [
              0.7777777777777778,
              "#fb9f3a"
             ],
             [
              0.8888888888888888,
              "#fdca26"
             ],
             [
              1,
              "#f0f921"
             ]
            ],
            "type": "contour"
           }
          ],
          "contourcarpet": [
           {
            "colorbar": {
             "outlinewidth": 0,
             "ticks": ""
            },
            "type": "contourcarpet"
           }
          ],
          "heatmap": [
           {
            "colorbar": {
             "outlinewidth": 0,
             "ticks": ""
            },
            "colorscale": [
             [
              0,
              "#0d0887"
             ],
             [
              0.1111111111111111,
              "#46039f"
             ],
             [
              0.2222222222222222,
              "#7201a8"
             ],
             [
              0.3333333333333333,
              "#9c179e"
             ],
             [
              0.4444444444444444,
              "#bd3786"
             ],
             [
              0.5555555555555556,
              "#d8576b"
             ],
             [
              0.6666666666666666,
              "#ed7953"
             ],
             [
              0.7777777777777778,
              "#fb9f3a"
             ],
             [
              0.8888888888888888,
              "#fdca26"
             ],
             [
              1,
              "#f0f921"
             ]
            ],
            "type": "heatmap"
           }
          ],
          "heatmapgl": [
           {
            "colorbar": {
             "outlinewidth": 0,
             "ticks": ""
            },
            "colorscale": [
             [
              0,
              "#0d0887"
             ],
             [
              0.1111111111111111,
              "#46039f"
             ],
             [
              0.2222222222222222,
              "#7201a8"
             ],
             [
              0.3333333333333333,
              "#9c179e"
             ],
             [
              0.4444444444444444,
              "#bd3786"
             ],
             [
              0.5555555555555556,
              "#d8576b"
             ],
             [
              0.6666666666666666,
              "#ed7953"
             ],
             [
              0.7777777777777778,
              "#fb9f3a"
             ],
             [
              0.8888888888888888,
              "#fdca26"
             ],
             [
              1,
              "#f0f921"
             ]
            ],
            "type": "heatmapgl"
           }
          ],
          "histogram": [
           {
            "marker": {
             "pattern": {
              "fillmode": "overlay",
              "size": 10,
              "solidity": 0.2
             }
            },
            "type": "histogram"
           }
          ],
          "histogram2d": [
           {
            "colorbar": {
             "outlinewidth": 0,
             "ticks": ""
            },
            "colorscale": [
             [
              0,
              "#0d0887"
             ],
             [
              0.1111111111111111,
              "#46039f"
             ],
             [
              0.2222222222222222,
              "#7201a8"
             ],
             [
              0.3333333333333333,
              "#9c179e"
             ],
             [
              0.4444444444444444,
              "#bd3786"
             ],
             [
              0.5555555555555556,
              "#d8576b"
             ],
             [
              0.6666666666666666,
              "#ed7953"
             ],
             [
              0.7777777777777778,
              "#fb9f3a"
             ],
             [
              0.8888888888888888,
              "#fdca26"
             ],
             [
              1,
              "#f0f921"
             ]
            ],
            "type": "histogram2d"
           }
          ],
          "histogram2dcontour": [
           {
            "colorbar": {
             "outlinewidth": 0,
             "ticks": ""
            },
            "colorscale": [
             [
              0,
              "#0d0887"
             ],
             [
              0.1111111111111111,
              "#46039f"
             ],
             [
              0.2222222222222222,
              "#7201a8"
             ],
             [
              0.3333333333333333,
              "#9c179e"
             ],
             [
              0.4444444444444444,
              "#bd3786"
             ],
             [
              0.5555555555555556,
              "#d8576b"
             ],
             [
              0.6666666666666666,
              "#ed7953"
             ],
             [
              0.7777777777777778,
              "#fb9f3a"
             ],
             [
              0.8888888888888888,
              "#fdca26"
             ],
             [
              1,
              "#f0f921"
             ]
            ],
            "type": "histogram2dcontour"
           }
          ],
          "mesh3d": [
           {
            "colorbar": {
             "outlinewidth": 0,
             "ticks": ""
            },
            "type": "mesh3d"
           }
          ],
          "parcoords": [
           {
            "line": {
             "colorbar": {
              "outlinewidth": 0,
              "ticks": ""
             }
            },
            "type": "parcoords"
           }
          ],
          "pie": [
           {
            "automargin": true,
            "type": "pie"
           }
          ],
          "scatter": [
           {
            "fillpattern": {
             "fillmode": "overlay",
             "size": 10,
             "solidity": 0.2
            },
            "type": "scatter"
           }
          ],
          "scatter3d": [
           {
            "line": {
             "colorbar": {
              "outlinewidth": 0,
              "ticks": ""
             }
            },
            "marker": {
             "colorbar": {
              "outlinewidth": 0,
              "ticks": ""
             }
            },
            "type": "scatter3d"
           }
          ],
          "scattercarpet": [
           {
            "marker": {
             "colorbar": {
              "outlinewidth": 0,
              "ticks": ""
             }
            },
            "type": "scattercarpet"
           }
          ],
          "scattergeo": [
           {
            "marker": {
             "colorbar": {
              "outlinewidth": 0,
              "ticks": ""
             }
            },
            "type": "scattergeo"
           }
          ],
          "scattergl": [
           {
            "marker": {
             "colorbar": {
              "outlinewidth": 0,
              "ticks": ""
             }
            },
            "type": "scattergl"
           }
          ],
          "scattermapbox": [
           {
            "marker": {
             "colorbar": {
              "outlinewidth": 0,
              "ticks": ""
             }
            },
            "type": "scattermapbox"
           }
          ],
          "scatterpolar": [
           {
            "marker": {
             "colorbar": {
              "outlinewidth": 0,
              "ticks": ""
             }
            },
            "type": "scatterpolar"
           }
          ],
          "scatterpolargl": [
           {
            "marker": {
             "colorbar": {
              "outlinewidth": 0,
              "ticks": ""
             }
            },
            "type": "scatterpolargl"
           }
          ],
          "scatterternary": [
           {
            "marker": {
             "colorbar": {
              "outlinewidth": 0,
              "ticks": ""
             }
            },
            "type": "scatterternary"
           }
          ],
          "surface": [
           {
            "colorbar": {
             "outlinewidth": 0,
             "ticks": ""
            },
            "colorscale": [
             [
              0,
              "#0d0887"
             ],
             [
              0.1111111111111111,
              "#46039f"
             ],
             [
              0.2222222222222222,
              "#7201a8"
             ],
             [
              0.3333333333333333,
              "#9c179e"
             ],
             [
              0.4444444444444444,
              "#bd3786"
             ],
             [
              0.5555555555555556,
              "#d8576b"
             ],
             [
              0.6666666666666666,
              "#ed7953"
             ],
             [
              0.7777777777777778,
              "#fb9f3a"
             ],
             [
              0.8888888888888888,
              "#fdca26"
             ],
             [
              1,
              "#f0f921"
             ]
            ],
            "type": "surface"
           }
          ],
          "table": [
           {
            "cells": {
             "fill": {
              "color": "#EBF0F8"
             },
             "line": {
              "color": "white"
             }
            },
            "header": {
             "fill": {
              "color": "#C8D4E3"
             },
             "line": {
              "color": "white"
             }
            },
            "type": "table"
           }
          ]
         },
         "layout": {
          "annotationdefaults": {
           "arrowcolor": "#2a3f5f",
           "arrowhead": 0,
           "arrowwidth": 1
          },
          "autotypenumbers": "strict",
          "coloraxis": {
           "colorbar": {
            "outlinewidth": 0,
            "ticks": ""
           }
          },
          "colorscale": {
           "diverging": [
            [
             0,
             "#8e0152"
            ],
            [
             0.1,
             "#c51b7d"
            ],
            [
             0.2,
             "#de77ae"
            ],
            [
             0.3,
             "#f1b6da"
            ],
            [
             0.4,
             "#fde0ef"
            ],
            [
             0.5,
             "#f7f7f7"
            ],
            [
             0.6,
             "#e6f5d0"
            ],
            [
             0.7,
             "#b8e186"
            ],
            [
             0.8,
             "#7fbc41"
            ],
            [
             0.9,
             "#4d9221"
            ],
            [
             1,
             "#276419"
            ]
           ],
           "sequential": [
            [
             0,
             "#0d0887"
            ],
            [
             0.1111111111111111,
             "#46039f"
            ],
            [
             0.2222222222222222,
             "#7201a8"
            ],
            [
             0.3333333333333333,
             "#9c179e"
            ],
            [
             0.4444444444444444,
             "#bd3786"
            ],
            [
             0.5555555555555556,
             "#d8576b"
            ],
            [
             0.6666666666666666,
             "#ed7953"
            ],
            [
             0.7777777777777778,
             "#fb9f3a"
            ],
            [
             0.8888888888888888,
             "#fdca26"
            ],
            [
             1,
             "#f0f921"
            ]
           ],
           "sequentialminus": [
            [
             0,
             "#0d0887"
            ],
            [
             0.1111111111111111,
             "#46039f"
            ],
            [
             0.2222222222222222,
             "#7201a8"
            ],
            [
             0.3333333333333333,
             "#9c179e"
            ],
            [
             0.4444444444444444,
             "#bd3786"
            ],
            [
             0.5555555555555556,
             "#d8576b"
            ],
            [
             0.6666666666666666,
             "#ed7953"
            ],
            [
             0.7777777777777778,
             "#fb9f3a"
            ],
            [
             0.8888888888888888,
             "#fdca26"
            ],
            [
             1,
             "#f0f921"
            ]
           ]
          },
          "colorway": [
           "#636efa",
           "#EF553B",
           "#00cc96",
           "#ab63fa",
           "#FFA15A",
           "#19d3f3",
           "#FF6692",
           "#B6E880",
           "#FF97FF",
           "#FECB52"
          ],
          "font": {
           "color": "#2a3f5f"
          },
          "geo": {
           "bgcolor": "white",
           "lakecolor": "white",
           "landcolor": "#E5ECF6",
           "showlakes": true,
           "showland": true,
           "subunitcolor": "white"
          },
          "hoverlabel": {
           "align": "left"
          },
          "hovermode": "closest",
          "mapbox": {
           "style": "light"
          },
          "paper_bgcolor": "white",
          "plot_bgcolor": "#E5ECF6",
          "polar": {
           "angularaxis": {
            "gridcolor": "white",
            "linecolor": "white",
            "ticks": ""
           },
           "bgcolor": "#E5ECF6",
           "radialaxis": {
            "gridcolor": "white",
            "linecolor": "white",
            "ticks": ""
           }
          },
          "scene": {
           "xaxis": {
            "backgroundcolor": "#E5ECF6",
            "gridcolor": "white",
            "gridwidth": 2,
            "linecolor": "white",
            "showbackground": true,
            "ticks": "",
            "zerolinecolor": "white"
           },
           "yaxis": {
            "backgroundcolor": "#E5ECF6",
            "gridcolor": "white",
            "gridwidth": 2,
            "linecolor": "white",
            "showbackground": true,
            "ticks": "",
            "zerolinecolor": "white"
           },
           "zaxis": {
            "backgroundcolor": "#E5ECF6",
            "gridcolor": "white",
            "gridwidth": 2,
            "linecolor": "white",
            "showbackground": true,
            "ticks": "",
            "zerolinecolor": "white"
           }
          },
          "shapedefaults": {
           "line": {
            "color": "#2a3f5f"
           }
          },
          "ternary": {
           "aaxis": {
            "gridcolor": "white",
            "linecolor": "white",
            "ticks": ""
           },
           "baxis": {
            "gridcolor": "white",
            "linecolor": "white",
            "ticks": ""
           },
           "bgcolor": "#E5ECF6",
           "caxis": {
            "gridcolor": "white",
            "linecolor": "white",
            "ticks": ""
           }
          },
          "title": {
           "x": 0.05
          },
          "xaxis": {
           "automargin": true,
           "gridcolor": "white",
           "linecolor": "white",
           "ticks": "",
           "title": {
            "standoff": 15
           },
           "zerolinecolor": "white",
           "zerolinewidth": 2
          },
          "yaxis": {
           "automargin": true,
           "gridcolor": "white",
           "linecolor": "white",
           "ticks": "",
           "title": {
            "standoff": 15
           },
           "zerolinecolor": "white",
           "zerolinewidth": 2
          }
         }
        },
        "xaxis": {
         "anchor": "y",
         "domain": [
          0,
          1
         ],
         "title": {
          "text": "Autor"
         }
        },
        "yaxis": {
         "anchor": "x",
         "domain": [
          0,
          1
         ],
         "title": {
          "text": "AnzahlZuLesen"
         }
        }
       }
      }
     },
     "metadata": {},
     "output_type": "display_data"
    },
    {
     "data": {
      "application/vnd.plotly.v1+json": {
       "config": {
        "plotlyServerURL": "https://plot.ly"
       },
       "data": [
        {
         "alignmentgroup": "True",
         "boxpoints": "all",
         "customdata": [
          [
           760.5
          ],
          [
           882
          ],
          [
           789
          ],
          [
           262
          ],
          [
           109
          ],
          [
           368
          ],
          [
           1539.5
          ],
          [
           800.5
          ],
          [
           1945.5
          ],
          [
           310
          ],
          [
           1539.5
          ],
          [
           1097
          ],
          [
           537
          ],
          [
           1185
          ],
          [
           1539.5
          ],
          [
           1539.5
          ],
          [
           2166
          ],
          [
           49
          ],
          [
           254
          ],
          [
           1539.5
          ],
          [
           1791.5
          ],
          [
           777
          ],
          [
           874
          ],
          [
           2369.5
          ],
          [
           87
          ],
          [
           1447.5
          ],
          [
           1539.5
          ],
          [
           1653
          ],
          [
           523
          ],
          [
           1103
          ],
          [
           158
          ],
          [
           116
          ],
          [
           1539.5
          ],
          [
           2264
          ],
          [
           32
          ],
          [
           1965.5
          ],
          [
           1539.5
          ],
          [
           388
          ],
          [
           1385
          ],
          [
           2369.5
          ],
          [
           506
          ],
          [
           1559.5
          ],
          [
           1539.5
          ],
          [
           373
          ],
          [
           1144
          ],
          [
           2166
          ],
          [
           2166
          ],
          [
           2166
          ],
          [
           2166
          ],
          [
           1586.5
          ],
          [
           2166
          ],
          [
           458
          ],
          [
           1509.5
          ],
          [
           1188.5
          ],
          [
           237
          ],
          [
           919.5
          ],
          [
           1208
          ],
          [
           919.5
          ],
          [
           1509.5
          ],
          [
           2
          ],
          [
           1904.5
          ],
          [
           21
          ],
          [
           727
          ],
          [
           519
          ],
          [
           846
          ],
          [
           4
          ],
          [
           12
          ],
          [
           630
          ],
          [
           40
          ],
          [
           53
          ],
          [
           1509.5
          ],
          [
           1974
          ],
          [
           958
          ],
          [
           1509.5
          ],
          [
           20
          ],
          [
           1168.5
          ],
          [
           919.5
          ],
          [
           1188.5
          ],
          [
           919.5
          ],
          [
           1974
          ],
          [
           2166
          ],
          [
           1509.5
          ],
          [
           391
          ],
          [
           408
          ],
          [
           1904.5
          ],
          [
           355
          ],
          [
           1974
          ],
          [
           1509.5
          ],
          [
           743
          ],
          [
           1171.5
          ],
          [
           133
          ],
          [
           214
          ],
          [
           1509.5
          ],
          [
           1974
          ],
          [
           1509.5
          ],
          [
           274
          ],
          [
           16
          ],
          [
           395
          ],
          [
           726
          ],
          [
           591.5
          ],
          [
           275
          ],
          [
           1047.5
          ],
          [
           919.5
          ],
          [
           319
          ],
          [
           681.5
          ],
          [
           919.5
          ],
          [
           1047.5
          ],
          [
           1047.5
          ],
          [
           681.5
          ],
          [
           371
          ],
          [
           2166
          ],
          [
           584
          ],
          [
           423
          ],
          [
           1171.5
          ],
          [
           584
          ],
          [
           857
          ],
          [
           27
          ],
          [
           919.5
          ],
          [
           1244.5
          ],
          [
           178
          ],
          [
           464.5
          ],
          [
           919.5
          ],
          [
           919.5
          ],
          [
           298
          ],
          [
           159
          ],
          [
           46
          ],
          [
           22
          ],
          [
           584
          ],
          [
           1047.5
          ],
          [
           1904.5
          ],
          [
           413
          ],
          [
           774.5
          ],
          [
           104
          ],
          [
           163
          ],
          [
           63
          ],
          [
           2166
          ],
          [
           505
          ],
          [
           130
          ]
         ],
         "hovertemplate": "<b>%{hovertext}</b><br><br>Autor=%{x}<br>AnzahlZuLesen_normalisiert=%{y}<br>AnzahlZuLesen_normalisiert_Rang=%{customdata[0]}<extra></extra>",
         "hovertext": [
          "An die Nachgeborenen",
          "Anmerkungen zu \"Aufstieg und Fall der Stadt Mahagonny\"",
          "Aus dem Lesebuch für Städtebewohner",
          "Baal",
          "Bertolt Brechts Hauspostille",
          "Buckower Elegien",
          "Choral vom großen Baal",
          "Der Augsburger Kreidekreis",
          "Der Dreigroschenprozess",
          "Der gute Mensch von Sezuan",
          "Der Himmel dieses Sommers",
          "Der Jasager und der Neinsager",
          "Der Kaukasische Kreidekreis",
          "Der Ozeanflug",
          "Der Radwechsel",
          "Der Rauch",
          "Der Rundfunk als Kommunikationsapparat",
          "Die Dreigroschenoper",
          "Die Heilige Johanna der Schlachthöfe",
          "Die Kindermörderin Marie Farrar",
          "Die Kleinbürgerhochzeit",
          "Die Maßnahme",
          "Erinnerung an die Marie A.",
          "Flüchtlingsgespräche",
          "Gedichte",
          "Geschichten vom Herrn Keuner",
          "Großer Dankchoral",
          "Herr Puntila und sein Knecht Matti",
          "Im Dickicht der Städte",
          "Kalendergeschichten",
          "Kleines Organon für das Theater",
          "Leben des Galilei",
          "Legende vom toten Soldaten",
          "Mann ist Mann",
          "Mutter Courage und ihre Kinder",
          "Prosa",
          "Rudern, Gespräche",
          "Svendborger Gedichte",
          "Trommeln in der Nacht",
          "Über eine nichtaristotelische Dramatik ",
          "Über reimlose Lyrik",
          "Vergnügungstheater oder Lehrtheater",
          "Vom Schwimmen in Seen und Flüssen",
          "zwei Dramen",
          "Clavigo",
          "Die Metamorphose der Pflanzen",
          "Farbenlehre",
          "Maximen und Reflexionen",
          "Über den Granit",
          "Über epische und dramatische Dichtung",
          "Von deutscher Baukunst",
          "Zum Schäkespears-Tag",
          "An den Mond",
          "An Schwager Kronos",
          "Aus meinem Leben. Dichtung und Wahrheit",
          "Ballade",
          "Das Göttliche",
          "Der Adler und die Taube",
          "Der Zauberlehrling",
          "Die Leiden des jungen Werthers ",
          "Die natürliche Tochter",
          "Die Wahlverwandtschaften",
          "Egmont",
          "Einfache Nachahmung der Natur, Manier, Stil",
          "Erlkönig",
          "Faust. Der Tragödie erster Teil ",
          "Faust. Der Tragödie zweiter Teil ",
          "Ganymed",
          "Gedichte (aus allen Hauptphasen)",
          "Götz von Berlichingen",
          "Grenzen der Menschheit",
          "Harzreise im Winter",
          "Hermann und Dorothea",
          "Hochbild",
          "Iphigenie auf Tauris",
          "Italienische Reise",
          "Jägers Nachtlied",
          "Mahomets Gesang",
          "Maifest",
          "Mailied",
          "Märchen",
          "Marienbader Elegie",
          "Novelle",
          "Prometheus",
          "Reineke Fuchs",
          "Römische Elegien",
          "Seefahrt",
          "Selige Sehnsucht",
          "Sesenheimer Gedichte",
          "Stella",
          "Torquato Tasso ",
          "Unterhaltungen deutscher Ausgewanderten",
          "Urworte - orphisch",
          "Wanderers Sturmlied",
          "Wandrers Nachtlied I und II",
          "West-östlicher Divan",
          "Wilhelm Meisters Lehrjahre",
          "Wilhelm Meisters Wanderjahre",
          "Willkomm und Abschied",
          "Abhandlung",
          "Balladen",
          "Das Lied von der Glocke",
          "Das verschleierte Bild zu Sais",
          "Der Geisterseher. Aus den Memoiren des Grafen von O**",
          "Der Handschuh",
          "Der Kampf",
          "Der Ring des Polykrates",
          "Der Spaziergang",
          "Der Taucher",
          "Der Verbrecher aus verlorener Ehre",
          "Die Braut von Messina",
          "Die Bürgschaft",
          "Die Götter Griechenlands",
          "Die Jungfrau von Orleans",
          "Die Kraniche des Ibykus",
          "Die Künstler",
          "Die Räuber",
          "Die seligen Augenblicke an Laura",
          "Die Verschwörung des Fiesco zu Genua",
          "Don Karlos",
          "Dramen",
          "Fantasie an Laura",
          "Freygeisterei der Leidenschaft",
          "Gedichte",
          "Gedichte",
          "Kabale und Liebe",
          "Maria Stuart",
          "Nänie",
          "Philosophische Gedichte",
          "Über Anmuth und Würde",
          "Über das Erhabene",
          "Über das Pathetische",
          "Über die ästhetische Erziehung des Menschen",
          "Über naive und sentimentalische Dichtung",
          "Wallenstein",
          "Was heißt und zu welchem Ende studiert man Universalgeschichte",
          "Was kann eine gute stehende Schaubühne eigentlich wirken?",
          "Wilhelm Tell"
         ],
         "legendgroup": "",
         "marker": {
          "color": "#636efa"
         },
         "name": "",
         "notched": false,
         "offsetgroup": "",
         "orientation": "v",
         "showlegend": false,
         "type": "box",
         "x": [
          "Brecht, Bertolt",
          "Brecht, Bertolt",
          "Brecht, Bertolt",
          "Brecht, Bertolt",
          "Brecht, Bertolt",
          "Brecht, Bertolt",
          "Brecht, Bertolt",
          "Brecht, Bertolt",
          "Brecht, Bertolt",
          "Brecht, Bertolt",
          "Brecht, Bertolt",
          "Brecht, Bertolt",
          "Brecht, Bertolt",
          "Brecht, Bertolt",
          "Brecht, Bertolt",
          "Brecht, Bertolt",
          "Brecht, Bertolt",
          "Brecht, Bertolt",
          "Brecht, Bertolt",
          "Brecht, Bertolt",
          "Brecht, Bertolt",
          "Brecht, Bertolt",
          "Brecht, Bertolt",
          "Brecht, Bertolt",
          "Brecht, Bertolt",
          "Brecht, Bertolt",
          "Brecht, Bertolt",
          "Brecht, Bertolt",
          "Brecht, Bertolt",
          "Brecht, Bertolt",
          "Brecht, Bertolt",
          "Brecht, Bertolt",
          "Brecht, Bertolt",
          "Brecht, Bertolt",
          "Brecht, Bertolt",
          "Brecht, Bertolt",
          "Brecht, Bertolt",
          "Brecht, Bertolt",
          "Brecht, Bertolt",
          "Brecht, Bertolt",
          "Brecht, Bertolt",
          "Brecht, Bertolt",
          "Brecht, Bertolt",
          "Brecht, Bertolt",
          "Goethe, Johann Wolfgang",
          "Goethe, Johann Wolfgang",
          "Goethe, Johann Wolfgang",
          "Goethe, Johann Wolfgang",
          "Goethe, Johann Wolfgang",
          "Goethe, Johann Wolfgang",
          "Goethe, Johann Wolfgang",
          "Goethe, Johann Wolfgang",
          "Goethe, Johann Wolfgang",
          "Goethe, Johann Wolfgang",
          "Goethe, Johann Wolfgang",
          "Goethe, Johann Wolfgang",
          "Goethe, Johann Wolfgang",
          "Goethe, Johann Wolfgang",
          "Goethe, Johann Wolfgang",
          "Goethe, Johann Wolfgang",
          "Goethe, Johann Wolfgang",
          "Goethe, Johann Wolfgang",
          "Goethe, Johann Wolfgang",
          "Goethe, Johann Wolfgang",
          "Goethe, Johann Wolfgang",
          "Goethe, Johann Wolfgang",
          "Goethe, Johann Wolfgang",
          "Goethe, Johann Wolfgang",
          "Goethe, Johann Wolfgang",
          "Goethe, Johann Wolfgang",
          "Goethe, Johann Wolfgang",
          "Goethe, Johann Wolfgang",
          "Goethe, Johann Wolfgang",
          "Goethe, Johann Wolfgang",
          "Goethe, Johann Wolfgang",
          "Goethe, Johann Wolfgang",
          "Goethe, Johann Wolfgang",
          "Goethe, Johann Wolfgang",
          "Goethe, Johann Wolfgang",
          "Goethe, Johann Wolfgang",
          "Goethe, Johann Wolfgang",
          "Goethe, Johann Wolfgang",
          "Goethe, Johann Wolfgang",
          "Goethe, Johann Wolfgang",
          "Goethe, Johann Wolfgang",
          "Goethe, Johann Wolfgang",
          "Goethe, Johann Wolfgang",
          "Goethe, Johann Wolfgang",
          "Goethe, Johann Wolfgang",
          "Goethe, Johann Wolfgang",
          "Goethe, Johann Wolfgang",
          "Goethe, Johann Wolfgang",
          "Goethe, Johann Wolfgang",
          "Goethe, Johann Wolfgang",
          "Goethe, Johann Wolfgang",
          "Goethe, Johann Wolfgang",
          "Goethe, Johann Wolfgang",
          "Goethe, Johann Wolfgang",
          "Goethe, Johann Wolfgang",
          "Schiller, Friedrich",
          "Schiller, Friedrich",
          "Schiller, Friedrich",
          "Schiller, Friedrich",
          "Schiller, Friedrich",
          "Schiller, Friedrich",
          "Schiller, Friedrich",
          "Schiller, Friedrich",
          "Schiller, Friedrich",
          "Schiller, Friedrich",
          "Schiller, Friedrich",
          "Schiller, Friedrich",
          "Schiller, Friedrich",
          "Schiller, Friedrich",
          "Schiller, Friedrich",
          "Schiller, Friedrich",
          "Schiller, Friedrich",
          "Schiller, Friedrich",
          "Schiller, Friedrich",
          "Schiller, Friedrich",
          "Schiller, Friedrich",
          "Schiller, Friedrich",
          "Schiller, Friedrich",
          "Schiller, Friedrich",
          "Schiller, Friedrich",
          "Schiller, Friedrich",
          "Schiller, Friedrich",
          "Schiller, Friedrich",
          "Schiller, Friedrich",
          "Schiller, Friedrich",
          "Schiller, Friedrich",
          "Schiller, Friedrich",
          "Schiller, Friedrich",
          "Schiller, Friedrich",
          "Schiller, Friedrich",
          "Schiller, Friedrich",
          "Schiller, Friedrich",
          "Schiller, Friedrich",
          "Schiller, Friedrich"
         ],
         "x0": " ",
         "xaxis": "x",
         "y": [
          0.0002508830292446643,
          0.00019507536027359816,
          0.0002405002405002405,
          0.0009106289490107081,
          0.0020980594031959074,
          0.000652944605703136,
          0.00008413259296651523,
          0.0002380952380952381,
          0.000045093795093795094,
          0.0007932797729154632,
          0.00008413259296651523,
          0.0001630766295570765,
          0.0004009971223374439,
          0.0001370716258356708,
          0.00008413259296651523,
          0.00008413259296651523,
          0.000035642999714856005,
          0.0034511741385183444,
          0.0009416734458436532,
          0.00008413259296651523,
          0.000056048784862656884,
          0.00024529787393214085,
          0.0002020015227166331,
          0.00001587181320020725,
          0.0024976250393527613,
          0.00009169178457751289,
          0.00008413259296651523,
          0.00007192059806286413,
          0.0004145198551789439,
          0.00016093655494866485,
          0.0015226858410121082,
          0.0019689567154693036,
          0.00008413259296651523,
          0.00003006253006253006,
          0.004241085954279865,
          0.000044587123238808635,
          0.00008413259296651523,
          0.0006200036010991079,
          0.00010111788089543417,
          0.00001587181320020725,
          0.000437478816085635,
          0.00008196447958358696,
          0.00008413259296651523,
          0.0006426906426906427,
          0.00014957802685342322,
          0.000035642999714856005,
          0.000035642999714856005,
          0.000035642999714856005,
          0.000035642999714856005,
          0.00008119189704867455,
          0.000035642999714856005,
          0.0004820118470287229,
          0.00008808599797999092,
          0.00013490813093571484,
          0.0010006510711497278,
          0.00018747656542932134,
          0.00013301409949454643,
          0.00018747656542932134,
          0.00008808599797999092,
          0.00804596989154768,
          0.00004995189940162528,
          0.004828187538688897,
          0.0002752656487948329,
          0.0004225461058210452,
          0.00022110009747453732,
          0.007140465525883213,
          0.0051343852455104965,
          0.00032238469636503616,
          0.0039046186729341666,
          0.003318200465168957,
          0.00008808599797999092,
          0.0000440320858611965,
          0.00018438960372031452,
          0.00008808599797999092,
          0.0048392122813986005,
          0.00014164368397913816,
          0.00018747656542932134,
          0.00013490813093571484,
          0.00018747656542932134,
          0.0000440320858611965,
          0.000035642999714856005,
          0.00008808599797999092,
          0.0006176407916549308,
          0.0005934366932411988,
          0.00004995189940162528,
          0.0006745127493676546,
          0.0000440320858611965,
          0.00008808599797999092,
          0.00025954039000390905,
          0.00014082794447614364,
          0.0017950365714792746,
          0.0010864606331334643,
          0.00008808599797999092,
          0.0000440320858611965,
          0.00008808599797999092,
          0.0008827249467648941,
          0.005025282218147781,
          0.0006079928842244386,
          0.00027556256340931223,
          0.00035014005602240897,
          0.0008778730697193372,
          0.00016457017340409567,
          0.00018747656542932134,
          0.0007698160677874942,
          0.0002975842728986421,
          0.00018747656542932134,
          0.00016457017340409567,
          0.00016457017340409567,
          0.0002975842728986421,
          0.0006497690577728553,
          0.000035642999714856005,
          0.00035204673883341704,
          0.0005601032587711251,
          0.00014082794447614364,
          0.00035204673883341704,
          0.00021452207280572096,
          0.004372528498671107,
          0.00018747656542932134,
          0.00011936742071219034,
          0.0013474506644169447,
          0.0004761904761904762,
          0.00018747656542932134,
          0.00018747656542932134,
          0.0008304314873233287,
          0.001515534566568934,
          0.0035547087335692407,
          0.004741284452264806,
          0.00035204673883341704,
          0.00016457017340409567,
          0.00004995189940162528,
          0.0005827769499446021,
          0.0002471515302120022,
          0.0021856254723431785,
          0.0014593303075939369,
          0.0029915729048054823,
          0.000035642999714856005,
          0.00043763419941449154,
          0.0018525833642673846
         ],
         "y0": " ",
         "yaxis": "y"
        }
       ],
       "layout": {
        "boxmode": "group",
        "legend": {
         "tracegroupgap": 0
        },
        "margin": {
         "t": 60
        },
        "template": {
         "data": {
          "bar": [
           {
            "error_x": {
             "color": "#2a3f5f"
            },
            "error_y": {
             "color": "#2a3f5f"
            },
            "marker": {
             "line": {
              "color": "#E5ECF6",
              "width": 0.5
             },
             "pattern": {
              "fillmode": "overlay",
              "size": 10,
              "solidity": 0.2
             }
            },
            "type": "bar"
           }
          ],
          "barpolar": [
           {
            "marker": {
             "line": {
              "color": "#E5ECF6",
              "width": 0.5
             },
             "pattern": {
              "fillmode": "overlay",
              "size": 10,
              "solidity": 0.2
             }
            },
            "type": "barpolar"
           }
          ],
          "carpet": [
           {
            "aaxis": {
             "endlinecolor": "#2a3f5f",
             "gridcolor": "white",
             "linecolor": "white",
             "minorgridcolor": "white",
             "startlinecolor": "#2a3f5f"
            },
            "baxis": {
             "endlinecolor": "#2a3f5f",
             "gridcolor": "white",
             "linecolor": "white",
             "minorgridcolor": "white",
             "startlinecolor": "#2a3f5f"
            },
            "type": "carpet"
           }
          ],
          "choropleth": [
           {
            "colorbar": {
             "outlinewidth": 0,
             "ticks": ""
            },
            "type": "choropleth"
           }
          ],
          "contour": [
           {
            "colorbar": {
             "outlinewidth": 0,
             "ticks": ""
            },
            "colorscale": [
             [
              0,
              "#0d0887"
             ],
             [
              0.1111111111111111,
              "#46039f"
             ],
             [
              0.2222222222222222,
              "#7201a8"
             ],
             [
              0.3333333333333333,
              "#9c179e"
             ],
             [
              0.4444444444444444,
              "#bd3786"
             ],
             [
              0.5555555555555556,
              "#d8576b"
             ],
             [
              0.6666666666666666,
              "#ed7953"
             ],
             [
              0.7777777777777778,
              "#fb9f3a"
             ],
             [
              0.8888888888888888,
              "#fdca26"
             ],
             [
              1,
              "#f0f921"
             ]
            ],
            "type": "contour"
           }
          ],
          "contourcarpet": [
           {
            "colorbar": {
             "outlinewidth": 0,
             "ticks": ""
            },
            "type": "contourcarpet"
           }
          ],
          "heatmap": [
           {
            "colorbar": {
             "outlinewidth": 0,
             "ticks": ""
            },
            "colorscale": [
             [
              0,
              "#0d0887"
             ],
             [
              0.1111111111111111,
              "#46039f"
             ],
             [
              0.2222222222222222,
              "#7201a8"
             ],
             [
              0.3333333333333333,
              "#9c179e"
             ],
             [
              0.4444444444444444,
              "#bd3786"
             ],
             [
              0.5555555555555556,
              "#d8576b"
             ],
             [
              0.6666666666666666,
              "#ed7953"
             ],
             [
              0.7777777777777778,
              "#fb9f3a"
             ],
             [
              0.8888888888888888,
              "#fdca26"
             ],
             [
              1,
              "#f0f921"
             ]
            ],
            "type": "heatmap"
           }
          ],
          "heatmapgl": [
           {
            "colorbar": {
             "outlinewidth": 0,
             "ticks": ""
            },
            "colorscale": [
             [
              0,
              "#0d0887"
             ],
             [
              0.1111111111111111,
              "#46039f"
             ],
             [
              0.2222222222222222,
              "#7201a8"
             ],
             [
              0.3333333333333333,
              "#9c179e"
             ],
             [
              0.4444444444444444,
              "#bd3786"
             ],
             [
              0.5555555555555556,
              "#d8576b"
             ],
             [
              0.6666666666666666,
              "#ed7953"
             ],
             [
              0.7777777777777778,
              "#fb9f3a"
             ],
             [
              0.8888888888888888,
              "#fdca26"
             ],
             [
              1,
              "#f0f921"
             ]
            ],
            "type": "heatmapgl"
           }
          ],
          "histogram": [
           {
            "marker": {
             "pattern": {
              "fillmode": "overlay",
              "size": 10,
              "solidity": 0.2
             }
            },
            "type": "histogram"
           }
          ],
          "histogram2d": [
           {
            "colorbar": {
             "outlinewidth": 0,
             "ticks": ""
            },
            "colorscale": [
             [
              0,
              "#0d0887"
             ],
             [
              0.1111111111111111,
              "#46039f"
             ],
             [
              0.2222222222222222,
              "#7201a8"
             ],
             [
              0.3333333333333333,
              "#9c179e"
             ],
             [
              0.4444444444444444,
              "#bd3786"
             ],
             [
              0.5555555555555556,
              "#d8576b"
             ],
             [
              0.6666666666666666,
              "#ed7953"
             ],
             [
              0.7777777777777778,
              "#fb9f3a"
             ],
             [
              0.8888888888888888,
              "#fdca26"
             ],
             [
              1,
              "#f0f921"
             ]
            ],
            "type": "histogram2d"
           }
          ],
          "histogram2dcontour": [
           {
            "colorbar": {
             "outlinewidth": 0,
             "ticks": ""
            },
            "colorscale": [
             [
              0,
              "#0d0887"
             ],
             [
              0.1111111111111111,
              "#46039f"
             ],
             [
              0.2222222222222222,
              "#7201a8"
             ],
             [
              0.3333333333333333,
              "#9c179e"
             ],
             [
              0.4444444444444444,
              "#bd3786"
             ],
             [
              0.5555555555555556,
              "#d8576b"
             ],
             [
              0.6666666666666666,
              "#ed7953"
             ],
             [
              0.7777777777777778,
              "#fb9f3a"
             ],
             [
              0.8888888888888888,
              "#fdca26"
             ],
             [
              1,
              "#f0f921"
             ]
            ],
            "type": "histogram2dcontour"
           }
          ],
          "mesh3d": [
           {
            "colorbar": {
             "outlinewidth": 0,
             "ticks": ""
            },
            "type": "mesh3d"
           }
          ],
          "parcoords": [
           {
            "line": {
             "colorbar": {
              "outlinewidth": 0,
              "ticks": ""
             }
            },
            "type": "parcoords"
           }
          ],
          "pie": [
           {
            "automargin": true,
            "type": "pie"
           }
          ],
          "scatter": [
           {
            "fillpattern": {
             "fillmode": "overlay",
             "size": 10,
             "solidity": 0.2
            },
            "type": "scatter"
           }
          ],
          "scatter3d": [
           {
            "line": {
             "colorbar": {
              "outlinewidth": 0,
              "ticks": ""
             }
            },
            "marker": {
             "colorbar": {
              "outlinewidth": 0,
              "ticks": ""
             }
            },
            "type": "scatter3d"
           }
          ],
          "scattercarpet": [
           {
            "marker": {
             "colorbar": {
              "outlinewidth": 0,
              "ticks": ""
             }
            },
            "type": "scattercarpet"
           }
          ],
          "scattergeo": [
           {
            "marker": {
             "colorbar": {
              "outlinewidth": 0,
              "ticks": ""
             }
            },
            "type": "scattergeo"
           }
          ],
          "scattergl": [
           {
            "marker": {
             "colorbar": {
              "outlinewidth": 0,
              "ticks": ""
             }
            },
            "type": "scattergl"
           }
          ],
          "scattermapbox": [
           {
            "marker": {
             "colorbar": {
              "outlinewidth": 0,
              "ticks": ""
             }
            },
            "type": "scattermapbox"
           }
          ],
          "scatterpolar": [
           {
            "marker": {
             "colorbar": {
              "outlinewidth": 0,
              "ticks": ""
             }
            },
            "type": "scatterpolar"
           }
          ],
          "scatterpolargl": [
           {
            "marker": {
             "colorbar": {
              "outlinewidth": 0,
              "ticks": ""
             }
            },
            "type": "scatterpolargl"
           }
          ],
          "scatterternary": [
           {
            "marker": {
             "colorbar": {
              "outlinewidth": 0,
              "ticks": ""
             }
            },
            "type": "scatterternary"
           }
          ],
          "surface": [
           {
            "colorbar": {
             "outlinewidth": 0,
             "ticks": ""
            },
            "colorscale": [
             [
              0,
              "#0d0887"
             ],
             [
              0.1111111111111111,
              "#46039f"
             ],
             [
              0.2222222222222222,
              "#7201a8"
             ],
             [
              0.3333333333333333,
              "#9c179e"
             ],
             [
              0.4444444444444444,
              "#bd3786"
             ],
             [
              0.5555555555555556,
              "#d8576b"
             ],
             [
              0.6666666666666666,
              "#ed7953"
             ],
             [
              0.7777777777777778,
              "#fb9f3a"
             ],
             [
              0.8888888888888888,
              "#fdca26"
             ],
             [
              1,
              "#f0f921"
             ]
            ],
            "type": "surface"
           }
          ],
          "table": [
           {
            "cells": {
             "fill": {
              "color": "#EBF0F8"
             },
             "line": {
              "color": "white"
             }
            },
            "header": {
             "fill": {
              "color": "#C8D4E3"
             },
             "line": {
              "color": "white"
             }
            },
            "type": "table"
           }
          ]
         },
         "layout": {
          "annotationdefaults": {
           "arrowcolor": "#2a3f5f",
           "arrowhead": 0,
           "arrowwidth": 1
          },
          "autotypenumbers": "strict",
          "coloraxis": {
           "colorbar": {
            "outlinewidth": 0,
            "ticks": ""
           }
          },
          "colorscale": {
           "diverging": [
            [
             0,
             "#8e0152"
            ],
            [
             0.1,
             "#c51b7d"
            ],
            [
             0.2,
             "#de77ae"
            ],
            [
             0.3,
             "#f1b6da"
            ],
            [
             0.4,
             "#fde0ef"
            ],
            [
             0.5,
             "#f7f7f7"
            ],
            [
             0.6,
             "#e6f5d0"
            ],
            [
             0.7,
             "#b8e186"
            ],
            [
             0.8,
             "#7fbc41"
            ],
            [
             0.9,
             "#4d9221"
            ],
            [
             1,
             "#276419"
            ]
           ],
           "sequential": [
            [
             0,
             "#0d0887"
            ],
            [
             0.1111111111111111,
             "#46039f"
            ],
            [
             0.2222222222222222,
             "#7201a8"
            ],
            [
             0.3333333333333333,
             "#9c179e"
            ],
            [
             0.4444444444444444,
             "#bd3786"
            ],
            [
             0.5555555555555556,
             "#d8576b"
            ],
            [
             0.6666666666666666,
             "#ed7953"
            ],
            [
             0.7777777777777778,
             "#fb9f3a"
            ],
            [
             0.8888888888888888,
             "#fdca26"
            ],
            [
             1,
             "#f0f921"
            ]
           ],
           "sequentialminus": [
            [
             0,
             "#0d0887"
            ],
            [
             0.1111111111111111,
             "#46039f"
            ],
            [
             0.2222222222222222,
             "#7201a8"
            ],
            [
             0.3333333333333333,
             "#9c179e"
            ],
            [
             0.4444444444444444,
             "#bd3786"
            ],
            [
             0.5555555555555556,
             "#d8576b"
            ],
            [
             0.6666666666666666,
             "#ed7953"
            ],
            [
             0.7777777777777778,
             "#fb9f3a"
            ],
            [
             0.8888888888888888,
             "#fdca26"
            ],
            [
             1,
             "#f0f921"
            ]
           ]
          },
          "colorway": [
           "#636efa",
           "#EF553B",
           "#00cc96",
           "#ab63fa",
           "#FFA15A",
           "#19d3f3",
           "#FF6692",
           "#B6E880",
           "#FF97FF",
           "#FECB52"
          ],
          "font": {
           "color": "#2a3f5f"
          },
          "geo": {
           "bgcolor": "white",
           "lakecolor": "white",
           "landcolor": "#E5ECF6",
           "showlakes": true,
           "showland": true,
           "subunitcolor": "white"
          },
          "hoverlabel": {
           "align": "left"
          },
          "hovermode": "closest",
          "mapbox": {
           "style": "light"
          },
          "paper_bgcolor": "white",
          "plot_bgcolor": "#E5ECF6",
          "polar": {
           "angularaxis": {
            "gridcolor": "white",
            "linecolor": "white",
            "ticks": ""
           },
           "bgcolor": "#E5ECF6",
           "radialaxis": {
            "gridcolor": "white",
            "linecolor": "white",
            "ticks": ""
           }
          },
          "scene": {
           "xaxis": {
            "backgroundcolor": "#E5ECF6",
            "gridcolor": "white",
            "gridwidth": 2,
            "linecolor": "white",
            "showbackground": true,
            "ticks": "",
            "zerolinecolor": "white"
           },
           "yaxis": {
            "backgroundcolor": "#E5ECF6",
            "gridcolor": "white",
            "gridwidth": 2,
            "linecolor": "white",
            "showbackground": true,
            "ticks": "",
            "zerolinecolor": "white"
           },
           "zaxis": {
            "backgroundcolor": "#E5ECF6",
            "gridcolor": "white",
            "gridwidth": 2,
            "linecolor": "white",
            "showbackground": true,
            "ticks": "",
            "zerolinecolor": "white"
           }
          },
          "shapedefaults": {
           "line": {
            "color": "#2a3f5f"
           }
          },
          "ternary": {
           "aaxis": {
            "gridcolor": "white",
            "linecolor": "white",
            "ticks": ""
           },
           "baxis": {
            "gridcolor": "white",
            "linecolor": "white",
            "ticks": ""
           },
           "bgcolor": "#E5ECF6",
           "caxis": {
            "gridcolor": "white",
            "linecolor": "white",
            "ticks": ""
           }
          },
          "title": {
           "x": 0.05
          },
          "xaxis": {
           "automargin": true,
           "gridcolor": "white",
           "linecolor": "white",
           "ticks": "",
           "title": {
            "standoff": 15
           },
           "zerolinecolor": "white",
           "zerolinewidth": 2
          },
          "yaxis": {
           "automargin": true,
           "gridcolor": "white",
           "linecolor": "white",
           "ticks": "",
           "title": {
            "standoff": 15
           },
           "zerolinecolor": "white",
           "zerolinewidth": 2
          }
         }
        },
        "xaxis": {
         "anchor": "y",
         "domain": [
          0,
          1
         ],
         "title": {
          "text": "Autor"
         }
        },
        "yaxis": {
         "anchor": "x",
         "domain": [
          0,
          1
         ],
         "title": {
          "text": "AnzahlZuLesen_normalisiert"
         }
        }
       }
      }
     },
     "metadata": {},
     "output_type": "display_data"
    }
   ],
   "source": [
    "metriken = ['AnzahlZuLesen', 'AnzahlZuLesen_normalisiert']\n",
    "autoren = ['Brecht, Bertolt', 'Schiller, Friedrich', 'Goethe, Johann Wolfgang']\n",
    "\n",
    "data_autoren = data.query(\"Autor.isin(@autoren)\")\n",
    "\n",
    "data_autoren_AnzahlGenannt = data_autoren.groupby(\"Autor\").size()\n",
    "print(data_autoren_AnzahlGenannt.to_frame(name='Anzahl Texte').to_markdown())\n",
    "\n",
    "for metrik in metriken:\n",
    "    fig = px.box(\n",
    "        data_autoren,\n",
    "        x = 'Autor',\n",
    "        y = metrik,\n",
    "        points = 'all',\n",
    "        hover_name = 'Titel',\n",
    "        hover_data = [metrik+'_Rang']\n",
    "    )\n",
    "    fig.show()"
   ]
  },
  {
   "cell_type": "code",
   "execution_count": 55,
   "id": "af9ddf65-0aff-4028-891c-88012d0d4aee",
   "metadata": {},
   "outputs": [
    {
     "name": "stdout",
     "output_type": "stream",
     "text": [
      "AnzahlZuLesen\n"
     ]
    },
    {
     "data": {
      "application/vnd.plotly.v1+json": {
       "config": {
        "plotlyServerURL": "https://plot.ly"
       },
       "data": [
        {
         "alignmentgroup": "True",
         "hovertemplate": "variable=AnzahlZuLesen<br>=%{x}<br>Häufigkeit=%{y}<extra></extra>",
         "legendgroup": "AnzahlZuLesen",
         "marker": {
          "color": "#636efa",
          "pattern": {
           "shape": ""
          }
         },
         "name": "AnzahlZuLesen",
         "offsetgroup": "AnzahlZuLesen",
         "orientation": "v",
         "showlegend": true,
         "textposition": "auto",
         "type": "bar",
         "x": [
          1600,
          1610,
          1620,
          1630,
          1640,
          1650,
          1660,
          1670,
          1680,
          1690,
          1700,
          1710,
          1720,
          1730,
          1740,
          1750,
          1760,
          1770,
          1780,
          1790,
          1800,
          1810,
          1820,
          1830,
          1840,
          1850,
          1860,
          1870,
          1880,
          1890,
          1900,
          1910,
          1920,
          1930,
          1940,
          1950,
          1960,
          1970,
          1980,
          1990,
          2000,
          2010,
          2020
         ],
         "xaxis": "x",
         "y": [
          8.567438562466485,
          7.314095099012821,
          14.802995199940842,
          21.95333599836392,
          41.68530075721996,
          43.905533138672745,
          52.58707001709943,
          6.552825842881687,
          24.7782927114044,
          11.493934288962212,
          8.156841353786998,
          6.797435897435897,
          11.536162923164412,
          51.32599283605017,
          45.74225457636775,
          53.10268034368332,
          83.23944913148003,
          235.5279331167261,
          165.83375675876013,
          285.2337200439743,
          278.99447639991115,
          218.08613923783128,
          146.86605099471194,
          193.0561471912026,
          170.15290157481994,
          132.17666370250134,
          23.290046302209845,
          46.24525458953812,
          124.76626677196532,
          207.63545685820665,
          234.33117434121084,
          304.21784827373347,
          297.74469240836913,
          217.90952821879503,
          149.3765127565851,
          318.2495940033455,
          286.6871855091845,
          287.9012249394798,
          227.57495176857418,
          158.46377577369003,
          108.85022925263414,
          56.75976440072102,
          5
         ],
         "yaxis": "y"
        }
       ],
       "layout": {
        "barmode": "relative",
        "height": 400,
        "legend": {
         "title": {
          "text": "variable"
         },
         "tracegroupgap": 0
        },
        "margin": {
         "t": 60
        },
        "showlegend": false,
        "template": {
         "data": {
          "bar": [
           {
            "error_x": {
             "color": "#2a3f5f"
            },
            "error_y": {
             "color": "#2a3f5f"
            },
            "marker": {
             "line": {
              "color": "#E5ECF6",
              "width": 0.5
             },
             "pattern": {
              "fillmode": "overlay",
              "size": 10,
              "solidity": 0.2
             }
            },
            "type": "bar"
           }
          ],
          "barpolar": [
           {
            "marker": {
             "line": {
              "color": "#E5ECF6",
              "width": 0.5
             },
             "pattern": {
              "fillmode": "overlay",
              "size": 10,
              "solidity": 0.2
             }
            },
            "type": "barpolar"
           }
          ],
          "carpet": [
           {
            "aaxis": {
             "endlinecolor": "#2a3f5f",
             "gridcolor": "white",
             "linecolor": "white",
             "minorgridcolor": "white",
             "startlinecolor": "#2a3f5f"
            },
            "baxis": {
             "endlinecolor": "#2a3f5f",
             "gridcolor": "white",
             "linecolor": "white",
             "minorgridcolor": "white",
             "startlinecolor": "#2a3f5f"
            },
            "type": "carpet"
           }
          ],
          "choropleth": [
           {
            "colorbar": {
             "outlinewidth": 0,
             "ticks": ""
            },
            "type": "choropleth"
           }
          ],
          "contour": [
           {
            "colorbar": {
             "outlinewidth": 0,
             "ticks": ""
            },
            "colorscale": [
             [
              0,
              "#0d0887"
             ],
             [
              0.1111111111111111,
              "#46039f"
             ],
             [
              0.2222222222222222,
              "#7201a8"
             ],
             [
              0.3333333333333333,
              "#9c179e"
             ],
             [
              0.4444444444444444,
              "#bd3786"
             ],
             [
              0.5555555555555556,
              "#d8576b"
             ],
             [
              0.6666666666666666,
              "#ed7953"
             ],
             [
              0.7777777777777778,
              "#fb9f3a"
             ],
             [
              0.8888888888888888,
              "#fdca26"
             ],
             [
              1,
              "#f0f921"
             ]
            ],
            "type": "contour"
           }
          ],
          "contourcarpet": [
           {
            "colorbar": {
             "outlinewidth": 0,
             "ticks": ""
            },
            "type": "contourcarpet"
           }
          ],
          "heatmap": [
           {
            "colorbar": {
             "outlinewidth": 0,
             "ticks": ""
            },
            "colorscale": [
             [
              0,
              "#0d0887"
             ],
             [
              0.1111111111111111,
              "#46039f"
             ],
             [
              0.2222222222222222,
              "#7201a8"
             ],
             [
              0.3333333333333333,
              "#9c179e"
             ],
             [
              0.4444444444444444,
              "#bd3786"
             ],
             [
              0.5555555555555556,
              "#d8576b"
             ],
             [
              0.6666666666666666,
              "#ed7953"
             ],
             [
              0.7777777777777778,
              "#fb9f3a"
             ],
             [
              0.8888888888888888,
              "#fdca26"
             ],
             [
              1,
              "#f0f921"
             ]
            ],
            "type": "heatmap"
           }
          ],
          "heatmapgl": [
           {
            "colorbar": {
             "outlinewidth": 0,
             "ticks": ""
            },
            "colorscale": [
             [
              0,
              "#0d0887"
             ],
             [
              0.1111111111111111,
              "#46039f"
             ],
             [
              0.2222222222222222,
              "#7201a8"
             ],
             [
              0.3333333333333333,
              "#9c179e"
             ],
             [
              0.4444444444444444,
              "#bd3786"
             ],
             [
              0.5555555555555556,
              "#d8576b"
             ],
             [
              0.6666666666666666,
              "#ed7953"
             ],
             [
              0.7777777777777778,
              "#fb9f3a"
             ],
             [
              0.8888888888888888,
              "#fdca26"
             ],
             [
              1,
              "#f0f921"
             ]
            ],
            "type": "heatmapgl"
           }
          ],
          "histogram": [
           {
            "marker": {
             "pattern": {
              "fillmode": "overlay",
              "size": 10,
              "solidity": 0.2
             }
            },
            "type": "histogram"
           }
          ],
          "histogram2d": [
           {
            "colorbar": {
             "outlinewidth": 0,
             "ticks": ""
            },
            "colorscale": [
             [
              0,
              "#0d0887"
             ],
             [
              0.1111111111111111,
              "#46039f"
             ],
             [
              0.2222222222222222,
              "#7201a8"
             ],
             [
              0.3333333333333333,
              "#9c179e"
             ],
             [
              0.4444444444444444,
              "#bd3786"
             ],
             [
              0.5555555555555556,
              "#d8576b"
             ],
             [
              0.6666666666666666,
              "#ed7953"
             ],
             [
              0.7777777777777778,
              "#fb9f3a"
             ],
             [
              0.8888888888888888,
              "#fdca26"
             ],
             [
              1,
              "#f0f921"
             ]
            ],
            "type": "histogram2d"
           }
          ],
          "histogram2dcontour": [
           {
            "colorbar": {
             "outlinewidth": 0,
             "ticks": ""
            },
            "colorscale": [
             [
              0,
              "#0d0887"
             ],
             [
              0.1111111111111111,
              "#46039f"
             ],
             [
              0.2222222222222222,
              "#7201a8"
             ],
             [
              0.3333333333333333,
              "#9c179e"
             ],
             [
              0.4444444444444444,
              "#bd3786"
             ],
             [
              0.5555555555555556,
              "#d8576b"
             ],
             [
              0.6666666666666666,
              "#ed7953"
             ],
             [
              0.7777777777777778,
              "#fb9f3a"
             ],
             [
              0.8888888888888888,
              "#fdca26"
             ],
             [
              1,
              "#f0f921"
             ]
            ],
            "type": "histogram2dcontour"
           }
          ],
          "mesh3d": [
           {
            "colorbar": {
             "outlinewidth": 0,
             "ticks": ""
            },
            "type": "mesh3d"
           }
          ],
          "parcoords": [
           {
            "line": {
             "colorbar": {
              "outlinewidth": 0,
              "ticks": ""
             }
            },
            "type": "parcoords"
           }
          ],
          "pie": [
           {
            "automargin": true,
            "type": "pie"
           }
          ],
          "scatter": [
           {
            "fillpattern": {
             "fillmode": "overlay",
             "size": 10,
             "solidity": 0.2
            },
            "type": "scatter"
           }
          ],
          "scatter3d": [
           {
            "line": {
             "colorbar": {
              "outlinewidth": 0,
              "ticks": ""
             }
            },
            "marker": {
             "colorbar": {
              "outlinewidth": 0,
              "ticks": ""
             }
            },
            "type": "scatter3d"
           }
          ],
          "scattercarpet": [
           {
            "marker": {
             "colorbar": {
              "outlinewidth": 0,
              "ticks": ""
             }
            },
            "type": "scattercarpet"
           }
          ],
          "scattergeo": [
           {
            "marker": {
             "colorbar": {
              "outlinewidth": 0,
              "ticks": ""
             }
            },
            "type": "scattergeo"
           }
          ],
          "scattergl": [
           {
            "marker": {
             "colorbar": {
              "outlinewidth": 0,
              "ticks": ""
             }
            },
            "type": "scattergl"
           }
          ],
          "scattermapbox": [
           {
            "marker": {
             "colorbar": {
              "outlinewidth": 0,
              "ticks": ""
             }
            },
            "type": "scattermapbox"
           }
          ],
          "scatterpolar": [
           {
            "marker": {
             "colorbar": {
              "outlinewidth": 0,
              "ticks": ""
             }
            },
            "type": "scatterpolar"
           }
          ],
          "scatterpolargl": [
           {
            "marker": {
             "colorbar": {
              "outlinewidth": 0,
              "ticks": ""
             }
            },
            "type": "scatterpolargl"
           }
          ],
          "scatterternary": [
           {
            "marker": {
             "colorbar": {
              "outlinewidth": 0,
              "ticks": ""
             }
            },
            "type": "scatterternary"
           }
          ],
          "surface": [
           {
            "colorbar": {
             "outlinewidth": 0,
             "ticks": ""
            },
            "colorscale": [
             [
              0,
              "#0d0887"
             ],
             [
              0.1111111111111111,
              "#46039f"
             ],
             [
              0.2222222222222222,
              "#7201a8"
             ],
             [
              0.3333333333333333,
              "#9c179e"
             ],
             [
              0.4444444444444444,
              "#bd3786"
             ],
             [
              0.5555555555555556,
              "#d8576b"
             ],
             [
              0.6666666666666666,
              "#ed7953"
             ],
             [
              0.7777777777777778,
              "#fb9f3a"
             ],
             [
              0.8888888888888888,
              "#fdca26"
             ],
             [
              1,
              "#f0f921"
             ]
            ],
            "type": "surface"
           }
          ],
          "table": [
           {
            "cells": {
             "fill": {
              "color": "#EBF0F8"
             },
             "line": {
              "color": "white"
             }
            },
            "header": {
             "fill": {
              "color": "#C8D4E3"
             },
             "line": {
              "color": "white"
             }
            },
            "type": "table"
           }
          ]
         },
         "layout": {
          "annotationdefaults": {
           "arrowcolor": "#2a3f5f",
           "arrowhead": 0,
           "arrowwidth": 1
          },
          "autotypenumbers": "strict",
          "coloraxis": {
           "colorbar": {
            "outlinewidth": 0,
            "ticks": ""
           }
          },
          "colorscale": {
           "diverging": [
            [
             0,
             "#8e0152"
            ],
            [
             0.1,
             "#c51b7d"
            ],
            [
             0.2,
             "#de77ae"
            ],
            [
             0.3,
             "#f1b6da"
            ],
            [
             0.4,
             "#fde0ef"
            ],
            [
             0.5,
             "#f7f7f7"
            ],
            [
             0.6,
             "#e6f5d0"
            ],
            [
             0.7,
             "#b8e186"
            ],
            [
             0.8,
             "#7fbc41"
            ],
            [
             0.9,
             "#4d9221"
            ],
            [
             1,
             "#276419"
            ]
           ],
           "sequential": [
            [
             0,
             "#0d0887"
            ],
            [
             0.1111111111111111,
             "#46039f"
            ],
            [
             0.2222222222222222,
             "#7201a8"
            ],
            [
             0.3333333333333333,
             "#9c179e"
            ],
            [
             0.4444444444444444,
             "#bd3786"
            ],
            [
             0.5555555555555556,
             "#d8576b"
            ],
            [
             0.6666666666666666,
             "#ed7953"
            ],
            [
             0.7777777777777778,
             "#fb9f3a"
            ],
            [
             0.8888888888888888,
             "#fdca26"
            ],
            [
             1,
             "#f0f921"
            ]
           ],
           "sequentialminus": [
            [
             0,
             "#0d0887"
            ],
            [
             0.1111111111111111,
             "#46039f"
            ],
            [
             0.2222222222222222,
             "#7201a8"
            ],
            [
             0.3333333333333333,
             "#9c179e"
            ],
            [
             0.4444444444444444,
             "#bd3786"
            ],
            [
             0.5555555555555556,
             "#d8576b"
            ],
            [
             0.6666666666666666,
             "#ed7953"
            ],
            [
             0.7777777777777778,
             "#fb9f3a"
            ],
            [
             0.8888888888888888,
             "#fdca26"
            ],
            [
             1,
             "#f0f921"
            ]
           ]
          },
          "colorway": [
           "#636efa",
           "#EF553B",
           "#00cc96",
           "#ab63fa",
           "#FFA15A",
           "#19d3f3",
           "#FF6692",
           "#B6E880",
           "#FF97FF",
           "#FECB52"
          ],
          "font": {
           "color": "#2a3f5f"
          },
          "geo": {
           "bgcolor": "white",
           "lakecolor": "white",
           "landcolor": "#E5ECF6",
           "showlakes": true,
           "showland": true,
           "subunitcolor": "white"
          },
          "hoverlabel": {
           "align": "left"
          },
          "hovermode": "closest",
          "mapbox": {
           "style": "light"
          },
          "paper_bgcolor": "white",
          "plot_bgcolor": "#E5ECF6",
          "polar": {
           "angularaxis": {
            "gridcolor": "white",
            "linecolor": "white",
            "ticks": ""
           },
           "bgcolor": "#E5ECF6",
           "radialaxis": {
            "gridcolor": "white",
            "linecolor": "white",
            "ticks": ""
           }
          },
          "scene": {
           "xaxis": {
            "backgroundcolor": "#E5ECF6",
            "gridcolor": "white",
            "gridwidth": 2,
            "linecolor": "white",
            "showbackground": true,
            "ticks": "",
            "zerolinecolor": "white"
           },
           "yaxis": {
            "backgroundcolor": "#E5ECF6",
            "gridcolor": "white",
            "gridwidth": 2,
            "linecolor": "white",
            "showbackground": true,
            "ticks": "",
            "zerolinecolor": "white"
           },
           "zaxis": {
            "backgroundcolor": "#E5ECF6",
            "gridcolor": "white",
            "gridwidth": 2,
            "linecolor": "white",
            "showbackground": true,
            "ticks": "",
            "zerolinecolor": "white"
           }
          },
          "shapedefaults": {
           "line": {
            "color": "#2a3f5f"
           }
          },
          "ternary": {
           "aaxis": {
            "gridcolor": "white",
            "linecolor": "white",
            "ticks": ""
           },
           "baxis": {
            "gridcolor": "white",
            "linecolor": "white",
            "ticks": ""
           },
           "bgcolor": "#E5ECF6",
           "caxis": {
            "gridcolor": "white",
            "linecolor": "white",
            "ticks": ""
           }
          },
          "title": {
           "x": 0.05
          },
          "xaxis": {
           "automargin": true,
           "gridcolor": "white",
           "linecolor": "white",
           "ticks": "",
           "title": {
            "standoff": 15
           },
           "zerolinecolor": "white",
           "zerolinewidth": 2
          },
          "yaxis": {
           "automargin": true,
           "gridcolor": "white",
           "linecolor": "white",
           "ticks": "",
           "title": {
            "standoff": 15
           },
           "zerolinecolor": "white",
           "zerolinewidth": 2
          }
         }
        },
        "width": 900,
        "xaxis": {
         "anchor": "y",
         "domain": [
          0,
          1
         ],
         "tickfont": {
          "size": 16
         },
         "ticksuffix": "er",
         "title": {
          "font": {
           "size": 18
          },
          "text": ""
         }
        },
        "yaxis": {
         "anchor": "x",
         "domain": [
          0,
          1
         ],
         "tickfont": {
          "size": 16
         },
         "ticksuffix": "  ",
         "title": {
          "font": {
           "size": 18
          },
          "text": "Häufigkeit"
         }
        }
       }
      }
     },
     "metadata": {},
     "output_type": "display_data"
    },
    {
     "name": "stdout",
     "output_type": "stream",
     "text": [
      "AnzahlZuLesen_normalisiert\n"
     ]
    },
    {
     "data": {
      "application/vnd.plotly.v1+json": {
       "config": {
        "plotlyServerURL": "https://plot.ly"
       },
       "data": [
        {
         "alignmentgroup": "True",
         "hovertemplate": "variable=AnzahlZuLesen_normalisiert<br>=%{x}<br>Häufigkeit=%{y}<extra></extra>",
         "legendgroup": "AnzahlZuLesen_normalisiert",
         "marker": {
          "color": "#636efa",
          "pattern": {
           "shape": ""
          }
         },
         "name": "AnzahlZuLesen_normalisiert",
         "offsetgroup": "AnzahlZuLesen_normalisiert",
         "orientation": "v",
         "showlegend": true,
         "textposition": "auto",
         "type": "bar",
         "x": [
          1600,
          1610,
          1620,
          1630,
          1640,
          1650,
          1660,
          1670,
          1680,
          1690,
          1700,
          1710,
          1720,
          1730,
          1740,
          1750,
          1760,
          1770,
          1780,
          1790,
          1800,
          1810,
          1820,
          1830,
          1840,
          1850,
          1860,
          1870,
          1880,
          1890,
          1900,
          1910,
          1920,
          1930,
          1940,
          1950,
          1960,
          1970,
          1980,
          1990,
          2000,
          2010,
          2020
         ],
         "xaxis": "x",
         "y": [
          0.0018145390935861343,
          0.0015169715255997415,
          0.002799995883096312,
          0.0035506170152459797,
          0.00926336207609604,
          0.009474566704069896,
          0.013720229002418156,
          0.0011014033667043263,
          0.0035537848411127497,
          0.0021995206688734826,
          0.001078090466148369,
          0.0016512063494061532,
          0.001802653485350949,
          0.00867348100446804,
          0.008430668110678611,
          0.00925119895459048,
          0.015453526747307357,
          0.04976353428023212,
          0.03177104903730041,
          0.0541764682955211,
          0.05821199023682737,
          0.041513317313378685,
          0.02764084068348336,
          0.03642512326047309,
          0.03463177065550126,
          0.023380813357926654,
          0.004528040480405602,
          0.007745621334956664,
          0.02372590281852554,
          0.038608994254180524,
          0.04648942915957464,
          0.05450924486531444,
          0.060610763567361385,
          0.03934883552426777,
          0.02656307925319285,
          0.05555373818373694,
          0.0501419622643082,
          0.04779318400684192,
          0.0368240715815053,
          0.026258452240324446,
          0.018761218134563926,
          0.008839151553485367,
          0.0008475883620577018
         ],
         "yaxis": "y"
        }
       ],
       "layout": {
        "barmode": "relative",
        "height": 400,
        "legend": {
         "title": {
          "text": "variable"
         },
         "tracegroupgap": 0
        },
        "margin": {
         "t": 60
        },
        "showlegend": false,
        "template": {
         "data": {
          "bar": [
           {
            "error_x": {
             "color": "#2a3f5f"
            },
            "error_y": {
             "color": "#2a3f5f"
            },
            "marker": {
             "line": {
              "color": "#E5ECF6",
              "width": 0.5
             },
             "pattern": {
              "fillmode": "overlay",
              "size": 10,
              "solidity": 0.2
             }
            },
            "type": "bar"
           }
          ],
          "barpolar": [
           {
            "marker": {
             "line": {
              "color": "#E5ECF6",
              "width": 0.5
             },
             "pattern": {
              "fillmode": "overlay",
              "size": 10,
              "solidity": 0.2
             }
            },
            "type": "barpolar"
           }
          ],
          "carpet": [
           {
            "aaxis": {
             "endlinecolor": "#2a3f5f",
             "gridcolor": "white",
             "linecolor": "white",
             "minorgridcolor": "white",
             "startlinecolor": "#2a3f5f"
            },
            "baxis": {
             "endlinecolor": "#2a3f5f",
             "gridcolor": "white",
             "linecolor": "white",
             "minorgridcolor": "white",
             "startlinecolor": "#2a3f5f"
            },
            "type": "carpet"
           }
          ],
          "choropleth": [
           {
            "colorbar": {
             "outlinewidth": 0,
             "ticks": ""
            },
            "type": "choropleth"
           }
          ],
          "contour": [
           {
            "colorbar": {
             "outlinewidth": 0,
             "ticks": ""
            },
            "colorscale": [
             [
              0,
              "#0d0887"
             ],
             [
              0.1111111111111111,
              "#46039f"
             ],
             [
              0.2222222222222222,
              "#7201a8"
             ],
             [
              0.3333333333333333,
              "#9c179e"
             ],
             [
              0.4444444444444444,
              "#bd3786"
             ],
             [
              0.5555555555555556,
              "#d8576b"
             ],
             [
              0.6666666666666666,
              "#ed7953"
             ],
             [
              0.7777777777777778,
              "#fb9f3a"
             ],
             [
              0.8888888888888888,
              "#fdca26"
             ],
             [
              1,
              "#f0f921"
             ]
            ],
            "type": "contour"
           }
          ],
          "contourcarpet": [
           {
            "colorbar": {
             "outlinewidth": 0,
             "ticks": ""
            },
            "type": "contourcarpet"
           }
          ],
          "heatmap": [
           {
            "colorbar": {
             "outlinewidth": 0,
             "ticks": ""
            },
            "colorscale": [
             [
              0,
              "#0d0887"
             ],
             [
              0.1111111111111111,
              "#46039f"
             ],
             [
              0.2222222222222222,
              "#7201a8"
             ],
             [
              0.3333333333333333,
              "#9c179e"
             ],
             [
              0.4444444444444444,
              "#bd3786"
             ],
             [
              0.5555555555555556,
              "#d8576b"
             ],
             [
              0.6666666666666666,
              "#ed7953"
             ],
             [
              0.7777777777777778,
              "#fb9f3a"
             ],
             [
              0.8888888888888888,
              "#fdca26"
             ],
             [
              1,
              "#f0f921"
             ]
            ],
            "type": "heatmap"
           }
          ],
          "heatmapgl": [
           {
            "colorbar": {
             "outlinewidth": 0,
             "ticks": ""
            },
            "colorscale": [
             [
              0,
              "#0d0887"
             ],
             [
              0.1111111111111111,
              "#46039f"
             ],
             [
              0.2222222222222222,
              "#7201a8"
             ],
             [
              0.3333333333333333,
              "#9c179e"
             ],
             [
              0.4444444444444444,
              "#bd3786"
             ],
             [
              0.5555555555555556,
              "#d8576b"
             ],
             [
              0.6666666666666666,
              "#ed7953"
             ],
             [
              0.7777777777777778,
              "#fb9f3a"
             ],
             [
              0.8888888888888888,
              "#fdca26"
             ],
             [
              1,
              "#f0f921"
             ]
            ],
            "type": "heatmapgl"
           }
          ],
          "histogram": [
           {
            "marker": {
             "pattern": {
              "fillmode": "overlay",
              "size": 10,
              "solidity": 0.2
             }
            },
            "type": "histogram"
           }
          ],
          "histogram2d": [
           {
            "colorbar": {
             "outlinewidth": 0,
             "ticks": ""
            },
            "colorscale": [
             [
              0,
              "#0d0887"
             ],
             [
              0.1111111111111111,
              "#46039f"
             ],
             [
              0.2222222222222222,
              "#7201a8"
             ],
             [
              0.3333333333333333,
              "#9c179e"
             ],
             [
              0.4444444444444444,
              "#bd3786"
             ],
             [
              0.5555555555555556,
              "#d8576b"
             ],
             [
              0.6666666666666666,
              "#ed7953"
             ],
             [
              0.7777777777777778,
              "#fb9f3a"
             ],
             [
              0.8888888888888888,
              "#fdca26"
             ],
             [
              1,
              "#f0f921"
             ]
            ],
            "type": "histogram2d"
           }
          ],
          "histogram2dcontour": [
           {
            "colorbar": {
             "outlinewidth": 0,
             "ticks": ""
            },
            "colorscale": [
             [
              0,
              "#0d0887"
             ],
             [
              0.1111111111111111,
              "#46039f"
             ],
             [
              0.2222222222222222,
              "#7201a8"
             ],
             [
              0.3333333333333333,
              "#9c179e"
             ],
             [
              0.4444444444444444,
              "#bd3786"
             ],
             [
              0.5555555555555556,
              "#d8576b"
             ],
             [
              0.6666666666666666,
              "#ed7953"
             ],
             [
              0.7777777777777778,
              "#fb9f3a"
             ],
             [
              0.8888888888888888,
              "#fdca26"
             ],
             [
              1,
              "#f0f921"
             ]
            ],
            "type": "histogram2dcontour"
           }
          ],
          "mesh3d": [
           {
            "colorbar": {
             "outlinewidth": 0,
             "ticks": ""
            },
            "type": "mesh3d"
           }
          ],
          "parcoords": [
           {
            "line": {
             "colorbar": {
              "outlinewidth": 0,
              "ticks": ""
             }
            },
            "type": "parcoords"
           }
          ],
          "pie": [
           {
            "automargin": true,
            "type": "pie"
           }
          ],
          "scatter": [
           {
            "fillpattern": {
             "fillmode": "overlay",
             "size": 10,
             "solidity": 0.2
            },
            "type": "scatter"
           }
          ],
          "scatter3d": [
           {
            "line": {
             "colorbar": {
              "outlinewidth": 0,
              "ticks": ""
             }
            },
            "marker": {
             "colorbar": {
              "outlinewidth": 0,
              "ticks": ""
             }
            },
            "type": "scatter3d"
           }
          ],
          "scattercarpet": [
           {
            "marker": {
             "colorbar": {
              "outlinewidth": 0,
              "ticks": ""
             }
            },
            "type": "scattercarpet"
           }
          ],
          "scattergeo": [
           {
            "marker": {
             "colorbar": {
              "outlinewidth": 0,
              "ticks": ""
             }
            },
            "type": "scattergeo"
           }
          ],
          "scattergl": [
           {
            "marker": {
             "colorbar": {
              "outlinewidth": 0,
              "ticks": ""
             }
            },
            "type": "scattergl"
           }
          ],
          "scattermapbox": [
           {
            "marker": {
             "colorbar": {
              "outlinewidth": 0,
              "ticks": ""
             }
            },
            "type": "scattermapbox"
           }
          ],
          "scatterpolar": [
           {
            "marker": {
             "colorbar": {
              "outlinewidth": 0,
              "ticks": ""
             }
            },
            "type": "scatterpolar"
           }
          ],
          "scatterpolargl": [
           {
            "marker": {
             "colorbar": {
              "outlinewidth": 0,
              "ticks": ""
             }
            },
            "type": "scatterpolargl"
           }
          ],
          "scatterternary": [
           {
            "marker": {
             "colorbar": {
              "outlinewidth": 0,
              "ticks": ""
             }
            },
            "type": "scatterternary"
           }
          ],
          "surface": [
           {
            "colorbar": {
             "outlinewidth": 0,
             "ticks": ""
            },
            "colorscale": [
             [
              0,
              "#0d0887"
             ],
             [
              0.1111111111111111,
              "#46039f"
             ],
             [
              0.2222222222222222,
              "#7201a8"
             ],
             [
              0.3333333333333333,
              "#9c179e"
             ],
             [
              0.4444444444444444,
              "#bd3786"
             ],
             [
              0.5555555555555556,
              "#d8576b"
             ],
             [
              0.6666666666666666,
              "#ed7953"
             ],
             [
              0.7777777777777778,
              "#fb9f3a"
             ],
             [
              0.8888888888888888,
              "#fdca26"
             ],
             [
              1,
              "#f0f921"
             ]
            ],
            "type": "surface"
           }
          ],
          "table": [
           {
            "cells": {
             "fill": {
              "color": "#EBF0F8"
             },
             "line": {
              "color": "white"
             }
            },
            "header": {
             "fill": {
              "color": "#C8D4E3"
             },
             "line": {
              "color": "white"
             }
            },
            "type": "table"
           }
          ]
         },
         "layout": {
          "annotationdefaults": {
           "arrowcolor": "#2a3f5f",
           "arrowhead": 0,
           "arrowwidth": 1
          },
          "autotypenumbers": "strict",
          "coloraxis": {
           "colorbar": {
            "outlinewidth": 0,
            "ticks": ""
           }
          },
          "colorscale": {
           "diverging": [
            [
             0,
             "#8e0152"
            ],
            [
             0.1,
             "#c51b7d"
            ],
            [
             0.2,
             "#de77ae"
            ],
            [
             0.3,
             "#f1b6da"
            ],
            [
             0.4,
             "#fde0ef"
            ],
            [
             0.5,
             "#f7f7f7"
            ],
            [
             0.6,
             "#e6f5d0"
            ],
            [
             0.7,
             "#b8e186"
            ],
            [
             0.8,
             "#7fbc41"
            ],
            [
             0.9,
             "#4d9221"
            ],
            [
             1,
             "#276419"
            ]
           ],
           "sequential": [
            [
             0,
             "#0d0887"
            ],
            [
             0.1111111111111111,
             "#46039f"
            ],
            [
             0.2222222222222222,
             "#7201a8"
            ],
            [
             0.3333333333333333,
             "#9c179e"
            ],
            [
             0.4444444444444444,
             "#bd3786"
            ],
            [
             0.5555555555555556,
             "#d8576b"
            ],
            [
             0.6666666666666666,
             "#ed7953"
            ],
            [
             0.7777777777777778,
             "#fb9f3a"
            ],
            [
             0.8888888888888888,
             "#fdca26"
            ],
            [
             1,
             "#f0f921"
            ]
           ],
           "sequentialminus": [
            [
             0,
             "#0d0887"
            ],
            [
             0.1111111111111111,
             "#46039f"
            ],
            [
             0.2222222222222222,
             "#7201a8"
            ],
            [
             0.3333333333333333,
             "#9c179e"
            ],
            [
             0.4444444444444444,
             "#bd3786"
            ],
            [
             0.5555555555555556,
             "#d8576b"
            ],
            [
             0.6666666666666666,
             "#ed7953"
            ],
            [
             0.7777777777777778,
             "#fb9f3a"
            ],
            [
             0.8888888888888888,
             "#fdca26"
            ],
            [
             1,
             "#f0f921"
            ]
           ]
          },
          "colorway": [
           "#636efa",
           "#EF553B",
           "#00cc96",
           "#ab63fa",
           "#FFA15A",
           "#19d3f3",
           "#FF6692",
           "#B6E880",
           "#FF97FF",
           "#FECB52"
          ],
          "font": {
           "color": "#2a3f5f"
          },
          "geo": {
           "bgcolor": "white",
           "lakecolor": "white",
           "landcolor": "#E5ECF6",
           "showlakes": true,
           "showland": true,
           "subunitcolor": "white"
          },
          "hoverlabel": {
           "align": "left"
          },
          "hovermode": "closest",
          "mapbox": {
           "style": "light"
          },
          "paper_bgcolor": "white",
          "plot_bgcolor": "#E5ECF6",
          "polar": {
           "angularaxis": {
            "gridcolor": "white",
            "linecolor": "white",
            "ticks": ""
           },
           "bgcolor": "#E5ECF6",
           "radialaxis": {
            "gridcolor": "white",
            "linecolor": "white",
            "ticks": ""
           }
          },
          "scene": {
           "xaxis": {
            "backgroundcolor": "#E5ECF6",
            "gridcolor": "white",
            "gridwidth": 2,
            "linecolor": "white",
            "showbackground": true,
            "ticks": "",
            "zerolinecolor": "white"
           },
           "yaxis": {
            "backgroundcolor": "#E5ECF6",
            "gridcolor": "white",
            "gridwidth": 2,
            "linecolor": "white",
            "showbackground": true,
            "ticks": "",
            "zerolinecolor": "white"
           },
           "zaxis": {
            "backgroundcolor": "#E5ECF6",
            "gridcolor": "white",
            "gridwidth": 2,
            "linecolor": "white",
            "showbackground": true,
            "ticks": "",
            "zerolinecolor": "white"
           }
          },
          "shapedefaults": {
           "line": {
            "color": "#2a3f5f"
           }
          },
          "ternary": {
           "aaxis": {
            "gridcolor": "white",
            "linecolor": "white",
            "ticks": ""
           },
           "baxis": {
            "gridcolor": "white",
            "linecolor": "white",
            "ticks": ""
           },
           "bgcolor": "#E5ECF6",
           "caxis": {
            "gridcolor": "white",
            "linecolor": "white",
            "ticks": ""
           }
          },
          "title": {
           "x": 0.05
          },
          "xaxis": {
           "automargin": true,
           "gridcolor": "white",
           "linecolor": "white",
           "ticks": "",
           "title": {
            "standoff": 15
           },
           "zerolinecolor": "white",
           "zerolinewidth": 2
          },
          "yaxis": {
           "automargin": true,
           "gridcolor": "white",
           "linecolor": "white",
           "ticks": "",
           "title": {
            "standoff": 15
           },
           "zerolinecolor": "white",
           "zerolinewidth": 2
          }
         }
        },
        "width": 900,
        "xaxis": {
         "anchor": "y",
         "domain": [
          0,
          1
         ],
         "tickfont": {
          "size": 16
         },
         "ticksuffix": "er",
         "title": {
          "font": {
           "size": 18
          },
          "text": ""
         }
        },
        "yaxis": {
         "anchor": "x",
         "domain": [
          0,
          1
         ],
         "tickfont": {
          "size": 16
         },
         "ticksuffix": "  ",
         "title": {
          "font": {
           "size": 18
          },
          "text": "Häufigkeit"
         }
        }
       }
      }
     },
     "metadata": {},
     "output_type": "display_data"
    }
   ],
   "source": [
    "metriken = ['AnzahlZuLesen', 'AnzahlZuLesen_normalisiert']\n",
    "\n",
    "for metrik in metriken:\n",
    "    data_plot = data.groupby('Dekade')[metrik].sum()\n",
    "    \n",
    "    fig = px.bar(\n",
    "        data_plot,\n",
    "        labels = {'value':'Häufigkeit', 'Dekade':''}\n",
    "    )\n",
    "    fig.update_layout(\n",
    "        height=400, width = 900,\n",
    "        showlegend=False,\n",
    "        xaxis=dict(tickfont=dict(size=16), titlefont=dict(size=18), ticksuffix = \"er\"),\n",
    "        yaxis=dict(tickfont=dict(size=16), titlefont=dict(size=18), ticksuffix = \"  \"),\n",
    "    )\n",
    "    if metrik == metriken[0]:\n",
    "        fig.write_image(\"plots/dekaden.pdf\")\n",
    "    print(metrik)\n",
    "    fig.show()"
   ]
  },
  {
   "cell_type": "code",
   "execution_count": 56,
   "id": "0a112a21-79c5-4d6a-833c-4de9f8fa4675",
   "metadata": {},
   "outputs": [
    {
     "data": {
      "text/html": [
       "<div>\n",
       "<style scoped>\n",
       "    .dataframe tbody tr th:only-of-type {\n",
       "        vertical-align: middle;\n",
       "    }\n",
       "\n",
       "    .dataframe tbody tr th {\n",
       "        vertical-align: top;\n",
       "    }\n",
       "\n",
       "    .dataframe thead th {\n",
       "        text-align: right;\n",
       "    }\n",
       "</style>\n",
       "<table border=\"1\" class=\"dataframe\">\n",
       "  <thead>\n",
       "    <tr style=\"text-align: right;\">\n",
       "      <th></th>\n",
       "      <th>Autor</th>\n",
       "      <th>Titel</th>\n",
       "      <th>AnzahlGenannt</th>\n",
       "      <th>AnzahlGenannt_rel</th>\n",
       "    </tr>\n",
       "  </thead>\n",
       "  <tbody>\n",
       "    <tr>\n",
       "      <th>831</th>\n",
       "      <td>Goethe, Johann Wolfgang</td>\n",
       "      <td>Wilhelm Meisters Lehrjahre</td>\n",
       "      <td>33.0</td>\n",
       "      <td>0.785714</td>\n",
       "    </tr>\n",
       "    <tr>\n",
       "      <th>1407</th>\n",
       "      <td>Keller, Gottfried</td>\n",
       "      <td>Die Leute von Seldwyla</td>\n",
       "      <td>20.0</td>\n",
       "      <td>0.476190</td>\n",
       "    </tr>\n",
       "    <tr>\n",
       "      <th>1058</th>\n",
       "      <td>Heine, Heinrich</td>\n",
       "      <td>Deutschland. Ein Wintermärchen*</td>\n",
       "      <td>18.0</td>\n",
       "      <td>0.428571</td>\n",
       "    </tr>\n",
       "    <tr>\n",
       "      <th>356</th>\n",
       "      <td>Brecht, Bertolt</td>\n",
       "      <td>Die Dreigroschenoper</td>\n",
       "      <td>23.0</td>\n",
       "      <td>0.547619</td>\n",
       "    </tr>\n",
       "  </tbody>\n",
       "</table>\n",
       "</div>"
      ],
      "text/plain": [
       "                        Autor                            Titel  AnzahlGenannt  AnzahlGenannt_rel\n",
       "831   Goethe, Johann Wolfgang       Wilhelm Meisters Lehrjahre           33.0           0.785714\n",
       "1407        Keller, Gottfried           Die Leute von Seldwyla           20.0           0.476190\n",
       "1058          Heine, Heinrich  Deutschland. Ein Wintermärchen*           18.0           0.428571\n",
       "356           Brecht, Bertolt             Die Dreigroschenoper           23.0           0.547619"
      ]
     },
     "execution_count": 56,
     "metadata": {},
     "output_type": "execute_result"
    }
   ],
   "source": [
    "author_titles = [\n",
    "    ['Goethe, Johann Wolfgang', 'Wilhelm Meisters Lehrjahre'],\n",
    "    ['Keller, Gottfried', 'Die Leute von Seldwyla'],\n",
    "    ['Heine, Heinrich', 'Deutschland. Ein Wintermärchen*'],\n",
    "    ['Brecht, Bertolt', 'Die Dreigroschenoper'],\n",
    "]\n",
    "\n",
    "data_plot = pd.DataFrame()\n",
    "\n",
    "for author_title in author_titles:\n",
    "    author = author_title[0]\n",
    "    title = author_title[1]\n",
    "\n",
    "    data_plot = pd.concat([\n",
    "        data_plot,\n",
    "        data.query(\"Autor == @author and Titel == @title\")\n",
    "    ])\n",
    "\n",
    "data_plot['AnzahlGenannt_rel'] = data_plot['AnzahlGenannt']/len(leselisten)\n",
    "\n",
    "data_plot[['Autor', 'Titel', 'AnzahlGenannt', 'AnzahlGenannt_rel']]"
   ]
  },
  {
   "cell_type": "markdown",
   "id": "df8fbde4-b49a-46db-bac4-971a39af71c5",
   "metadata": {},
   "source": [
    "# 5.5 Gattungen"
   ]
  },
  {
   "cell_type": "code",
   "execution_count": 57,
   "id": "593d9d18-2fa2-4c15-9a89-23d00c1a1a09",
   "metadata": {
    "scrolled": true
   },
   "outputs": [
    {
     "name": "stdout",
     "output_type": "stream",
     "text": [
      "AnzahlZuLesen\n",
      "|                     |   Anzahl unterschiedliche Titel |   Summe Häufigkeit |   Mittelwert Häufigkeit |   Median Häufigkeit |\n",
      "|:--------------------|--------------------------------:|-------------------:|------------------------:|--------------------:|\n",
      "| Prosa               |                            1138 |          2634.38   |                 2.31492 |             1       |\n",
      "| Drama               |                             344 |          1183.5    |                 3.4404  |             1.09949 |\n",
      "| Lyrik               |                             647 |          1113.28   |                 1.72068 |             1.02273 |\n",
      "| Poetik / Essayistik |                             289 |           432.557  |                 1.49674 |             1       |\n",
      "| Sonstiges           |                               7 |            10.7655 |                 1.53792 |             1       |\n",
      "\n",
      "\n",
      "AnzahlZuLesen_normalisiert\n",
      "|                     |   Anzahl unterschiedliche Titel |   Summe Häufigkeit |   Mittelwert Häufigkeit |   Median Häufigkeit |\n",
      "|:--------------------|--------------------------------:|-------------------:|------------------------:|--------------------:|\n",
      "| Prosa               |                            1138 |         0.496494   |             0.000436287 |         0.000104204 |\n",
      "| Drama               |                             344 |         0.240924   |             0.000700361 |         0.000222519 |\n",
      "| Lyrik               |                             647 |         0.197827   |             0.00030576  |         0.00016457  |\n",
      "| Poetik / Essayistik |                             289 |         0.0630938  |             0.000218318 |         8.11919e-05 |\n",
      "| Sonstiges           |                               7 |         0.00166095 |             0.000237278 |         0.000304394 |\n",
      "\n",
      "\n"
     ]
    }
   ],
   "source": [
    "metriken = ['AnzahlZuLesen', 'AnzahlZuLesen_normalisiert']\n",
    "\n",
    "for metrik in metriken:\n",
    "    top_gattungen = pd.DataFrame()\n",
    "    for gattung in data['Gattung'].unique():\n",
    "        data_gattung = data.query(\"Gattung==@gattung\")\n",
    "    \n",
    "        top_gattungen.at[gattung, 'Anzahl unterschiedliche Titel'] = data_gattung.shape[0]\n",
    "        top_gattungen.at[gattung, 'Summe Häufigkeit'] = data_gattung[metrik].sum()\n",
    "        top_gattungen.at[gattung, 'Mittelwert Häufigkeit'] = data_gattung[metrik].mean()\n",
    "        top_gattungen.at[gattung, 'Median Häufigkeit'] = data_gattung[metrik].median()\n",
    "    \n",
    "    top_gattungen = top_gattungen.sort_values(by='Summe Häufigkeit', ascending=False)\n",
    "    \n",
    "    print(metrik)\n",
    "    print(top_gattungen.to_markdown())\n",
    "    print(\"\\n\")"
   ]
  },
  {
   "cell_type": "code",
   "execution_count": 58,
   "id": "4a81170e-dabe-4669-a55f-8f5f258041fd",
   "metadata": {},
   "outputs": [
    {
     "name": "stdout",
     "output_type": "stream",
     "text": [
      "AnzahlZuLesen\n"
     ]
    },
    {
     "data": {
      "application/vnd.plotly.v1+json": {
       "config": {
        "plotlyServerURL": "https://plot.ly"
       },
       "data": [
        {
         "alignmentgroup": "True",
         "hovertemplate": "Gattung=Prosa<br>=%{x}<br>Anteil=%{y}<extra></extra>",
         "legendgroup": "Prosa",
         "marker": {
          "color": "#636efa",
          "pattern": {
           "shape": ""
          }
         },
         "name": "Prosa",
         "offsetgroup": "Prosa",
         "orientation": "v",
         "showlegend": true,
         "textposition": "auto",
         "type": "bar",
         "x": [
          1750,
          1760,
          1770,
          1780,
          1790,
          1800,
          1810,
          1820,
          1830,
          1840,
          1850,
          1860,
          1870,
          1880,
          1890,
          1900,
          1910,
          1920,
          1930,
          1940,
          1950,
          1960,
          1970,
          1980,
          1990,
          2000,
          2010
         ],
         "xaxis": "x",
         "y": [
          0.26270918675379035,
          0.259751827170557,
          0.2773516659853635,
          0.24445562256656345,
          0.46661737515055257,
          0.343229602242964,
          0.70896477607753,
          0.4403059068533747,
          0.22751785573234298,
          0.6126916129538484,
          0.7243504684195915,
          0.5100268268143988,
          0.6177942706779418,
          0.7972544190223779,
          0.3761531287415029,
          0.5084095541455507,
          0.536093964526328,
          0.5015256060590977,
          0.5331680902460626,
          0.5683113658421427,
          0.4945988252786217,
          0.4823707193729232,
          0.5966386969150257,
          0.7130862143635925,
          0.803440008442918,
          0.7060678328622271,
          0.5956729449700737
         ],
         "yaxis": "y"
        },
        {
         "alignmentgroup": "True",
         "hovertemplate": "Gattung=Drama<br>=%{x}<br>Anteil=%{y}<extra></extra>",
         "legendgroup": "Drama",
         "marker": {
          "color": "#EF553B",
          "pattern": {
           "shape": ""
          }
         },
         "name": "Drama",
         "offsetgroup": "Drama",
         "orientation": "v",
         "showlegend": true,
         "textposition": "auto",
         "type": "bar",
         "x": [
          1750,
          1760,
          1770,
          1780,
          1790,
          1800,
          1810,
          1820,
          1830,
          1840,
          1850,
          1860,
          1870,
          1880,
          1890,
          1900,
          1910,
          1920,
          1930,
          1940,
          1950,
          1960,
          1970,
          1980,
          1990,
          2000,
          2010
         ],
         "xaxis": "x",
         "y": [
          0.1901206935432454,
          0.3030973559997887,
          0.4178916056739121,
          0.39779808410909423,
          0.1540510607081905,
          0.39857918090046046,
          0.07452102298066314,
          0.13075759883436314,
          0.49681558868181763,
          0.20043453834606537,
          0.04644141231223382,
          0.05060408267456306,
          0.11252895385369226,
          0.09721491946691653,
          0.3866117160284149,
          0.15071598664207497,
          0.15570458666816692,
          0.2076098511122034,
          0.2708323836955679,
          0.1104533194914041,
          0.12983683099231608,
          0.2918264377307479,
          0.14980199907290237,
          0.132561048424591,
          0.09249308978804129,
          0.07780621703991082,
          0.14322408074093085
         ],
         "yaxis": "y"
        },
        {
         "alignmentgroup": "True",
         "hovertemplate": "Gattung=Lyrik<br>=%{x}<br>Anteil=%{y}<extra></extra>",
         "legendgroup": "Lyrik",
         "marker": {
          "color": "#00cc96",
          "pattern": {
           "shape": ""
          }
         },
         "name": "Lyrik",
         "offsetgroup": "Lyrik",
         "orientation": "v",
         "showlegend": true,
         "textposition": "auto",
         "type": "bar",
         "x": [
          1750,
          1760,
          1770,
          1780,
          1790,
          1800,
          1810,
          1820,
          1830,
          1840,
          1850,
          1860,
          1870,
          1880,
          1890,
          1900,
          1910,
          1920,
          1930,
          1940,
          1950,
          1960,
          1970,
          1980,
          1990,
          2000,
          2010
         ],
         "xaxis": "x",
         "y": [
          0.2512888431383751,
          0.1629180066627383,
          0.18710136760125057,
          0.2416151152701132,
          0.19974146692783384,
          0.15944530424178258,
          0.14920741303254412,
          0.4177512082740097,
          0.18077322440982949,
          0.15944753611020296,
          0.13637015275317788,
          0.4196217870550679,
          0.10965476834079331,
          0.0561049086512612,
          0.16423375375993438,
          0.29537464303243843,
          0.25241031607587977,
          0.20795308894558662,
          0.10245883757382872,
          0.21390079139978582,
          0.3064814909044597,
          0.17202162681349215,
          0.19111393639404764,
          0.10934530787734074,
          0.0813597861120812,
          0.17908779112065493,
          0.22266345282772462
         ],
         "yaxis": "y"
        },
        {
         "alignmentgroup": "True",
         "hovertemplate": "Gattung=Poetik / Essayistik<br>=%{x}<br>Anteil=%{y}<extra></extra>",
         "legendgroup": "Poetik / Essayistik",
         "marker": {
          "color": "#ab63fa",
          "pattern": {
           "shape": ""
          }
         },
         "name": "Poetik / Essayistik",
         "offsetgroup": "Poetik / Essayistik",
         "orientation": "v",
         "showlegend": true,
         "textposition": "auto",
         "type": "bar",
         "x": [
          1750,
          1760,
          1770,
          1780,
          1790,
          1800,
          1810,
          1820,
          1830,
          1840,
          1850,
          1860,
          1870,
          1880,
          1890,
          1900,
          1910,
          1920,
          1930,
          1940,
          1950,
          1960,
          1970,
          1980,
          1990,
          2000,
          2010
         ],
         "xaxis": "x",
         "y": [
          0.2958812765645891,
          0.2742328101669159,
          0.11765536073947379,
          0.11613117805422915,
          0.1690724066699014,
          0.0977502736280927,
          0.06730678790926274,
          0.008348233745740957,
          0.09489333117600987,
          0.027426312589883352,
          0.09283796651499679,
          0.01974730345597015,
          0.16002200712757256,
          0.04942575285944439,
          0.07300140147014769,
          0.04549981617993598,
          0.05250401461451651,
          0.07259720561209769,
          0.09354068848454068,
          0.09394553752123705,
          0.06908285282460237,
          0.05378121608283664,
          0.062445367618024404,
          0.04500742933447571,
          0.022707115656959466,
          0.03703815897720723,
          0.020821407458188272
         ],
         "yaxis": "y"
        },
        {
         "alignmentgroup": "True",
         "hovertemplate": "Gattung=Sonstiges<br>=%{x}<br>Anteil=%{y}<extra></extra>",
         "legendgroup": "Sonstiges",
         "marker": {
          "color": "#FFA15A",
          "pattern": {
           "shape": ""
          }
         },
         "name": "Sonstiges",
         "offsetgroup": "Sonstiges",
         "orientation": "v",
         "showlegend": true,
         "textposition": "auto",
         "type": "bar",
         "x": [
          1750,
          1760,
          1770,
          1780,
          1790,
          1800,
          1810,
          1820,
          1830,
          1840,
          1850,
          1860,
          1870,
          1880,
          1890,
          1900,
          1910,
          1920,
          1930,
          1940,
          1950,
          1960,
          1970,
          1980,
          1990,
          2000,
          2010
         ],
         "xaxis": "x",
         "y": [
          0,
          0,
          0,
          0,
          0.010517690543521615,
          0.0009956389867002624,
          0,
          0.0028370522925115567,
          0,
          0,
          0,
          0,
          0,
          0,
          0,
          0,
          0.0032871181151087683,
          0.010314248271014653,
          0,
          0.013388985745430265,
          0,
          0,
          0,
          0,
          0,
          0,
          0.017618114003082382
         ],
         "yaxis": "y"
        }
       ],
       "layout": {
        "barmode": "relative",
        "height": 400,
        "legend": {
         "font": {
          "size": 16
         },
         "title": {
          "text": "Gattung"
         },
         "tracegroupgap": 0
        },
        "margin": {
         "t": 60
        },
        "template": {
         "data": {
          "bar": [
           {
            "error_x": {
             "color": "#2a3f5f"
            },
            "error_y": {
             "color": "#2a3f5f"
            },
            "marker": {
             "line": {
              "color": "#E5ECF6",
              "width": 0.5
             },
             "pattern": {
              "fillmode": "overlay",
              "size": 10,
              "solidity": 0.2
             }
            },
            "type": "bar"
           }
          ],
          "barpolar": [
           {
            "marker": {
             "line": {
              "color": "#E5ECF6",
              "width": 0.5
             },
             "pattern": {
              "fillmode": "overlay",
              "size": 10,
              "solidity": 0.2
             }
            },
            "type": "barpolar"
           }
          ],
          "carpet": [
           {
            "aaxis": {
             "endlinecolor": "#2a3f5f",
             "gridcolor": "white",
             "linecolor": "white",
             "minorgridcolor": "white",
             "startlinecolor": "#2a3f5f"
            },
            "baxis": {
             "endlinecolor": "#2a3f5f",
             "gridcolor": "white",
             "linecolor": "white",
             "minorgridcolor": "white",
             "startlinecolor": "#2a3f5f"
            },
            "type": "carpet"
           }
          ],
          "choropleth": [
           {
            "colorbar": {
             "outlinewidth": 0,
             "ticks": ""
            },
            "type": "choropleth"
           }
          ],
          "contour": [
           {
            "colorbar": {
             "outlinewidth": 0,
             "ticks": ""
            },
            "colorscale": [
             [
              0,
              "#0d0887"
             ],
             [
              0.1111111111111111,
              "#46039f"
             ],
             [
              0.2222222222222222,
              "#7201a8"
             ],
             [
              0.3333333333333333,
              "#9c179e"
             ],
             [
              0.4444444444444444,
              "#bd3786"
             ],
             [
              0.5555555555555556,
              "#d8576b"
             ],
             [
              0.6666666666666666,
              "#ed7953"
             ],
             [
              0.7777777777777778,
              "#fb9f3a"
             ],
             [
              0.8888888888888888,
              "#fdca26"
             ],
             [
              1,
              "#f0f921"
             ]
            ],
            "type": "contour"
           }
          ],
          "contourcarpet": [
           {
            "colorbar": {
             "outlinewidth": 0,
             "ticks": ""
            },
            "type": "contourcarpet"
           }
          ],
          "heatmap": [
           {
            "colorbar": {
             "outlinewidth": 0,
             "ticks": ""
            },
            "colorscale": [
             [
              0,
              "#0d0887"
             ],
             [
              0.1111111111111111,
              "#46039f"
             ],
             [
              0.2222222222222222,
              "#7201a8"
             ],
             [
              0.3333333333333333,
              "#9c179e"
             ],
             [
              0.4444444444444444,
              "#bd3786"
             ],
             [
              0.5555555555555556,
              "#d8576b"
             ],
             [
              0.6666666666666666,
              "#ed7953"
             ],
             [
              0.7777777777777778,
              "#fb9f3a"
             ],
             [
              0.8888888888888888,
              "#fdca26"
             ],
             [
              1,
              "#f0f921"
             ]
            ],
            "type": "heatmap"
           }
          ],
          "heatmapgl": [
           {
            "colorbar": {
             "outlinewidth": 0,
             "ticks": ""
            },
            "colorscale": [
             [
              0,
              "#0d0887"
             ],
             [
              0.1111111111111111,
              "#46039f"
             ],
             [
              0.2222222222222222,
              "#7201a8"
             ],
             [
              0.3333333333333333,
              "#9c179e"
             ],
             [
              0.4444444444444444,
              "#bd3786"
             ],
             [
              0.5555555555555556,
              "#d8576b"
             ],
             [
              0.6666666666666666,
              "#ed7953"
             ],
             [
              0.7777777777777778,
              "#fb9f3a"
             ],
             [
              0.8888888888888888,
              "#fdca26"
             ],
             [
              1,
              "#f0f921"
             ]
            ],
            "type": "heatmapgl"
           }
          ],
          "histogram": [
           {
            "marker": {
             "pattern": {
              "fillmode": "overlay",
              "size": 10,
              "solidity": 0.2
             }
            },
            "type": "histogram"
           }
          ],
          "histogram2d": [
           {
            "colorbar": {
             "outlinewidth": 0,
             "ticks": ""
            },
            "colorscale": [
             [
              0,
              "#0d0887"
             ],
             [
              0.1111111111111111,
              "#46039f"
             ],
             [
              0.2222222222222222,
              "#7201a8"
             ],
             [
              0.3333333333333333,
              "#9c179e"
             ],
             [
              0.4444444444444444,
              "#bd3786"
             ],
             [
              0.5555555555555556,
              "#d8576b"
             ],
             [
              0.6666666666666666,
              "#ed7953"
             ],
             [
              0.7777777777777778,
              "#fb9f3a"
             ],
             [
              0.8888888888888888,
              "#fdca26"
             ],
             [
              1,
              "#f0f921"
             ]
            ],
            "type": "histogram2d"
           }
          ],
          "histogram2dcontour": [
           {
            "colorbar": {
             "outlinewidth": 0,
             "ticks": ""
            },
            "colorscale": [
             [
              0,
              "#0d0887"
             ],
             [
              0.1111111111111111,
              "#46039f"
             ],
             [
              0.2222222222222222,
              "#7201a8"
             ],
             [
              0.3333333333333333,
              "#9c179e"
             ],
             [
              0.4444444444444444,
              "#bd3786"
             ],
             [
              0.5555555555555556,
              "#d8576b"
             ],
             [
              0.6666666666666666,
              "#ed7953"
             ],
             [
              0.7777777777777778,
              "#fb9f3a"
             ],
             [
              0.8888888888888888,
              "#fdca26"
             ],
             [
              1,
              "#f0f921"
             ]
            ],
            "type": "histogram2dcontour"
           }
          ],
          "mesh3d": [
           {
            "colorbar": {
             "outlinewidth": 0,
             "ticks": ""
            },
            "type": "mesh3d"
           }
          ],
          "parcoords": [
           {
            "line": {
             "colorbar": {
              "outlinewidth": 0,
              "ticks": ""
             }
            },
            "type": "parcoords"
           }
          ],
          "pie": [
           {
            "automargin": true,
            "type": "pie"
           }
          ],
          "scatter": [
           {
            "fillpattern": {
             "fillmode": "overlay",
             "size": 10,
             "solidity": 0.2
            },
            "type": "scatter"
           }
          ],
          "scatter3d": [
           {
            "line": {
             "colorbar": {
              "outlinewidth": 0,
              "ticks": ""
             }
            },
            "marker": {
             "colorbar": {
              "outlinewidth": 0,
              "ticks": ""
             }
            },
            "type": "scatter3d"
           }
          ],
          "scattercarpet": [
           {
            "marker": {
             "colorbar": {
              "outlinewidth": 0,
              "ticks": ""
             }
            },
            "type": "scattercarpet"
           }
          ],
          "scattergeo": [
           {
            "marker": {
             "colorbar": {
              "outlinewidth": 0,
              "ticks": ""
             }
            },
            "type": "scattergeo"
           }
          ],
          "scattergl": [
           {
            "marker": {
             "colorbar": {
              "outlinewidth": 0,
              "ticks": ""
             }
            },
            "type": "scattergl"
           }
          ],
          "scattermapbox": [
           {
            "marker": {
             "colorbar": {
              "outlinewidth": 0,
              "ticks": ""
             }
            },
            "type": "scattermapbox"
           }
          ],
          "scatterpolar": [
           {
            "marker": {
             "colorbar": {
              "outlinewidth": 0,
              "ticks": ""
             }
            },
            "type": "scatterpolar"
           }
          ],
          "scatterpolargl": [
           {
            "marker": {
             "colorbar": {
              "outlinewidth": 0,
              "ticks": ""
             }
            },
            "type": "scatterpolargl"
           }
          ],
          "scatterternary": [
           {
            "marker": {
             "colorbar": {
              "outlinewidth": 0,
              "ticks": ""
             }
            },
            "type": "scatterternary"
           }
          ],
          "surface": [
           {
            "colorbar": {
             "outlinewidth": 0,
             "ticks": ""
            },
            "colorscale": [
             [
              0,
              "#0d0887"
             ],
             [
              0.1111111111111111,
              "#46039f"
             ],
             [
              0.2222222222222222,
              "#7201a8"
             ],
             [
              0.3333333333333333,
              "#9c179e"
             ],
             [
              0.4444444444444444,
              "#bd3786"
             ],
             [
              0.5555555555555556,
              "#d8576b"
             ],
             [
              0.6666666666666666,
              "#ed7953"
             ],
             [
              0.7777777777777778,
              "#fb9f3a"
             ],
             [
              0.8888888888888888,
              "#fdca26"
             ],
             [
              1,
              "#f0f921"
             ]
            ],
            "type": "surface"
           }
          ],
          "table": [
           {
            "cells": {
             "fill": {
              "color": "#EBF0F8"
             },
             "line": {
              "color": "white"
             }
            },
            "header": {
             "fill": {
              "color": "#C8D4E3"
             },
             "line": {
              "color": "white"
             }
            },
            "type": "table"
           }
          ]
         },
         "layout": {
          "annotationdefaults": {
           "arrowcolor": "#2a3f5f",
           "arrowhead": 0,
           "arrowwidth": 1
          },
          "autotypenumbers": "strict",
          "coloraxis": {
           "colorbar": {
            "outlinewidth": 0,
            "ticks": ""
           }
          },
          "colorscale": {
           "diverging": [
            [
             0,
             "#8e0152"
            ],
            [
             0.1,
             "#c51b7d"
            ],
            [
             0.2,
             "#de77ae"
            ],
            [
             0.3,
             "#f1b6da"
            ],
            [
             0.4,
             "#fde0ef"
            ],
            [
             0.5,
             "#f7f7f7"
            ],
            [
             0.6,
             "#e6f5d0"
            ],
            [
             0.7,
             "#b8e186"
            ],
            [
             0.8,
             "#7fbc41"
            ],
            [
             0.9,
             "#4d9221"
            ],
            [
             1,
             "#276419"
            ]
           ],
           "sequential": [
            [
             0,
             "#0d0887"
            ],
            [
             0.1111111111111111,
             "#46039f"
            ],
            [
             0.2222222222222222,
             "#7201a8"
            ],
            [
             0.3333333333333333,
             "#9c179e"
            ],
            [
             0.4444444444444444,
             "#bd3786"
            ],
            [
             0.5555555555555556,
             "#d8576b"
            ],
            [
             0.6666666666666666,
             "#ed7953"
            ],
            [
             0.7777777777777778,
             "#fb9f3a"
            ],
            [
             0.8888888888888888,
             "#fdca26"
            ],
            [
             1,
             "#f0f921"
            ]
           ],
           "sequentialminus": [
            [
             0,
             "#0d0887"
            ],
            [
             0.1111111111111111,
             "#46039f"
            ],
            [
             0.2222222222222222,
             "#7201a8"
            ],
            [
             0.3333333333333333,
             "#9c179e"
            ],
            [
             0.4444444444444444,
             "#bd3786"
            ],
            [
             0.5555555555555556,
             "#d8576b"
            ],
            [
             0.6666666666666666,
             "#ed7953"
            ],
            [
             0.7777777777777778,
             "#fb9f3a"
            ],
            [
             0.8888888888888888,
             "#fdca26"
            ],
            [
             1,
             "#f0f921"
            ]
           ]
          },
          "colorway": [
           "#636efa",
           "#EF553B",
           "#00cc96",
           "#ab63fa",
           "#FFA15A",
           "#19d3f3",
           "#FF6692",
           "#B6E880",
           "#FF97FF",
           "#FECB52"
          ],
          "font": {
           "color": "#2a3f5f"
          },
          "geo": {
           "bgcolor": "white",
           "lakecolor": "white",
           "landcolor": "#E5ECF6",
           "showlakes": true,
           "showland": true,
           "subunitcolor": "white"
          },
          "hoverlabel": {
           "align": "left"
          },
          "hovermode": "closest",
          "mapbox": {
           "style": "light"
          },
          "paper_bgcolor": "white",
          "plot_bgcolor": "#E5ECF6",
          "polar": {
           "angularaxis": {
            "gridcolor": "white",
            "linecolor": "white",
            "ticks": ""
           },
           "bgcolor": "#E5ECF6",
           "radialaxis": {
            "gridcolor": "white",
            "linecolor": "white",
            "ticks": ""
           }
          },
          "scene": {
           "xaxis": {
            "backgroundcolor": "#E5ECF6",
            "gridcolor": "white",
            "gridwidth": 2,
            "linecolor": "white",
            "showbackground": true,
            "ticks": "",
            "zerolinecolor": "white"
           },
           "yaxis": {
            "backgroundcolor": "#E5ECF6",
            "gridcolor": "white",
            "gridwidth": 2,
            "linecolor": "white",
            "showbackground": true,
            "ticks": "",
            "zerolinecolor": "white"
           },
           "zaxis": {
            "backgroundcolor": "#E5ECF6",
            "gridcolor": "white",
            "gridwidth": 2,
            "linecolor": "white",
            "showbackground": true,
            "ticks": "",
            "zerolinecolor": "white"
           }
          },
          "shapedefaults": {
           "line": {
            "color": "#2a3f5f"
           }
          },
          "ternary": {
           "aaxis": {
            "gridcolor": "white",
            "linecolor": "white",
            "ticks": ""
           },
           "baxis": {
            "gridcolor": "white",
            "linecolor": "white",
            "ticks": ""
           },
           "bgcolor": "#E5ECF6",
           "caxis": {
            "gridcolor": "white",
            "linecolor": "white",
            "ticks": ""
           }
          },
          "title": {
           "x": 0.05
          },
          "xaxis": {
           "automargin": true,
           "gridcolor": "white",
           "linecolor": "white",
           "ticks": "",
           "title": {
            "standoff": 15
           },
           "zerolinecolor": "white",
           "zerolinewidth": 2
          },
          "yaxis": {
           "automargin": true,
           "gridcolor": "white",
           "linecolor": "white",
           "ticks": "",
           "title": {
            "standoff": 15
           },
           "zerolinecolor": "white",
           "zerolinewidth": 2
          }
         }
        },
        "width": 900,
        "xaxis": {
         "anchor": "y",
         "domain": [
          0,
          1
         ],
         "tickfont": {
          "size": 16
         },
         "ticksuffix": "er",
         "title": {
          "font": {
           "size": 18
          },
          "text": ""
         }
        },
        "yaxis": {
         "anchor": "x",
         "domain": [
          0,
          1
         ],
         "tickfont": {
          "size": 16
         },
         "ticksuffix": "  ",
         "title": {
          "font": {
           "size": 18
          },
          "text": "Anteil"
         }
        }
       }
      }
     },
     "metadata": {},
     "output_type": "display_data"
    },
    {
     "name": "stdout",
     "output_type": "stream",
     "text": [
      "AnzahlZuLesen_normalisiert\n"
     ]
    },
    {
     "data": {
      "application/vnd.plotly.v1+json": {
       "config": {
        "plotlyServerURL": "https://plot.ly"
       },
       "data": [
        {
         "alignmentgroup": "True",
         "hovertemplate": "Gattung=Prosa<br>=%{x}<br>Anteil=%{y}<extra></extra>",
         "legendgroup": "Prosa",
         "marker": {
          "color": "#636efa",
          "pattern": {
           "shape": ""
          }
         },
         "name": "Prosa",
         "offsetgroup": "Prosa",
         "orientation": "v",
         "showlegend": true,
         "textposition": "auto",
         "type": "bar",
         "x": [
          1750,
          1760,
          1770,
          1780,
          1790,
          1800,
          1810,
          1820,
          1830,
          1840,
          1850,
          1860,
          1870,
          1880,
          1890,
          1900,
          1910,
          1920,
          1930,
          1940,
          1950,
          1960,
          1970,
          1980,
          1990,
          2000,
          2010
         ],
         "xaxis": "x",
         "y": [
          0.30369070080396054,
          0.2435641983080486,
          0.3032761280189798,
          0.2217516925921649,
          0.4797271005668731,
          0.32617347862350016,
          0.7506122559235308,
          0.4385829412552552,
          0.1956342288554493,
          0.6261436247543298,
          0.7713108079748199,
          0.5812787653083145,
          0.6434801204966596,
          0.7862696827411993,
          0.4239603802344713,
          0.5277328509042966,
          0.583712826918122,
          0.5144212752441906,
          0.49892412474789977,
          0.6096782571341717,
          0.5273890513801693,
          0.4672879039507142,
          0.6279247821483127,
          0.7220826064150987,
          0.7978653860745276,
          0.6971492337273957,
          0.4543251791288175
         ],
         "yaxis": "y"
        },
        {
         "alignmentgroup": "True",
         "hovertemplate": "Gattung=Drama<br>=%{x}<br>Anteil=%{y}<extra></extra>",
         "legendgroup": "Drama",
         "marker": {
          "color": "#EF553B",
          "pattern": {
           "shape": ""
          }
         },
         "name": "Drama",
         "offsetgroup": "Drama",
         "orientation": "v",
         "showlegend": true,
         "textposition": "auto",
         "type": "bar",
         "x": [
          1750,
          1760,
          1770,
          1780,
          1790,
          1800,
          1810,
          1820,
          1830,
          1840,
          1850,
          1860,
          1870,
          1880,
          1890,
          1900,
          1910,
          1920,
          1930,
          1940,
          1950,
          1960,
          1970,
          1980,
          1990,
          2000,
          2010
         ],
         "xaxis": "x",
         "y": [
          0.2329387341302581,
          0.32050795262109305,
          0.4396523973215452,
          0.4716471182981954,
          0.1645292237449341,
          0.4471065933549973,
          0.07234920520864438,
          0.13085558864192545,
          0.5733858619487366,
          0.21499581732768475,
          0.04545215861641595,
          0.04399376666583368,
          0.14724282559600846,
          0.12241539458451464,
          0.3989901260064737,
          0.1482817357337504,
          0.14259389412665657,
          0.22498735093221192,
          0.3136051528441251,
          0.10303877401101212,
          0.1448379205717298,
          0.301084426210559,
          0.14233563258500187,
          0.14604307443272033,
          0.09332101545497987,
          0.05720701641739798,
          0.24279275174168594
         ],
         "yaxis": "y"
        },
        {
         "alignmentgroup": "True",
         "hovertemplate": "Gattung=Lyrik<br>=%{x}<br>Anteil=%{y}<extra></extra>",
         "legendgroup": "Lyrik",
         "marker": {
          "color": "#00cc96",
          "pattern": {
           "shape": ""
          }
         },
         "name": "Lyrik",
         "offsetgroup": "Lyrik",
         "orientation": "v",
         "showlegend": true,
         "textposition": "auto",
         "type": "bar",
         "x": [
          1750,
          1760,
          1770,
          1780,
          1790,
          1800,
          1810,
          1820,
          1830,
          1840,
          1850,
          1860,
          1870,
          1880,
          1890,
          1900,
          1910,
          1920,
          1930,
          1940,
          1950,
          1960,
          1970,
          1980,
          1990,
          2000,
          2010
         ],
         "xaxis": "x",
         "y": [
          0.22852293443691965,
          0.1709136373820748,
          0.17193931291184236,
          0.2266186243039209,
          0.20898188516168456,
          0.1681005655917473,
          0.12067180498486683,
          0.4111216620489186,
          0.1693373289215848,
          0.14679993792137777,
          0.11248206128073202,
          0.35571012149420755,
          0.06474057454805629,
          0.06132640441319907,
          0.11396409188335128,
          0.2959093124597834,
          0.22439924936288497,
          0.20302035698606763,
          0.11341444281879152,
          0.1802819295748211,
          0.27290921392360856,
          0.1770256388994147,
          0.1774264333172944,
          0.10274325320915491,
          0.08582346469256288,
          0.23234282211493676,
          0.28813812285599927
         ],
         "yaxis": "y"
        },
        {
         "alignmentgroup": "True",
         "hovertemplate": "Gattung=Poetik / Essayistik<br>=%{x}<br>Anteil=%{y}<extra></extra>",
         "legendgroup": "Poetik / Essayistik",
         "marker": {
          "color": "#ab63fa",
          "pattern": {
           "shape": ""
          }
         },
         "name": "Poetik / Essayistik",
         "offsetgroup": "Poetik / Essayistik",
         "orientation": "v",
         "showlegend": true,
         "textposition": "auto",
         "type": "bar",
         "x": [
          1750,
          1760,
          1770,
          1780,
          1790,
          1800,
          1810,
          1820,
          1830,
          1840,
          1850,
          1860,
          1870,
          1880,
          1890,
          1900,
          1910,
          1920,
          1930,
          1940,
          1950,
          1960,
          1970,
          1980,
          1990,
          2000,
          2010
         ],
         "xaxis": "x",
         "y": [
          0.23484763062886188,
          0.2650142116887836,
          0.08513216174763255,
          0.07998256480571886,
          0.1411432333132471,
          0.05570615670999015,
          0.05636673388295807,
          0.006772318666299201,
          0.06164258027422925,
          0.012060619996607643,
          0.0707549721280322,
          0.019017346531644403,
          0.14453647935927566,
          0.02998851826108698,
          0.06308540187570372,
          0.0280761009021696,
          0.0471940396777503,
          0.051400279824030906,
          0.07405627958918368,
          0.09522881583727424,
          0.05486381412449231,
          0.054602030939312034,
          0.05231315194939099,
          0.029131065943026,
          0.022990133777929665,
          0.01330092774026949,
          0.0107115457088977
         ],
         "yaxis": "y"
        },
        {
         "alignmentgroup": "True",
         "hovertemplate": "Gattung=Sonstiges<br>=%{x}<br>Anteil=%{y}<extra></extra>",
         "legendgroup": "Sonstiges",
         "marker": {
          "color": "#FFA15A",
          "pattern": {
           "shape": ""
          }
         },
         "name": "Sonstiges",
         "offsetgroup": "Sonstiges",
         "orientation": "v",
         "showlegend": true,
         "textposition": "auto",
         "type": "bar",
         "x": [
          1750,
          1760,
          1770,
          1780,
          1790,
          1800,
          1810,
          1820,
          1830,
          1840,
          1850,
          1860,
          1870,
          1880,
          1890,
          1900,
          1910,
          1920,
          1930,
          1940,
          1950,
          1960,
          1970,
          1980,
          1990,
          2000,
          2010
         ],
         "xaxis": "x",
         "y": [
          0,
          0,
          0,
          0,
          0.005618557213261096,
          0.0029132057197651102,
          0,
          0.01266748938760149,
          0,
          0,
          0,
          0,
          0,
          0,
          0,
          0,
          0.0020999899145860996,
          0.006170737013498992,
          0,
          0.011772223442720874,
          0,
          0,
          0,
          0,
          0,
          0,
          0.004032400564599621
         ],
         "yaxis": "y"
        }
       ],
       "layout": {
        "barmode": "relative",
        "height": 400,
        "legend": {
         "font": {
          "size": 16
         },
         "title": {
          "text": "Gattung"
         },
         "tracegroupgap": 0
        },
        "margin": {
         "t": 60
        },
        "template": {
         "data": {
          "bar": [
           {
            "error_x": {
             "color": "#2a3f5f"
            },
            "error_y": {
             "color": "#2a3f5f"
            },
            "marker": {
             "line": {
              "color": "#E5ECF6",
              "width": 0.5
             },
             "pattern": {
              "fillmode": "overlay",
              "size": 10,
              "solidity": 0.2
             }
            },
            "type": "bar"
           }
          ],
          "barpolar": [
           {
            "marker": {
             "line": {
              "color": "#E5ECF6",
              "width": 0.5
             },
             "pattern": {
              "fillmode": "overlay",
              "size": 10,
              "solidity": 0.2
             }
            },
            "type": "barpolar"
           }
          ],
          "carpet": [
           {
            "aaxis": {
             "endlinecolor": "#2a3f5f",
             "gridcolor": "white",
             "linecolor": "white",
             "minorgridcolor": "white",
             "startlinecolor": "#2a3f5f"
            },
            "baxis": {
             "endlinecolor": "#2a3f5f",
             "gridcolor": "white",
             "linecolor": "white",
             "minorgridcolor": "white",
             "startlinecolor": "#2a3f5f"
            },
            "type": "carpet"
           }
          ],
          "choropleth": [
           {
            "colorbar": {
             "outlinewidth": 0,
             "ticks": ""
            },
            "type": "choropleth"
           }
          ],
          "contour": [
           {
            "colorbar": {
             "outlinewidth": 0,
             "ticks": ""
            },
            "colorscale": [
             [
              0,
              "#0d0887"
             ],
             [
              0.1111111111111111,
              "#46039f"
             ],
             [
              0.2222222222222222,
              "#7201a8"
             ],
             [
              0.3333333333333333,
              "#9c179e"
             ],
             [
              0.4444444444444444,
              "#bd3786"
             ],
             [
              0.5555555555555556,
              "#d8576b"
             ],
             [
              0.6666666666666666,
              "#ed7953"
             ],
             [
              0.7777777777777778,
              "#fb9f3a"
             ],
             [
              0.8888888888888888,
              "#fdca26"
             ],
             [
              1,
              "#f0f921"
             ]
            ],
            "type": "contour"
           }
          ],
          "contourcarpet": [
           {
            "colorbar": {
             "outlinewidth": 0,
             "ticks": ""
            },
            "type": "contourcarpet"
           }
          ],
          "heatmap": [
           {
            "colorbar": {
             "outlinewidth": 0,
             "ticks": ""
            },
            "colorscale": [
             [
              0,
              "#0d0887"
             ],
             [
              0.1111111111111111,
              "#46039f"
             ],
             [
              0.2222222222222222,
              "#7201a8"
             ],
             [
              0.3333333333333333,
              "#9c179e"
             ],
             [
              0.4444444444444444,
              "#bd3786"
             ],
             [
              0.5555555555555556,
              "#d8576b"
             ],
             [
              0.6666666666666666,
              "#ed7953"
             ],
             [
              0.7777777777777778,
              "#fb9f3a"
             ],
             [
              0.8888888888888888,
              "#fdca26"
             ],
             [
              1,
              "#f0f921"
             ]
            ],
            "type": "heatmap"
           }
          ],
          "heatmapgl": [
           {
            "colorbar": {
             "outlinewidth": 0,
             "ticks": ""
            },
            "colorscale": [
             [
              0,
              "#0d0887"
             ],
             [
              0.1111111111111111,
              "#46039f"
             ],
             [
              0.2222222222222222,
              "#7201a8"
             ],
             [
              0.3333333333333333,
              "#9c179e"
             ],
             [
              0.4444444444444444,
              "#bd3786"
             ],
             [
              0.5555555555555556,
              "#d8576b"
             ],
             [
              0.6666666666666666,
              "#ed7953"
             ],
             [
              0.7777777777777778,
              "#fb9f3a"
             ],
             [
              0.8888888888888888,
              "#fdca26"
             ],
             [
              1,
              "#f0f921"
             ]
            ],
            "type": "heatmapgl"
           }
          ],
          "histogram": [
           {
            "marker": {
             "pattern": {
              "fillmode": "overlay",
              "size": 10,
              "solidity": 0.2
             }
            },
            "type": "histogram"
           }
          ],
          "histogram2d": [
           {
            "colorbar": {
             "outlinewidth": 0,
             "ticks": ""
            },
            "colorscale": [
             [
              0,
              "#0d0887"
             ],
             [
              0.1111111111111111,
              "#46039f"
             ],
             [
              0.2222222222222222,
              "#7201a8"
             ],
             [
              0.3333333333333333,
              "#9c179e"
             ],
             [
              0.4444444444444444,
              "#bd3786"
             ],
             [
              0.5555555555555556,
              "#d8576b"
             ],
             [
              0.6666666666666666,
              "#ed7953"
             ],
             [
              0.7777777777777778,
              "#fb9f3a"
             ],
             [
              0.8888888888888888,
              "#fdca26"
             ],
             [
              1,
              "#f0f921"
             ]
            ],
            "type": "histogram2d"
           }
          ],
          "histogram2dcontour": [
           {
            "colorbar": {
             "outlinewidth": 0,
             "ticks": ""
            },
            "colorscale": [
             [
              0,
              "#0d0887"
             ],
             [
              0.1111111111111111,
              "#46039f"
             ],
             [
              0.2222222222222222,
              "#7201a8"
             ],
             [
              0.3333333333333333,
              "#9c179e"
             ],
             [
              0.4444444444444444,
              "#bd3786"
             ],
             [
              0.5555555555555556,
              "#d8576b"
             ],
             [
              0.6666666666666666,
              "#ed7953"
             ],
             [
              0.7777777777777778,
              "#fb9f3a"
             ],
             [
              0.8888888888888888,
              "#fdca26"
             ],
             [
              1,
              "#f0f921"
             ]
            ],
            "type": "histogram2dcontour"
           }
          ],
          "mesh3d": [
           {
            "colorbar": {
             "outlinewidth": 0,
             "ticks": ""
            },
            "type": "mesh3d"
           }
          ],
          "parcoords": [
           {
            "line": {
             "colorbar": {
              "outlinewidth": 0,
              "ticks": ""
             }
            },
            "type": "parcoords"
           }
          ],
          "pie": [
           {
            "automargin": true,
            "type": "pie"
           }
          ],
          "scatter": [
           {
            "fillpattern": {
             "fillmode": "overlay",
             "size": 10,
             "solidity": 0.2
            },
            "type": "scatter"
           }
          ],
          "scatter3d": [
           {
            "line": {
             "colorbar": {
              "outlinewidth": 0,
              "ticks": ""
             }
            },
            "marker": {
             "colorbar": {
              "outlinewidth": 0,
              "ticks": ""
             }
            },
            "type": "scatter3d"
           }
          ],
          "scattercarpet": [
           {
            "marker": {
             "colorbar": {
              "outlinewidth": 0,
              "ticks": ""
             }
            },
            "type": "scattercarpet"
           }
          ],
          "scattergeo": [
           {
            "marker": {
             "colorbar": {
              "outlinewidth": 0,
              "ticks": ""
             }
            },
            "type": "scattergeo"
           }
          ],
          "scattergl": [
           {
            "marker": {
             "colorbar": {
              "outlinewidth": 0,
              "ticks": ""
             }
            },
            "type": "scattergl"
           }
          ],
          "scattermapbox": [
           {
            "marker": {
             "colorbar": {
              "outlinewidth": 0,
              "ticks": ""
             }
            },
            "type": "scattermapbox"
           }
          ],
          "scatterpolar": [
           {
            "marker": {
             "colorbar": {
              "outlinewidth": 0,
              "ticks": ""
             }
            },
            "type": "scatterpolar"
           }
          ],
          "scatterpolargl": [
           {
            "marker": {
             "colorbar": {
              "outlinewidth": 0,
              "ticks": ""
             }
            },
            "type": "scatterpolargl"
           }
          ],
          "scatterternary": [
           {
            "marker": {
             "colorbar": {
              "outlinewidth": 0,
              "ticks": ""
             }
            },
            "type": "scatterternary"
           }
          ],
          "surface": [
           {
            "colorbar": {
             "outlinewidth": 0,
             "ticks": ""
            },
            "colorscale": [
             [
              0,
              "#0d0887"
             ],
             [
              0.1111111111111111,
              "#46039f"
             ],
             [
              0.2222222222222222,
              "#7201a8"
             ],
             [
              0.3333333333333333,
              "#9c179e"
             ],
             [
              0.4444444444444444,
              "#bd3786"
             ],
             [
              0.5555555555555556,
              "#d8576b"
             ],
             [
              0.6666666666666666,
              "#ed7953"
             ],
             [
              0.7777777777777778,
              "#fb9f3a"
             ],
             [
              0.8888888888888888,
              "#fdca26"
             ],
             [
              1,
              "#f0f921"
             ]
            ],
            "type": "surface"
           }
          ],
          "table": [
           {
            "cells": {
             "fill": {
              "color": "#EBF0F8"
             },
             "line": {
              "color": "white"
             }
            },
            "header": {
             "fill": {
              "color": "#C8D4E3"
             },
             "line": {
              "color": "white"
             }
            },
            "type": "table"
           }
          ]
         },
         "layout": {
          "annotationdefaults": {
           "arrowcolor": "#2a3f5f",
           "arrowhead": 0,
           "arrowwidth": 1
          },
          "autotypenumbers": "strict",
          "coloraxis": {
           "colorbar": {
            "outlinewidth": 0,
            "ticks": ""
           }
          },
          "colorscale": {
           "diverging": [
            [
             0,
             "#8e0152"
            ],
            [
             0.1,
             "#c51b7d"
            ],
            [
             0.2,
             "#de77ae"
            ],
            [
             0.3,
             "#f1b6da"
            ],
            [
             0.4,
             "#fde0ef"
            ],
            [
             0.5,
             "#f7f7f7"
            ],
            [
             0.6,
             "#e6f5d0"
            ],
            [
             0.7,
             "#b8e186"
            ],
            [
             0.8,
             "#7fbc41"
            ],
            [
             0.9,
             "#4d9221"
            ],
            [
             1,
             "#276419"
            ]
           ],
           "sequential": [
            [
             0,
             "#0d0887"
            ],
            [
             0.1111111111111111,
             "#46039f"
            ],
            [
             0.2222222222222222,
             "#7201a8"
            ],
            [
             0.3333333333333333,
             "#9c179e"
            ],
            [
             0.4444444444444444,
             "#bd3786"
            ],
            [
             0.5555555555555556,
             "#d8576b"
            ],
            [
             0.6666666666666666,
             "#ed7953"
            ],
            [
             0.7777777777777778,
             "#fb9f3a"
            ],
            [
             0.8888888888888888,
             "#fdca26"
            ],
            [
             1,
             "#f0f921"
            ]
           ],
           "sequentialminus": [
            [
             0,
             "#0d0887"
            ],
            [
             0.1111111111111111,
             "#46039f"
            ],
            [
             0.2222222222222222,
             "#7201a8"
            ],
            [
             0.3333333333333333,
             "#9c179e"
            ],
            [
             0.4444444444444444,
             "#bd3786"
            ],
            [
             0.5555555555555556,
             "#d8576b"
            ],
            [
             0.6666666666666666,
             "#ed7953"
            ],
            [
             0.7777777777777778,
             "#fb9f3a"
            ],
            [
             0.8888888888888888,
             "#fdca26"
            ],
            [
             1,
             "#f0f921"
            ]
           ]
          },
          "colorway": [
           "#636efa",
           "#EF553B",
           "#00cc96",
           "#ab63fa",
           "#FFA15A",
           "#19d3f3",
           "#FF6692",
           "#B6E880",
           "#FF97FF",
           "#FECB52"
          ],
          "font": {
           "color": "#2a3f5f"
          },
          "geo": {
           "bgcolor": "white",
           "lakecolor": "white",
           "landcolor": "#E5ECF6",
           "showlakes": true,
           "showland": true,
           "subunitcolor": "white"
          },
          "hoverlabel": {
           "align": "left"
          },
          "hovermode": "closest",
          "mapbox": {
           "style": "light"
          },
          "paper_bgcolor": "white",
          "plot_bgcolor": "#E5ECF6",
          "polar": {
           "angularaxis": {
            "gridcolor": "white",
            "linecolor": "white",
            "ticks": ""
           },
           "bgcolor": "#E5ECF6",
           "radialaxis": {
            "gridcolor": "white",
            "linecolor": "white",
            "ticks": ""
           }
          },
          "scene": {
           "xaxis": {
            "backgroundcolor": "#E5ECF6",
            "gridcolor": "white",
            "gridwidth": 2,
            "linecolor": "white",
            "showbackground": true,
            "ticks": "",
            "zerolinecolor": "white"
           },
           "yaxis": {
            "backgroundcolor": "#E5ECF6",
            "gridcolor": "white",
            "gridwidth": 2,
            "linecolor": "white",
            "showbackground": true,
            "ticks": "",
            "zerolinecolor": "white"
           },
           "zaxis": {
            "backgroundcolor": "#E5ECF6",
            "gridcolor": "white",
            "gridwidth": 2,
            "linecolor": "white",
            "showbackground": true,
            "ticks": "",
            "zerolinecolor": "white"
           }
          },
          "shapedefaults": {
           "line": {
            "color": "#2a3f5f"
           }
          },
          "ternary": {
           "aaxis": {
            "gridcolor": "white",
            "linecolor": "white",
            "ticks": ""
           },
           "baxis": {
            "gridcolor": "white",
            "linecolor": "white",
            "ticks": ""
           },
           "bgcolor": "#E5ECF6",
           "caxis": {
            "gridcolor": "white",
            "linecolor": "white",
            "ticks": ""
           }
          },
          "title": {
           "x": 0.05
          },
          "xaxis": {
           "automargin": true,
           "gridcolor": "white",
           "linecolor": "white",
           "ticks": "",
           "title": {
            "standoff": 15
           },
           "zerolinecolor": "white",
           "zerolinewidth": 2
          },
          "yaxis": {
           "automargin": true,
           "gridcolor": "white",
           "linecolor": "white",
           "ticks": "",
           "title": {
            "standoff": 15
           },
           "zerolinecolor": "white",
           "zerolinewidth": 2
          }
         }
        },
        "width": 900,
        "xaxis": {
         "anchor": "y",
         "domain": [
          0,
          1
         ],
         "tickfont": {
          "size": 16
         },
         "ticksuffix": "er",
         "title": {
          "font": {
           "size": 18
          },
          "text": ""
         }
        },
        "yaxis": {
         "anchor": "x",
         "domain": [
          0,
          1
         ],
         "tickfont": {
          "size": 16
         },
         "ticksuffix": "  ",
         "title": {
          "font": {
           "size": 18
          },
          "text": "Anteil"
         }
        }
       }
      }
     },
     "metadata": {},
     "output_type": "display_data"
    }
   ],
   "source": [
    "metriken = ['AnzahlZuLesen', 'AnzahlZuLesen_normalisiert']\n",
    "\n",
    "for metrik in metriken:\n",
    "    data_plot = data.groupby(['Dekade', 'Gattung'])[metrik].sum().unstack(fill_value=0)\n",
    "    data_plot = data_plot.div(data_plot.sum(axis=1), axis=0)\n",
    "    data_plot = data_plot[top_gattungen.index]\n",
    "    \n",
    "    fig = px.bar(\n",
    "        data_plot.loc[1750:2010],\n",
    "         labels = {'value':'Anteil', 'Dekade':''}   \n",
    "    )\n",
    "    fig.update_layout(\n",
    "        height=400, width = 900,\n",
    "        legend=dict(font=dict(size=16)),\n",
    "        xaxis=dict(tickfont=dict(size=16), titlefont=dict(size=18), ticksuffix = \"er\"),\n",
    "        yaxis=dict(tickfont=dict(size=16), titlefont=dict(size=18), ticksuffix = \"  \"),\n",
    "    )\n",
    "    if metrik == metriken[0]:\n",
    "        fig.write_image(\"plots/gattungen_dekaden.pdf\")\n",
    "        \n",
    "    print(metrik)\n",
    "    fig.show()"
   ]
  },
  {
   "cell_type": "code",
   "execution_count": 59,
   "id": "ced7b835-14b4-4a12-a4ac-88acd96f7825",
   "metadata": {},
   "outputs": [
    {
     "name": "stdout",
     "output_type": "stream",
     "text": [
      "Anzahl Titel : 19\n",
      "                        Autor                 Titel Gattung  AnzahlZuLesen  AnzahlZuLesen_normalisiert\n",
      "1739  Meyer, Conrad Ferdinand              Gedichte   Lyrik       8.523011                    0.001446\n",
      "438            Busch, Wilhelm        Max und Moritz   Prosa       3.435474                    0.001418\n",
      "1689         Marlitt, Eugenie              Goldelse   Prosa       2.000000                    0.000258\n",
      "1738  Meyer, Conrad Ferdinand  Erzählungen/Novellen   Prosa       1.238095                    0.000199\n",
      "1071          Heine, Heinrich              Morphine   Lyrik       1.250000                    0.000165\n"
     ]
    }
   ],
   "source": [
    "# 1860er\n",
    "metriken = ['AnzahlZuLesen', 'AnzahlZuLesen_normalisiert']\n",
    "\n",
    "texte1860 = data.query(\"Dekade == 1860\")\n",
    "texte1860 = texte1860.sort_values(by=metrik, ascending=False)\n",
    "\n",
    "print(f\"Anzahl Titel : {texte1860.shape[0]}\")\n",
    "print(f\"{texte1860[['Autor', 'Titel', 'Gattung']+metriken].head(5)}\")"
   ]
  },
  {
   "cell_type": "code",
   "execution_count": 60,
   "id": "42adaabb-9109-47a7-90f1-2fb0a60740a8",
   "metadata": {},
   "outputs": [
    {
     "name": "stdout",
     "output_type": "stream",
     "text": [
      "Anzahl Titel : 30 (-1 Papa Hamlet)\n",
      "                   Autor                Titel  AnzahlZuLesen  AnzahlZuLesen_normalisiert\n",
      "2235      Storm, Theodor   Der Schimmelreiter      24.275325                    0.005235\n",
      "1023  Hauptmann, Gerhart     Bahnwärter Thiel      14.586859                    0.003118\n",
      "1227          Holz, Arno          Papa Hamlet      10.651313                    0.001866\n",
      "669     Fontane, Theodor  Irrungen, Wirrungen       6.302230                    0.001019\n",
      "2089    Schlaf, Johannes          Papa Hamlet       4.353845                    0.000980\n"
     ]
    }
   ],
   "source": [
    "# Prosa 1880er\n",
    "metriken = ['AnzahlZuLesen', 'AnzahlZuLesen_normalisiert']\n",
    "\n",
    "prosa1880 = data.query(\"Dekade == 1880 and Gattung == 'Prosa'\")\n",
    "prosa1880 = prosa1880.sort_values(by=metrik, ascending=False)\n",
    "\n",
    "print(f\"Anzahl Titel : {prosa1880.shape[0]} (-1 Papa Hamlet)\")\n",
    "print(f\"{prosa1880[['Autor', 'Titel']+metriken].head(5)}\")"
   ]
  },
  {
   "cell_type": "code",
   "execution_count": 61,
   "id": "65419f91-bcc1-4644-aff9-0bb29638c19f",
   "metadata": {},
   "outputs": [
    {
     "name": "stdout",
     "output_type": "stream",
     "text": [
      "Anzahl Titel : 115\n",
      "                  Autor                          Titel  AnzahlZuLesen  AnzahlZuLesen_normalisiert\n",
      "1516  Kracht, Christian                      Faserland      14.268583                    0.002736\n",
      "1491       Klüger, Ruth                   weiter leben       8.296320                    0.001423\n",
      "2300          Timm, Uwe  Die Entdeckung der Currywurst       5.338052                    0.001139\n",
      "273       Beyer, Marcel                      Flughunde       5.652805                    0.001074\n",
      "2146      Schulze, Ingo                 Simple Stories       5.764039                    0.000923\n"
     ]
    }
   ],
   "source": [
    "# Prosa 1990er\n",
    "metriken = ['AnzahlZuLesen', 'AnzahlZuLesen_normalisiert']\n",
    "\n",
    "prosa1990 = data.query(\"Dekade == 1990 and Gattung == 'Prosa'\")\n",
    "prosa1990 = prosa1990.sort_values(by=metrik, ascending=False)\n",
    "\n",
    "print(f\"Anzahl Titel : {prosa1990.shape[0]}\")\n",
    "print(f\"{prosa1990[['Autor', 'Titel']+metriken].head(5)}\")"
   ]
  },
  {
   "cell_type": "markdown",
   "id": "2506da75-360f-4087-b38f-7e4570afc56b",
   "metadata": {},
   "source": [
    "# 6. Diskussion der Befunde: Leselisten und Kanon"
   ]
  },
  {
   "cell_type": "code",
   "execution_count": 62,
   "id": "4c837818-1832-4c0c-b222-c480fb730a6a",
   "metadata": {},
   "outputs": [],
   "source": [
    "results = pd.DataFrame()\n",
    "\n",
    "for leseliste in leselisten:\n",
    "    data_leseliste = data[data[leseliste] > 0].copy()\n",
    "    data_leseliste['ListeAnzahlGenannt'] = 1\n",
    "    data_leseliste['ListeAnzahlZuLesen'] = data_leseliste[leseliste]\n",
    "    data_leseliste['ListeAnzahlZuLesen_extern'] = data_leseliste[[x for x in leselisten if x != leseliste]].sum(axis=1)\n",
    "\n",
    "    results.at[leseliste, 'AnzahlGenannt'] = data_leseliste['ListeAnzahlGenannt'].sum()\n",
    "    results.at[leseliste, 'AnzahlZuLesen'] = data_leseliste['ListeAnzahlZuLesen'].sum()\n",
    "    results.at[leseliste, 'AnzahlZuLesen_extern'] = data_leseliste['ListeAnzahlZuLesen_extern'].sum()\n",
    "\n",
    "results['AnzahlZuLesen_extern_per_title_mean'] = results['AnzahlZuLesen_extern'] / results['AnzahlGenannt']"
   ]
  },
  {
   "cell_type": "code",
   "execution_count": 63,
   "id": "43674ed1-d4d4-4daa-9209-6d57704ef0fd",
   "metadata": {},
   "outputs": [
    {
     "data": {
      "application/vnd.plotly.v1+json": {
       "config": {
        "plotlyServerURL": "https://plot.ly"
       },
       "data": [
        {
         "hovertemplate": "AnzahlGenannt=%{x}<br>AnzahlZuLesen_extern_per_title_mean=%{y}<extra></extra>",
         "legendgroup": "",
         "marker": {
          "color": "#636efa",
          "symbol": "circle"
         },
         "mode": "markers",
         "name": "",
         "orientation": "v",
         "showlegend": false,
         "type": "scatter",
         "x": [
          347,
          107,
          98,
          221,
          231,
          100,
          239,
          297,
          208,
          86,
          73,
          135,
          411,
          166,
          37,
          331,
          230,
          182,
          54,
          165,
          668,
          314,
          61,
          79,
          343,
          106,
          311,
          99,
          68,
          127,
          76,
          344,
          332,
          202,
          50,
          739,
          143,
          345,
          262,
          244,
          227,
          241
         ],
         "xaxis": "x",
         "y": [
          6.140045351555244,
          8.547411208305274,
          10.632526307330902,
          8.470103185374583,
          8.214439534978617,
          11.507149230884012,
          7.858554812244355,
          6.276178680071416,
          7.889140914373952,
          11.219093506893069,
          14.728288417272337,
          11.047618649809307,
          5.084657829974531,
          8.868526951239508,
          14.160292551910132,
          5.859239673899101,
          8.333754926144152,
          8.043484105836823,
          12.605985625411053,
          8.500869846386545,
          4.10877651384907,
          5.40189443998397,
          13.752121943905758,
          11.967753555860112,
          7.104644780931281,
          12.815760940330923,
          7.463770166736859,
          5.917522821349331,
          11.56576447571388,
          5.564315173233512,
          7.5634391810488,
          6.176961664575076,
          5.7229363636329245,
          7.546822254194005,
          12.17909514050376,
          4.19926408247894,
          11.387911209967497,
          6.715120421804726,
          7.956605823806696,
          8.400248312732046,
          8.729957062488667,
          6.833190003099542
         ],
         "yaxis": "y"
        }
       ],
       "layout": {
        "legend": {
         "tracegroupgap": 0
        },
        "margin": {
         "t": 60
        },
        "template": {
         "data": {
          "bar": [
           {
            "error_x": {
             "color": "#2a3f5f"
            },
            "error_y": {
             "color": "#2a3f5f"
            },
            "marker": {
             "line": {
              "color": "#E5ECF6",
              "width": 0.5
             },
             "pattern": {
              "fillmode": "overlay",
              "size": 10,
              "solidity": 0.2
             }
            },
            "type": "bar"
           }
          ],
          "barpolar": [
           {
            "marker": {
             "line": {
              "color": "#E5ECF6",
              "width": 0.5
             },
             "pattern": {
              "fillmode": "overlay",
              "size": 10,
              "solidity": 0.2
             }
            },
            "type": "barpolar"
           }
          ],
          "carpet": [
           {
            "aaxis": {
             "endlinecolor": "#2a3f5f",
             "gridcolor": "white",
             "linecolor": "white",
             "minorgridcolor": "white",
             "startlinecolor": "#2a3f5f"
            },
            "baxis": {
             "endlinecolor": "#2a3f5f",
             "gridcolor": "white",
             "linecolor": "white",
             "minorgridcolor": "white",
             "startlinecolor": "#2a3f5f"
            },
            "type": "carpet"
           }
          ],
          "choropleth": [
           {
            "colorbar": {
             "outlinewidth": 0,
             "ticks": ""
            },
            "type": "choropleth"
           }
          ],
          "contour": [
           {
            "colorbar": {
             "outlinewidth": 0,
             "ticks": ""
            },
            "colorscale": [
             [
              0,
              "#0d0887"
             ],
             [
              0.1111111111111111,
              "#46039f"
             ],
             [
              0.2222222222222222,
              "#7201a8"
             ],
             [
              0.3333333333333333,
              "#9c179e"
             ],
             [
              0.4444444444444444,
              "#bd3786"
             ],
             [
              0.5555555555555556,
              "#d8576b"
             ],
             [
              0.6666666666666666,
              "#ed7953"
             ],
             [
              0.7777777777777778,
              "#fb9f3a"
             ],
             [
              0.8888888888888888,
              "#fdca26"
             ],
             [
              1,
              "#f0f921"
             ]
            ],
            "type": "contour"
           }
          ],
          "contourcarpet": [
           {
            "colorbar": {
             "outlinewidth": 0,
             "ticks": ""
            },
            "type": "contourcarpet"
           }
          ],
          "heatmap": [
           {
            "colorbar": {
             "outlinewidth": 0,
             "ticks": ""
            },
            "colorscale": [
             [
              0,
              "#0d0887"
             ],
             [
              0.1111111111111111,
              "#46039f"
             ],
             [
              0.2222222222222222,
              "#7201a8"
             ],
             [
              0.3333333333333333,
              "#9c179e"
             ],
             [
              0.4444444444444444,
              "#bd3786"
             ],
             [
              0.5555555555555556,
              "#d8576b"
             ],
             [
              0.6666666666666666,
              "#ed7953"
             ],
             [
              0.7777777777777778,
              "#fb9f3a"
             ],
             [
              0.8888888888888888,
              "#fdca26"
             ],
             [
              1,
              "#f0f921"
             ]
            ],
            "type": "heatmap"
           }
          ],
          "heatmapgl": [
           {
            "colorbar": {
             "outlinewidth": 0,
             "ticks": ""
            },
            "colorscale": [
             [
              0,
              "#0d0887"
             ],
             [
              0.1111111111111111,
              "#46039f"
             ],
             [
              0.2222222222222222,
              "#7201a8"
             ],
             [
              0.3333333333333333,
              "#9c179e"
             ],
             [
              0.4444444444444444,
              "#bd3786"
             ],
             [
              0.5555555555555556,
              "#d8576b"
             ],
             [
              0.6666666666666666,
              "#ed7953"
             ],
             [
              0.7777777777777778,
              "#fb9f3a"
             ],
             [
              0.8888888888888888,
              "#fdca26"
             ],
             [
              1,
              "#f0f921"
             ]
            ],
            "type": "heatmapgl"
           }
          ],
          "histogram": [
           {
            "marker": {
             "pattern": {
              "fillmode": "overlay",
              "size": 10,
              "solidity": 0.2
             }
            },
            "type": "histogram"
           }
          ],
          "histogram2d": [
           {
            "colorbar": {
             "outlinewidth": 0,
             "ticks": ""
            },
            "colorscale": [
             [
              0,
              "#0d0887"
             ],
             [
              0.1111111111111111,
              "#46039f"
             ],
             [
              0.2222222222222222,
              "#7201a8"
             ],
             [
              0.3333333333333333,
              "#9c179e"
             ],
             [
              0.4444444444444444,
              "#bd3786"
             ],
             [
              0.5555555555555556,
              "#d8576b"
             ],
             [
              0.6666666666666666,
              "#ed7953"
             ],
             [
              0.7777777777777778,
              "#fb9f3a"
             ],
             [
              0.8888888888888888,
              "#fdca26"
             ],
             [
              1,
              "#f0f921"
             ]
            ],
            "type": "histogram2d"
           }
          ],
          "histogram2dcontour": [
           {
            "colorbar": {
             "outlinewidth": 0,
             "ticks": ""
            },
            "colorscale": [
             [
              0,
              "#0d0887"
             ],
             [
              0.1111111111111111,
              "#46039f"
             ],
             [
              0.2222222222222222,
              "#7201a8"
             ],
             [
              0.3333333333333333,
              "#9c179e"
             ],
             [
              0.4444444444444444,
              "#bd3786"
             ],
             [
              0.5555555555555556,
              "#d8576b"
             ],
             [
              0.6666666666666666,
              "#ed7953"
             ],
             [
              0.7777777777777778,
              "#fb9f3a"
             ],
             [
              0.8888888888888888,
              "#fdca26"
             ],
             [
              1,
              "#f0f921"
             ]
            ],
            "type": "histogram2dcontour"
           }
          ],
          "mesh3d": [
           {
            "colorbar": {
             "outlinewidth": 0,
             "ticks": ""
            },
            "type": "mesh3d"
           }
          ],
          "parcoords": [
           {
            "line": {
             "colorbar": {
              "outlinewidth": 0,
              "ticks": ""
             }
            },
            "type": "parcoords"
           }
          ],
          "pie": [
           {
            "automargin": true,
            "type": "pie"
           }
          ],
          "scatter": [
           {
            "fillpattern": {
             "fillmode": "overlay",
             "size": 10,
             "solidity": 0.2
            },
            "type": "scatter"
           }
          ],
          "scatter3d": [
           {
            "line": {
             "colorbar": {
              "outlinewidth": 0,
              "ticks": ""
             }
            },
            "marker": {
             "colorbar": {
              "outlinewidth": 0,
              "ticks": ""
             }
            },
            "type": "scatter3d"
           }
          ],
          "scattercarpet": [
           {
            "marker": {
             "colorbar": {
              "outlinewidth": 0,
              "ticks": ""
             }
            },
            "type": "scattercarpet"
           }
          ],
          "scattergeo": [
           {
            "marker": {
             "colorbar": {
              "outlinewidth": 0,
              "ticks": ""
             }
            },
            "type": "scattergeo"
           }
          ],
          "scattergl": [
           {
            "marker": {
             "colorbar": {
              "outlinewidth": 0,
              "ticks": ""
             }
            },
            "type": "scattergl"
           }
          ],
          "scattermapbox": [
           {
            "marker": {
             "colorbar": {
              "outlinewidth": 0,
              "ticks": ""
             }
            },
            "type": "scattermapbox"
           }
          ],
          "scatterpolar": [
           {
            "marker": {
             "colorbar": {
              "outlinewidth": 0,
              "ticks": ""
             }
            },
            "type": "scatterpolar"
           }
          ],
          "scatterpolargl": [
           {
            "marker": {
             "colorbar": {
              "outlinewidth": 0,
              "ticks": ""
             }
            },
            "type": "scatterpolargl"
           }
          ],
          "scatterternary": [
           {
            "marker": {
             "colorbar": {
              "outlinewidth": 0,
              "ticks": ""
             }
            },
            "type": "scatterternary"
           }
          ],
          "surface": [
           {
            "colorbar": {
             "outlinewidth": 0,
             "ticks": ""
            },
            "colorscale": [
             [
              0,
              "#0d0887"
             ],
             [
              0.1111111111111111,
              "#46039f"
             ],
             [
              0.2222222222222222,
              "#7201a8"
             ],
             [
              0.3333333333333333,
              "#9c179e"
             ],
             [
              0.4444444444444444,
              "#bd3786"
             ],
             [
              0.5555555555555556,
              "#d8576b"
             ],
             [
              0.6666666666666666,
              "#ed7953"
             ],
             [
              0.7777777777777778,
              "#fb9f3a"
             ],
             [
              0.8888888888888888,
              "#fdca26"
             ],
             [
              1,
              "#f0f921"
             ]
            ],
            "type": "surface"
           }
          ],
          "table": [
           {
            "cells": {
             "fill": {
              "color": "#EBF0F8"
             },
             "line": {
              "color": "white"
             }
            },
            "header": {
             "fill": {
              "color": "#C8D4E3"
             },
             "line": {
              "color": "white"
             }
            },
            "type": "table"
           }
          ]
         },
         "layout": {
          "annotationdefaults": {
           "arrowcolor": "#2a3f5f",
           "arrowhead": 0,
           "arrowwidth": 1
          },
          "autotypenumbers": "strict",
          "coloraxis": {
           "colorbar": {
            "outlinewidth": 0,
            "ticks": ""
           }
          },
          "colorscale": {
           "diverging": [
            [
             0,
             "#8e0152"
            ],
            [
             0.1,
             "#c51b7d"
            ],
            [
             0.2,
             "#de77ae"
            ],
            [
             0.3,
             "#f1b6da"
            ],
            [
             0.4,
             "#fde0ef"
            ],
            [
             0.5,
             "#f7f7f7"
            ],
            [
             0.6,
             "#e6f5d0"
            ],
            [
             0.7,
             "#b8e186"
            ],
            [
             0.8,
             "#7fbc41"
            ],
            [
             0.9,
             "#4d9221"
            ],
            [
             1,
             "#276419"
            ]
           ],
           "sequential": [
            [
             0,
             "#0d0887"
            ],
            [
             0.1111111111111111,
             "#46039f"
            ],
            [
             0.2222222222222222,
             "#7201a8"
            ],
            [
             0.3333333333333333,
             "#9c179e"
            ],
            [
             0.4444444444444444,
             "#bd3786"
            ],
            [
             0.5555555555555556,
             "#d8576b"
            ],
            [
             0.6666666666666666,
             "#ed7953"
            ],
            [
             0.7777777777777778,
             "#fb9f3a"
            ],
            [
             0.8888888888888888,
             "#fdca26"
            ],
            [
             1,
             "#f0f921"
            ]
           ],
           "sequentialminus": [
            [
             0,
             "#0d0887"
            ],
            [
             0.1111111111111111,
             "#46039f"
            ],
            [
             0.2222222222222222,
             "#7201a8"
            ],
            [
             0.3333333333333333,
             "#9c179e"
            ],
            [
             0.4444444444444444,
             "#bd3786"
            ],
            [
             0.5555555555555556,
             "#d8576b"
            ],
            [
             0.6666666666666666,
             "#ed7953"
            ],
            [
             0.7777777777777778,
             "#fb9f3a"
            ],
            [
             0.8888888888888888,
             "#fdca26"
            ],
            [
             1,
             "#f0f921"
            ]
           ]
          },
          "colorway": [
           "#636efa",
           "#EF553B",
           "#00cc96",
           "#ab63fa",
           "#FFA15A",
           "#19d3f3",
           "#FF6692",
           "#B6E880",
           "#FF97FF",
           "#FECB52"
          ],
          "font": {
           "color": "#2a3f5f"
          },
          "geo": {
           "bgcolor": "white",
           "lakecolor": "white",
           "landcolor": "#E5ECF6",
           "showlakes": true,
           "showland": true,
           "subunitcolor": "white"
          },
          "hoverlabel": {
           "align": "left"
          },
          "hovermode": "closest",
          "mapbox": {
           "style": "light"
          },
          "paper_bgcolor": "white",
          "plot_bgcolor": "#E5ECF6",
          "polar": {
           "angularaxis": {
            "gridcolor": "white",
            "linecolor": "white",
            "ticks": ""
           },
           "bgcolor": "#E5ECF6",
           "radialaxis": {
            "gridcolor": "white",
            "linecolor": "white",
            "ticks": ""
           }
          },
          "scene": {
           "xaxis": {
            "backgroundcolor": "#E5ECF6",
            "gridcolor": "white",
            "gridwidth": 2,
            "linecolor": "white",
            "showbackground": true,
            "ticks": "",
            "zerolinecolor": "white"
           },
           "yaxis": {
            "backgroundcolor": "#E5ECF6",
            "gridcolor": "white",
            "gridwidth": 2,
            "linecolor": "white",
            "showbackground": true,
            "ticks": "",
            "zerolinecolor": "white"
           },
           "zaxis": {
            "backgroundcolor": "#E5ECF6",
            "gridcolor": "white",
            "gridwidth": 2,
            "linecolor": "white",
            "showbackground": true,
            "ticks": "",
            "zerolinecolor": "white"
           }
          },
          "shapedefaults": {
           "line": {
            "color": "#2a3f5f"
           }
          },
          "ternary": {
           "aaxis": {
            "gridcolor": "white",
            "linecolor": "white",
            "ticks": ""
           },
           "baxis": {
            "gridcolor": "white",
            "linecolor": "white",
            "ticks": ""
           },
           "bgcolor": "#E5ECF6",
           "caxis": {
            "gridcolor": "white",
            "linecolor": "white",
            "ticks": ""
           }
          },
          "title": {
           "x": 0.05
          },
          "xaxis": {
           "automargin": true,
           "gridcolor": "white",
           "linecolor": "white",
           "ticks": "",
           "title": {
            "standoff": 15
           },
           "zerolinecolor": "white",
           "zerolinewidth": 2
          },
          "yaxis": {
           "automargin": true,
           "gridcolor": "white",
           "linecolor": "white",
           "ticks": "",
           "title": {
            "standoff": 15
           },
           "zerolinecolor": "white",
           "zerolinewidth": 2
          }
         }
        },
        "xaxis": {
         "anchor": "y",
         "domain": [
          0,
          1
         ],
         "title": {
          "text": "AnzahlGenannt"
         }
        },
        "yaxis": {
         "anchor": "x",
         "domain": [
          0,
          1
         ],
         "title": {
          "text": "AnzahlZuLesen_extern_per_title_mean"
         }
        }
       }
      }
     },
     "metadata": {},
     "output_type": "display_data"
    }
   ],
   "source": [
    "px.scatter(\n",
    "    results,\n",
    "    x = 'AnzahlGenannt',\n",
    "    y = 'AnzahlZuLesen_extern_per_title_mean'\n",
    ")"
   ]
  }
 ],
 "metadata": {
  "kernelspec": {
   "display_name": "Python 3",
   "language": "python",
   "name": "python3"
  },
  "language_info": {
   "codemirror_mode": {
    "name": "ipython",
    "version": 3
   },
   "file_extension": ".py",
   "mimetype": "text/x-python",
   "name": "python",
   "nbconvert_exporter": "python",
   "pygments_lexer": "ipython3",
   "version": "3.12.9"
  }
 },
 "nbformat": 4,
 "nbformat_minor": 5
}
